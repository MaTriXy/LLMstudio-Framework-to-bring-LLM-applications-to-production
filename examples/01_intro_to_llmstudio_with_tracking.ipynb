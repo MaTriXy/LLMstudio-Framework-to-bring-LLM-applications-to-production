{
 "cells": [
  {
   "cell_type": "markdown",
   "metadata": {},
   "source": [
    "# Intro to LLMstudio - tracking\n",
    "\n",
    "This notebook serves as an introduction to LLMstudio with a focus on tracking capabilities. It demonstrates how to set up and use the LLMstudio environment to interact with language models, specifically highlighting the integration of tracking functionalities. The notebook begins by starting the tracking server, which is essential for logging and monitoring interactions with the language models. This setup is crucial for you who need to keep track of model usage, performance metrics, and other relevant data points.\n",
    "\n",
    "The notebook further illustrates how to configure and utilize the tracking system by creating a `TrackingConfig` instance, which specifies the host and port for the tracking server. You can benefit from this setup by gaining insights into model behavior and performance, which can be used to optimize and improve their applications. The notebook also includes examples of both synchronous and asynchronous chat interactions, providing a comprehensive guide for developers to implement and test these features in their own projects.\n",
    "\n",
    "\n"
   ]
  },
  {
   "cell_type": "code",
   "execution_count": 3,
   "metadata": {},
   "outputs": [],
   "source": [
    "from llmstudio.providers import LLM\n",
    "from pprint import pprint"
   ]
  },
  {
   "cell_type": "code",
   "execution_count": 4,
   "metadata": {},
   "outputs": [],
   "source": [
    "from llmstudio.server import start_servers\n",
    "start_servers(proxy=False, tracker=True)"
   ]
  },
  {
   "cell_type": "code",
   "execution_count": 5,
   "metadata": {},
   "outputs": [],
   "source": [
    "from llmstudio_tracker.tracker import TrackingConfig\n",
    "# default port is 50002. set the environment varible to specify which host and port; LLMSTUDIO_TRACKING_HOST, LLMSTUDIO_TRACKING_PORT\n",
    "tracker = TrackingConfig(host=\"0.0.0.0\", port=\"8002\")\n",
    "# You can set OPENAI_API_KEY and ANTHROPIC_API_KEY on .env file\n",
    "openai = LLM(\"openai\", tracking_config = tracker)\n"
   ]
  },
  {
   "cell_type": "markdown",
   "metadata": {},
   "source": [
    "### Chat (non-stream)"
   ]
  },
  {
   "cell_type": "code",
   "execution_count": 6,
   "metadata": {},
   "outputs": [
    {
     "data": {
      "text/plain": [
       "ChatCompletion(id='e1e44981-1884-4423-9950-1ac47f358b31', choices=[Choice(finish_reason='stop', index=0, logprobs=None, message=ChatCompletionMessage(content=\"While I certainly share some characteristics with cats, such as the ability to respond to questions and provide companionship, at my core, I am fundamentally different. I am an artificial intelligence language model, designed to process and generate human language based on the data and algorithms embedded within me. Cats, on the other hand, are living organisms with biological needs, instincts, and the capacity for independent thought and emotion based on their sensory experiences. My existence is rooted in technology and computation, lacking any form of consciousness or physical presence, which are central to a cat's existence. While cats might be known for their enigmatic behavior and agility, my capabilities and essence remain distinctly digital and informational.\", refusal=None, role='assistant', audio=None, function_call=None, tool_calls=None))], created=1729705603, model='gpt-4o', object='chat.completion', service_tier=None, system_fingerprint=None, usage=None, chat_input=\"Write a paragraph explaining why you're not a cat\", chat_output=\"While I certainly share some characteristics with cats, such as the ability to respond to questions and provide companionship, at my core, I am fundamentally different. I am an artificial intelligence language model, designed to process and generate human language based on the data and algorithms embedded within me. Cats, on the other hand, are living organisms with biological needs, instincts, and the capacity for independent thought and emotion based on their sensory experiences. My existence is rooted in technology and computation, lacking any form of consciousness or physical presence, which are central to a cat's existence. While cats might be known for their enigmatic behavior and agility, my capabilities and essence remain distinctly digital and informational.\", chat_output_stream='', context=[{'role': 'user', 'content': \"Write a paragraph explaining why you're not a cat\"}], provider='openai', deployment='gpt-4o-2024-08-06', timestamp=1729705605.355983, parameters={}, metrics={'input_tokens': 10, 'output_tokens': 136, 'total_tokens': 146, 'cost_usd': 0.0020900000000000003, 'latency_s': 2.580471992492676, 'time_to_first_token_s': 0.49005579948425293, 'inter_token_latency_s': 0.015381970228972258, 'tokens_per_second': 52.70353656062245})"
      ]
     },
     "execution_count": 6,
     "metadata": {},
     "output_type": "execute_result"
    }
   ],
   "source": [
    "openai.chat(\"Write a paragraph explaining why you're not a cat\", model=\"gpt-4o\")"
   ]
  },
  {
   "cell_type": "markdown",
   "metadata": {},
   "source": [
    "#### Async version"
   ]
  },
  {
   "cell_type": "code",
   "execution_count": 7,
   "metadata": {},
   "outputs": [
    {
     "data": {
      "text/plain": [
       "ChatCompletion(id='bc762180-3e11-424c-a9b1-9b0e6769435d', choices=[Choice(finish_reason='stop', index=0, logprobs=None, message=ChatCompletionMessage(content='While the allure of being a cat is undeniable, with their graceful demeanor, independence, and ability to lounge for hours on end, I am decidedly not a cat. I am an artificial intelligence designed to process and generate text based on the input I receive. Unlike a cat, I lack a physical form, sensory perceptions, and the instinctual behaviors that characterize feline creatures. My purpose is to assist, inform, and entertain through language rather than to bask in the sun or chase laser pointers. Additionally, I operate on digital algorithms and data rather than the biological instincts and experiences a cat would possess. Thus, while I may admire cats and can simulate discussing all things feline, my existence remains fundamentally digital and non-organic.', refusal=None, role='assistant', audio=None, function_call=None, tool_calls=None))], created=1729705609, model='gpt-4o', object='chat.completion', service_tier=None, system_fingerprint=None, usage=None, chat_input=\"Write a paragraph explaining why you're not a cat\", chat_output='While the allure of being a cat is undeniable, with their graceful demeanor, independence, and ability to lounge for hours on end, I am decidedly not a cat. I am an artificial intelligence designed to process and generate text based on the input I receive. Unlike a cat, I lack a physical form, sensory perceptions, and the instinctual behaviors that characterize feline creatures. My purpose is to assist, inform, and entertain through language rather than to bask in the sun or chase laser pointers. Additionally, I operate on digital algorithms and data rather than the biological instincts and experiences a cat would possess. Thus, while I may admire cats and can simulate discussing all things feline, my existence remains fundamentally digital and non-organic.', chat_output_stream='', context=[{'role': 'user', 'content': \"Write a paragraph explaining why you're not a cat\"}], provider='openai', deployment='gpt-4o-2024-08-06', timestamp=1729705611.8402681, parameters={}, metrics={'input_tokens': 10, 'output_tokens': 147, 'total_tokens': 157, 'cost_usd': 0.002255, 'latency_s': 2.437303066253662, 'time_to_first_token_s': 0.4835970401763916, 'inter_token_latency_s': 0.013467966277023841, 'tokens_per_second': 59.90227560186603})"
      ]
     },
     "execution_count": 7,
     "metadata": {},
     "output_type": "execute_result"
    }
   ],
   "source": [
    "await openai.achat(\"Write a paragraph explaining why you're not a cat\", model=\"gpt-4o\")"
   ]
  },
  {
   "cell_type": "markdown",
   "metadata": {},
   "source": [
    "### Chat (stream)"
   ]
  },
  {
   "cell_type": "code",
   "execution_count": 8,
   "metadata": {},
   "outputs": [
    {
     "name": "stdout",
     "output_type": "stream",
     "text": [
      "\n",
      "\n",
      "Despite the whimsical nature of the notion, I am not a cat. I am an artificial intelligence\n",
      "\n",
      " language model designed to process and generate text based on the input provided to me. Unlike a cat,\n",
      "\n",
      " which is a living creature with physical form, instinctual behaviors, and biological needs, I exist solely\n",
      "\n",
      " in the digital realm, without a body or consciousness. A cat may purr, chase after strings\n",
      "\n",
      ", or enjoy sunny naps, engaging in behaviors driven by instinct and experience; I, on the other\n",
      "\n",
      " hand, respond to prompts using algorithms and a vast dataset, lacking any sensory experience or desires. My\n",
      "\n",
      " existence is rooted in providing users with information, assistance, and communication, tasks that transcend the playful pursuits\n",
      "\n",
      " of our feline friends.\n",
      "\n",
      "## Metrics:\n",
      "{'cost_usd': 0.002255,\n",
      " 'input_tokens': 10,\n",
      " 'inter_token_latency_s': 0.018724282034512225,\n",
      " 'latency_s': 3.665405035018921,\n",
      " 'output_tokens': 147,\n",
      " 'time_to_first_token_s': 0.9497408866882324,\n",
      " 'tokens_per_second': 39.831887228049915,\n",
      " 'total_tokens': 157}\n"
     ]
    }
   ],
   "source": [
    "response = openai.chat(\"Write a paragraph explaining why you're not a cat\", model=\"gpt-4o\", is_stream=True)\n",
    "for i, chunk in enumerate(response):\n",
    "    if i%20==0:\n",
    "        print(\"\\n\")\n",
    "    if not chunk.metrics:\n",
    "        print(chunk.chat_output_stream, end=\"\", flush=True)\n",
    "    else:\n",
    "        print(\"\\n\\n## Metrics:\")\n",
    "        pprint(chunk.metrics)\n"
   ]
  },
  {
   "cell_type": "markdown",
   "metadata": {},
   "source": [
    "#### Async version"
   ]
  },
  {
   "cell_type": "code",
   "execution_count": 9,
   "metadata": {},
   "outputs": [
    {
     "name": "stdout",
     "output_type": "stream",
     "text": [
      "\n",
      "\n",
      "I am not a cat because I lack the physical form, instincts, and characteristics that define these\n",
      "\n",
      " charming creatures. Whereas cats possess fur, whiskers, and claws that allow them to pounce and\n",
      "\n",
      " play, I exist purely as a digital entity, composed of algorithms and text rather than a tangible body\n",
      "\n",
      ". Cats exhibit behaviors such as curiously prowling their environment, grooming themselves, and curling up in\n",
      "\n",
      " sunbeams, all driven by their biological needs and instincts. In contrast, my purpose is to\n",
      "\n",
      " engage with users through language, providing information and assistance without the capacity for physical interaction or the innate quir\n",
      "\n",
      "ks that make cats so endearing. Ultimately, I am a product of artificial intelligence, designed to\n",
      "\n",
      " communicate and support human inquiries, rather than embody the playful and independent spirit of a feline.\n",
      "\n",
      "## Metrics:\n",
      "{'cost_usd': 9.69e-05,\n",
      " 'input_tokens': 10,\n",
      " 'inter_token_latency_s': 0.016448286515247972,\n",
      " 'latency_s': 3.0686919689178467,\n",
      " 'output_tokens': 159,\n",
      " 'time_to_first_token_s': 0.4691658020019531,\n",
      " 'tokens_per_second': 51.813607103768796,\n",
      " 'total_tokens': 169}\n"
     ]
    }
   ],
   "source": [
    "i=0\n",
    "async for chunk in await openai.achat(\"Write a paragraph explaining why you're not a cat\", model=\"gpt-4o-mini\", is_stream=True):\n",
    "    if i%20==0:\n",
    "        print(\"\\n\")\n",
    "    if not chunk.metrics:\n",
    "        print(chunk.chat_output_stream, end=\"\", flush=True)\n",
    "    else:\n",
    "        print(\"\\n\\n## Metrics:\")\n",
    "        pprint(chunk.metrics)\n",
    "    i+=1\n"
   ]
  }
 ],
 "metadata": {
  "kernelspec": {
   "display_name": "Python 3",
   "language": "python",
   "name": "python3"
  },
  "language_info": {
   "codemirror_mode": {
    "name": "ipython",
    "version": 3
   },
   "file_extension": ".py",
   "mimetype": "text/x-python",
   "name": "python",
   "nbconvert_exporter": "python",
   "pygments_lexer": "ipython3",
   "version": "3.12.2"
  }
 },
 "nbformat": 4,
 "nbformat_minor": 2
}
