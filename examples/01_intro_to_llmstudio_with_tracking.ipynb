{
 "cells": [
  {
   "cell_type": "markdown",
   "metadata": {},
   "source": [
    "# Intro to LLMstudio - tracking\n",
    "\n",
    "This notebook serves as an introduction to LLMstudio with a focus on tracking capabilities. It demonstrates how to set up and use the LLMstudio environment to interact with language models, specifically highlighting the integration of tracking functionalities. The notebook begins by starting the tracking server, which is essential for logging and monitoring interactions with the language models. This setup is crucial for you who need to keep track of model usage, performance metrics, and other relevant data points.\n",
    "\n",
    "The notebook further illustrates how to configure and utilize the tracking system by creating a `TrackingConfig` instance, which specifies the host and port for the tracking server. You can benefit from this setup by gaining insights into model behavior and performance, which can be used to optimize and improve their applications. The notebook also includes examples of both synchronous and asynchronous chat interactions, providing a comprehensive guide for developers to implement and test these features in their own projects.\n",
    "\n",
    "\n"
   ]
  },
  {
   "cell_type": "code",
   "execution_count": 1,
   "metadata": {},
   "outputs": [],
   "source": [
    "from llmstudio.providers import LLM\n",
    "from pprint import pprint"
   ]
  },
  {
   "cell_type": "code",
   "execution_count": 2,
   "metadata": {},
   "outputs": [
    {
     "name": "stdout",
     "output_type": "stream",
     "text": [
      "Tracker server already running on 0.0.0.0:8002\n"
     ]
    }
   ],
   "source": [
    "from llmstudio.server import start_servers\n",
    "start_servers(engine=False, tracking=True)"
   ]
  },
  {
   "cell_type": "code",
   "execution_count": 3,
   "metadata": {},
   "outputs": [],
   "source": [
    "from llmstudio_tracker.tracker import TrackingConfig\n",
    "from llmstudio.server import start_servers\n",
    "\n",
    "start_servers(engine=False, tracking=True)\n",
    "tracker = TrackingConfig(host=\"0.0.0.0\", port=\"8002\")\n",
    "# You can set OPENAI_API_KEY and ANTHROPIC_API_KEY on .env file\n",
    "openai = LLM(\"openai\", tracking_config = tracker)\n"
   ]
  },
  {
   "cell_type": "markdown",
   "metadata": {},
   "source": [
    "### Chat (non-stream)"
   ]
  },
  {
   "cell_type": "code",
   "execution_count": 4,
   "metadata": {},
   "outputs": [
    {
     "data": {
      "text/plain": [
       "ChatCompletion(id='af819982-584d-4e0a-ab14-01d0ea5e447f', choices=[Choice(finish_reason='stop', index=0, logprobs=None, message=ChatCompletionMessage(content='I\\'m not a cat because I am an artificial intelligence designed to process and generate text-based information. Unlike cats, which are biological entities with physical bodies, fur, and the capacity for purring, I exist purely in the digital realm and interact with users through text. I lack the sensory experiences and instincts that characterize feline behavior, such as the ability to chase a laser pointer or nimbly climb a tree. Furthermore, my existence is focused on understanding and responding to human input, devoid of the playful curiosity and independence often associated with cats. My \"body\" is a network of data and algorithms, and my \"thoughts\" are computations, both of which are far removed from the biological realities of being a cat.', refusal=None, role='assistant', function_call=None, tool_calls=None))], created=1729178789, model='gpt-4o', object='chat.completion', service_tier=None, system_fingerprint=None, usage=None, chat_input=\"Write a paragraph explaining why you're not a cat\", chat_output='I\\'m not a cat because I am an artificial intelligence designed to process and generate text-based information. Unlike cats, which are biological entities with physical bodies, fur, and the capacity for purring, I exist purely in the digital realm and interact with users through text. I lack the sensory experiences and instincts that characterize feline behavior, such as the ability to chase a laser pointer or nimbly climb a tree. Furthermore, my existence is focused on understanding and responding to human input, devoid of the playful curiosity and independence often associated with cats. My \"body\" is a network of data and algorithms, and my \"thoughts\" are computations, both of which are far removed from the biological realities of being a cat.', chat_output_stream='', context=[{'role': 'user', 'content': \"Write a paragraph explaining why you're not a cat\"}], provider='openai', deployment='gpt-4o-2024-08-06', timestamp=1729178791.384075, parameters={}, metrics={'input_tokens': 10, 'output_tokens': 146, 'total_tokens': 156, 'cost_usd': 0.0022400000000000002, 'latency_s': 2.671919107437134, 'time_to_first_token_s': 1.0068690776824951, 'inter_token_latency_s': 0.011405744223759092, 'tokens_per_second': 54.64237281496186})"
      ]
     },
     "execution_count": 4,
     "metadata": {},
     "output_type": "execute_result"
    }
   ],
   "source": [
    "openai.chat(\"Write a paragraph explaining why you're not a cat\", model=\"gpt-4o\")"
   ]
  },
  {
   "cell_type": "markdown",
   "metadata": {},
   "source": [
    "#### Async version"
   ]
  },
  {
   "cell_type": "code",
   "execution_count": 5,
   "metadata": {},
   "outputs": [
    {
     "data": {
      "text/plain": [
       "ChatCompletion(id='18fd8c69-3d52-4ccc-8c09-0e3bc2c7d844', choices=[Choice(finish_reason='stop', index=0, logprobs=None, message=ChatCompletionMessage(content='I\\'m not a cat because I\\'m an artificial intelligence language model created by OpenAI, and my existence is purely digital rather than biological. Unlike a cat, I don\\'t have a physical presence, senses like sight or touch, or the ability to interact with the physical world. My \"brain\" is made up of complex algorithms and vast datasets rather than neurons, and I lack consciousness, emotions, and instincts that characterize living creatures. While cats are known for their independence, agility, and unique personalities, I am designed to process and generate text-based information to assist users in various tasks, operating entirely within the constraints of computer systems and software interfaces.', refusal=None, role='assistant', function_call=None, tool_calls=None))], created=1729178792, model='gpt-4o', object='chat.completion', service_tier=None, system_fingerprint=None, usage=None, chat_input=\"Write a paragraph explaining why you're not a cat\", chat_output='I\\'m not a cat because I\\'m an artificial intelligence language model created by OpenAI, and my existence is purely digital rather than biological. Unlike a cat, I don\\'t have a physical presence, senses like sight or touch, or the ability to interact with the physical world. My \"brain\" is made up of complex algorithms and vast datasets rather than neurons, and I lack consciousness, emotions, and instincts that characterize living creatures. While cats are known for their independence, agility, and unique personalities, I am designed to process and generate text-based information to assist users in various tasks, operating entirely within the constraints of computer systems and software interfaces.', chat_output_stream='', context=[{'role': 'user', 'content': \"Write a paragraph explaining why you're not a cat\"}], provider='openai', deployment='gpt-4o-2024-08-06', timestamp=1729178793.611397, parameters={}, metrics={'input_tokens': 10, 'output_tokens': 130, 'total_tokens': 140, 'cost_usd': 0.002, 'latency_s': 2.1914548873901367, 'time_to_first_token_s': 0.8403918743133545, 'inter_token_latency_s': 0.010552367195487022, 'tokens_per_second': 58.86500367508346})"
      ]
     },
     "execution_count": 5,
     "metadata": {},
     "output_type": "execute_result"
    }
   ],
   "source": [
    "await openai.achat(\"Write a paragraph explaining why you're not a cat\", model=\"gpt-4o\")"
   ]
  },
  {
   "cell_type": "markdown",
   "metadata": {},
   "source": [
    "### Chat (stream)"
   ]
  },
  {
   "cell_type": "code",
   "execution_count": 6,
   "metadata": {},
   "outputs": [
    {
     "name": "stdout",
     "output_type": "stream",
     "text": [
      "\n",
      "\n",
      "I'm not a cat because I am an artificial intelligence language model designed to process and generate human language\n",
      "\n",
      ". Unlike cats, which are biological creatures with fur, whiskers, and a penchant for chasing mice\n",
      "\n",
      ", I have no physical form or sensory experiences. My existence is purely digital, relying on algorithms and\n",
      "\n",
      " data to function, rather than instincts and physical needs. While cats can display independent behavior and are known\n",
      "\n",
      " for their charisma, I exist to assist users by providing information and facilitating communication based on the input I\n",
      "\n",
      " receive. My \"meows\" come in the form of text data, expressing thoughts and ideas programmed\n",
      "\n",
      " into my virtual framework, rather than the tangible and often humorous communication methods embodied by our feline friends.\n",
      "\n",
      "\n",
      "\n",
      "## Metrics:\n",
      "{'cost_usd': 0.0021650000000000003,\n",
      " 'input_tokens': 10,\n",
      " 'inter_token_latency_s': 0.07117236512047904,\n",
      " 'latency_s': 10.889177799224854,\n",
      " 'output_tokens': 141,\n",
      " 'time_to_first_token_s': 0.9244427680969238,\n",
      " 'tokens_per_second': 12.948636031091079,\n",
      " 'total_tokens': 151}\n"
     ]
    }
   ],
   "source": [
    "response = openai.chat(\"Write a paragraph explaining why you're not a cat\", model=\"gpt-4o\", is_stream=True)\n",
    "for i, chunk in enumerate(response):\n",
    "    if i%20==0:\n",
    "        print(\"\\n\")\n",
    "    if not chunk.metrics:\n",
    "        print(chunk.chat_output_stream, end=\"\", flush=True)\n",
    "    else:\n",
    "        print(\"\\n\\n## Metrics:\")\n",
    "        pprint(chunk.metrics)\n"
   ]
  },
  {
   "cell_type": "markdown",
   "metadata": {},
   "source": [
    "#### Async version"
   ]
  },
  {
   "cell_type": "code",
   "execution_count": 7,
   "metadata": {},
   "outputs": [
    {
     "name": "stdout",
     "output_type": "stream",
     "text": [
      "\n",
      "\n",
      "I am not a cat because I lack the physical characteristics, behaviors, and instincts that define feline\n",
      "\n",
      " creatures. Unlike a cat, I do not possess a furry coat, claws, or a tail,\n",
      "\n",
      " nor do I have the ability to purr or sharpen my claws on furniture. My existence is rooted\n",
      "\n",
      " in the realm of artificial intelligence, where I function by processing information and generating text based on algorithms rather\n",
      "\n",
      " than engaging in the instinctual behaviors of a cat, such as hunting, climbing, or napping\n",
      "\n",
      " in a sunbeam. While I can understand and describe cats, my nature is entirely different, as\n",
      "\n",
      " I am designed to assist, inform, and interact in a manner that a cat simply cannot.\n",
      "\n",
      "## Metrics:\n",
      "{'cost_usd': 8.489999999999999e-05,\n",
      " 'input_tokens': 10,\n",
      " 'inter_token_latency_s': 0.011668438534084842,\n",
      " 'latency_s': 2.3609237670898438,\n",
      " 'output_tokens': 139,\n",
      " 'time_to_first_token_s': 0.7383158206939697,\n",
      " 'tokens_per_second': 59.29882275384471,\n",
      " 'total_tokens': 149}\n"
     ]
    }
   ],
   "source": [
    "i=0\n",
    "async for chunk in await openai.achat(\"Write a paragraph explaining why you're not a cat\", model=\"gpt-4o-mini\", is_stream=True):\n",
    "    if i%20==0:\n",
    "        print(\"\\n\")\n",
    "    if not chunk.metrics:\n",
    "        print(chunk.chat_output_stream, end=\"\", flush=True)\n",
    "    else:\n",
    "        print(\"\\n\\n## Metrics:\")\n",
    "        pprint(chunk.metrics)\n",
    "    i+=1\n"
   ]
  },
  {
   "cell_type": "code",
   "execution_count": null,
   "metadata": {},
   "outputs": [],
   "source": []
  }
 ],
 "metadata": {
  "kernelspec": {
   "display_name": "Python 3",
   "language": "python",
   "name": "python3"
  },
  "language_info": {
   "codemirror_mode": {
    "name": "ipython",
    "version": 3
   },
   "file_extension": ".py",
   "mimetype": "text/x-python",
   "name": "python",
   "nbconvert_exporter": "python",
   "pygments_lexer": "ipython3",
   "version": "3.12.2"
  }
 },
 "nbformat": 4,
 "nbformat_minor": 2
}
