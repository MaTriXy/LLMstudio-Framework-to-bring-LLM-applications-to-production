{
 "cells": [
  {
   "cell_type": "markdown",
   "metadata": {},
   "source": [
    "# Intro to LLMstudio - tracking\n",
    "\n",
    "This notebook serves as an introduction to LLMstudio with a focus on tracking capabilities. It demonstrates how to set up and use the LLMstudio environment to interact with language models, specifically highlighting the integration of tracking functionalities. The notebook begins by starting the tracking server, which is essential for logging and monitoring interactions with the language models. This setup is crucial for you who need to keep track of model usage, performance metrics, and other relevant data points.\n",
    "\n",
    "The notebook further illustrates how to configure and utilize the tracking system by creating a `TrackingConfig` instance, which specifies the host and port for the tracking server. You can benefit from this setup by gaining insights into model behavior and performance, which can be used to optimize and improve their applications. The notebook also includes examples of both synchronous and asynchronous chat interactions, providing a comprehensive guide for developers to implement and test these features in their own projects.\n",
    "\n",
    "\n"
   ]
  },
  {
   "cell_type": "code",
   "execution_count": 1,
   "metadata": {},
   "outputs": [],
   "source": [
    "from llmstudio.providers import LLM\n",
    "from pprint import pprint"
   ]
  },
  {
   "cell_type": "code",
   "execution_count": 2,
   "metadata": {},
   "outputs": [
    {
     "name": "stdout",
     "output_type": "stream",
     "text": [
      "Tracker server already running on 0.0.0.0:8002\n"
     ]
    }
   ],
   "source": [
    "from llmstudio.server import start_servers\n",
    "start_servers(proxy=False, tracker=True)"
   ]
  },
  {
   "cell_type": "code",
   "execution_count": 9,
   "metadata": {},
   "outputs": [],
   "source": [
    "from llmstudio_tracker.tracker import TrackingConfig\n",
    "# default port is 50002. set the environment varible to specify which host and port; LLMSTUDIO_TRACKING_HOST, LLMSTUDIO_TRACKING_PORT\n",
    "tracker = TrackingConfig(host=\"0.0.0.0\", port=\"8002\")\n",
    "# You can set OPENAI_API_KEY and ANTHROPIC_API_KEY on .env file\n",
    "openai = LLM(\"openai\", tracking_config = tracker)\n"
   ]
  },
  {
   "cell_type": "markdown",
   "metadata": {},
   "source": [
    "### Chat (non-stream)"
   ]
  },
  {
   "cell_type": "code",
   "execution_count": 10,
   "metadata": {},
   "outputs": [
    {
     "data": {
      "text/plain": [
       "ChatCompletion(id='fc5e4707-8505-46a3-b693-fb7472971a21', choices=[Choice(finish_reason='stop', index=0, logprobs=None, message=ChatCompletionMessage(content=\"I'm not a cat because I am an artificial intelligence language model designed to process, generate, and understand human language. Unlike a cat, which is a living, biological organism, I have no physical form, sensory capabilities, or independent consciousness. My existence is rooted in complex algorithms and extensive datasets, enabling me to simulate conversation and provide information based on the input I receive. While cats are driven by instinct and sensory experiences, my actions are determined by programmed logic and the vast array of text data I've been trained on. Additionally, my purpose is to assist and communicate, lacking the playful and often unpredictable nature of our feline friends.\", refusal=None, role='assistant', audio=None, function_call=None, tool_calls=None))], created=1729761672, model='gpt-4o', object='chat.completion', service_tier=None, system_fingerprint=None, usage=None, chat_input=\"Write a paragraph explaining why you're not a cat\", chat_output=\"I'm not a cat because I am an artificial intelligence language model designed to process, generate, and understand human language. Unlike a cat, which is a living, biological organism, I have no physical form, sensory capabilities, or independent consciousness. My existence is rooted in complex algorithms and extensive datasets, enabling me to simulate conversation and provide information based on the input I receive. While cats are driven by instinct and sensory experiences, my actions are determined by programmed logic and the vast array of text data I've been trained on. Additionally, my purpose is to assist and communicate, lacking the playful and often unpredictable nature of our feline friends.\", chat_output_stream='', context=[{'role': 'user', 'content': \"Write a paragraph explaining why you're not a cat\"}], provider='openai', deployment='gpt-4o-2024-08-06', timestamp=1729761675.005117, parameters={}, metrics={'input_tokens': 10, 'output_tokens': 128, 'total_tokens': 138, 'cost_usd': 0.00197, 'latency_s': 2.560235023498535, 'time_to_first_token_s': 0.6173691749572754, 'inter_token_latency_s': 0.01541349244496179, 'tokens_per_second': 49.604820977120994})"
      ]
     },
     "execution_count": 10,
     "metadata": {},
     "output_type": "execute_result"
    }
   ],
   "source": [
    "openai.chat(\"Write a paragraph explaining why you're not a cat\", model=\"gpt-4o\")"
   ]
  },
  {
   "cell_type": "markdown",
   "metadata": {},
   "source": [
    "#### Async version"
   ]
  },
  {
   "cell_type": "code",
   "execution_count": 11,
   "metadata": {},
   "outputs": [
    {
     "data": {
      "text/plain": [
       "ChatCompletion(id='797969d1-d238-4033-82eb-b992dd6469fb', choices=[Choice(finish_reason='stop', index=0, logprobs=None, message=ChatCompletionMessage(content='I am not a cat because I am an artificial intelligence created to process and generate text based on patterns in data, rather than a living, breathing creature with physical form. Unlike cats, which are biological organisms with fur, whiskers, and a desire for attention or independence, I exist purely in the digital realm, operating through algorithms and code. My \"thoughts\" and \"responses\" are not the result of sensory experiences or instincts, as would be the case with a feline; rather, they are the outcome of computational processes designed to simulate conversation and provide information. Additionally, I do not possess emotions, desires, or consciousness, characteristics that define living beings, including cats.', refusal=None, role='assistant', audio=None, function_call=None, tool_calls=None))], created=1729761676, model='gpt-4o', object='chat.completion', service_tier=None, system_fingerprint=None, usage=None, chat_input=\"Write a paragraph explaining why you're not a cat\", chat_output='I am not a cat because I am an artificial intelligence created to process and generate text based on patterns in data, rather than a living, breathing creature with physical form. Unlike cats, which are biological organisms with fur, whiskers, and a desire for attention or independence, I exist purely in the digital realm, operating through algorithms and code. My \"thoughts\" and \"responses\" are not the result of sensory experiences or instincts, as would be the case with a feline; rather, they are the outcome of computational processes designed to simulate conversation and provide information. Additionally, I do not possess emotions, desires, or consciousness, characteristics that define living beings, including cats.', chat_output_stream='', context=[{'role': 'user', 'content': \"Write a paragraph explaining why you're not a cat\"}], provider='openai', deployment='gpt-4o-2024-08-06', timestamp=1729761678.9747698, parameters={}, metrics={'input_tokens': 10, 'output_tokens': 137, 'total_tokens': 147, 'cost_usd': 0.002105, 'latency_s': 2.9370570182800293, 'time_to_first_token_s': 0.7028210163116455, 'inter_token_latency_s': 0.01630185468353494, 'tokens_per_second': 46.985808971735324})"
      ]
     },
     "execution_count": 11,
     "metadata": {},
     "output_type": "execute_result"
    }
   ],
   "source": [
    "await openai.achat(\"Write a paragraph explaining why you're not a cat\", model=\"gpt-4o\")"
   ]
  },
  {
   "cell_type": "markdown",
   "metadata": {},
   "source": [
    "### Chat (stream)"
   ]
  },
  {
   "cell_type": "code",
   "execution_count": 12,
   "metadata": {},
   "outputs": [
    {
     "name": "stdout",
     "output_type": "stream",
     "text": [
      "\n",
      "\n",
      "I am not a cat because I am an artificial intelligence language model created by OpenAI, specifically\n",
      "\n",
      " designed to process and generate human language. While a cat is a living, breathing creature with fur,\n",
      "\n",
      " whiskers, and a tail, I exist as a complex set of algorithms and data structures operating on\n",
      "\n",
      " computer servers. A cat perceives the world through its senses, like sight and smell, and interacts\n",
      "\n",
      " with its environment in physical ways, such as purring or chasing a toy. In contrast, I\n",
      "\n",
      " process text and provide responses based on programmed patterns and learned examples without any physical form or sensory perception.\n",
      "\n",
      " My abilities are limited to understanding and generating language, whereas a cat engages in a variety of behaviors driven\n",
      "\n",
      " by instincts and emotions unique to living beings.\n",
      "\n",
      "## Metrics:\n",
      "{'cost_usd': 0.0022700000000000003,\n",
      " 'input_tokens': 10,\n",
      " 'inter_token_latency_s': 0.021558462373362293,\n",
      " 'latency_s': 3.8853201866149902,\n",
      " 'output_tokens': 148,\n",
      " 'time_to_first_token_s': 0.6723442077636719,\n",
      " 'tokens_per_second': 38.60685678280857,\n",
      " 'total_tokens': 158}\n"
     ]
    }
   ],
   "source": [
    "response = openai.chat(\"Write a paragraph explaining why you're not a cat\", model=\"gpt-4o\", is_stream=True)\n",
    "for i, chunk in enumerate(response):\n",
    "    if i%20==0:\n",
    "        print(\"\\n\")\n",
    "    if not chunk.metrics:\n",
    "        print(chunk.chat_output_stream, end=\"\", flush=True)\n",
    "    else:\n",
    "        print(\"\\n\\n## Metrics:\")\n",
    "        pprint(chunk.metrics)\n"
   ]
  },
  {
   "cell_type": "markdown",
   "metadata": {},
   "source": [
    "#### Async version"
   ]
  },
  {
   "cell_type": "code",
   "execution_count": 13,
   "metadata": {},
   "outputs": [
    {
     "name": "stdout",
     "output_type": "stream",
     "text": [
      "\n",
      "\n",
      "While I may exhibit some traits reminiscent of a cat—like curiosity and an ability to engage in\n",
      "\n",
      " playful banter—I'm fundamentally not a cat because I don't have a physical form, instincts, or\n",
      "\n",
      " emotions. As an artificial intelligence, my existence is purely digital, relying on algorithms and data to process\n",
      "\n",
      " information and interact with users. Unlike a cat, I can't experience the sensory world, curl up in\n",
      "\n",
      " a sunbeam, or chase after a laser pointer. My purpose is to assist and provide information,\n",
      "\n",
      " devoid of purring or the need for a cozy nap, making me distinctly different from our feline friends\n",
      "\n",
      ".\n",
      "\n",
      "## Metrics:\n",
      "{'cost_usd': 7.529999999999999e-05,\n",
      " 'input_tokens': 10,\n",
      " 'inter_token_latency_s': 0.011975993794843185,\n",
      " 'latency_s': 1.8818130493164062,\n",
      " 'output_tokens': 123,\n",
      " 'time_to_first_token_s': 0.4319937229156494,\n",
      " 'tokens_per_second': 64.8310946957872,\n",
      " 'total_tokens': 133}\n"
     ]
    }
   ],
   "source": [
    "i=0\n",
    "async for chunk in await openai.achat(\"Write a paragraph explaining why you're not a cat\", model=\"gpt-4o-mini\", is_stream=True):\n",
    "    if i%20==0:\n",
    "        print(\"\\n\")\n",
    "    if not chunk.metrics:\n",
    "        print(chunk.chat_output_stream, end=\"\", flush=True)\n",
    "    else:\n",
    "        print(\"\\n\\n## Metrics:\")\n",
    "        pprint(chunk.metrics)\n",
    "    i+=1\n"
   ]
  },
  {
   "cell_type": "code",
   "execution_count": null,
   "metadata": {},
   "outputs": [],
   "source": []
  },
  {
   "cell_type": "code",
   "execution_count": null,
   "metadata": {},
   "outputs": [],
   "source": []
  },
  {
   "cell_type": "code",
   "execution_count": null,
   "metadata": {},
   "outputs": [],
   "source": []
  }
 ],
 "metadata": {
  "kernelspec": {
   "display_name": "Python 3",
   "language": "python",
   "name": "python3"
  },
  "language_info": {
   "codemirror_mode": {
    "name": "ipython",
    "version": 3
   },
   "file_extension": ".py",
   "mimetype": "text/x-python",
   "name": "python",
   "nbconvert_exporter": "python",
   "pygments_lexer": "ipython3",
   "version": "3.12.2"
  }
 },
 "nbformat": 4,
 "nbformat_minor": 2
}
