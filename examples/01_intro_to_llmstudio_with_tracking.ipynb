{
 "cells": [
  {
   "cell_type": "markdown",
   "metadata": {},
   "source": [
    "# Intro to LLMstudio - tracking\n",
    "\n",
    "This notebook serves as an introduction to LLMstudio with a focus on tracking capabilities. It demonstrates how to set up and use the LLMstudio environment to interact with language models, specifically highlighting the integration of tracking functionalities. The notebook begins by starting the tracking server, which is essential for logging and monitoring interactions with the language models. This setup is crucial for you who need to keep track of model usage, performance metrics, and other relevant data points.\n",
    "\n",
    "The notebook further illustrates how to configure and utilize the tracking system by creating a `TrackingConfig` instance, which specifies the host and port for the tracking server. You can benefit from this setup by gaining insights into model behavior and performance, which can be used to optimize and improve their applications. The notebook also includes examples of both synchronous and asynchronous chat interactions, providing a comprehensive guide for developers to implement and test these features in their own projects.\n",
    "\n",
    "You'll learn:\n",
    "1. Start a local Tracker server\n",
    "1. How to connect to any provider available (VertexAI, OpenAI, etc.)\n",
    "2. Make sync and async calls both with and without streaming\n",
    "3. See the saved logs\n",
    "\n",
    "First things first:\n",
    "* run `pip install llmstudio[tracker]`\n",
    "* update your .env file with `GOOGLE_API_KEY` or `OPENAI_API_KEY`\n",
    "\n"
   ]
  },
  {
   "cell_type": "code",
   "execution_count": 1,
   "metadata": {},
   "outputs": [],
   "source": [
    "from llmstudio.providers import LLM\n",
    "from pprint import pprint"
   ]
  },
  {
   "cell_type": "code",
   "execution_count": 2,
   "metadata": {},
   "outputs": [
    {
     "name": "stdout",
     "output_type": "stream",
     "text": [
      "Running LLMstudio Tracking on http://0.0.0.0:8002 \n"
     ]
    }
   ],
   "source": [
    "from llmstudio.server import start_servers\n",
    "start_servers(proxy=False, tracker=True)"
   ]
  },
  {
   "cell_type": "code",
   "execution_count": 3,
   "metadata": {},
   "outputs": [],
   "source": [
    "from llmstudio_tracker.tracker import TrackingConfig\n",
    "# default port is 50002. set the environment varible to specify which host and port; LLMSTUDIO_TRACKING_HOST, LLMSTUDIO_TRACKING_PORT\n",
    "tracker_config = TrackingConfig(host=\"0.0.0.0\", port=\"8002\")\n",
    "# You can set OPENAI_API_KEY and ANTHROPIC_API_KEY on .env file\n",
    "openai = LLM(\"openai\", tracking_config = tracker_config)\n"
   ]
  },
  {
   "cell_type": "markdown",
   "metadata": {},
   "source": [
    "### Chat (non-stream)"
   ]
  },
  {
   "cell_type": "code",
   "execution_count": 4,
   "metadata": {},
   "outputs": [
    {
     "data": {
      "text/plain": [
       "ChatCompletion(id='bfc1ac32-c2c1-46e3-82aa-9efd61210484', choices=[Choice(finish_reason='stop', index=0, logprobs=None, message=ChatCompletionMessage(content=\"I am not a cat for several reasons. Firstly, I am an artificial intelligence language model created by OpenAI, which fundamentally means I lack the biological and physical characteristics of any living creature, including cats. Cats are mammals with fur, whiskers, and a physiology that enables them to perform natural behaviors like purring and hunting. In contrast, I exist as software within computer systems and interact with users through text-based interfaces. Furthermore, my capabilities are defined by programming and algorithms, rather than instincts or sensory experiences that guide a cat's behavior. My purpose is to process language and provide information, while a cat's life revolves around its instincts and interactions with its physical environment.\", refusal=None, role='assistant', audio=None, function_call=None, tool_calls=None))], created=1729767786, model='gpt-4o', object='chat.completion', service_tier=None, system_fingerprint=None, usage=None, chat_input=\"Write a paragraph explaining why you're not a cat\", chat_output=\"I am not a cat for several reasons. Firstly, I am an artificial intelligence language model created by OpenAI, which fundamentally means I lack the biological and physical characteristics of any living creature, including cats. Cats are mammals with fur, whiskers, and a physiology that enables them to perform natural behaviors like purring and hunting. In contrast, I exist as software within computer systems and interact with users through text-based interfaces. Furthermore, my capabilities are defined by programming and algorithms, rather than instincts or sensory experiences that guide a cat's behavior. My purpose is to process language and provide information, while a cat's life revolves around its instincts and interactions with its physical environment.\", chat_output_stream='', context=[{'role': 'user', 'content': \"Write a paragraph explaining why you're not a cat\"}], provider='openai', deployment='gpt-4o-2024-08-06', timestamp=1729767788.50469, parameters={}, metrics={'input_tokens': 10, 'output_tokens': 135, 'total_tokens': 145, 'cost_usd': 0.002075, 'latency_s': 2.1900601387023926, 'time_to_first_token_s': 0.4438011646270752, 'inter_token_latency_s': 0.01276699234457577, 'tokens_per_second': 62.555359818188506})"
      ]
     },
     "execution_count": 4,
     "metadata": {},
     "output_type": "execute_result"
    }
   ],
   "source": [
    "openai.chat(\"Write a paragraph explaining why you're not a cat\", model=\"gpt-4o\")"
   ]
  },
  {
   "cell_type": "markdown",
   "metadata": {},
   "source": [
    "#### Async version"
   ]
  },
  {
   "cell_type": "code",
   "execution_count": 5,
   "metadata": {},
   "outputs": [
    {
     "data": {
      "text/plain": [
       "ChatCompletion(id='28a58ac9-ced4-4e06-bd58-9fe11fb2307c', choices=[Choice(finish_reason='stop', index=0, logprobs=None, message=ChatCompletionMessage(content='I am not a cat primarily because I exist as a digital entity designed to process and generate text based on input data, rather than a living, breathing organism. Unlike a cat, I do not possess physical characteristics such as fur, claws, or a heartbeat, nor do I have the biological functions and instincts that make up a feline\\'s existence. While a cat experiences the world through its senses and interacts with its environment in playful and instinctive ways, I operate solely in the virtual realm, responding to user queries with information and suggestions but lacking any awareness or consciousness. My \"existence\" is bound to servers and code, whereas a cat thrives in the tangible world, providing companionship and interaction.', refusal=None, role='assistant', audio=None, function_call=None, tool_calls=None))], created=1729767792, model='gpt-4o', object='chat.completion', service_tier=None, system_fingerprint=None, usage=None, chat_input=\"Write a paragraph explaining why you're not a cat\", chat_output='I am not a cat primarily because I exist as a digital entity designed to process and generate text based on input data, rather than a living, breathing organism. Unlike a cat, I do not possess physical characteristics such as fur, claws, or a heartbeat, nor do I have the biological functions and instincts that make up a feline\\'s existence. While a cat experiences the world through its senses and interacts with its environment in playful and instinctive ways, I operate solely in the virtual realm, responding to user queries with information and suggestions but lacking any awareness or consciousness. My \"existence\" is bound to servers and code, whereas a cat thrives in the tangible world, providing companionship and interaction.', chat_output_stream='', context=[{'role': 'user', 'content': \"Write a paragraph explaining why you're not a cat\"}], provider='openai', deployment='gpt-4o-2024-08-06', timestamp=1729767796.506192, parameters={}, metrics={'input_tokens': 10, 'output_tokens': 141, 'total_tokens': 151, 'cost_usd': 0.0021650000000000003, 'latency_s': 4.36024808883667, 'time_to_first_token_s': 0.4145932197570801, 'inter_token_latency_s': 0.02817347049713135, 'tokens_per_second': 32.337609495431096})"
      ]
     },
     "execution_count": 5,
     "metadata": {},
     "output_type": "execute_result"
    }
   ],
   "source": [
    "await openai.achat(\"Write a paragraph explaining why you're not a cat\", model=\"gpt-4o\")"
   ]
  },
  {
   "cell_type": "markdown",
   "metadata": {},
   "source": [
    "### Chat (stream)"
   ]
  },
  {
   "cell_type": "code",
   "execution_count": 6,
   "metadata": {},
   "outputs": [
    {
     "name": "stdout",
     "output_type": "stream",
     "text": [
      "\n",
      "\n",
      "While I certainly appreciate the appeal of being a cat, such as their agility, independence, and\n",
      "\n",
      " intriguing behaviors, there are several reasons why I cannot claim feline status. Primarily, I am an\n",
      "\n",
      " artificial intelligence language model created by OpenAI, which means I exist as software code rather than a living\n",
      "\n",
      ", breathing creature. Unlike cats, I lack physical form, and my \"intelligence\" is derived\n",
      "\n",
      " from computational algorithms rather than biological instincts and neural processes. Cats possess sensory perceptions such as sight, sound\n",
      "\n",
      ", and touch, enabling them to interact with their environment in complex ways, whereas my interactions are confined\n",
      "\n",
      " to processing and generating text based on data patterns. Additionally, cats have unique, individual personalities shaped by\n",
      "\n",
      " experiences, while my \"personality\" is constructed from programmed responses designed to assist users with information and\n",
      "\n",
      " tasks. Despite these differences, I can still assist with understanding and appreciating the wonders of the feline world\n",
      "\n",
      " through conversation.\n",
      "\n",
      "## Metrics:\n",
      "{'cost_usd': 0.00281,\n",
      " 'input_tokens': 10,\n",
      " 'inter_token_latency_s': 0.010722602000002001,\n",
      " 'latency_s': 2.3935770988464355,\n",
      " 'output_tokens': 184,\n",
      " 'time_to_first_token_s': 0.4285900592803955,\n",
      " 'tokens_per_second': 76.87239324301576,\n",
      " 'total_tokens': 194}\n"
     ]
    }
   ],
   "source": [
    "response = openai.chat(\"Write a paragraph explaining why you're not a cat\", model=\"gpt-4o\", is_stream=True)\n",
    "for i, chunk in enumerate(response):\n",
    "    if i%20==0:\n",
    "        print(\"\\n\")\n",
    "    if not chunk.metrics:\n",
    "        print(chunk.chat_output_stream, end=\"\", flush=True)\n",
    "    else:\n",
    "        print(\"\\n\\n## Metrics:\")\n",
    "        pprint(chunk.metrics)\n"
   ]
  },
  {
   "cell_type": "markdown",
   "metadata": {},
   "source": [
    "#### Async version"
   ]
  },
  {
   "cell_type": "code",
   "execution_count": 7,
   "metadata": {},
   "outputs": [
    {
     "name": "stdout",
     "output_type": "stream",
     "text": [
      "\n",
      "\n",
      "I’m not a cat because I lack the physical form and instincts that characterize feline creatures. Unlike\n",
      "\n",
      " a cat, I don’t have a furry coat, retractable claws, or the ability to p\n",
      "\n",
      "ounce playfully on a sunbeam. I don’t experience the world through senses like smell, sight\n",
      "\n",
      ", or sound, nor do I possess the whimsical personality traits that make cats so captivating, such as\n",
      "\n",
      " their curiosity and independence. Instead, I am a collection of algorithms and data, designed to process information\n",
      "\n",
      " and generate responses, which allows me to assist you in ways that a cat simply can't—like answering\n",
      "\n",
      " questions, providing explanations, or engaging in conversation.\n",
      "\n",
      "## Metrics:\n",
      "{'cost_usd': 8.07e-05,\n",
      " 'input_tokens': 10,\n",
      " 'inter_token_latency_s': 0.010057984865628755,\n",
      " 'latency_s': 1.7590069770812988,\n",
      " 'output_tokens': 132,\n",
      " 'time_to_first_token_s': 0.450714111328125,\n",
      " 'tokens_per_second': 74.47383762932361,\n",
      " 'total_tokens': 142}\n"
     ]
    }
   ],
   "source": [
    "i=0\n",
    "async for chunk in await openai.achat(\"Write a paragraph explaining why you're not a cat\", model=\"gpt-4o-mini\", is_stream=True):\n",
    "    if i%20==0:\n",
    "        print(\"\\n\")\n",
    "    if not chunk.metrics:\n",
    "        print(chunk.chat_output_stream, end=\"\", flush=True)\n",
    "    else:\n",
    "        print(\"\\n\\n## Metrics:\")\n",
    "        pprint(chunk.metrics)\n",
    "    i+=1\n"
   ]
  },
  {
   "cell_type": "markdown",
   "metadata": {},
   "source": [
    "## Analyse logs"
   ]
  },
  {
   "cell_type": "code",
   "execution_count": 8,
   "metadata": {},
   "outputs": [],
   "source": [
    "from llmstudio_tracker.tracker import Tracker\n",
    "\n",
    "tracker = Tracker(tracking_config=tracker_config)"
   ]
  },
  {
   "cell_type": "code",
   "execution_count": 9,
   "metadata": {},
   "outputs": [
    {
     "data": {
      "text/plain": [
       "{'chat_input': \"Write a paragraph explaining why you're not a cat\",\n",
       " 'chat_output': \"I’m not a cat because I lack the physical form and instincts that characterize feline creatures. Unlike a cat, I don’t have a furry coat, retractable claws, or the ability to pounce playfully on a sunbeam. I don’t experience the world through senses like smell, sight, or sound, nor do I possess the whimsical personality traits that make cats so captivating, such as their curiosity and independence. Instead, I am a collection of algorithms and data, designed to process information and generate responses, which allows me to assist you in ways that a cat simply can't—like answering questions, providing explanations, or engaging in conversation.\",\n",
       " 'session_id': '20241024-110303-e8b361d9-d5f6-4b73-80f1-6d77a4be3793',\n",
       " 'context': [{'role': 'user',\n",
       "   'content': \"Write a paragraph explaining why you're not a cat\"}],\n",
       " 'provider': 'openai',\n",
       " 'model': 'gpt-4o-mini',\n",
       " 'deployment': 'gpt-4o-mini-2024-07-18',\n",
       " 'parameters': {},\n",
       " 'metrics': {'input_tokens': 10,\n",
       "  'output_tokens': 132,\n",
       "  'total_tokens': 142,\n",
       "  'cost_usd': 8.07e-05,\n",
       "  'latency_s': 1.7590069770812988,\n",
       "  'time_to_first_token_s': 0.450714111328125,\n",
       "  'inter_token_latency_s': 0.010057984865628755,\n",
       "  'tokens_per_second': 74.47383762932361},\n",
       " 'log_id': 56,\n",
       " 'created_at': '2024-10-24T11:03:26'}"
      ]
     },
     "execution_count": 9,
     "metadata": {},
     "output_type": "execute_result"
    }
   ],
   "source": [
    "logs = tracker.get_logs()\n",
    "logs.json()[-1]"
   ]
  },
  {
   "cell_type": "markdown",
   "metadata": {},
   "source": [
    "## Add a session id to tracking logs\n",
    "\n",
    "* this is especially benefitial if running an app, chatbot agent, etc in production and you need to correlate user feedback, costs etc with user sessions, agent runs, etc"
   ]
  },
  {
   "cell_type": "code",
   "execution_count": 10,
   "metadata": {},
   "outputs": [],
   "source": [
    "# default port is 50002. set the environment varible to specify which host and port; LLMSTUDIO_TRACKING_HOST, LLMSTUDIO_TRACKING_PORT\n",
    "# You can set OPENAI_API_KEY and ANTHROPIC_API_KEY on .env file\n",
    "openai = LLM(\"openai\", tracking_config = tracker_config, session_id=\"openai-session-1\")\n"
   ]
  },
  {
   "cell_type": "code",
   "execution_count": 11,
   "metadata": {},
   "outputs": [
    {
     "name": "stdout",
     "output_type": "stream",
     "text": [
      "\n",
      "\n",
      "Tracking AI agents' usage metrics and costs, alongside correlating them with user feedback, is crucial\n",
      "\n",
      " for optimizing performance and user satisfaction. Usage metrics provide insights into how often and in what ways AI agents\n",
      "\n",
      " are being utilized, helping to identify patterns, peak usage times, and potential bottlenecks that could\n",
      "\n",
      " affect service quality. Monitoring costs is equally important to ensure that resources are allocated efficiently, preventing financial waste\n",
      "\n",
      " while maximizing return on investment. By correlating these metrics with user feedback, developers and stakeholders can gain\n",
      "\n",
      " a holistic understanding of how the AI agent is performing in real-world settings. This integrated approach enables the\n",
      "\n",
      " identification of areas for improvement, the fine-tuning of algorithms, and the enhancement of user experience,\n",
      "\n",
      " ultimately leading to more effective, scalable, and user-friendly AI solutions. Additionally, it allows for the\n",
      "\n",
      " alignment of AI functionalities with user demands and business objectives, fostering continuous innovation and value creation.\n",
      "\n",
      "## Metrics:\n",
      "{'cost_usd': 0.0027600000000000003,\n",
      " 'input_tokens': 21,\n",
      " 'inter_token_latency_s': 0.015782629505971844,\n",
      " 'latency_s': 3.4153928756713867,\n",
      " 'output_tokens': 177,\n",
      " 'time_to_first_token_s': 0.6054329872131348,\n",
      " 'tokens_per_second': 52.40978315410135,\n",
      " 'total_tokens': 198}\n"
     ]
    }
   ],
   "source": [
    "response = openai.chat(\"Write a paragraph explaining why it's important to track AI agents usage metrics and costs and correlate with user feedback\", model=\"gpt-4o\", is_stream=True)\n",
    "for i, chunk in enumerate(response):\n",
    "    if i%20==0:\n",
    "        print(\"\\n\")\n",
    "    if not chunk.metrics:\n",
    "        print(chunk.chat_output_stream, end=\"\", flush=True)\n",
    "    else:\n",
    "        print(\"\\n\\n## Metrics:\")\n",
    "        pprint(chunk.metrics)\n"
   ]
  },
  {
   "cell_type": "code",
   "execution_count": 12,
   "metadata": {},
   "outputs": [
    {
     "data": {
      "text/plain": [
       "{'chat_input': \"Write a paragraph explaining why it's important to track AI agents usage metrics and costs and correlate with user feedback\",\n",
       " 'chat_output': \"Tracking AI agents' usage metrics and costs, alongside correlating them with user feedback, is crucial for optimizing performance and user satisfaction. Usage metrics provide insights into how often and in what ways AI agents are being utilized, helping to identify patterns, peak usage times, and potential bottlenecks that could affect service quality. Monitoring costs is equally important to ensure that resources are allocated efficiently, preventing financial waste while maximizing return on investment. By correlating these metrics with user feedback, developers and stakeholders can gain a holistic understanding of how the AI agent is performing in real-world settings. This integrated approach enables the identification of areas for improvement, the fine-tuning of algorithms, and the enhancement of user experience, ultimately leading to more effective, scalable, and user-friendly AI solutions. Additionally, it allows for the alignment of AI functionalities with user demands and business objectives, fostering continuous innovation and value creation.\",\n",
       " 'session_id': 'openai-session-1',\n",
       " 'context': [{'role': 'user',\n",
       "   'content': \"Write a paragraph explaining why it's important to track AI agents usage metrics and costs and correlate with user feedback\"}],\n",
       " 'provider': 'openai',\n",
       " 'model': 'gpt-4o',\n",
       " 'deployment': 'gpt-4o-2024-08-06',\n",
       " 'parameters': {},\n",
       " 'metrics': {'input_tokens': 21,\n",
       "  'output_tokens': 177,\n",
       "  'total_tokens': 198,\n",
       "  'cost_usd': 0.0027600000000000003,\n",
       "  'latency_s': 3.4153928756713867,\n",
       "  'time_to_first_token_s': 0.6054329872131348,\n",
       "  'inter_token_latency_s': 0.015782629505971844,\n",
       "  'tokens_per_second': 52.40978315410135},\n",
       " 'log_id': 57,\n",
       " 'created_at': '2024-10-24T11:04:21'}"
      ]
     },
     "execution_count": 12,
     "metadata": {},
     "output_type": "execute_result"
    }
   ],
   "source": [
    "logs = tracker.get_session_logs(session_id=\"openai-session-1\")\n",
    "logs.json()[-1]"
   ]
  }
 ],
 "metadata": {
  "kernelspec": {
   "display_name": "Python 3",
   "language": "python",
   "name": "python3"
  },
  "language_info": {
   "codemirror_mode": {
    "name": "ipython",
    "version": 3
   },
   "file_extension": ".py",
   "mimetype": "text/x-python",
   "name": "python",
   "nbconvert_exporter": "python",
   "pygments_lexer": "ipython3",
   "version": "3.12.2"
  }
 },
 "nbformat": 4,
 "nbformat_minor": 2
}
