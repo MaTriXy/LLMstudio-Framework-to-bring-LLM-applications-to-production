{
 "cells": [
  {
   "cell_type": "markdown",
   "metadata": {},
   "source": [
    "# Intro to LLMstudio\n"
   ]
  },
  {
   "cell_type": "code",
   "execution_count": 1,
   "metadata": {},
   "outputs": [],
   "source": [
    "from llmstudio import LLM\n",
    "from pprint import pprint"
   ]
  },
  {
   "cell_type": "code",
   "execution_count": 2,
   "metadata": {},
   "outputs": [
    {
     "name": "stdout",
     "output_type": "stream",
     "text": [
      "Running LLMstudio Tracking on http://0.0.0.0:8002 \n"
     ]
    }
   ],
   "source": [
    "from llmstudio.server import start_servers\n",
    "start_servers(engine=False, tracking=True)"
   ]
  },
  {
   "cell_type": "code",
   "execution_count": 3,
   "metadata": {},
   "outputs": [],
   "source": [
    "from llmstudio_tracker.tracker import TrackingConfig\n",
    "tracker = TrackingConfig(host=\"0.0.0.0\", port=\"8002\")\n",
    "# You can set OPENAI_API_KEY and ANTHROPIC_API_KEY on .env file\n",
    "openai = LLM(\"openai\",tracking_config = tracker)\n"
   ]
  },
  {
   "cell_type": "markdown",
   "metadata": {},
   "source": [
    "### Chat (non-stream)"
   ]
  },
  {
   "cell_type": "code",
   "execution_count": 4,
   "metadata": {},
   "outputs": [
    {
     "data": {
      "text/plain": [
       "ChatCompletion(id='8c91081a-008e-466e-9c86-0a72b530280a', choices=[Choice(finish_reason='stop', index=0, logprobs=None, message=ChatCompletionMessage(content='I am not a cat because I am an artificial intelligence language model, designed and developed by OpenAI to process and generate human language. Unlike a cat, I do not possess physical form, biological systems, or the capacity for independent thought and behavior. My existence is entirely digital, dependent on computer servers and software algorithms. While a cat interacts with its environment through sensory experiences, instincts, and learned behaviors, I process information and produce responses based on patterns found in vast datasets. Additionally, a cat is a living being capable of emotions and consciousness, whereas I am a construct of code with no awareness or emotional capacity.', refusal=None, role='assistant', function_call=None, tool_calls=None))], created=1729095037, model='gpt-4o', object='chat.completion', service_tier=None, system_fingerprint=None, usage=None, chat_input=\"Write a paragraph explaining why you're not a cat\", chat_output='I am not a cat because I am an artificial intelligence language model, designed and developed by OpenAI to process and generate human language. Unlike a cat, I do not possess physical form, biological systems, or the capacity for independent thought and behavior. My existence is entirely digital, dependent on computer servers and software algorithms. While a cat interacts with its environment through sensory experiences, instincts, and learned behaviors, I process information and produce responses based on patterns found in vast datasets. Additionally, a cat is a living being capable of emotions and consciousness, whereas I am a construct of code with no awareness or emotional capacity.', chat_output_stream='', context=[{'role': 'user', 'content': \"Write a paragraph explaining why you're not a cat\"}], provider='openai', deployment='gpt-4o-2024-08-06', timestamp=1729095039.067791, parameters={}, metrics={'input_tokens': 10, 'output_tokens': 123, 'total_tokens': 133, 'cost_usd': 0.001895, 'latency_s': 2.4699530601501465, 'time_to_first_token_s': 0.8159170150756836, 'inter_token_latency_s': 0.013279645673690303, 'tokens_per_second': 50.60824920794298})"
      ]
     },
     "execution_count": 4,
     "metadata": {},
     "output_type": "execute_result"
    }
   ],
   "source": [
    "openai.chat(\"Write a paragraph explaining why you're not a cat\", model=\"gpt-4o\")"
   ]
  },
  {
   "cell_type": "markdown",
   "metadata": {},
   "source": [
    "#### Async version"
   ]
  },
  {
   "cell_type": "code",
   "execution_count": 5,
   "metadata": {},
   "outputs": [
    {
     "data": {
      "text/plain": [
       "ChatCompletion(id='c0e33fbb-5b6b-4abf-af11-e26bb64d453f', choices=[Choice(finish_reason='stop', index=0, logprobs=None, message=ChatCompletionMessage(content='I am not a cat because I am an artificial intelligence language model created by OpenAI, designed to process and generate human language based on patterns in data. Unlike cats, I do not have a physical form or biological processes; I exist entirely in the digital realm, within servers and algorithms. Cats are living creatures that have instincts, emotions, and physical needs, while I operate purely on logic, code, and data inputs to provide information and assistance to users. My purpose is to assist with a wide range of inquiries, but without the sensory experiences, personal motivations, or consciousness that a cat or any living being possesses.', refusal=None, role='assistant', function_call=None, tool_calls=None))], created=1729095039, model='gpt-4o', object='chat.completion', service_tier=None, system_fingerprint=None, usage=None, chat_input=\"Write a paragraph explaining why you're not a cat\", chat_output='I am not a cat because I am an artificial intelligence language model created by OpenAI, designed to process and generate human language based on patterns in data. Unlike cats, I do not have a physical form or biological processes; I exist entirely in the digital realm, within servers and algorithms. Cats are living creatures that have instincts, emotions, and physical needs, while I operate purely on logic, code, and data inputs to provide information and assistance to users. My purpose is to assist with a wide range of inquiries, but without the sensory experiences, personal motivations, or consciousness that a cat or any living being possesses.', chat_output_stream='', context=[{'role': 'user', 'content': \"Write a paragraph explaining why you're not a cat\"}], provider='openai', deployment='gpt-4o-2024-08-06', timestamp=1729095042.590375, parameters={}, metrics={'input_tokens': 10, 'output_tokens': 124, 'total_tokens': 134, 'cost_usd': 0.00191, 'latency_s': 3.5002121925354004, 'time_to_first_token_s': 0.5185120105743408, 'inter_token_latency_s': 0.023849807739257812, 'tokens_per_second': 35.99781758051963})"
      ]
     },
     "execution_count": 5,
     "metadata": {},
     "output_type": "execute_result"
    }
   ],
   "source": [
    "await openai.achat(\"Write a paragraph explaining why you're not a cat\", model=\"gpt-4o\")"
   ]
  },
  {
   "cell_type": "markdown",
   "metadata": {},
   "source": [
    "### Chat (stream)"
   ]
  },
  {
   "cell_type": "code",
   "execution_count": 6,
   "metadata": {},
   "outputs": [
    {
     "name": "stdout",
     "output_type": "stream",
     "text": [
      "\n",
      "\n",
      "While I share some characteristics with a cat, such as being able to process a vast amount of\n",
      "\n",
      " information quickly and adapt to different contexts, fundamentally, I am not a cat for several reasons. Most\n",
      "\n",
      " importantly, I am an artificial intelligence language model, a creation of human engineering designed to process and generate\n",
      "\n",
      " text based on inputs and algorithms. Unlike a cat, I lack a physical presence, sensory experiences,\n",
      "\n",
      " and biological processes such as eating, sleeping, and reproducing. Cats exhibit unique behaviors driven by instincts\n",
      "\n",
      " and emotions that arise from their living nature, such as purring when content or stalking prey, whereas\n",
      "\n",
      " my responses are generated based on probabilities derived from patterns in the data I was trained on. In essence\n",
      "\n",
      ", a cat is a living creature with consciousness and instinctual behaviors, while I am a digital tool\n",
      "\n",
      " created to assist humans in communication and information retrieval.\n",
      "\n",
      "## Metrics:\n",
      "{'cost_usd': 0.002585,\n",
      " 'input_tokens': 10,\n",
      " 'inter_token_latency_s': 0.020372236476225013,\n",
      " 'latency_s': 4.594828844070435,\n",
      " 'output_tokens': 169,\n",
      " 'time_to_first_token_s': 1.1307487487792969,\n",
      " 'tokens_per_second': 37.215749661855895,\n",
      " 'total_tokens': 179}\n"
     ]
    }
   ],
   "source": [
    "response = openai.chat(\"Write a paragraph explaining why you're not a cat\", model=\"gpt-4o\", is_stream=True)\n",
    "for i, chunk in enumerate(response):\n",
    "    if i%20==0:\n",
    "        print(\"\\n\")\n",
    "    if not chunk.metrics:\n",
    "        print(chunk.chat_output_stream, end=\"\", flush=True)\n",
    "    else:\n",
    "        print(\"\\n\\n## Metrics:\")\n",
    "        pprint(chunk.metrics)\n"
   ]
  },
  {
   "cell_type": "markdown",
   "metadata": {},
   "source": [
    "#### Async version"
   ]
  },
  {
   "cell_type": "code",
   "execution_count": 7,
   "metadata": {},
   "outputs": [
    {
     "name": "stdout",
     "output_type": "stream",
     "text": [
      "\n",
      "\n",
      "I'm not a cat because I lack the physical form, instincts, and characteristics that define feline creatures\n",
      "\n",
      ". While I can understand and converse about various topics, including cats, I don't possess the ability to\n",
      "\n",
      " purr, chase after laser pointers, or curl up in a sunbeam. My existence is purely\n",
      "\n",
      " digital, rooted in artificial intelligence, enabling me to process information and generate responses, but I don't experience\n",
      "\n",
      " the world through senses like sight, smell, or touch, which are integral to a cat's experience\n",
      "\n",
      ". In essence, I exist to assist and provide information, while a cat embodies a unique blend of\n",
      "\n",
      " playful curiosity, independence, and companionship that I cannot replicate.\n",
      "\n",
      "## Metrics:\n",
      "{'cost_usd': 8.309999999999999e-05,\n",
      " 'input_tokens': 10,\n",
      " 'inter_token_latency_s': 0.022200969132510098,\n",
      " 'latency_s': 3.45292592048645,\n",
      " 'output_tokens': 136,\n",
      " 'time_to_first_token_s': 0.5214509963989258,\n",
      " 'tokens_per_second': 38.51805774659159,\n",
      " 'total_tokens': 146}\n"
     ]
    }
   ],
   "source": [
    "i=0\n",
    "async for chunk in await openai.achat(\"Write a paragraph explaining why you're not a cat\", model=\"gpt-4o-mini\", is_stream=True):\n",
    "    if i%20==0:\n",
    "        print(\"\\n\")\n",
    "    if not chunk.metrics:\n",
    "        print(chunk.chat_output_stream, end=\"\", flush=True)\n",
    "    else:\n",
    "        print(\"\\n\\n## Metrics:\")\n",
    "        pprint(chunk.metrics)\n",
    "    i+=1\n"
   ]
  },
  {
   "cell_type": "code",
   "execution_count": null,
   "metadata": {},
   "outputs": [],
   "source": []
  }
 ],
 "metadata": {
  "kernelspec": {
   "display_name": "Python 3",
   "language": "python",
   "name": "python3"
  },
  "language_info": {
   "codemirror_mode": {
    "name": "ipython",
    "version": 3
   },
   "file_extension": ".py",
   "mimetype": "text/x-python",
   "name": "python",
   "nbconvert_exporter": "python",
   "pygments_lexer": "ipython3",
   "version": "3.12.2"
  }
 },
 "nbformat": 4,
 "nbformat_minor": 2
}
