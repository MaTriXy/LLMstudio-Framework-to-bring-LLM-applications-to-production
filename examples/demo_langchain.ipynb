{
 "cells": [
  {
   "cell_type": "code",
   "execution_count": 1,
   "metadata": {},
   "outputs": [],
   "source": [
    "from langchain.callbacks.base import BaseCallbackHandler\n",
    "from langchain.schema import LLMResult\n",
    "\n",
    "class MyCustomHandler(BaseCallbackHandler):\n",
    "    def on_llm_new_token(self, token:str, **kwargs) -> None:\n",
    "        print(f\"Received streaming token {token}, kwargs:{kwargs}\")\n",
    "        \n",
    "    def on_llm_end(self, response: LLMResult, **kwargs) -> None:\n",
    "        print(f\"Received non-streaming response: {response}\")"
   ]
  },
  {
   "cell_type": "code",
   "execution_count": 2,
   "metadata": {},
   "outputs": [],
   "source": [
    "from typing import List\n",
    "from langchain_core.language_models.chat_models import BaseChatModel\n",
    "from langchain.schema.messages import BaseMessage, AIMessage, HumanMessage\n",
    "from langchain.schema.output import ChatResult, ChatGeneration\n",
    "from langchain_core.callbacks import Callbacks\n",
    "from llmstudio.llm import LLM\n",
    "from typing import Any, Optional\n",
    "from langchain.chat_models import ChatOpenAI\n",
    "from pydantic import BaseModel, Field\n",
    "\n",
    "class ChatLLMstudio(ChatOpenAI):\n",
    "    model_id: str\n",
    "    llm: LLM = Field(default=None)\n",
    "\n",
    "    def __init__(self, model_id: str, **kwargs):\n",
    "        super().__init__(model_id=model_id, **kwargs)\n",
    "        self.llm = LLM(model_id, **kwargs)\n",
    "    \n",
    "    @property\n",
    "    def _llm_type(self):\n",
    "        return \"LLMstudio\"\n",
    "\n",
    "    def _generate(self, messages: List[BaseMessage], **kwargs) -> ChatResult:\n",
    "        messages_dicts, _ = self._create_message_dicts(messages, [])\n",
    "        response = self.llm.chat(messages_dicts, **kwargs)\n",
    "        return self._create_chat_result(response)"
   ]
  },
  {
   "cell_type": "code",
   "execution_count": 3,
   "metadata": {},
   "outputs": [
    {
     "name": "stdout",
     "output_type": "stream",
     "text": [
      "Running Engine on localhost:8000\n",
      "Running Tracking on http://localhost:8080\n"
     ]
    }
   ],
   "source": [
    "gpt3 = ChatLLMstudio(model_id='openai/gpt-3.5-turbo', callbacks=[MyCustomHandler()])"
   ]
  },
  {
   "cell_type": "code",
   "execution_count": 4,
   "metadata": {},
   "outputs": [
    {
     "name": "stderr",
     "output_type": "stream",
     "text": [
      "INFO:     Started server process [18206]\n",
      "INFO:     Started server process [18206]\n",
      "INFO:     Waiting for application startup.\n",
      "INFO:     Waiting for application startup.\n",
      "INFO:     Application startup complete.\n",
      "INFO:     Application startup complete.\n",
      "INFO:     Uvicorn running on http://localhost:8000 (Press CTRL+C to quit)\n",
      "INFO:     Uvicorn running on http://localhost:8080 (Press CTRL+C to quit)\n"
     ]
    },
    {
     "name": "stderr",
     "output_type": "stream",
     "text": [
      "INFO:     Started server process [18619]\n"
     ]
    },
    {
     "name": "stderr",
     "output_type": "stream",
     "text": [
      "INFO:     Waiting for application startup.\n",
      "INFO:     Waiting for application startup.\n",
      "INFO:     Application startup complete.\n",
      "INFO:     Application startup complete.\n",
      "INFO:     Uvicorn running on http://localhost:8080 (Press CTRL+C to quit)\n",
      "INFO:     Uvicorn running on http://localhost:8000 (Press CTRL+C to quit)\n"
     ]
    },
    {
     "name": "stderr",
     "output_type": "stream",
     "text": [
      "INFO:     Started server process [18701]\n"
     ]
    },
    {
     "name": "stderr",
     "output_type": "stream",
     "text": [
      "INFO:     Application startup complete.\n",
      "INFO:     Application startup complete.\n",
      "INFO:     Uvicorn running on http://localhost:8000 (Press CTRL+C to quit)\n",
      "INFO:     Uvicorn running on http://localhost:8080 (Press CTRL+C to quit)\n"
     ]
    }
   ],
   "source": [
    "from langchain.tools import tool\n",
    "from langchain.agents import AgentType, initialize_agent\n",
    "\n",
    "@tool\n",
    "def get_departure(ticket_number: str):\n",
    "    \"\"\"Use this to fetch the departure time of a train\"\"\"\n",
    "    return \"12:00 AM\"\n",
    "\n",
    "@tool\n",
    "def cancel_ticket(ticket_number: str):\n",
    "    \"\"\"Use this to cancel a ticket\"\"\"\n",
    "    return \"Ticket cancelled\"\n",
    "\n",
    "@tool\n",
    "def buy_ticket(destination: str):\n",
    "    \"\"\"Use this to buy a ticket\"\"\"\n",
    "    return \"Bought ticket number 123456\"\n",
    "\n",
    "@tool\n",
    "def make_complaint(complaint: str):\n",
    "    \"\"\"Use this to forward a complaint to the complaint department\"\"\"\n",
    "    return \"Complaint forwarded. We appreciate your feedback.\"\n",
    "\n",
    "\n",
    "def assistant(question: str)->str:\n",
    "    \"\"\"YOUR CODE HERE\"\"\"\n",
    "    tools = [get_departure, cancel_ticket, buy_ticket, make_complaint]\n",
    "\n",
    "    #rebuild agent with new tools\n",
    "    agent_executor = initialize_agent(\n",
    "        tools, gpt3, agent=AgentType.OPENAI_MULTI_FUNCTIONS, handle_parsing_errors=\"Check your output and make sure it conforms!\", verbose = True, debug = True\n",
    "    )\n",
    "\n",
    "    response = agent_executor.invoke(\n",
    "        {\n",
    "            \"input\": question\n",
    "        }\n",
    "    )\n",
    "\n",
    "    return response"
   ]
  },
  {
   "cell_type": "code",
   "execution_count": 5,
   "metadata": {},
   "outputs": [
    {
     "name": "stdout",
     "output_type": "stream",
     "text": [
      "\n",
      "\n",
      "\u001b[1m> Entering new AgentExecutor chain...\u001b[0m\n",
      "INFO:     ::1:57185 - \"POST /api/tracking/logs HTTP/1.1\" 422 Unprocessable Entity\n",
      "INFO:     ::1:57181 - \"POST /api/engine/chat/openai HTTP/1.1\" 200 OK\n",
      "Received non-streaming response: generations=[[ChatGeneration(generation_info={'finish_reason': 'function_call', 'logprobs': None}, message=AIMessage(content='', additional_kwargs={'function_call': {'arguments': '{\"actions\":[{\"action_name\":\"get_departure\",\"action\":{\"ticket_number\":\"1234\"}}]}', 'name': 'tool_selection'}}))]] llm_output={'token_usage': None, 'model_name': 'gpt-3.5-turbo', 'system_fingerprint': None} run=None\n",
      "\u001b[32;1m\u001b[1;3m\n",
      "Invoking: `get_departure` with `{'ticket_number': '1234'}`\n",
      "\n",
      "\n",
      "\u001b[0m\u001b[36;1m\u001b[1;3m12:00 AM\u001b[0mINFO:     ::1:57185 - \"POST /api/tracking/logs HTTP/1.1\" 422 Unprocessable Entity\n",
      "INFO:     ::1:57186 - \"POST /api/engine/chat/openai HTTP/1.1\" 200 OK\n",
      "Received non-streaming response: generations=[[ChatGeneration(text='Your train with ticket number 1234 is scheduled to depart at 12:00 AM.', generation_info={'finish_reason': 'stop', 'logprobs': None}, message=AIMessage(content='Your train with ticket number 1234 is scheduled to depart at 12:00 AM.'))]] llm_output={'token_usage': None, 'model_name': 'gpt-3.5-turbo', 'system_fingerprint': None} run=None\n",
      "\u001b[32;1m\u001b[1;3mYour train with ticket number 1234 is scheduled to depart at 12:00 AM.\u001b[0m\n",
      "\n",
      "\u001b[1m> Finished chain.\u001b[0m\n"
     ]
    },
    {
     "data": {
      "text/plain": [
       "{'input': 'When does my train depart? My ticket number is 1234',\n",
       " 'output': 'Your train with ticket number 1234 is scheduled to depart at 12:00 AM.'}"
      ]
     },
     "execution_count": 5,
     "metadata": {},
     "output_type": "execute_result"
    }
   ],
   "source": [
    "assistant('When does my train depart? My ticket number is 1234')\n"
   ]
  }
 ],
 "metadata": {
  "kernelspec": {
   "display_name": "llmstudio",
   "language": "python",
   "name": "python3"
  },
  "language_info": {
   "codemirror_mode": {
    "name": "ipython",
    "version": 3
   },
   "file_extension": ".py",
   "mimetype": "text/x-python",
   "name": "python",
   "nbconvert_exporter": "python",
   "pygments_lexer": "ipython3",
   "version": "3.9.18"
  }
 },
 "nbformat": 4,
 "nbformat_minor": 2
}
