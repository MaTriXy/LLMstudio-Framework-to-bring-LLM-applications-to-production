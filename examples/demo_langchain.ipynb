{
 "cells": [
  {
   "cell_type": "code",
   "execution_count": 1,
   "metadata": {},
   "outputs": [],
   "source": [
    "from langchain.callbacks.base import BaseCallbackHandler\n",
    "from langchain.schema import LLMResult\n",
    "\n",
    "class MyCustomHandler(BaseCallbackHandler):\n",
    "    def on_llm_new_token(self, token:str, **kwargs) -> None:\n",
    "        print(f\"Received streaming token {token}, kwargs:{kwargs}\")\n",
    "        \n",
    "    def on_llm_end(self, response: LLMResult, **kwargs) -> None:\n",
    "        print(f\"Received non-streaming response: {response}\")"
   ]
  },
  {
   "cell_type": "code",
   "execution_count": 2,
   "metadata": {},
   "outputs": [
    {
     "name": "stdout",
     "output_type": "stream",
     "text": [
      "Running Engine on http://localhost:64493\n",
      "Running Tracking on http://localhost:64494\n"
     ]
    },
    {
     "name": "stderr",
     "output_type": "stream",
     "text": [
      "INFO:     Started server process [36057]\n",
      "INFO:     Started server process [36057]\n",
      "INFO:     Waiting for application startup.\n",
      "INFO:     Waiting for application startup.\n",
      "INFO:     Application startup complete.\n"
     ]
    },
    {
     "name": "stderr",
     "output_type": "stream",
     "text": [
      "INFO:     Application startup complete.\n",
      "INFO:     Uvicorn running on http://localhost:64493 (Press CTRL+C to quit)\n",
      "INFO:     Uvicorn running on http://localhost:64494 (Press CTRL+C to quit)\n"
     ]
    }
   ],
   "source": [
    "from llmstudio.llm.langchain import ChatLLMstudio"
   ]
  },
  {
   "cell_type": "code",
   "execution_count": 3,
   "metadata": {},
   "outputs": [],
   "source": [
    "gpt3 = ChatLLMstudio(model_id='openai/gpt-3.5-turbo', temperature=0)"
   ]
  },
  {
   "cell_type": "code",
   "execution_count": 4,
   "metadata": {},
   "outputs": [],
   "source": [
    "from langchain.tools import tool\n",
    "from langchain.agents import AgentType, initialize_agent\n",
    "\n",
    "@tool\n",
    "def get_departure(ticket_number: str):\n",
    "    \"\"\"Use this to fetch the departure time of a train\"\"\"\n",
    "    return \"12:00 AM\"\n",
    "\n",
    "@tool\n",
    "def cancel_ticket(ticket_number: str):\n",
    "    \"\"\"Use this to cancel a ticket\"\"\"\n",
    "    return \"Ticket cancelled\"\n",
    "\n",
    "@tool\n",
    "def buy_ticket(destination: str):\n",
    "    \"\"\"Use this to buy a ticket\"\"\"\n",
    "    return \"Bought ticket number 123456\"\n",
    "\n",
    "@tool\n",
    "def make_complaint(complaint: str):\n",
    "    \"\"\"Use this to forward a complaint to the complaint department\"\"\"\n",
    "    return \"Complaint forwarded. We appreciate your feedback.\"\n",
    "\n",
    "\n",
    "def assistant(question: str)->str:\n",
    "    \"\"\"YOUR CODE HERE\"\"\"\n",
    "    tools = [get_departure, cancel_ticket, buy_ticket, make_complaint]\n",
    "\n",
    "    #rebuild agent with new tools\n",
    "    agent_executor = initialize_agent(\n",
    "        tools, gpt3, agent=AgentType.OPENAI_MULTI_FUNCTIONS, handle_parsing_errors=\"Check your output and make sure it conforms!\", verbose = True, debug = True\n",
    "    )\n",
    "\n",
    "    response = agent_executor.invoke(\n",
    "        {\n",
    "            \"input\": question\n",
    "        }\n",
    "    )\n",
    "\n",
    "    return response"
   ]
  },
  {
   "cell_type": "code",
   "execution_count": 5,
   "metadata": {},
   "outputs": [
    {
     "name": "stdout",
     "output_type": "stream",
     "text": [
      "\n",
      "\n",
      "\u001b[1m> Entering new AgentExecutor chain...\u001b[0m\n",
      "{'id': '68f7295d-73c0-4a81-8127-e7872daa962c', 'choices': [{'finish_reason': 'function_call', 'index': 0, 'logprobs': None, 'message': {'content': None, 'role': 'assistant', 'function_call': {'arguments': '{\"actions\":[{\"action_name\":\"get_departure\",\"action\":{\"ticket_number\":\"1234\"}}]}', 'name': 'tool_selection'}, 'tool_calls': None}}], 'created': 1709557781, 'model': 'gpt-3.5-turbo', 'object': 'chat.completion', 'system_fingerprint': None, 'usage': None, 'session_id': None, 'chat_input': 'When does my train depart? My ticket number is 1234', 'chat_output': '{\"actions\":[{\"action_name\":\"get_departure\",\"action\":{\"ticket_number\":\"1234\"}}]}', 'context': [{'role': 'system', 'content': 'You are a helpful AI assistant.'}, {'role': 'user', 'content': 'When does my train depart? My ticket number is 1234'}], 'provider': 'openai', 'timestamp': 1709557782.38111, 'parameters': {'temperature': 0.0, 'max_tokens': None, 'top_p': None, 'frequency_penalty': 0, 'presence_penalty': 0}, 'metrics': {'input_tokens': 19, 'output_tokens': 19, 'total_tokens': 38, 'cost': 6.649999999999999e-05, 'latency': 1.4559521675109863, 'time_to_first_token': 1.0080220699310303, 'inter_token_latency': 0.02237579822540283, 'tokens_per_second': 14.423550765338957}}\n",
      "INFO:     ::1:64502 - \"POST /api/tracking/logs HTTP/1.1\" 422 Unprocessable Entity\n",
      "INFO:     ::1:64499 - \"POST /api/engine/chat/openai HTTP/1.1\" 200 OK\n",
      "\u001b[32;1m\u001b[1;3m\n",
      "Invoking: `get_departure` with `{'ticket_number': '1234'}`\n",
      "\n",
      "\n",
      "\u001b[0m\u001b[36;1m\u001b[1;3m12:00 AM\u001b[0m{'id': '5ab89aed-efca-44ec-8b4a-c3b26ed445d8', 'choices': [{'finish_reason': 'stop', 'index': 0, 'logprobs': None, 'message': {'content': 'Your train departs at 12:00 AM.', 'role': 'assistant', 'function_call': None, 'tool_calls': None}}], 'created': 1709557783, 'model': 'gpt-3.5-turbo', 'object': 'chat.completion', 'system_fingerprint': None, 'usage': None, 'session_id': None, 'chat_input': '12:00 AM', 'chat_output': 'Your train departs at 12:00 AM.', 'context': [{'role': 'system', 'content': 'You are a helpful AI assistant.'}, {'role': 'user', 'content': 'When does my train depart? My ticket number is 1234'}, {'role': 'assistant', 'content': None, 'function_call': {'arguments': '{\"actions\":[{\"action_name\":\"get_departure\",\"action\":{\"ticket_number\":\"1234\"}}]}', 'name': 'tool_selection'}}, {'role': 'function', 'content': '12:00 AM', 'name': 'get_departure'}], 'provider': 'openai', 'timestamp': 1709557784.1903481, 'parameters': {'temperature': 0.0, 'max_tokens': None, 'top_p': None, 'frequency_penalty': 0, 'presence_penalty': 0}, 'metrics': {'input_tokens': 22, 'output_tokens': 11, 'total_tokens': 33, 'cost': 5.5e-05, 'latency': 0.985443115234375, 'time_to_first_token': 0.7744629383087158, 'inter_token_latency': 0.017212589581807453, 'tokens_per_second': 13.192034932334087}}\n",
      "INFO:     ::1:64502 - \"POST /api/tracking/logs HTTP/1.1\" 422 Unprocessable Entity\n",
      "INFO:     ::1:64503 - \"POST /api/engine/chat/openai HTTP/1.1\" 200 OK\n",
      "\u001b[32;1m\u001b[1;3mYour train departs at 12:00 AM.\u001b[0m\n",
      "\n",
      "\u001b[1m> Finished chain.\u001b[0m\n"
     ]
    },
    {
     "data": {
      "text/plain": [
       "{'input': 'When does my train depart? My ticket number is 1234',\n",
       " 'output': 'Your train departs at 12:00 AM.'}"
      ]
     },
     "execution_count": 5,
     "metadata": {},
     "output_type": "execute_result"
    }
   ],
   "source": [
    "assistant('When does my train depart? My ticket number is 1234')\n"
   ]
  }
 ],
 "metadata": {
  "kernelspec": {
   "display_name": "llmstudio",
   "language": "python",
   "name": "python3"
  },
  "language_info": {
   "codemirror_mode": {
    "name": "ipython",
    "version": 3
   },
   "file_extension": ".py",
   "mimetype": "text/x-python",
   "name": "python",
   "nbconvert_exporter": "python",
   "pygments_lexer": "ipython3",
   "version": "3.9.18"
  }
 },
 "nbformat": 4,
 "nbformat_minor": 2
}
