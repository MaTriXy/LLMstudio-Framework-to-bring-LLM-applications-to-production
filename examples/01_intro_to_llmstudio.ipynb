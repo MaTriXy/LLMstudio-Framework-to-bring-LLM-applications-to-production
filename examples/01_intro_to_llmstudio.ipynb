{
 "cells": [
  {
   "cell_type": "markdown",
   "metadata": {},
   "source": [
    "# Intro to LLMstudio\n"
   ]
  },
  {
   "cell_type": "markdown",
   "metadata": {},
   "source": [
    "### Import clients\n"
   ]
  },
  {
   "cell_type": "code",
   "execution_count": 1,
   "metadata": {},
   "outputs": [],
   "source": [
    "from llmstudio import LLM"
   ]
  },
  {
   "cell_type": "code",
   "execution_count": 2,
   "metadata": {},
   "outputs": [
    {
     "name": "stdout",
     "output_type": "stream",
     "text": [
      "Running LLMstudio Engine on http://localhost:50001 Running LLMstudio Tracking on http://localhost:50002 \n",
      "\n"
     ]
    }
   ],
   "source": [
    "# You can set OPENAI_API_KEY and ANTHROPIC_API_KEY on .env file\n",
    "\n",
    "claude2 = LLM(\"anthropic/claude-2.1\") # or you can pass api_key as an argument here\n",
    "gpt4 = LLM(\"openai/gpt-4\")\n",
    "gpt3 = LLM(\"openai/gpt-3.5-turbo\")"
   ]
  },
  {
   "cell_type": "markdown",
   "metadata": {},
   "source": [
    "### Chat (non-stream)"
   ]
  },
  {
   "cell_type": "code",
   "execution_count": 3,
   "metadata": {},
   "outputs": [
    {
     "data": {
      "text/plain": [
       "ChatCompletion(id='9faa33e3-cda0-4d23-9217-c82ff7325b94', choices=[Choice(finish_reason='stop', index=0, logprobs=None, message=ChatCompletionMessage(content=\"I am an artificial intelligence called OpenAI. I don't have a personal name because I am not a human.\", role='assistant', function_call=None, tool_calls=None))], created=1718623278, model='gpt-4', object='chat.completion', system_fingerprint=None, usage=None, session_id=None, chat_input=\"What's your name\", chat_output=\"I am an artificial intelligence called OpenAI. I don't have a personal name because I am not a human.\", context=[{'role': 'user', 'content': \"What's your name\"}], provider='openai', timestamp=1718623280.9204, parameters={'temperature': None, 'max_tokens': None, 'top_p': None, 'frequency_penalty': 0, 'presence_penalty': 0}, metrics={'input_tokens': 4, 'output_tokens': 23, 'total_tokens': 27, 'cost_usd': 0.0015, 'latency_s': 2.6993088722229004, 'time_to_first_token_s': 0.9924077987670898, 'inter_token_latency_s': 0.0711073378721873, 'tokens_per_second': 9.26162998879499})"
      ]
     },
     "execution_count": 3,
     "metadata": {},
     "output_type": "execute_result"
    }
   ],
   "source": [
    "gpt4.chat(\"What's your name\")"
   ]
  },
  {
   "cell_type": "markdown",
   "metadata": {},
   "source": [
    "#### Async version"
   ]
  },
  {
   "cell_type": "code",
   "execution_count": 4,
   "metadata": {},
   "outputs": [
    {
     "data": {
      "text/plain": [
       "ChatCompletion(id='35798ca1-5826-4e36-bb57-19deb4c5a38e', choices=[Choice(finish_reason='stop', index=0, logprobs=None, message=ChatCompletionMessage(content=\"As an artificial intelligence, I don't have a personal name. I am OpenAI's language model known as GPT-3.\", role='assistant', function_call=None, tool_calls=None))], created=1718623408, model='gpt-4', object='chat.completion', system_fingerprint=None, usage=None, session_id=None, chat_input=\"What's your name\", chat_output=\"As an artificial intelligence, I don't have a personal name. I am OpenAI's language model known as GPT-3.\", context=[{'role': 'user', 'content': \"What's your name\"}], provider='openai', timestamp=1718623410.112397, parameters={'temperature': 1, 'max_tokens': 2048, 'top_p': 1, 'frequency_penalty': 0, 'presence_penalty': 0}, metrics={'input_tokens': 4, 'output_tokens': 27, 'total_tokens': 31, 'cost_usd': 0.0017400000000000002, 'latency_s': 1.996330976486206, 'time_to_first_token_s': 0.7981808185577393, 'inter_token_latency_s': 0.04276068721498762, 'tokens_per_second': 14.52664930894558})"
      ]
     },
     "execution_count": 4,
     "metadata": {},
     "output_type": "execute_result"
    }
   ],
   "source": [
    "await gpt4.async_chat(\"What's your name\")"
   ]
  },
  {
   "cell_type": "markdown",
   "metadata": {},
   "source": [
    "### Chat (stream)"
   ]
  },
  {
   "cell_type": "code",
   "execution_count": 6,
   "metadata": {},
   "outputs": [
    {
     "name": "stdout",
     "output_type": "stream",
     "text": [
      "Space is vast and mysterious, holding endless possibilities and uncharted territories. It is a vast expanse that stretches beyond our wildest imagination and comprehension. With billions of galaxies, each comprised of billions of stars, it is a place where wonders and mysteries reside. From the birth of stars to the formation of black holes, space has been a subject of fascination for scientists, philosophers, and dreamers alike. Moreover, space holds the potential for extraterrestrial life, as our search for habitable planets continues, fueling our curiosity and desire to unveil the secrets of the universe."
     ]
    }
   ],
   "source": [
    "response = gpt3.chat(\"Write a paragfraph about space\", is_stream=True)\n",
    "for chunk in response:\n",
    "    print(chunk, end=\"\", flush=True)"
   ]
  },
  {
   "cell_type": "markdown",
   "metadata": {},
   "source": [
    "#### Async version"
   ]
  },
  {
   "cell_type": "code",
   "execution_count": 10,
   "metadata": {},
   "outputs": [
    {
     "name": "stdout",
     "output_type": "stream",
     "text": [
      " Hi back!"
     ]
    }
   ],
   "source": [
    "async for chunk in await claude2.async_chat(\"Say hi back\", is_stream=True):\n",
    "    print(chunk, end=\"\", flush=True)"
   ]
  }
 ],
 "metadata": {
  "kernelspec": {
   "display_name": "Python 3",
   "language": "python",
   "name": "python3"
  },
  "language_info": {
   "codemirror_mode": {
    "name": "ipython",
    "version": 3
   },
   "file_extension": ".py",
   "mimetype": "text/x-python",
   "name": "python",
   "nbconvert_exporter": "python",
   "pygments_lexer": "ipython3",
   "version": "3.11.9"
  }
 },
 "nbformat": 4,
 "nbformat_minor": 2
}
