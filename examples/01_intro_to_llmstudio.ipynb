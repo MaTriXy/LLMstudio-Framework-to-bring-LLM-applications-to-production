{
 "cells": [
  {
   "cell_type": "markdown",
   "metadata": {},
   "source": [
    "# Intro to LLMstudio\n"
   ]
  },
  {
   "cell_type": "code",
   "execution_count": 1,
   "metadata": {},
   "outputs": [],
   "source": [
    "from llmstudio import LLM\n",
    "from pprint import pprint"
   ]
  },
  {
   "cell_type": "code",
   "execution_count": 2,
   "metadata": {},
   "outputs": [],
   "source": [
    "# You can set OPENAI_API_KEY and ANTHROPIC_API_KEY on .env file\n",
    "\n",
    "openai = LLM(\"openai\")\n"
   ]
  },
  {
   "cell_type": "markdown",
   "metadata": {},
   "source": [
    "### Chat (non-stream)"
   ]
  },
  {
   "cell_type": "code",
   "execution_count": 3,
   "metadata": {},
   "outputs": [
    {
     "data": {
      "text/plain": [
       "ChatCompletion(id='47c45235-3cba-498a-9bfa-255c3f1b829a', choices=[Choice(finish_reason='stop', index=0, logprobs=None, message=ChatCompletionMessage(content='I’m called Assistant. How can I help you today?', refusal=None, role='assistant', function_call=None, tool_calls=None))], created=1729090941, model='gpt-4o', object='chat.completion', service_tier=None, system_fingerprint=None, usage=None, chat_input=\"What's your name\", chat_output='I’m called Assistant. How can I help you today?', chat_output_stream='', context=[{'role': 'user', 'content': \"What's your name\"}], provider='openai', deployment='gpt-4o-2024-08-06', timestamp=1729090942.350497, parameters={}, metrics={'input_tokens': 4, 'output_tokens': 12, 'total_tokens': 16, 'cost_usd': 0.0002, 'latency_s': 1.0681071281433105, 'time_to_first_token_s': 0.911978006362915, 'inter_token_latency_s': 0.011577862959641676, 'tokens_per_second': 13.107299475040659})"
      ]
     },
     "execution_count": 3,
     "metadata": {},
     "output_type": "execute_result"
    }
   ],
   "source": [
    "openai.chat(\"What's your name\", model=\"gpt-4o\")"
   ]
  },
  {
   "cell_type": "markdown",
   "metadata": {},
   "source": [
    "#### Async version"
   ]
  },
  {
   "cell_type": "code",
   "execution_count": 4,
   "metadata": {},
   "outputs": [
    {
     "data": {
      "text/plain": [
       "ChatCompletion(id='65b6f534-3aea-4361-995a-822628ff7950', choices=[Choice(finish_reason='stop', index=0, logprobs=None, message=ChatCompletionMessage(content=\"I'm called Assistant or ChatGPT. How can I help you today?\", refusal=None, role='assistant', function_call=None, tool_calls=None))], created=1729090942, model='gpt-4o', object='chat.completion', service_tier=None, system_fingerprint=None, usage=None, chat_input=\"What's your name\", chat_output=\"I'm called Assistant or ChatGPT. How can I help you today?\", chat_output_stream='', context=[{'role': 'user', 'content': \"What's your name\"}], provider='openai', deployment='gpt-4o-2024-08-06', timestamp=1729090943.4086301, parameters={}, metrics={'input_tokens': 4, 'output_tokens': 16, 'total_tokens': 20, 'cost_usd': 0.00026000000000000003, 'latency_s': 1.0519328117370605, 'time_to_first_token_s': 0.9430949687957764, 'inter_token_latency_s': 0.007242250442504883, 'tokens_per_second': 15.21009690113111})"
      ]
     },
     "execution_count": 4,
     "metadata": {},
     "output_type": "execute_result"
    }
   ],
   "source": [
    "await openai.achat(\"What's your name\", model=\"gpt-4o\")"
   ]
  },
  {
   "cell_type": "markdown",
   "metadata": {},
   "source": [
    "### Chat (stream)"
   ]
  },
  {
   "cell_type": "code",
   "execution_count": 5,
   "metadata": {},
   "outputs": [
    {
     "name": "stdout",
     "output_type": "stream",
     "text": [
      "\n",
      "\n",
      "Space, an immense and enigmatic expanse beyond Earth's atmosphere, captivates the imagination with its bound\n",
      "\n",
      "less mysteries and wonders. It holds stars, planets, galaxies, and countless celestial phenomena that both intrigue\n",
      "\n",
      " and inspire humanity. The vastness of space is punctuated by brilliant constellations, swirling neb\n",
      "\n",
      "ulae, and the remnants of ancient supernovae, offering clues to the origins of the universe\n",
      "\n",
      ". Exploration through telescopes and spacecraft expands our understanding, revealing the intricate dance of cosmic bodies and the\n",
      "\n",
      " potential for life beyond our planet. Space challenges us to push technological boundaries and ponder profound questions about our\n",
      "\n",
      " place in the cosmos, making it an endless frontier of discovery and curiosity.\n",
      "\n",
      "## Metrics:\n",
      "{'cost_usd': 0.002095,\n",
      " 'input_tokens': 8,\n",
      " 'inter_token_latency_s': 0.018547398955733686,\n",
      " 'latency_s': 3.2096359729766846,\n",
      " 'output_tokens': 137,\n",
      " 'time_to_first_token_s': 0.7052650451660156,\n",
      " 'tokens_per_second': 42.37240644890664,\n",
      " 'total_tokens': 145}\n"
     ]
    }
   ],
   "source": [
    "response = openai.chat(\"Write a paragfraph about space\", model=\"gpt-4o\", is_stream=True)\n",
    "for i, chunk in enumerate(response):\n",
    "    if i%20==0:\n",
    "        print(\"\\n\")\n",
    "    if not chunk.metrics:\n",
    "        print(chunk.chat_output_stream, end=\"\", flush=True)\n",
    "    else:\n",
    "        print(\"\\n\\n## Metrics:\")\n",
    "        pprint(chunk.metrics)\n"
   ]
  },
  {
   "cell_type": "markdown",
   "metadata": {},
   "source": [
    "#### Async version"
   ]
  },
  {
   "cell_type": "code",
   "execution_count": 6,
   "metadata": {},
   "outputs": [
    {
     "name": "stdout",
     "output_type": "stream",
     "text": [
      "\n",
      "\n",
      "Space, the vast and seemingly infinite expanse beyond our planet, captivates the imagination and fuels\n",
      "\n",
      " human curiosity. It is a realm of celestial wonders, from the swirling galaxies and shimmering stars to the\n",
      "\n",
      " enigmatic black holes and majestic nebulae. In this cosmic backdrop, the laws of physics reign supreme\n",
      "\n",
      ", governing the motion of planets and the life cycles of stars. Space not only challenges our understanding of\n",
      "\n",
      " the universe but also invites exploration, as humanity pushes the boundaries of technology to uncover its secrets. As\n",
      "\n",
      " we gaze at the night sky, we are reminded of our place in the cosmos and the endless possibilities\n",
      "\n",
      " that lie beyond, beckoning us to explore and discover the mysteries of the universe.\n",
      "\n",
      "## Metrics:\n",
      "{'cost_usd': 8.46e-05,\n",
      " 'input_tokens': 8,\n",
      " 'inter_token_latency_s': 0.0063348164523605015,\n",
      " 'latency_s': 2.652230739593506,\n",
      " 'output_tokens': 139,\n",
      " 'time_to_first_token_s': 1.7840969562530518,\n",
      " 'tokens_per_second': 52.031672033614456,\n",
      " 'total_tokens': 147}\n"
     ]
    },
    {
     "ename": "",
     "evalue": "",
     "output_type": "error",
     "traceback": [
      "\u001b[1;31mThe Kernel crashed while executing code in the current cell or a previous cell. \n",
      "\u001b[1;31mPlease review the code in the cell(s) to identify a possible cause of the failure. \n",
      "\u001b[1;31mClick <a href='https://aka.ms/vscodeJupyterKernelCrash'>here</a> for more info. \n",
      "\u001b[1;31mView Jupyter <a href='command:jupyter.viewOutput'>log</a> for further details."
     ]
    }
   ],
   "source": [
    "i=0\n",
    "async for chunk in await openai.achat(\"Write a paragfraph about space\", model=\"gpt-4o-mini\", is_stream=True):\n",
    "    if i%20==0:\n",
    "        print(\"\\n\")\n",
    "    if not chunk.metrics:\n",
    "        print(chunk.chat_output_stream, end=\"\", flush=True)\n",
    "    else:\n",
    "        print(\"\\n\\n## Metrics:\")\n",
    "        pprint(chunk.metrics)\n",
    "    i+=1\n"
   ]
  }
 ],
 "metadata": {
  "kernelspec": {
   "display_name": "Python 3",
   "language": "python",
   "name": "python3"
  },
  "language_info": {
   "codemirror_mode": {
    "name": "ipython",
    "version": 3
   },
   "file_extension": ".py",
   "mimetype": "text/x-python",
   "name": "python",
   "nbconvert_exporter": "python",
   "pygments_lexer": "ipython3",
   "version": "3.12.2"
  }
 },
 "nbformat": 4,
 "nbformat_minor": 2
}
