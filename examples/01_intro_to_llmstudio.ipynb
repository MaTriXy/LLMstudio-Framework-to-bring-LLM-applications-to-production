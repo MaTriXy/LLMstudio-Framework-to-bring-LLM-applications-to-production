{
 "cells": [
  {
   "cell_type": "markdown",
   "metadata": {},
   "source": [
    "# Intro to LLMstudio\n"
   ]
  },
  {
   "cell_type": "code",
   "execution_count": 1,
   "metadata": {},
   "outputs": [],
   "source": [
    "from llmstudio.providers import LLM\n",
    "from pprint import pprint"
   ]
  },
  {
   "cell_type": "code",
   "execution_count": 2,
   "metadata": {},
   "outputs": [],
   "source": [
    "# You can set OPENAI_API_KEY and ANTHROPIC_API_KEY on .env file\n",
    "\n",
    "openai = LLM(\"openai\")\n"
   ]
  },
  {
   "cell_type": "markdown",
   "metadata": {},
   "source": [
    "### Chat (non-stream)"
   ]
  },
  {
   "cell_type": "code",
   "execution_count": 3,
   "metadata": {},
   "outputs": [
    {
     "data": {
      "text/plain": [
       "ChatCompletion(id='ec40a65d-77f0-43f3-b78e-510c362a8b65', choices=[Choice(finish_reason='stop', index=0, logprobs=None, message=ChatCompletionMessage(content=\"I'm called Assistant. How can I assist you today?\", refusal=None, role='assistant', function_call=None, tool_calls=None))], created=1729179436, model='gpt-4o', object='chat.completion', service_tier=None, system_fingerprint=None, usage=None, chat_input=\"What's your name\", chat_output=\"I'm called Assistant. How can I assist you today?\", chat_output_stream='', context=[{'role': 'user', 'content': \"What's your name\"}], provider='openai', deployment='gpt-4o-2024-08-06', timestamp=1729179437.0009851, parameters={}, metrics={'input_tokens': 4, 'output_tokens': 12, 'total_tokens': 16, 'cost_usd': 0.0002, 'latency_s': 0.8632550239562988, 'time_to_first_token_s': 0.7578170299530029, 'inter_token_latency_s': 0.007991174856821695, 'tokens_per_second': 15.059281022682017})"
      ]
     },
     "execution_count": 3,
     "metadata": {},
     "output_type": "execute_result"
    }
   ],
   "source": [
    "openai.chat(\"What's your name\", model=\"gpt-4o\")"
   ]
  },
  {
   "cell_type": "markdown",
   "metadata": {},
   "source": [
    "#### Async version"
   ]
  },
  {
   "cell_type": "code",
   "execution_count": 4,
   "metadata": {},
   "outputs": [],
   "source": [
    "await openai.achat(\"What's your name\", model=\"gpt-4o\")"
   ]
  },
  {
   "cell_type": "markdown",
   "metadata": {},
   "source": [
    "### Chat (stream)"
   ]
  },
  {
   "cell_type": "code",
   "execution_count": 5,
   "metadata": {},
   "outputs": [
    {
     "name": "stdout",
     "output_type": "stream",
     "text": [
      "\n",
      "\n",
      "Space, the vast expanse beyond Earth's atmosphere, captivates the human imagination with its infinite possibilities\n",
      "\n",
      " and mysteries. It is a realm where celestial bodies such as planets, stars, comets, and\n",
      "\n",
      " galaxies reside, each offering a unique insight into the origins and evolution of the universe. Space exploration has\n",
      "\n",
      " propelled technological advancements and fostered international collaboration as scientists and engineers strive to unravel the secrets of cosmic phenomena\n",
      "\n",
      " like black holes, dark matter, and the potential for extraterrestrial life. This boundless frontier continues\n",
      "\n",
      " to inspire wonder, pushing the boundaries of human knowledge and ambition as we seek to understand our place in\n",
      "\n",
      " the cosmos and the potential for future habitation beyond our home planet. With each mission and discovery, space\n",
      "\n",
      " challenges and expands our perceptions, fueling the quest for discovery and innovation.\n",
      "\n",
      "## Metrics:\n",
      "{'cost_usd': 0.0024100000000000002,\n",
      " 'input_tokens': 8,\n",
      " 'inter_token_latency_s': 0.011506473863279664,\n",
      " 'latency_s': 2.5703747272491455,\n",
      " 'output_tokens': 158,\n",
      " 'time_to_first_token_s': 0.7979397773742676,\n",
      " 'tokens_per_second': 60.302491444849906,\n",
      " 'total_tokens': 166}\n"
     ]
    }
   ],
   "source": [
    "response = openai.chat(\"Write a paragfraph about space\", model=\"gpt-4o\", is_stream=True)\n",
    "for i, chunk in enumerate(response):\n",
    "    if i%20==0:\n",
    "        print(\"\\n\")\n",
    "    if not chunk.metrics:\n",
    "        print(chunk.chat_output_stream, end=\"\", flush=True)\n",
    "    else:\n",
    "        print(\"\\n\\n## Metrics:\")\n",
    "        pprint(chunk.metrics)\n"
   ]
  },
  {
   "cell_type": "markdown",
   "metadata": {},
   "source": [
    "#### Async version"
   ]
  },
  {
   "cell_type": "code",
   "execution_count": 6,
   "metadata": {},
   "outputs": [
    {
     "name": "stdout",
     "output_type": "stream",
     "text": [
      "\n",
      "\n",
      "Space, the vast and seemingly infinite expanse that extends beyond our planet, captivates the imagination\n",
      "\n",
      " and fuels our curiosity about the universe. It is a realm where celestial bodies like stars, planets,\n",
      "\n",
      " and galaxies interact through complex gravitational forces, giving rise to phenomena such as black holes, supernovae\n",
      "\n",
      ", and cosmic radiation. The sheer scale of space is mind-boggling—vast distances measured in\n",
      "\n",
      " light-years and the potential for countless worlds yet to be discovered. As humanity ventures further into this un\n",
      "\n",
      "charted territory with missions to distant planets and explorations of exoplanets, we grapple with fundamental questions\n",
      "\n",
      " about our place in the cosmos and the possibility of life beyond Earth. Each new discovery adds to our\n",
      "\n",
      " understanding of the origin and evolution of the universe, inspiring dreams of what lies beyond the final frontier.\n",
      "\n",
      "\n",
      "\n",
      "## Metrics:\n",
      "{'cost_usd': 9.839999999999999e-05,\n",
      " 'input_tokens': 8,\n",
      " 'inter_token_latency_s': 0.014622557163238525,\n",
      " 'latency_s': 2.8971738815307617,\n",
      " 'output_tokens': 162,\n",
      " 'time_to_first_token_s': 0.5567238330841064,\n",
      " 'tokens_per_second': 55.57139701774939,\n",
      " 'total_tokens': 170}\n"
     ]
    }
   ],
   "source": [
    "i=0\n",
    "async for chunk in await openai.achat(\"Write a paragfraph about space\", model=\"gpt-4o-mini\", is_stream=True):\n",
    "    if i%20==0:\n",
    "        print(\"\\n\")\n",
    "    if not chunk.metrics:\n",
    "        print(chunk.chat_output_stream, end=\"\", flush=True)\n",
    "    else:\n",
    "        print(\"\\n\\n## Metrics:\")\n",
    "        pprint(chunk.metrics)\n",
    "    i+=1\n"
   ]
  }
 ],
 "metadata": {
  "kernelspec": {
   "display_name": "Python 3",
   "language": "python",
   "name": "python3"
  },
  "language_info": {
   "codemirror_mode": {
    "name": "ipython",
    "version": 3
   },
   "file_extension": ".py",
   "mimetype": "text/x-python",
   "name": "python",
   "nbconvert_exporter": "python",
   "pygments_lexer": "ipython3",
   "version": "3.12.2"
  }
 },
 "nbformat": 4,
 "nbformat_minor": 2
}
