{
 "cells": [
  {
   "cell_type": "markdown",
   "metadata": {},
   "source": [
    "# Intro to LLMstudio\n",
    "In this tutorial you'll be base version of LLMstudio.\n",
    "\n",
    "You'll learn:\n",
    "1. How to connect to any provider available (VertexAI, OpenAI, etc.)\n",
    "2. Make sync and async calls both with and without streaming\n",
    "3. See the metrics and logs\n",
    "\n",
    "First things first:\n",
    "* run `pip install llmstudio`\n",
    "* update your .env file with `GOOGLE_API_KEY` or `OPENAI_API_KEY`\n"
   ]
  },
  {
   "cell_type": "markdown",
   "metadata": {},
   "source": [
    "## Start proxy and tracking servers\n",
    "This step is to set the proxy and tracking servers.\n",
    "You can opt out to start such servers (see `llmstudio-core` for the lightest version)"
   ]
  },
  {
   "cell_type": "code",
   "execution_count": 1,
   "metadata": {},
   "outputs": [],
   "source": [
    "from pprint import pprint"
   ]
  },
  {
   "cell_type": "code",
   "execution_count": 2,
   "metadata": {},
   "outputs": [],
   "source": [
    "from llmstudio.providers import LLM\n",
    "\n",
    "# You can set OPENAI_API_KEY and GOOGLE_API_KEY on .env file or pass as api_key on LLM\n",
    "\n",
    "vertexai = LLM(\"vertexai\")\n",
    "\n",
    "openai = LLM(\"openai\")\n"
   ]
  },
  {
   "cell_type": "markdown",
   "metadata": {},
   "source": [
    "# VertexAI\n",
    "### Chat (non-stream)"
   ]
  },
  {
   "cell_type": "code",
   "execution_count": 3,
   "metadata": {},
   "outputs": [
    {
     "name": "stdout",
     "output_type": "stream",
     "text": [
      "I am a large language model, so I don't have a name like a person does. However, you are welcome to call me anything you like! 😊 \n",
      "\n",
      "How can I help you today? \n",
      "\n",
      "{'cost_usd': 0.00044239999999999997,\n",
      " 'input_tokens': 4,\n",
      " 'inter_token_latency_s': 0.10393214225769043,\n",
      " 'latency_s': 2.048276901245117,\n",
      " 'output_tokens': 42,\n",
      " 'time_to_first_token_s': 1.28267502784729,\n",
      " 'tokens_per_second': 3.9057219241875543,\n",
      " 'total_tokens': 46}\n"
     ]
    }
   ],
   "source": [
    "response = vertexai.chat(\"What's your name\", model=\"gemini-1.5-pro-latest\")\n",
    "print(response.chat_output)\n",
    "pprint(response.metrics)"
   ]
  },
  {
   "cell_type": "markdown",
   "metadata": {},
   "source": [
    "### Chat Async (non-stream)"
   ]
  },
  {
   "cell_type": "code",
   "execution_count": 4,
   "metadata": {},
   "outputs": [],
   "source": [
    "await vertexai.achat(\"What's your name\", model=\"gemini-1.5-pro-latest\")"
   ]
  },
  {
   "cell_type": "markdown",
   "metadata": {},
   "source": [
    "### Chat (stream)"
   ]
  },
  {
   "cell_type": "code",
   "execution_count": 5,
   "metadata": {},
   "outputs": [
    {
     "name": "stdout",
     "output_type": "stream",
     "text": [
      "\n",
      "\n",
      "Space, an endless expanse of darkness dotted with the brilliant light of celestial wonders, has\n",
      "\n",
      " captivated humanity for millennia. It is a realm of unimaginable scale, where galaxies spiral like cosmic dancers and stars ignite, burn brightly, and fade away.  From our small planet, we gaze up in awe at the Milky Way, a band\n",
      "\n",
      " of light composed of billions of stars, and strive to comprehend the mysteries of black holes, nebulas, and the very origins of the universe itself. Space exploration, driven by our insatiable curiosity, continues to reveal breathtaking beauty and challenge our understanding of the cosmos, reminding us of the vastness that surrounds us and the infinite possibilities that lie beyond. \n",
      "\n",
      "\n",
      "\n",
      "\n",
      "## Metrics:\n",
      "{'cost_usd': 0.0014833,\n",
      " 'input_tokens': 8,\n",
      " 'inter_token_latency_s': 0.2325666384263472,\n",
      " 'latency_s': 3.7367289066314697,\n",
      " 'output_tokens': 141,\n",
      " 'time_to_first_token_s': 1.1776368618011475,\n",
      " 'tokens_per_second': 3.21136488619871,\n",
      " 'total_tokens': 149}\n"
     ]
    }
   ],
   "source": [
    "response = vertexai.chat(\"Write a paragfraph about space\", model=\"gemini-1.5-pro-latest\", is_stream=True)\n",
    "for i, chunk in enumerate(response):\n",
    "    if i%2==0:\n",
    "        print(\"\\n\")\n",
    "    if not chunk.metrics:\n",
    "        print(chunk.chat_output_stream, end=\"\", flush=True)\n",
    "    else:\n",
    "        print(\"\\n\\n## Metrics:\")\n",
    "        pprint(chunk.metrics)\n"
   ]
  },
  {
   "cell_type": "markdown",
   "metadata": {},
   "source": [
    "### Chat Async (stream)"
   ]
  },
  {
   "cell_type": "code",
   "execution_count": 6,
   "metadata": {},
   "outputs": [
    {
     "name": "stdout",
     "output_type": "stream",
     "text": [
      "Space, an infinite canvas of darkness sprinkled with the brilliance of celestial objects, has captivated\n",
      "\n",
      " humanity for millennia.  Vast distances stretch between swirling galaxies, each home to billions of stars, planets, and mysterious phenomena yet to be understood. From the fiery birth of stars in nebulas to the silent dance of planets around distant suns, the universe unfolds in a breathtaking display of cosmic wonders. Exploring this frontier offers a glimpse into our own origins, fuels our imagination, and reminds us of the boundless possibilities that lie beyond our world. \n",
      "\n",
      "\n",
      "## Metrics:\n",
      "{'cost_usd': 0.0011788,\n",
      " 'input_tokens': 8,\n",
      " 'inter_token_latency_s': 0.17940120263533157,\n",
      " 'latency_s': 3.1134350299835205,\n",
      " 'output_tokens': 112,\n",
      " 'time_to_first_token_s': 1.1147418022155762,\n",
      " 'tokens_per_second': 3.8542638225739743,\n",
      " 'total_tokens': 120}\n"
     ]
    }
   ],
   "source": [
    "i=0\n",
    "async for chunk in await vertexai.achat(\"Write a paragfraph about space\", model=\"gemini-1.5-pro-latest\", is_stream=True):\n",
    "    if i%20==2:\n",
    "        print(\"\\n\")\n",
    "    if not chunk.metrics:\n",
    "        print(chunk.chat_output_stream, end=\"\", flush=True)\n",
    "    else:\n",
    "        print(\"\\n\\n## Metrics:\")\n",
    "        pprint(chunk.metrics)\n",
    "    i+=1\n"
   ]
  },
  {
   "cell_type": "markdown",
   "metadata": {},
   "source": [
    "### Get session metrics and usage"
   ]
  },
  {
   "cell_type": "code",
   "execution_count": 7,
   "metadata": {},
   "outputs": [
    {
     "ename": "NameError",
     "evalue": "name 'tracking' is not defined",
     "output_type": "error",
     "traceback": [
      "\u001b[0;31m---------------------------------------------------------------------------\u001b[0m",
      "\u001b[0;31mNameError\u001b[0m                                 Traceback (most recent call last)",
      "Cell \u001b[0;32mIn[7], line 3\u001b[0m\n\u001b[1;32m      1\u001b[0m \u001b[38;5;28;01mfrom\u001b[39;00m \u001b[38;5;21;01mllmstudio_tracker\u001b[39;00m\u001b[38;5;21;01m.\u001b[39;00m\u001b[38;5;21;01mtracker\u001b[39;00m \u001b[38;5;28;01mimport\u001b[39;00m Tracker\n\u001b[0;32m----> 3\u001b[0m tracker \u001b[38;5;241m=\u001b[39m Tracker(tracking_config\u001b[38;5;241m=\u001b[39m\u001b[43mtracking\u001b[49m)\n",
      "\u001b[0;31mNameError\u001b[0m: name 'tracking' is not defined"
     ]
    }
   ],
   "source": [
    "from llmstudio_tracker.tracker import Tracker\n",
    "\n",
    "tracker = Tracker(tracking_config=tracking)"
   ]
  },
  {
   "cell_type": "code",
   "execution_count": 15,
   "metadata": {},
   "outputs": [
    {
     "data": {
      "text/plain": [
       "{'chat_input': \"What's your name\",\n",
       " 'chat_output': \"I don't have a name. I am a large language model, here to assist you with any questions or tasks you may have. 😊 \\n\\nHow can I help you today? \\n\",\n",
       " 'session_id': 'vertexai-1',\n",
       " 'context': [{'role': 'user', 'content': \"What's your name\"}],\n",
       " 'provider': 'vertexai',\n",
       " 'model': 'gemini-1.5-pro-latest',\n",
       " 'deployment': 'gemini-1.5-pro-latest',\n",
       " 'parameters': {},\n",
       " 'metrics': {'input_tokens': 4,\n",
       "  'output_tokens': 38,\n",
       "  'total_tokens': 42,\n",
       "  'cost_usd': 0.0004004,\n",
       "  'latency_s': 2.0291249752044678,\n",
       "  'time_to_first_token_s': 1.248373031616211,\n",
       "  'inter_token_latency_s': 0.10699827330453056,\n",
       "  'tokens_per_second': 3.9425861382411242},\n",
       " 'log_id': 1,\n",
       " 'created_at': '2024-10-21T21:23:38'}"
      ]
     },
     "execution_count": 15,
     "metadata": {},
     "output_type": "execute_result"
    },
    {
     "ename": "",
     "evalue": "",
     "output_type": "error",
     "traceback": [
      "\u001b[1;31mThe Kernel crashed while executing code in the current cell or a previous cell. \n",
      "\u001b[1;31mPlease review the code in the cell(s) to identify a possible cause of the failure. \n",
      "\u001b[1;31mClick <a href='https://aka.ms/vscodeJupyterKernelCrash'>here</a> for more info. \n",
      "\u001b[1;31mView Jupyter <a href='command:jupyter.viewOutput'>log</a> for further details."
     ]
    }
   ],
   "source": [
    "logs = tracker.get_session_logs(session_id=\"vertexai-1\")\n",
    "logs.json()[0]\n"
   ]
  },
  {
   "cell_type": "markdown",
   "metadata": {},
   "source": [
    "# OpenAI\n",
    "### Chat (non-stream)"
   ]
  },
  {
   "cell_type": "code",
   "execution_count": 9,
   "metadata": {},
   "outputs": [
    {
     "name": "stdout",
     "output_type": "stream",
     "text": [
      "I’m called Assistant, but you can name me whatever you’d like! How can I help you today?\n",
      "{'cost_usd': 0.00035,\n",
      " 'input_tokens': 4,\n",
      " 'inter_token_latency_s': 0.014487525691156801,\n",
      " 'latency_s': 1.730828046798706,\n",
      " 'output_tokens': 22,\n",
      " 'time_to_first_token_s': 1.3967618942260742,\n",
      " 'tokens_per_second': 13.866195457364912,\n",
      " 'total_tokens': 26}\n"
     ]
    }
   ],
   "source": [
    "response = openai.chat(\"What's your name\", model=\"gpt-4o\")\n",
    "print(response.chat_output)\n",
    "pprint(response.metrics)"
   ]
  },
  {
   "cell_type": "markdown",
   "metadata": {},
   "source": [
    "### Chat Async (non-stream)"
   ]
  },
  {
   "cell_type": "code",
   "execution_count": 10,
   "metadata": {},
   "outputs": [
    {
     "data": {
      "text/plain": [
       "ChatCompletion(id='68984d4b-6a9e-4b62-9af5-195ab901ad83', choices=[Choice(finish_reason='stop', index=0, logprobs=None, message=ChatCompletionMessage(content='I’m an AI language model created by OpenAI, and I don’t have a personal name. You can call me Assistant if you’d like!', refusal=None, role='assistant', audio=None, function_call=None, tool_calls=None))], created=1729545829, model='gpt-4o', object='chat.completion', service_tier=None, system_fingerprint=None, usage=None, chat_input=\"What's your name\", chat_output='I’m an AI language model created by OpenAI, and I don’t have a personal name. You can call me Assistant if you’d like!', chat_output_stream='', context=[{'role': 'user', 'content': \"What's your name\"}], provider='openai', deployment='gpt-4o-2024-08-06', timestamp=1729545830.260567, parameters={}, metrics={'input_tokens': 4, 'output_tokens': 30, 'total_tokens': 34, 'cost_usd': 0.00047, 'latency_s': 1.1592588424682617, 'time_to_first_token_s': 0.7933480739593506, 'inter_token_latency_s': 0.011781254122334143, 'tokens_per_second': 27.603843790284564})"
      ]
     },
     "execution_count": 10,
     "metadata": {},
     "output_type": "execute_result"
    }
   ],
   "source": [
    "await openai.achat(\"What's your name\", model=\"gpt-4o\")"
   ]
  },
  {
   "cell_type": "markdown",
   "metadata": {},
   "source": [
    "### Chat (stream)"
   ]
  },
  {
   "cell_type": "code",
   "execution_count": 11,
   "metadata": {},
   "outputs": [
    {
     "name": "stdout",
     "output_type": "stream",
     "text": [
      "\n",
      "\n",
      "Space, the vast expanse beyond our Earth's atmosphere, is an awe-inspiring realm that has\n",
      "\n",
      " captivated the human imagination for centuries. It is a place of endless wonder and profound mystery, where galaxies\n",
      "\n",
      ", stars, planets, and celestial bodies float in a delicate cosmic dance. The exploration of space has\n",
      "\n",
      " led to groundbreaking discoveries, from the intricate details of our own solar system to the revelation of distant ex\n",
      "\n",
      "oplanets that might harbor life. Space is not only a scientific frontier but also a source of philosophical\n",
      "\n",
      " contemplation, challenging us to ponder our place in the universe and inspiring a sense of unity among humankind\n",
      "\n",
      " as we look beyond our terrestrial home. As technology advances, space travel and research continue to push the\n",
      "\n",
      " boundaries of what we know, constantly redefining our understanding of the cosmos and our place within it.\n",
      "\n",
      "\n",
      "\n",
      "## Metrics:\n",
      "{'cost_usd': 0.0024850000000000002,\n",
      " 'input_tokens': 8,\n",
      " 'inter_token_latency_s': 0.011184079945087433,\n",
      " 'latency_s': 2.1537232398986816,\n",
      " 'output_tokens': 163,\n",
      " 'time_to_first_token_s': 0.3636894226074219,\n",
      " 'tokens_per_second': 74.7542660158944,\n",
      " 'total_tokens': 171}\n"
     ]
    }
   ],
   "source": [
    "response = openai.chat(\"Write a paragfraph about space\", model=\"gpt-4o\", is_stream=True)\n",
    "for i, chunk in enumerate(response):\n",
    "    if i%20==0:\n",
    "        print(\"\\n\")\n",
    "    if not chunk.metrics:\n",
    "        print(chunk.chat_output_stream, end=\"\", flush=True)\n",
    "    else:\n",
    "        print(\"\\n\\n## Metrics:\")\n",
    "        pprint(chunk.metrics)\n"
   ]
  },
  {
   "cell_type": "markdown",
   "metadata": {},
   "source": [
    "### Chat Async (stream)"
   ]
  },
  {
   "cell_type": "code",
   "execution_count": 12,
   "metadata": {},
   "outputs": [
    {
     "name": "stdout",
     "output_type": "stream",
     "text": [
      "\n",
      "\n",
      "Space, the vast and infinite expanse that exists beyond our planet, is a realm of wonder\n",
      "\n",
      " and mystery that captivates the human imagination. It is home to billions of galaxies, each containing countless\n",
      "\n",
      " stars and celestial bodies, including planets, moons, and asteroids. The sheer scale of space is\n",
      "\n",
      " difficult to comprehend, with distances measured in light-years, illuminating the vast chasms between stars.\n",
      "\n",
      " Within this cosmos, phenomena such as black holes, supernovae, and neutron stars challenge our understanding\n",
      "\n",
      " of physics and the universe's very nature. Beyond its physical attributes, space invites philosophical contemplation about our\n",
      "\n",
      " place in the universe, the possibility of extraterrestrial life, and the future of humanity as we continue\n",
      "\n",
      " to explore and expand our reach into the cosmos. As technology advances, our efforts to unveil the secrets\n",
      "\n",
      " of space may one day reveal answers to questions that have intrigued humanity for centuries.\n",
      "\n",
      "## Metrics:\n",
      "{'cost_usd': 0.000108,\n",
      " 'input_tokens': 8,\n",
      " 'inter_token_latency_s': 0.032924545082178985,\n",
      " 'latency_s': 6.334553003311157,\n",
      " 'output_tokens': 178,\n",
      " 'time_to_first_token_s': 0.5375351905822754,\n",
      " 'tokens_per_second': 27.941987367929464,\n",
      " 'total_tokens': 186}\n"
     ]
    }
   ],
   "source": [
    "i=0\n",
    "async for chunk in await openai.achat(\"Write a paragfraph about space\", model=\"gpt-4o-mini\", is_stream=True):\n",
    "    if i%20==0:\n",
    "        print(\"\\n\")\n",
    "    if not chunk.metrics:\n",
    "        print(chunk.chat_output_stream, end=\"\", flush=True)\n",
    "    else:\n",
    "        print(\"\\n\\n## Metrics:\")\n",
    "        pprint(chunk.metrics)\n",
    "    i+=1\n"
   ]
  },
  {
   "cell_type": "code",
   "execution_count": 13,
   "metadata": {},
   "outputs": [],
   "source": [
    "from llmstudio_tracker.tracker import Tracker\n",
    "\n",
    "tracker = Tracker(tracking_config=tracking)"
   ]
  },
  {
   "cell_type": "code",
   "execution_count": 14,
   "metadata": {},
   "outputs": [
    {
     "data": {
      "text/plain": [
       "{'chat_input': \"What's your name\",\n",
       " 'chat_output': 'I’m called Assistant, but you can name me whatever you’d like! How can I help you today?',\n",
       " 'session_id': 'openai-1',\n",
       " 'context': [{'role': 'user', 'content': \"What's your name\"}],\n",
       " 'provider': 'openai',\n",
       " 'model': 'gpt-4o',\n",
       " 'deployment': 'gpt-4o-2024-08-06',\n",
       " 'parameters': {},\n",
       " 'metrics': {'input_tokens': 4,\n",
       "  'output_tokens': 22,\n",
       "  'total_tokens': 26,\n",
       "  'cost_usd': 0.00035,\n",
       "  'latency_s': 1.730828046798706,\n",
       "  'time_to_first_token_s': 1.3967618942260742,\n",
       "  'inter_token_latency_s': 0.014487525691156801,\n",
       "  'tokens_per_second': 13.866195457364912},\n",
       " 'log_id': 5,\n",
       " 'created_at': '2024-10-21T21:23:49'}"
      ]
     },
     "execution_count": 14,
     "metadata": {},
     "output_type": "execute_result"
    }
   ],
   "source": [
    "logs = tracker.get_session_logs(session_id=\"openai-1\")\n",
    "logs.json()[0]"
   ]
  },
  {
   "cell_type": "code",
   "execution_count": null,
   "metadata": {},
   "outputs": [],
   "source": []
  }
 ],
 "metadata": {
  "kernelspec": {
   "display_name": "Python 3",
   "language": "python",
   "name": "python3"
  },
  "language_info": {
   "codemirror_mode": {
    "name": "ipython",
    "version": 3
   },
   "file_extension": ".py",
   "mimetype": "text/x-python",
   "name": "python",
   "nbconvert_exporter": "python",
   "pygments_lexer": "ipython3",
   "version": "3.12.2"
  }
 },
 "nbformat": 4,
 "nbformat_minor": 2
}
