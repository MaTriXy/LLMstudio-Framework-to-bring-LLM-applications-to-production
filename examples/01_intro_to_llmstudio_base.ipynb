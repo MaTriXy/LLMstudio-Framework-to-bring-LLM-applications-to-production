{
 "cells": [
  {
   "cell_type": "markdown",
   "metadata": {},
   "source": [
    "# Intro to LLMstudio\n",
    "In this tutorial you'll be base version of LLMstudio.\n",
    "\n",
    "You'll learn:\n",
    "1. How to connect to any provider available (VertexAI, OpenAI, etc.)\n",
    "2. Make sync and async calls both with and without streaming\n",
    "3. See the metrics and logs\n",
    "\n",
    "First things first:\n",
    "* run `pip install llmstudio`\n",
    "* update your .env file with `GOOGLE_API_KEY` or `OPENAI_API_KEY`\n"
   ]
  },
  {
   "cell_type": "code",
   "execution_count": 1,
   "metadata": {},
   "outputs": [],
   "source": [
    "from pprint import pprint"
   ]
  },
  {
   "cell_type": "code",
   "execution_count": 2,
   "metadata": {},
   "outputs": [],
   "source": [
    "from llmstudio.providers import LLM\n",
    "\n",
    "# You can set OPENAI_API_KEY and GOOGLE_API_KEY on .env file or pass as api_key on LLM\n",
    "\n",
    "vertexai = LLM(\"vertexai\")\n",
    "\n",
    "openai = LLM(\"openai\")\n"
   ]
  },
  {
   "cell_type": "markdown",
   "metadata": {},
   "source": [
    "# VertexAI\n",
    "### Chat (non-stream)"
   ]
  },
  {
   "cell_type": "code",
   "execution_count": 3,
   "metadata": {},
   "outputs": [
    {
     "name": "stdout",
     "output_type": "stream",
     "text": [
      "I don't have a name. I'm a large language model, and I'm not a person. You can call me Bard, or you can just call me your helpful assistant. 😊 \n",
      "\n",
      "{'cost_usd': 0.00042139999999999994,\n",
      " 'input_tokens': 4,\n",
      " 'inter_token_latency_s': 0.12452043805803571,\n",
      " 'latency_s': 2.1434402465820312,\n",
      " 'output_tokens': 40,\n",
      " 'time_to_first_token_s': 1.231405258178711,\n",
      " 'tokens_per_second': 3.7323177134314545,\n",
      " 'total_tokens': 44}\n"
     ]
    }
   ],
   "source": [
    "response = vertexai.chat(\"What's your name\", model=\"gemini-1.5-pro-latest\")\n",
    "print(response.chat_output)\n",
    "pprint(response.metrics)"
   ]
  },
  {
   "cell_type": "markdown",
   "metadata": {},
   "source": [
    "### Chat Async (non-stream)"
   ]
  },
  {
   "cell_type": "code",
   "execution_count": 4,
   "metadata": {},
   "outputs": [],
   "source": [
    "await vertexai.achat(\"What's your name\", model=\"gemini-1.5-pro-latest\")"
   ]
  },
  {
   "cell_type": "markdown",
   "metadata": {},
   "source": [
    "### Chat (stream)"
   ]
  },
  {
   "cell_type": "code",
   "execution_count": 5,
   "metadata": {},
   "outputs": [
    {
     "name": "stdout",
     "output_type": "stream",
     "text": [
      "\n",
      "\n",
      "Space, a realm of boundless mystery and awe-inspiring grandeur, stretches out beyond the\n",
      "\n",
      " confines of our planet, teeming with celestial wonders. From shimmering stars scattered like diamonds across the cosmic canvas to distant galaxies swirling in symphonies of light and color, space offers an endless frontier of exploration and discovery. Planets, both familiar and alien\n",
      "\n",
      ", orbit distant suns, while nebulas, the birthplaces of stars, paint the void with ethereal hues. Black holes, enigmatic objects of immense gravity, warp the fabric of spacetime itself. Asteroids and comets, remnants of the early solar system, hurtle through the cosmos, their paths etched across the night sky. In this vast expanse, where distances are measured in light-years and time\n",
      "\n",
      " seems to stand still, humanity's quest for knowledge and understanding continues to reach for the stars. \n",
      "\n",
      "\n",
      "## Metrics:\n",
      "{'cost_usd': 0.0018613,\n",
      " 'input_tokens': 8,\n",
      " 'inter_token_latency_s': 0.22670269012451172,\n",
      " 'latency_s': 4.38958215713501,\n",
      " 'output_tokens': 177,\n",
      " 'time_to_first_token_s': 1.4173040390014648,\n",
      " 'tokens_per_second': 3.189369625362591,\n",
      " 'total_tokens': 185}\n"
     ]
    }
   ],
   "source": [
    "response = vertexai.chat(\"Write a paragfraph about space\", model=\"gemini-1.5-pro-latest\", is_stream=True)\n",
    "for i, chunk in enumerate(response):\n",
    "    if i%2==0:\n",
    "        print(\"\\n\")\n",
    "    if not chunk.metrics:\n",
    "        print(chunk.chat_output_stream, end=\"\", flush=True)\n",
    "    else:\n",
    "        print(\"\\n\\n## Metrics:\")\n",
    "        pprint(chunk.metrics)\n"
   ]
  },
  {
   "cell_type": "markdown",
   "metadata": {},
   "source": [
    "### Chat Async (stream)"
   ]
  },
  {
   "cell_type": "code",
   "execution_count": 6,
   "metadata": {},
   "outputs": [
    {
     "name": "stdout",
     "output_type": "stream",
     "text": [
      "Space is an awe-inspiring, vast expanse that continues to ignite human curiosity. Filled\n",
      "\n",
      " with swirling galaxies, brilliant stars, and mysterious planets, it represents the ultimate frontier of exploration. Beyond our own blue planet, space holds countless celestial wonders, from nebulas bursting with vibrant colors to black holes with gravitational pulls so strong that not even light can escape. The sheer scale and mystery of space inspire both humility and a deep-seated desire to comprehend the universe and our place within it. \n",
      "\n",
      "\n",
      "## Metrics:\n",
      "{'cost_usd': 0.0010528,\n",
      " 'input_tokens': 8,\n",
      " 'inter_token_latency_s': 0.16573944958773526,\n",
      " 'latency_s': 2.989384889602661,\n",
      " 'output_tokens': 100,\n",
      " 'time_to_first_token_s': 1.1395928859710693,\n",
      " 'tokens_per_second': 4.014203738614267,\n",
      " 'total_tokens': 108}\n"
     ]
    }
   ],
   "source": [
    "i=0\n",
    "async for chunk in await vertexai.achat(\"Write a paragfraph about space\", model=\"gemini-1.5-pro-latest\", is_stream=True):\n",
    "    if i%20==2:\n",
    "        print(\"\\n\")\n",
    "    if not chunk.metrics:\n",
    "        print(chunk.chat_output_stream, end=\"\", flush=True)\n",
    "    else:\n",
    "        print(\"\\n\\n## Metrics:\")\n",
    "        pprint(chunk.metrics)\n",
    "    i+=1\n"
   ]
  },
  {
   "cell_type": "markdown",
   "metadata": {},
   "source": [
    "# OpenAI\n",
    "### Chat (non-stream)"
   ]
  },
  {
   "cell_type": "code",
   "execution_count": 7,
   "metadata": {},
   "outputs": [
    {
     "name": "stdout",
     "output_type": "stream",
     "text": [
      "I don't have a personal name, but you can call me Assistant. How can I help you today?\n",
      "{'cost_usd': 0.00035,\n",
      " 'input_tokens': 4,\n",
      " 'inter_token_latency_s': 0.010432416742498224,\n",
      " 'latency_s': 0.713303804397583,\n",
      " 'output_tokens': 22,\n",
      " 'time_to_first_token_s': 0.48287296295166016,\n",
      " 'tokens_per_second': 32.24432543076723,\n",
      " 'total_tokens': 26}\n"
     ]
    }
   ],
   "source": [
    "response = openai.chat(\"What's your name\", model=\"gpt-4o\")\n",
    "print(response.chat_output)\n",
    "pprint(response.metrics)"
   ]
  },
  {
   "cell_type": "markdown",
   "metadata": {},
   "source": [
    "### Chat Async (non-stream)"
   ]
  },
  {
   "cell_type": "code",
   "execution_count": 8,
   "metadata": {},
   "outputs": [
    {
     "name": "stdout",
     "output_type": "stream",
     "text": [
      "None\n"
     ]
    },
    {
     "ename": "AttributeError",
     "evalue": "'NoneType' object has no attribute 'chat_output'",
     "output_type": "error",
     "traceback": [
      "\u001b[0;31m---------------------------------------------------------------------------\u001b[0m",
      "\u001b[0;31mAttributeError\u001b[0m                            Traceback (most recent call last)",
      "Cell \u001b[0;32mIn[8], line 3\u001b[0m\n\u001b[1;32m      1\u001b[0m response \u001b[38;5;241m=\u001b[39m \u001b[38;5;28;01mawait\u001b[39;00m openai\u001b[38;5;241m.\u001b[39machat(\u001b[38;5;124m\"\u001b[39m\u001b[38;5;124mWhat\u001b[39m\u001b[38;5;124m'\u001b[39m\u001b[38;5;124ms your name\u001b[39m\u001b[38;5;124m\"\u001b[39m, model\u001b[38;5;241m=\u001b[39m\u001b[38;5;124m\"\u001b[39m\u001b[38;5;124mgpt-4o\u001b[39m\u001b[38;5;124m\"\u001b[39m)\n\u001b[1;32m      2\u001b[0m \u001b[38;5;28mprint\u001b[39m(response)\n\u001b[0;32m----> 3\u001b[0m \u001b[38;5;28mprint\u001b[39m(\u001b[43mresponse\u001b[49m\u001b[38;5;241;43m.\u001b[39;49m\u001b[43mchat_output\u001b[49m)\n\u001b[1;32m      4\u001b[0m pprint(response\u001b[38;5;241m.\u001b[39mmetrics)\n",
      "\u001b[0;31mAttributeError\u001b[0m: 'NoneType' object has no attribute 'chat_output'"
     ]
    }
   ],
   "source": [
    "response = await openai.achat(\"What's your name\", model=\"gpt-4o\")\n",
    "print(response)\n",
    "print(response.chat_output)\n",
    "pprint(response.metrics)"
   ]
  },
  {
   "cell_type": "markdown",
   "metadata": {},
   "source": [
    "### Chat (stream)"
   ]
  },
  {
   "cell_type": "code",
   "execution_count": 9,
   "metadata": {},
   "outputs": [
    {
     "name": "stdout",
     "output_type": "stream",
     "text": [
      "\n",
      "\n",
      "Space, the vast and seemingly infinite expanse that stretches beyond our planet's atmosphere, has captivated\n",
      "\n",
      " human imagination for centuries. It is a realm filled with celestial wonders, from the dazzling brilliance of countless\n",
      "\n",
      " stars to the enigmatic allure of distant galaxies. Space serves as both a frontier of scientific exploration and a\n",
      "\n",
      " canvas for our dreams, challenging us to understand the fundamental nature of the universe. Within its depths,\n",
      "\n",
      " we seek answers to profound questions about our origins, the existence of other life forms, and the ultimate\n",
      "\n",
      " fate of the cosmos. As we venture further into this final frontier, propelled by technological advancements and a\n",
      "\n",
      " spirit of curiosity, space continues to inspire awe, offering a glimpse into the mysteries that lie far beyond\n",
      "\n",
      " our terrestrial home.\n",
      "\n",
      "## Metrics:\n",
      "{'cost_usd': 0.002215,\n",
      " 'input_tokens': 8,\n",
      " 'inter_token_latency_s': 0.014276840620570712,\n",
      " 'latency_s': 2.748136043548584,\n",
      " 'output_tokens': 145,\n",
      " 'time_to_first_token_s': 0.6900620460510254,\n",
      " 'tokens_per_second': 52.76303563660769,\n",
      " 'total_tokens': 153}\n"
     ]
    }
   ],
   "source": [
    "response = openai.chat(\"Write a paragfraph about space\", model=\"gpt-4o\", is_stream=True)\n",
    "for i, chunk in enumerate(response):\n",
    "    if i%20==0:\n",
    "        print(\"\\n\")\n",
    "    if not chunk.metrics:\n",
    "        print(chunk.chat_output_stream, end=\"\", flush=True)\n",
    "    else:\n",
    "        print(\"\\n\\n## Metrics:\")\n",
    "        pprint(chunk.metrics)\n"
   ]
  },
  {
   "cell_type": "markdown",
   "metadata": {},
   "source": [
    "### Chat Async (stream)"
   ]
  },
  {
   "cell_type": "code",
   "execution_count": 10,
   "metadata": {},
   "outputs": [
    {
     "name": "stdout",
     "output_type": "stream",
     "text": [
      "\n",
      "\n",
      "Space, often regarded as the final frontier, is a vast and enigmatic realm that extends beyond our\n",
      "\n",
      " planet, encompassing everything from the shimmering stars and swirling galaxies to the mysterious dark matter that makes up much\n",
      "\n",
      " of the universe. It is a near-perfect vacuum where the laws of physics take on extraordinary forms,\n",
      "\n",
      " allowing phenomena such as black holes, neutron stars, and supernovae to exist. Space is not\n",
      "\n",
      " just an expanse of emptiness; it plays host to a myriad of celestial bodies, including planets\n",
      "\n",
      ", moons, and asteroids, each with its own unique characteristics and stories. As humanity continues to\n",
      "\n",
      " explore this uncharted territory through advanced telescopes and space missions, we edge closer to unraveling the\n",
      "\n",
      " mysteries of the cosmos, igniting our curiosity and expanding our understanding of existence itself.\n",
      "\n",
      "## Metrics:\n",
      "{'cost_usd': 9.66e-05,\n",
      " 'input_tokens': 8,\n",
      " 'inter_token_latency_s': 0.030379164750408975,\n",
      " 'latency_s': 5.352261066436768,\n",
      " 'output_tokens': 159,\n",
      " 'time_to_first_token_s': 0.5816380977630615,\n",
      " 'tokens_per_second': 29.520234166228267,\n",
      " 'total_tokens': 167}\n"
     ]
    }
   ],
   "source": [
    "i=0\n",
    "async for chunk in await openai.achat(\"Write a paragfraph about space\", model=\"gpt-4o-mini\", is_stream=True):\n",
    "    if i%20==0:\n",
    "        print(\"\\n\")\n",
    "    if not chunk.metrics:\n",
    "        print(chunk.chat_output_stream, end=\"\", flush=True)\n",
    "    else:\n",
    "        print(\"\\n\\n## Metrics:\")\n",
    "        pprint(chunk.metrics)\n",
    "    i+=1\n"
   ]
  },
  {
   "cell_type": "code",
   "execution_count": null,
   "metadata": {},
   "outputs": [],
   "source": []
  }
 ],
 "metadata": {
  "kernelspec": {
   "display_name": "Python 3",
   "language": "python",
   "name": "python3"
  },
  "language_info": {
   "codemirror_mode": {
    "name": "ipython",
    "version": 3
   },
   "file_extension": ".py",
   "mimetype": "text/x-python",
   "name": "python",
   "nbconvert_exporter": "python",
   "pygments_lexer": "ipython3",
   "version": "3.12.2"
  }
 },
 "nbformat": 4,
 "nbformat_minor": 2
}
