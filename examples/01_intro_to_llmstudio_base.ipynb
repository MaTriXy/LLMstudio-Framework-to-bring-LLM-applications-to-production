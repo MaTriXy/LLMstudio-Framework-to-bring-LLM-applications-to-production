{
 "cells": [
  {
   "cell_type": "markdown",
   "metadata": {},
   "source": [
    "# Intro to LLMstudio\n",
    "In this tutorial you'll be base version of LLMstudio.\n",
    "\n",
    "You'll learn:\n",
    "1. How to connect to any provider available (VertexAI, OpenAI, etc.)\n",
    "2. Make sync and async calls both with and without streaming\n",
    "3. See the metrics and logs\n",
    "\n",
    "First things first:\n",
    "* run `pip install llmstudio`\n",
    "* update your .env file with `GOOGLE_API_KEY` or `OPENAI_API_KEY`\n"
   ]
  },
  {
   "cell_type": "code",
   "execution_count": 1,
   "metadata": {},
   "outputs": [],
   "source": [
    "from pprint import pprint"
   ]
  },
  {
   "cell_type": "code",
   "execution_count": 2,
   "metadata": {},
   "outputs": [],
   "source": [
    "from llmstudio.providers import LLM\n",
    "\n",
    "# You can set OPENAI_API_KEY and GOOGLE_API_KEY on .env file or pass as api_key on LLM\n",
    "\n",
    "vertexai = LLM(\"vertexai\")\n",
    "\n",
    "openai = LLM(\"openai\")\n"
   ]
  },
  {
   "cell_type": "markdown",
   "metadata": {},
   "source": [
    "# VertexAI\n",
    "### Chat (non-stream)"
   ]
  },
  {
   "cell_type": "code",
   "execution_count": 6,
   "metadata": {},
   "outputs": [
    {
     "name": "stdout",
     "output_type": "stream",
     "text": [
      "I am a large language model, trained by Google. I don't have a name like a person does. 😊 \n",
      "\n",
      "How can I help you today? \n",
      "\n",
      "{'cost_usd': 0.00034789999999999995,\n",
      " 'input_tokens': 4,\n",
      " 'inter_token_latency_s': 0.09580554280962263,\n",
      " 'latency_s': 1.8421380519866943,\n",
      " 'output_tokens': 33,\n",
      " 'time_to_first_token_s': 1.1406691074371338,\n",
      " 'tokens_per_second': 4.3427798428962605,\n",
      " 'total_tokens': 37}\n"
     ]
    }
   ],
   "source": [
    "response = vertexai.chat(\"What's your name\", model=\"gemini-1.5-pro-latest\")\n",
    "print(response.chat_output)\n",
    "pprint(response.metrics)"
   ]
  },
  {
   "cell_type": "markdown",
   "metadata": {},
   "source": [
    "### Chat Async (non-stream)"
   ]
  },
  {
   "cell_type": "code",
   "execution_count": 7,
   "metadata": {},
   "outputs": [
    {
     "data": {
      "text/plain": [
       "ChatCompletion(id='e5deb805-74f3-4428-bb2d-6a26f2070a97', choices=[Choice(finish_reason='stop', index=0, logprobs=None, message=ChatCompletionMessage(content=\"I don't have a name. I am a large language model, and I am not a person. I am here to assist you with any questions or tasks you may have. 😊 \\n\\nDo you have anything I can help you with today? \\n\", refusal=None, role='assistant', audio=None, function_call=None, tool_calls=None))], created=1729765740, model='gemini-1.5-pro-latest', object='chat.completion', service_tier=None, system_fingerprint=None, usage=None, chat_input=\"What's your name\", chat_output=\"I don't have a name. I am a large language model, and I am not a person. I am here to assist you with any questions or tasks you may have. 😊 \\n\\nDo you have anything I can help you with today? \\n\", chat_output_stream='', context=[{'role': 'user', 'content': \"What's your name\"}], provider='vertexai', deployment='gemini-1.5-pro-latest', timestamp=1729765740.703277, parameters={}, metrics={'input_tokens': 4, 'output_tokens': 51, 'total_tokens': 55, 'cost_usd': 0.0005369, 'latency_s': 1.7556030750274658, 'time_to_first_token_s': 0.7302341461181641, 'inter_token_latency_s': 0.14272369657244002, 'tokens_per_second': 4.556838680562714})"
      ]
     },
     "execution_count": 7,
     "metadata": {},
     "output_type": "execute_result"
    }
   ],
   "source": [
    "await vertexai.achat(\"What's your name\", model=\"gemini-1.5-pro-latest\")"
   ]
  },
  {
   "cell_type": "markdown",
   "metadata": {},
   "source": [
    "### Chat (stream)"
   ]
  },
  {
   "cell_type": "code",
   "execution_count": 8,
   "metadata": {},
   "outputs": [
    {
     "name": "stdout",
     "output_type": "stream",
     "text": [
      "\n",
      "\n",
      "Space, an infinite expanse of darkness sprinkled with the brilliant light of celestial objects, continues\n",
      "\n",
      " to fascinate and inspire us. From our own swirling galaxy, the Milky Way, to distant nebulae painted across the cosmos, space is a realm of breathtaking beauty and mind-boggling scale. It's a place where stars are\n",
      "\n",
      " born and die, where planets dance around suns, and where the mysteries of black holes and dark matter continue to challenge our understanding of the universe. Exploring this final frontier, whether through the lens of a telescope or the ambition of space travel, fuels our curiosity and drives us to unravel the secrets that lie hidden among the stars. \n",
      "\n",
      "\n",
      "\n",
      "\n",
      "## Metrics:\n",
      "{'cost_usd': 0.0014203,\n",
      " 'input_tokens': 8,\n",
      " 'inter_token_latency_s': 0.22084697810086337,\n",
      " 'latency_s': 3.6062381267547607,\n",
      " 'output_tokens': 135,\n",
      " 'time_to_first_token_s': 1.1527512073516846,\n",
      " 'tokens_per_second': 3.327567281531337,\n",
      " 'total_tokens': 143}\n"
     ]
    }
   ],
   "source": [
    "response = vertexai.chat(\"Write a paragfraph about space\", model=\"gemini-1.5-pro-latest\", is_stream=True)\n",
    "for i, chunk in enumerate(response):\n",
    "    if i%2==0:\n",
    "        print(\"\\n\")\n",
    "    if not chunk.metrics:\n",
    "        print(chunk.chat_output_stream, end=\"\", flush=True)\n",
    "    else:\n",
    "        print(\"\\n\\n## Metrics:\")\n",
    "        pprint(chunk.metrics)\n"
   ]
  },
  {
   "cell_type": "markdown",
   "metadata": {},
   "source": [
    "### Chat Async (stream)"
   ]
  },
  {
   "cell_type": "code",
   "execution_count": 9,
   "metadata": {},
   "outputs": [
    {
     "name": "stdout",
     "output_type": "stream",
     "text": [
      "Space, a vast and enigmatic expanse, has captivated humanity for millennia. Its inky\n",
      "\n",
      " blackness, dotted with countless stars and galaxies, evokes a sense of awe and wonder. From the swirling clouds of gas and dust where stars are born to the colossal black holes that lurk at the centers of galaxies, space is a realm of unimaginable scale and power. Planets, both rocky and gaseous, orbit their parent stars in a delicate cosmic dance, while distant quasars blaze with the energy of a trillion suns. Exploring space allows us to unravel the mysteries of our universe, pushing the boundaries of our knowledge and inspiring generations to come. \n",
      "\n",
      "\n",
      "## Metrics:\n",
      "{'cost_usd': 0.0014413,\n",
      " 'input_tokens': 8,\n",
      " 'inter_token_latency_s': 0.2109926397150213,\n",
      " 'latency_s': 3.49053692817688,\n",
      " 'output_tokens': 137,\n",
      " 'time_to_first_token_s': 1.1454410552978516,\n",
      " 'tokens_per_second': 3.437866507909327,\n",
      " 'total_tokens': 145}\n"
     ]
    }
   ],
   "source": [
    "i=0\n",
    "async for chunk in await vertexai.achat(\"Write a paragfraph about space\", model=\"gemini-1.5-pro-latest\", is_stream=True):\n",
    "    if i%20==2:\n",
    "        print(\"\\n\")\n",
    "    if not chunk.metrics:\n",
    "        print(chunk.chat_output_stream, end=\"\", flush=True)\n",
    "    else:\n",
    "        print(\"\\n\\n## Metrics:\")\n",
    "        pprint(chunk.metrics)\n",
    "    i+=1\n"
   ]
  },
  {
   "cell_type": "markdown",
   "metadata": {},
   "source": [
    "# OpenAI\n",
    "### Chat (non-stream)"
   ]
  },
  {
   "cell_type": "code",
   "execution_count": 10,
   "metadata": {},
   "outputs": [
    {
     "name": "stdout",
     "output_type": "stream",
     "text": [
      "I’m ChatGPT, your virtual assistant. How can I assist you today?\n",
      "{'cost_usd': 0.000275,\n",
      " 'input_tokens': 4,\n",
      " 'inter_token_latency_s': 0.012266341377707088,\n",
      " 'latency_s': 0.6178748607635498,\n",
      " 'output_tokens': 17,\n",
      " 'time_to_first_token_s': 0.4090428352355957,\n",
      " 'tokens_per_second': 29.132112573339175,\n",
      " 'total_tokens': 21}\n"
     ]
    }
   ],
   "source": [
    "response = openai.chat(\"What's your name\", model=\"gpt-4o\")\n",
    "print(response.chat_output)\n",
    "pprint(response.metrics)"
   ]
  },
  {
   "cell_type": "markdown",
   "metadata": {},
   "source": [
    "### Chat Async (non-stream)"
   ]
  },
  {
   "cell_type": "code",
   "execution_count": 11,
   "metadata": {},
   "outputs": [
    {
     "name": "stdout",
     "output_type": "stream",
     "text": [
      "ChatCompletion(id='826b268e-30f6-45b3-b40f-cb1927eb2546', choices=[Choice(finish_reason='stop', index=0, logprobs=None, message=ChatCompletionMessage(content='I’m called ChatGPT. How can I assist you today?', refusal=None, role='assistant', audio=None, function_call=None, tool_calls=None))], created=1729765754, model='gpt-4o', object='chat.completion', service_tier=None, system_fingerprint=None, usage=None, chat_input=\"What's your name\", chat_output='I’m called ChatGPT. How can I assist you today?', chat_output_stream='', context=[{'role': 'user', 'content': \"What's your name\"}], provider='openai', deployment='gpt-4o-2024-08-06', timestamp=1729765754.433972, parameters={}, metrics={'input_tokens': 4, 'output_tokens': 14, 'total_tokens': 18, 'cost_usd': 0.00023, 'latency_s': 0.5893597602844238, 'time_to_first_token_s': 0.3690769672393799, 'inter_token_latency_s': 0.015675340379987444, 'tokens_per_second': 25.451347395623056})\n",
      "I’m called ChatGPT. How can I assist you today?\n",
      "{'cost_usd': 0.00023,\n",
      " 'input_tokens': 4,\n",
      " 'inter_token_latency_s': 0.015675340379987444,\n",
      " 'latency_s': 0.5893597602844238,\n",
      " 'output_tokens': 14,\n",
      " 'time_to_first_token_s': 0.3690769672393799,\n",
      " 'tokens_per_second': 25.451347395623056,\n",
      " 'total_tokens': 18}\n"
     ]
    }
   ],
   "source": [
    "response = await openai.achat(\"What's your name\", model=\"gpt-4o\")\n",
    "print(response)\n",
    "print(response.chat_output)\n",
    "pprint(response.metrics)"
   ]
  },
  {
   "cell_type": "markdown",
   "metadata": {},
   "source": [
    "### Chat (stream)"
   ]
  },
  {
   "cell_type": "code",
   "execution_count": 12,
   "metadata": {},
   "outputs": [
    {
     "name": "stdout",
     "output_type": "stream",
     "text": [
      "\n",
      "\n",
      "Space, the vast expanse that stretches beyond our planet's atmosphere, is a frontier filled with\n",
      "\n",
      " both mystery and wonder. It is an almost incomprehensible void that contains everything from the burning stars\n",
      "\n",
      " and swirling galaxies to the cold, dark realms beyond reach. Space exploration has ignited human curiosity and\n",
      "\n",
      " ambition, driving humanity to build rockets, telescopes, and probes to venture into the unknown. This\n",
      "\n",
      " pursuit has led to monumental achievements such as landing on the moon, exploring distant planets, and observing cosmic\n",
      "\n",
      " phenomena from light years away. Despite our technological advances, much of the universe remains an enigma,\n",
      "\n",
      " with black holes, dark matter, and the origins of the cosmos offering tantalizing puzzles waiting to be\n",
      "\n",
      " solved. As we continue to explore space, it challenges our understanding of physics, propels scientific breakthroughs\n",
      "\n",
      ", and poses profound questions about life beyond Earth and the future of humanity.\n",
      "\n",
      "## Metrics:\n",
      "{'cost_usd': 0.00265,\n",
      " 'input_tokens': 8,\n",
      " 'inter_token_latency_s': 0.018837600435529435,\n",
      " 'latency_s': 3.7217321395874023,\n",
      " 'output_tokens': 174,\n",
      " 'time_to_first_token_s': 0.42455410957336426,\n",
      " 'tokens_per_second': 47.28980845448799,\n",
      " 'total_tokens': 182}\n"
     ]
    }
   ],
   "source": [
    "response = openai.chat(\"Write a paragfraph about space\", model=\"gpt-4o\", is_stream=True)\n",
    "for i, chunk in enumerate(response):\n",
    "    if i%20==0:\n",
    "        print(\"\\n\")\n",
    "    if not chunk.metrics:\n",
    "        print(chunk.chat_output_stream, end=\"\", flush=True)\n",
    "    else:\n",
    "        print(\"\\n\\n## Metrics:\")\n",
    "        pprint(chunk.metrics)\n"
   ]
  },
  {
   "cell_type": "markdown",
   "metadata": {},
   "source": [
    "### Chat Async (stream)"
   ]
  },
  {
   "cell_type": "code",
   "execution_count": 13,
   "metadata": {},
   "outputs": [
    {
     "name": "stdout",
     "output_type": "stream",
     "text": [
      "\n",
      "\n",
      "Space, the vast expanse beyond our atmosphere, is a realm of both mystery and wonder,\n",
      "\n",
      " captivating the imagination of humanity for centuries. It is a seemingly infinite void filled with celestial bodies, including\n",
      "\n",
      " stars, planets, galaxies, and nebulae, each with its own unique properties and histories.\n",
      "\n",
      " The sheer scale of the universe is awe-inspiring; light from distant stars can take millions of years\n",
      "\n",
      " to reach us, revealing the profound age of the cosmos. Among the most intriguing phenomena in space are\n",
      "\n",
      " black holes, neutron stars, and the expanding universe, which challenge our understanding of physics and the fundamental\n",
      "\n",
      " nature of reality. As technology advances, our ability to explore and understand space grows, offering glimpses\n",
      "\n",
      " into the origins of the universe and the potential for life beyond Earth, making the study of space not\n",
      "\n",
      " just a scientific endeavor but also a philosophical journey into the unknown.\n",
      "\n",
      "## Metrics:\n",
      "{'cost_usd': 0.0001044,\n",
      " 'input_tokens': 8,\n",
      " 'inter_token_latency_s': 0.010406375620406487,\n",
      " 'latency_s': 2.3331899642944336,\n",
      " 'output_tokens': 172,\n",
      " 'time_to_first_token_s': 0.5320050716400146,\n",
      " 'tokens_per_second': 74.57601081042637,\n",
      " 'total_tokens': 180}\n"
     ]
    },
    {
     "ename": "",
     "evalue": "",
     "output_type": "error",
     "traceback": [
      "\u001b[1;31mThe Kernel crashed while executing code in the current cell or a previous cell. \n",
      "\u001b[1;31mPlease review the code in the cell(s) to identify a possible cause of the failure. \n",
      "\u001b[1;31mClick <a href='https://aka.ms/vscodeJupyterKernelCrash'>here</a> for more info. \n",
      "\u001b[1;31mView Jupyter <a href='command:jupyter.viewOutput'>log</a> for further details."
     ]
    }
   ],
   "source": [
    "i=0\n",
    "async for chunk in await openai.achat(\"Write a paragfraph about space\", model=\"gpt-4o-mini\", is_stream=True):\n",
    "    if i%20==0:\n",
    "        print(\"\\n\")\n",
    "    if not chunk.metrics:\n",
    "        print(chunk.chat_output_stream, end=\"\", flush=True)\n",
    "    else:\n",
    "        print(\"\\n\\n## Metrics:\")\n",
    "        pprint(chunk.metrics)\n",
    "    i+=1\n"
   ]
  },
  {
   "cell_type": "code",
   "execution_count": null,
   "metadata": {},
   "outputs": [],
   "source": []
  }
 ],
 "metadata": {
  "kernelspec": {
   "display_name": "Python 3",
   "language": "python",
   "name": "python3"
  },
  "language_info": {
   "codemirror_mode": {
    "name": "ipython",
    "version": 3
   },
   "file_extension": ".py",
   "mimetype": "text/x-python",
   "name": "python",
   "nbconvert_exporter": "python",
   "pygments_lexer": "ipython3",
   "version": "3.12.2"
  }
 },
 "nbformat": 4,
 "nbformat_minor": 2
}
