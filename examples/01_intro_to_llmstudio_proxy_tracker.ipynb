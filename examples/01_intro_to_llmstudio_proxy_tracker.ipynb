{
 "cells": [
  {
   "cell_type": "markdown",
   "metadata": {},
   "source": [
    "# Intro to LLMstudio\n",
    "In this tutorial you'll be running the proxy and the tracker so you can automatically log the usage metrics and costs in the default database (`llmstudio_mgmt.db`).\n",
    "\n",
    "You'll learn:\n",
    "1. How to connect to any provider available (VertexAI, OpenAI, etc.)\n",
    "2. Make sync and async calls both with and without streaming\n",
    "3. See the saved logs\n",
    "\n",
    "First things first:\n",
    "* run `pip install llmstudio[proxy, tracker]`\n",
    "* update your .env file with `GOOGLE_API_KEY` or `OPENAI_API_KEY`\n"
   ]
  },
  {
   "cell_type": "markdown",
   "metadata": {},
   "source": [
    "## Start proxy and tracking servers\n",
    "This step is to set the proxy and tracking servers.\n",
    "You can opt out to start such servers (see `llmstudio-core` for the lightest version)"
   ]
  },
  {
   "cell_type": "code",
   "execution_count": 1,
   "metadata": {},
   "outputs": [
    {
     "name": "stdout",
     "output_type": "stream",
     "text": [
      "Running LLMstudio Proxy on http://0.0.0.0:8001 \n",
      "Running LLMstudio Tracking on http://0.0.0.0:8002 \n"
     ]
    }
   ],
   "source": [
    "from pprint import pprint\n",
    "from llmstudio.server import start_servers\n",
    "from llmstudio_tracker.tracker import TrackingConfig\n",
    "from llmstudio_proxy.provider import ProxyConfig\n",
    "\n",
    "# start servers\n",
    "start_servers(proxy=True, tracker=True)\n",
    "\n",
    "proxy = ProxyConfig(host=\"0.0.0.0\", port=\"8001\")  # default port is 50001. set the environment varible to specify which host and port; LLMSTUDIO_ENGINE_HOST, LLMSTUDIO_ENGINE_PORT\n",
    "tracking = TrackingConfig(host=\"0.0.0.0\", port=\"8002\")  # default port is 50002. set the environment varible to specify which host and port; LLMSTUDIO_TRACKING_HOST, LLMSTUDIO_TRACKING_PORT\n",
    "\n",
    "\n"
   ]
  },
  {
   "cell_type": "code",
   "execution_count": 2,
   "metadata": {},
   "outputs": [
    {
     "name": "stdout",
     "output_type": "stream",
     "text": [
      "Connected to LLMStudio Proxy @ 0.0.0.0:8001\n",
      "Connected to LLMStudio Proxy @ 0.0.0.0:8001\n"
     ]
    }
   ],
   "source": [
    "from llmstudio.providers import LLM\n",
    "\n",
    "vertexai = LLM(\"vertexai\",\n",
    "               proxy_config=proxy,\n",
    "               tracking_config=tracking,\n",
    "               session_id=\"vertexai-1\")\n",
    "\n",
    "openai = LLM(\"openai\",\n",
    "             proxy_config=proxy,\n",
    "             tracking_config=tracking,\n",
    "             session_id=\"openai-1\")\n"
   ]
  },
  {
   "cell_type": "markdown",
   "metadata": {},
   "source": [
    "# VertexAI\n",
    "### Chat (non-stream)"
   ]
  },
  {
   "cell_type": "code",
   "execution_count": 3,
   "metadata": {},
   "outputs": [
    {
     "name": "stdout",
     "output_type": "stream",
     "text": [
      "I am a large language model, trained by Google. I don't have a name like a person does.  How can I help you today? 😊 \n",
      "\n",
      "{'cost_usd': 0.00034789999999999995,\n",
      " 'input_tokens': 4,\n",
      " 'inter_token_latency_s': 0.08976759229387556,\n",
      " 'latency_s': 1.7716200351715088,\n",
      " 'output_tokens': 33,\n",
      " 'time_to_first_token_s': 1.1004998683929443,\n",
      " 'tokens_per_second': 4.515640962044961,\n",
      " 'total_tokens': 37}\n"
     ]
    }
   ],
   "source": [
    "response = vertexai.chat(\"What's your name\", model=\"gemini-1.5-pro-latest\")\n",
    "print(response.chat_output)\n",
    "pprint(response.metrics)"
   ]
  },
  {
   "cell_type": "markdown",
   "metadata": {},
   "source": [
    "### Chat Async (non-stream)"
   ]
  },
  {
   "cell_type": "code",
   "execution_count": 4,
   "metadata": {},
   "outputs": [
    {
     "data": {
      "text/plain": [
       "ChatCompletion(id='e9e21b7c-5e05-446d-b1d9-fccd82df6fd0', choices=[Choice(finish_reason='stop', index=0, logprobs=None, message=ChatCompletionMessage(content=\"I am a large language model, so I don't have a name like a person. You can call me your helpful assistant! 😊  How can I help you today? \\n\", refusal=None, role='assistant', audio=None, function_call=None, tool_calls=None))], created=1729767489, model='gemini-1.5-pro-latest', object='chat.completion', service_tier=None, system_fingerprint=None, usage=None, chat_input=\"What's your name\", chat_output=\"I am a large language model, so I don't have a name like a person. You can call me your helpful assistant! 😊  How can I help you today? \\n\", chat_output_stream='', context=[{'role': 'user', 'content': \"What's your name\"}], provider='vertexai', deployment='gemini-1.5-pro-latest', timestamp=1729767489.438024, parameters={}, metrics={'input_tokens': 4, 'output_tokens': 37, 'total_tokens': 41, 'cost_usd': 0.00038989999999999994, 'latency_s': 1.7930827140808105, 'time_to_first_token_s': 1.050663709640503, 'inter_token_latency_s': 0.1016174384525844, 'tokens_per_second': 4.46159005224756})"
      ]
     },
     "execution_count": 4,
     "metadata": {},
     "output_type": "execute_result"
    }
   ],
   "source": [
    "await vertexai.achat(\"What's your name\", model=\"gemini-1.5-pro-latest\")"
   ]
  },
  {
   "cell_type": "markdown",
   "metadata": {},
   "source": [
    "### Chat (stream)"
   ]
  },
  {
   "cell_type": "code",
   "execution_count": 5,
   "metadata": {},
   "outputs": [
    {
     "name": "stdout",
     "output_type": "stream",
     "text": [
      "\n",
      "\n",
      "Space, a vast and enigmatic expanse, beckons us with its celestial wonders.  \n",
      "\n",
      "Twinkling stars, like distant diamonds scattered across a velvet canvas, illuminate the cosmic tapestry.  Planets, both majestic and mysterious, dance in intricate orbits around their parent stars.  Nebulas, vast clouds of gas and dust, paint the\n",
      "\n",
      " cosmos with vibrant hues of crimson, emerald, and azure.  Black holes, enigmatic and awe-inspiring, warp the fabric of spacetime, challenging our understanding of the universe.  From the smallest particles to the largest galaxies, space is a realm of endless discovery, igniting our curiosity and reminding us of the infinite beauty that lies beyond our world. \n",
      "\n",
      "\n",
      "\n",
      "\n",
      "## Metrics:\n",
      "{'cost_usd': 0.0015148,\n",
      " 'input_tokens': 8,\n",
      " 'inter_token_latency_s': 0.2275336438959295,\n",
      " 'latency_s': 3.6205759048461914,\n",
      " 'output_tokens': 144,\n",
      " 'time_to_first_token_s': 1.0920016765594482,\n",
      " 'tokens_per_second': 3.3143898416651982,\n",
      " 'total_tokens': 152}\n"
     ]
    }
   ],
   "source": [
    "response = vertexai.chat(\"Write a paragfraph about space\", model=\"gemini-1.5-pro-latest\", is_stream=True)\n",
    "for i, chunk in enumerate(response):\n",
    "    if i%2==0:\n",
    "        print(\"\\n\")\n",
    "    if not chunk.metrics:\n",
    "        print(chunk.chat_output_stream, end=\"\", flush=True)\n",
    "    else:\n",
    "        print(\"\\n\\n## Metrics:\")\n",
    "        pprint(chunk.metrics)\n"
   ]
  },
  {
   "cell_type": "markdown",
   "metadata": {},
   "source": [
    "### Chat Async (stream)"
   ]
  },
  {
   "cell_type": "code",
   "execution_count": 6,
   "metadata": {},
   "outputs": [
    {
     "name": "stdout",
     "output_type": "stream",
     "text": [
      "Space, a breathtaking tapestry of darkness sprinkled with celestial wonders, continues to inspire awe and\n",
      "\n",
      " ignite our curiosity.  Vast distances stretch between twinkling stars, each a fiery furnace birthing the elements of life itself. Swirling galaxies, majestic and ancient, hold secrets yet to be unraveled.  From the icy rings of Saturn to the crimson storms of Jupiter, space whispers tales of cosmic creation and invites us to explore the boundless possibilities beyond our pale blue dot. \n",
      "\n",
      "\n",
      "## Metrics:\n",
      "{'cost_usd': 0.0010213,\n",
      " 'input_tokens': 8,\n",
      " 'inter_token_latency_s': 0.19331757227579752,\n",
      " 'latency_s': 2.481858015060425,\n",
      " 'output_tokens': 97,\n",
      " 'time_to_first_token_s': 0.7149538993835449,\n",
      " 'tokens_per_second': 4.029239359914203,\n",
      " 'total_tokens': 105}\n"
     ]
    }
   ],
   "source": [
    "i=0\n",
    "async for chunk in await vertexai.achat(\"Write a paragfraph about space\", model=\"gemini-1.5-pro-latest\", is_stream=True):\n",
    "    if i%20==2:\n",
    "        print(\"\\n\")\n",
    "    if not chunk.metrics:\n",
    "        print(chunk.chat_output_stream, end=\"\", flush=True)\n",
    "    else:\n",
    "        print(\"\\n\\n## Metrics:\")\n",
    "        pprint(chunk.metrics)\n",
    "    i+=1\n"
   ]
  },
  {
   "cell_type": "markdown",
   "metadata": {},
   "source": [
    "### Get session metrics and usage"
   ]
  },
  {
   "cell_type": "code",
   "execution_count": 7,
   "metadata": {},
   "outputs": [],
   "source": [
    "from llmstudio_tracker.tracker import Tracker\n",
    "\n",
    "tracker = Tracker(tracking_config=tracking)"
   ]
  },
  {
   "cell_type": "code",
   "execution_count": 8,
   "metadata": {},
   "outputs": [
    {
     "data": {
      "text/plain": [
       "{'chat_input': 'Write a paragfraph about space',\n",
       " 'chat_output': 'Space, a breathtaking tapestry of darkness sprinkled with celestial wonders, continues to inspire awe and ignite our curiosity.  Vast distances stretch between twinkling stars, each a fiery furnace birthing the elements of life itself. Swirling galaxies, majestic and ancient, hold secrets yet to be unraveled.  From the icy rings of Saturn to the crimson storms of Jupiter, space whispers tales of cosmic creation and invites us to explore the boundless possibilities beyond our pale blue dot. \\n',\n",
       " 'session_id': 'vertexai-1',\n",
       " 'context': [{'role': 'user', 'content': 'Write a paragfraph about space'}],\n",
       " 'provider': 'vertexai',\n",
       " 'model': 'gemini-1.5-pro-latest',\n",
       " 'deployment': 'gemini-1.5-pro-latest',\n",
       " 'parameters': {},\n",
       " 'metrics': {'input_tokens': 8,\n",
       "  'output_tokens': 97,\n",
       "  'total_tokens': 105,\n",
       "  'cost_usd': 0.0010213,\n",
       "  'latency_s': 2.481858015060425,\n",
       "  'time_to_first_token_s': 0.7149538993835449,\n",
       "  'inter_token_latency_s': 0.19331757227579752,\n",
       "  'tokens_per_second': 4.029239359914203},\n",
       " 'log_id': 48,\n",
       " 'created_at': '2024-10-24T10:58:18'}"
      ]
     },
     "execution_count": 8,
     "metadata": {},
     "output_type": "execute_result"
    }
   ],
   "source": [
    "logs = tracker.get_session_logs(session_id=\"vertexai-1\")\n",
    "logs.json()[-1]\n"
   ]
  },
  {
   "cell_type": "markdown",
   "metadata": {},
   "source": [
    "# OpenAI\n",
    "### Chat (non-stream)"
   ]
  },
  {
   "cell_type": "code",
   "execution_count": 9,
   "metadata": {},
   "outputs": [
    {
     "name": "stdout",
     "output_type": "stream",
     "text": [
      "I’m an AI language model created by OpenAI, and I don’t have a personal name. You can call me Assistant if you’d like!\n",
      "{'cost_usd': 0.00047,\n",
      " 'input_tokens': 4,\n",
      " 'inter_token_latency_s': 0.011531452978810957,\n",
      " 'latency_s': 0.9431579113006592,\n",
      " 'output_tokens': 30,\n",
      " 'time_to_first_token_s': 0.5848979949951172,\n",
      " 'tokens_per_second': 33.92857083271506,\n",
      " 'total_tokens': 34}\n"
     ]
    }
   ],
   "source": [
    "response = openai.chat(\"What's your name\", model=\"gpt-4o\")\n",
    "print(response.chat_output)\n",
    "pprint(response.metrics)"
   ]
  },
  {
   "cell_type": "markdown",
   "metadata": {},
   "source": [
    "### Chat Async (non-stream)"
   ]
  },
  {
   "cell_type": "code",
   "execution_count": 10,
   "metadata": {},
   "outputs": [
    {
     "data": {
      "text/plain": [
       "ChatCompletion(id='df697714-885b-4eb1-87fd-3ad798a33205', choices=[Choice(finish_reason='stop', index=0, logprobs=None, message=ChatCompletionMessage(content='I’m called Assistant. How can I help you today?', refusal=None, role='assistant', audio=None, function_call=None, tool_calls=None))], created=1729767513, model='gpt-4o', object='chat.completion', service_tier=None, system_fingerprint=None, usage=None, chat_input=\"What's your name\", chat_output='I’m called Assistant. How can I help you today?', chat_output_stream='', context=[{'role': 'user', 'content': \"What's your name\"}], provider='openai', deployment='gpt-4o-2024-08-06', timestamp=1729767513.969525, parameters={}, metrics={'input_tokens': 4, 'output_tokens': 12, 'total_tokens': 16, 'cost_usd': 0.0002, 'latency_s': 0.8102009296417236, 'time_to_first_token_s': 0.70477294921875, 'inter_token_latency_s': 0.008057924417349009, 'tokens_per_second': 17.279664201559108})"
      ]
     },
     "execution_count": 10,
     "metadata": {},
     "output_type": "execute_result"
    }
   ],
   "source": [
    "await openai.achat(\"What's your name\", model=\"gpt-4o\")"
   ]
  },
  {
   "cell_type": "markdown",
   "metadata": {},
   "source": [
    "### Chat (stream)"
   ]
  },
  {
   "cell_type": "code",
   "execution_count": 11,
   "metadata": {},
   "outputs": [
    {
     "name": "stdout",
     "output_type": "stream",
     "text": [
      "\n",
      "\n",
      "Space, the vast expanse that stretches beyond the confines of our planet, is a realm of\n",
      "\n",
      " endless mystery and wonder. Encompassing everything from our solar system to distant galaxies, it is a\n",
      "\n",
      " frontier that has captivated human imagination for centuries. In the vacuum of space, celestial bodies such as stars\n",
      "\n",
      ", planets, and asteroids dance to the gravitational rhythms dictated by the massive forces at play. The\n",
      "\n",
      " study of space, through the field of astronomy and the innovation of space exploration, has led to groundbreaking\n",
      "\n",
      " discoveries about the origins of the universe and the fundamental laws of physics. With advancements in technology, humanity\n",
      "\n",
      " has been able to send probes, satellites, and telescopes into this inky void, gaining unprecedented\n",
      "\n",
      " insights into phenomena such as black holes and cosmic microwave background radiation. As we continue to explore and unravel\n",
      "\n",
      " the mysteries of space, we broaden our understanding not just of the cosmos, but of our place within\n",
      "\n",
      " it, and the potential for life beyond Earth.\n",
      "\n",
      "## Metrics:\n",
      "{'cost_usd': 0.0028750000000000004,\n",
      " 'input_tokens': 8,\n",
      " 'inter_token_latency_s': 0.011020573816801372,\n",
      " 'latency_s': 2.498831272125244,\n",
      " 'output_tokens': 189,\n",
      " 'time_to_first_token_s': 0.4022390842437744,\n",
      " 'tokens_per_second': 76.43573302872723,\n",
      " 'total_tokens': 197}\n"
     ]
    }
   ],
   "source": [
    "response = openai.chat(\"Write a paragfraph about space\", model=\"gpt-4o\", is_stream=True)\n",
    "for i, chunk in enumerate(response):\n",
    "    if i%20==0:\n",
    "        print(\"\\n\")\n",
    "    if not chunk.metrics:\n",
    "        print(chunk.chat_output_stream, end=\"\", flush=True)\n",
    "    else:\n",
    "        print(\"\\n\\n## Metrics:\")\n",
    "        pprint(chunk.metrics)\n"
   ]
  },
  {
   "cell_type": "markdown",
   "metadata": {},
   "source": [
    "### Chat Async (stream)"
   ]
  },
  {
   "cell_type": "code",
   "execution_count": 12,
   "metadata": {},
   "outputs": [
    {
     "name": "stdout",
     "output_type": "stream",
     "text": [
      "\n",
      "\n",
      "Space, the vast and enigmatic expanse beyond our planet, has fascinated humanity for centuries. It\n",
      "\n",
      " is a realm of unparalleled beauty and mystery, filled with shimmering stars, swirling galaxies, and the haunting\n",
      "\n",
      " silence of the cosmos. Stretching infinitely in all directions, space encompasses everything from our Moon and the\n",
      "\n",
      " planets of our solar system to distant quasars and black holes, each holding secrets of the universe's\n",
      "\n",
      " origin and fate. As we continue to explore this infinite void through advanced telescopes and space missions,\n",
      "\n",
      " we uncover not only the mechanics of celestial bodies but also the fundamental questions of existence. From the allure\n",
      "\n",
      " of potential extraterrestrial life to the awe-inspiring phenomena of dark matter and dark energy, space challenges\n",
      "\n",
      " our understanding and ignites our imagination, inviting us to ponder our place in the universe.\n",
      "\n",
      "## Metrics:\n",
      "{'cost_usd': 9.779999999999999e-05,\n",
      " 'input_tokens': 8,\n",
      " 'inter_token_latency_s': 0.016468374035026455,\n",
      " 'latency_s': 2.980802059173584,\n",
      " 'output_tokens': 161,\n",
      " 'time_to_first_token_s': 0.3777499198913574,\n",
      " 'tokens_per_second': 53.34134801425967,\n",
      " 'total_tokens': 169}\n"
     ]
    }
   ],
   "source": [
    "i=0\n",
    "async for chunk in await openai.achat(\"Write a paragfraph about space\", model=\"gpt-4o-mini\", is_stream=True):\n",
    "    if i%20==0:\n",
    "        print(\"\\n\")\n",
    "    if not chunk.metrics:\n",
    "        print(chunk.chat_output_stream, end=\"\", flush=True)\n",
    "    else:\n",
    "        print(\"\\n\\n## Metrics:\")\n",
    "        pprint(chunk.metrics)\n",
    "    i+=1\n"
   ]
  },
  {
   "cell_type": "code",
   "execution_count": 13,
   "metadata": {},
   "outputs": [],
   "source": [
    "from llmstudio_tracker.tracker import Tracker\n",
    "\n",
    "tracker = Tracker(tracking_config=tracking)"
   ]
  },
  {
   "cell_type": "code",
   "execution_count": 14,
   "metadata": {},
   "outputs": [
    {
     "data": {
      "text/plain": [
       "{'chat_input': 'Write a paragfraph about space',\n",
       " 'chat_output': \"Space, the vast and enigmatic expanse beyond our planet, has fascinated humanity for centuries. It is a realm of unparalleled beauty and mystery, filled with shimmering stars, swirling galaxies, and the haunting silence of the cosmos. Stretching infinitely in all directions, space encompasses everything from our Moon and the planets of our solar system to distant quasars and black holes, each holding secrets of the universe's origin and fate. As we continue to explore this infinite void through advanced telescopes and space missions, we uncover not only the mechanics of celestial bodies but also the fundamental questions of existence. From the allure of potential extraterrestrial life to the awe-inspiring phenomena of dark matter and dark energy, space challenges our understanding and ignites our imagination, inviting us to ponder our place in the universe.\",\n",
       " 'session_id': 'openai-1',\n",
       " 'context': [{'role': 'user', 'content': 'Write a paragfraph about space'}],\n",
       " 'provider': 'openai',\n",
       " 'model': 'gpt-4o-mini',\n",
       " 'deployment': 'gpt-4o-mini-2024-07-18',\n",
       " 'parameters': {},\n",
       " 'metrics': {'input_tokens': 8,\n",
       "  'output_tokens': 161,\n",
       "  'total_tokens': 169,\n",
       "  'cost_usd': 9.779999999999999e-05,\n",
       "  'latency_s': 2.980802059173584,\n",
       "  'time_to_first_token_s': 0.3777499198913574,\n",
       "  'inter_token_latency_s': 0.016468374035026455,\n",
       "  'tokens_per_second': 53.34134801425967},\n",
       " 'log_id': 52,\n",
       " 'created_at': '2024-10-24T10:58:42'}"
      ]
     },
     "execution_count": 14,
     "metadata": {},
     "output_type": "execute_result"
    }
   ],
   "source": [
    "logs = tracker.get_session_logs(session_id=\"openai-1\")\n",
    "logs.json()[-1]"
   ]
  },
  {
   "cell_type": "code",
   "execution_count": null,
   "metadata": {},
   "outputs": [],
   "source": []
  }
 ],
 "metadata": {
  "kernelspec": {
   "display_name": "Python 3",
   "language": "python",
   "name": "python3"
  },
  "language_info": {
   "codemirror_mode": {
    "name": "ipython",
    "version": 3
   },
   "file_extension": ".py",
   "mimetype": "text/x-python",
   "name": "python",
   "nbconvert_exporter": "python",
   "pygments_lexer": "ipython3",
   "version": "3.12.2"
  }
 },
 "nbformat": 4,
 "nbformat_minor": 2
}
