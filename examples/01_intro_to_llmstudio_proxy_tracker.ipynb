{
 "cells": [
  {
   "cell_type": "markdown",
   "metadata": {},
   "source": [
    "# Intro to LLMstudio\n",
    "In this tutorial you'll be running the proxy and the tracker so you can automatically log the usage metrics and costs in the default database (`llmstudio_mgmt.db`).\n",
    "\n",
    "You'll learn:\n",
    "1. How to connect to any provider available (VertexAI, OpenAI, etc.)\n",
    "2. Make sync and async calls both with and without streaming\n",
    "3. See the save logs\n",
    "\n",
    "First things first:\n",
    "* run `pip install llmstudio[proxy, tracker]`\n",
    "* update your .env file with `GOOGLE_API_KEY` or `OPENAI_API_KEY`\n"
   ]
  },
  {
   "cell_type": "markdown",
   "metadata": {},
   "source": [
    "## Start proxy and tracking servers\n",
    "This step is to set the proxy and tracking servers.\n",
    "You can opt out to start such servers (see `llmstudio-core` for the lightest version)"
   ]
  },
  {
   "cell_type": "code",
   "execution_count": 1,
   "metadata": {},
   "outputs": [
    {
     "name": "stdout",
     "output_type": "stream",
     "text": [
      "Proxy server already running on 0.0.0.0:8001\n",
      "Tracker server already running on 0.0.0.0:8002\n"
     ]
    }
   ],
   "source": [
    "from pprint import pprint\n",
    "from llmstudio.server import start_servers\n",
    "from llmstudio_tracker.tracker import TrackingConfig\n",
    "from llmstudio_proxy.provider import ProxyConfig\n",
    "\n",
    "# start servers\n",
    "start_servers(proxy=True, tracker=True)\n",
    "\n",
    "proxy = ProxyConfig(host=\"0.0.0.0\", port=\"8001\")  # default port is 50001. set the environment varible to specify which host and port; LLMSTUDIO_ENGINE_HOST, LLMSTUDIO_ENGINE_PORT\n",
    "tracking = TrackingConfig(host=\"0.0.0.0\", port=\"8002\")  # default port is 50002. set the environment varible to specify which host and port; LLMSTUDIO_TRACKING_HOST, LLMSTUDIO_TRACKING_PORT\n",
    "\n",
    "\n"
   ]
  },
  {
   "cell_type": "code",
   "execution_count": 2,
   "metadata": {},
   "outputs": [
    {
     "name": "stdout",
     "output_type": "stream",
     "text": [
      "Connected to LLMStudio Proxy @ 0.0.0.0:8001\n",
      "Connected to LLMStudio Proxy @ 0.0.0.0:8001\n"
     ]
    }
   ],
   "source": [
    "from llmstudio.providers import LLM\n",
    "\n",
    "vertexai = LLM(\"vertexai\",\n",
    "               proxy_config=proxy,\n",
    "               tracking_config=tracking,\n",
    "               session_id=\"vertexai-1\")\n",
    "\n",
    "openai = LLM(\"openai\",\n",
    "             proxy_config=proxy,\n",
    "             tracking_config=tracking,\n",
    "             session_id=\"openai-1\")\n"
   ]
  },
  {
   "cell_type": "markdown",
   "metadata": {},
   "source": [
    "# VertexAI\n",
    "### Chat (non-stream)"
   ]
  },
  {
   "cell_type": "code",
   "execution_count": 3,
   "metadata": {},
   "outputs": [
    {
     "name": "stdout",
     "output_type": "stream",
     "text": [
      "I am a large language model, trained by Google.  I don't have a name like a person does. 😊  \n",
      "\n",
      "Do you have a name you'd like to call me?  Perhaps you'd like me to help you think of one? \n",
      "\n",
      "{'cost_usd': 0.0005474,\n",
      " 'input_tokens': 4,\n",
      " 'inter_token_latency_s': 0.2097789900643485,\n",
      " 'latency_s': 2.672753095626831,\n",
      " 'output_tokens': 52,\n",
      " 'time_to_first_token_s': 1.1776690483093262,\n",
      " 'tokens_per_second': 2.9931683600290766,\n",
      " 'total_tokens': 56}\n"
     ]
    }
   ],
   "source": [
    "response = vertexai.chat(\"What's your name\", model=\"gemini-1.5-pro-latest\")\n",
    "print(response.chat_output)\n",
    "pprint(response.metrics)"
   ]
  },
  {
   "cell_type": "markdown",
   "metadata": {},
   "source": [
    "### Chat Async (non-stream)"
   ]
  },
  {
   "cell_type": "code",
   "execution_count": 4,
   "metadata": {},
   "outputs": [
    {
     "data": {
      "text/plain": [
       "ChatCompletion(id='8bd7c2e8-d347-452f-861b-51eed141b7d9', choices=[Choice(finish_reason='stop', index=0, logprobs=None, message=ChatCompletionMessage(content=\"I am a large language model, so I don't have a name like a person does.  You can call me your helpful assistant! 😊  How can I help you today? \\n\", refusal=None, role='assistant', audio=None, function_call=None, tool_calls=None))], created=1729705450, model='gemini-1.5-pro-latest', object='chat.completion', service_tier=None, system_fingerprint=None, usage=None, chat_input=\"What's your name\", chat_output=\"I am a large language model, so I don't have a name like a person does.  You can call me your helpful assistant! 😊  How can I help you today? \\n\", chat_output_stream='', context=[{'role': 'user', 'content': \"What's your name\"}], provider='vertexai', deployment='gemini-1.5-pro-latest', timestamp=1729705451.026737, parameters={}, metrics={'input_tokens': 4, 'output_tokens': 39, 'total_tokens': 43, 'cost_usd': 0.00041089999999999996, 'latency_s': 1.919522762298584, 'time_to_first_token_s': 1.13057279586792, 'inter_token_latency_s': 0.10878590175083705, 'tokens_per_second': 4.167702596253761})"
      ]
     },
     "execution_count": 4,
     "metadata": {},
     "output_type": "execute_result"
    }
   ],
   "source": [
    "await vertexai.achat(\"What's your name\", model=\"gemini-1.5-pro-latest\")"
   ]
  },
  {
   "cell_type": "markdown",
   "metadata": {},
   "source": [
    "### Chat (stream)"
   ]
  },
  {
   "cell_type": "code",
   "execution_count": 5,
   "metadata": {},
   "outputs": [
    {
     "name": "stdout",
     "output_type": "stream",
     "text": [
      "\n",
      "\n",
      "Space, a seemingly endless tapestry of darkness speckled with brilliant celestial objects, has captivated humanity\n",
      "\n",
      " since we first looked up at the night sky. This vast expanse, mostly empty yet teeming with unseen forces, is home to swirling galaxies, dazzling nebulae, and fiery stars burning with unimaginable energy.  From the smallest asteroid to the largest\n",
      "\n",
      " black hole, space is a realm of mystery and wonder, constantly challenging our understanding of the universe and our place within it. \n",
      "\n",
      "\n",
      "## Metrics:\n",
      "{'cost_usd': 0.0010423,\n",
      " 'input_tokens': 8,\n",
      " 'inter_token_latency_s': 0.18026659223768446,\n",
      " 'latency_s': 2.8587160110473633,\n",
      " 'output_tokens': 99,\n",
      " 'time_to_first_token_s': 1.2113127708435059,\n",
      " 'tokens_per_second': 3.4980739469592312,\n",
      " 'total_tokens': 107}\n"
     ]
    }
   ],
   "source": [
    "response = vertexai.chat(\"Write a paragfraph about space\", model=\"gemini-1.5-pro-latest\", is_stream=True)\n",
    "for i, chunk in enumerate(response):\n",
    "    if i%2==0:\n",
    "        print(\"\\n\")\n",
    "    if not chunk.metrics:\n",
    "        print(chunk.chat_output_stream, end=\"\", flush=True)\n",
    "    else:\n",
    "        print(\"\\n\\n## Metrics:\")\n",
    "        pprint(chunk.metrics)\n"
   ]
  },
  {
   "cell_type": "markdown",
   "metadata": {},
   "source": [
    "### Chat Async (stream)"
   ]
  },
  {
   "cell_type": "code",
   "execution_count": 6,
   "metadata": {},
   "outputs": [
    {
     "name": "stdout",
     "output_type": "stream",
     "text": [
      "Space, an endless expanse of darkness sprinkled with the brilliant light of stars, planets,\n",
      "\n",
      " and galaxies, continues to fascinate and inspire us.  It represents the ultimate frontier, filled with mystery and wonder, constantly challenging our understanding of the universe and our place within it. From the fiery birth of stars to the colossal dance of galaxies, space offers a glimpse into the raw power and beauty of the cosmos, urging us to explore, discover, and push the boundaries of human knowledge. \n",
      "\n",
      "\n",
      "## Metrics:\n",
      "{'cost_usd': 0.0010423,\n",
      " 'input_tokens': 8,\n",
      " 'inter_token_latency_s': 0.16539198702031915,\n",
      " 'latency_s': 2.9681239128112793,\n",
      " 'output_tokens': 99,\n",
      " 'time_to_first_token_s': 1.123415231704712,\n",
      " 'tokens_per_second': 4.042957892763351,\n",
      " 'total_tokens': 107}\n"
     ]
    }
   ],
   "source": [
    "i=0\n",
    "async for chunk in await vertexai.achat(\"Write a paragfraph about space\", model=\"gemini-1.5-pro-latest\", is_stream=True):\n",
    "    if i%20==2:\n",
    "        print(\"\\n\")\n",
    "    if not chunk.metrics:\n",
    "        print(chunk.chat_output_stream, end=\"\", flush=True)\n",
    "    else:\n",
    "        print(\"\\n\\n## Metrics:\")\n",
    "        pprint(chunk.metrics)\n",
    "    i+=1\n"
   ]
  },
  {
   "cell_type": "markdown",
   "metadata": {},
   "source": [
    "### Get session metrics and usage"
   ]
  },
  {
   "cell_type": "code",
   "execution_count": 7,
   "metadata": {},
   "outputs": [],
   "source": [
    "from llmstudio_tracker.tracker import Tracker\n",
    "\n",
    "tracker = Tracker(tracking_config=tracking)"
   ]
  },
  {
   "cell_type": "code",
   "execution_count": 16,
   "metadata": {},
   "outputs": [
    {
     "data": {
      "text/plain": [
       "{'chat_input': 'Write a paragfraph about space',\n",
       " 'chat_output': 'Space, an endless expanse of darkness sprinkled with the brilliant light of stars, planets, and galaxies, continues to fascinate and inspire us.  It represents the ultimate frontier, filled with mystery and wonder, constantly challenging our understanding of the universe and our place within it. From the fiery birth of stars to the colossal dance of galaxies, space offers a glimpse into the raw power and beauty of the cosmos, urging us to explore, discover, and push the boundaries of human knowledge. \\n',\n",
       " 'session_id': 'vertexai-1',\n",
       " 'context': [{'role': 'user', 'content': 'Write a paragfraph about space'}],\n",
       " 'provider': 'vertexai',\n",
       " 'model': 'gemini-1.5-pro-latest',\n",
       " 'deployment': 'gemini-1.5-pro-latest',\n",
       " 'parameters': {},\n",
       " 'metrics': {'input_tokens': 8,\n",
       "  'output_tokens': 99,\n",
       "  'total_tokens': 107,\n",
       "  'cost_usd': 0.0010423,\n",
       "  'latency_s': 2.9681239128112793,\n",
       "  'time_to_first_token_s': 1.123415231704712,\n",
       "  'inter_token_latency_s': 0.16539198702031915,\n",
       "  'tokens_per_second': 4.042957892763351},\n",
       " 'log_id': 12,\n",
       " 'created_at': '2024-10-23T17:44:16'}"
      ]
     },
     "execution_count": 16,
     "metadata": {},
     "output_type": "execute_result"
    }
   ],
   "source": [
    "logs = tracker.get_session_logs(session_id=\"vertexai-1\")\n",
    "logs.json()[-1]\n"
   ]
  },
  {
   "cell_type": "markdown",
   "metadata": {},
   "source": [
    "# OpenAI\n",
    "### Chat (non-stream)"
   ]
  },
  {
   "cell_type": "code",
   "execution_count": 9,
   "metadata": {},
   "outputs": [
    {
     "name": "stdout",
     "output_type": "stream",
     "text": [
      "I’m an AI and don’t have a personal name, but you can call me Assistant! How can I help you today?\n",
      "{'cost_usd': 0.00041,\n",
      " 'input_tokens': 4,\n",
      " 'inter_token_latency_s': 0.014148403097082067,\n",
      " 'latency_s': 0.7885832786560059,\n",
      " 'output_tokens': 26,\n",
      " 'time_to_first_token_s': 0.40587806701660156,\n",
      " 'tokens_per_second': 35.506712807454925,\n",
      " 'total_tokens': 30}\n"
     ]
    }
   ],
   "source": [
    "response = openai.chat(\"What's your name\", model=\"gpt-4o\")\n",
    "print(response.chat_output)\n",
    "pprint(response.metrics)"
   ]
  },
  {
   "cell_type": "markdown",
   "metadata": {},
   "source": [
    "### Chat Async (non-stream)"
   ]
  },
  {
   "cell_type": "code",
   "execution_count": 10,
   "metadata": {},
   "outputs": [
    {
     "data": {
      "text/plain": [
       "ChatCompletion(id='a5f215bb-9ff3-4988-a963-a3338dc8b391', choices=[Choice(finish_reason='stop', index=0, logprobs=None, message=ChatCompletionMessage(content=\"I'm ChatGPT, an AI language model created by OpenAI. How can I assist you today?\", refusal=None, role='assistant', audio=None, function_call=None, tool_calls=None))], created=1729705458, model='gpt-4o', object='chat.completion', service_tier=None, system_fingerprint=None, usage=None, chat_input=\"What's your name\", chat_output=\"I'm ChatGPT, an AI language model created by OpenAI. How can I assist you today?\", chat_output_stream='', context=[{'role': 'user', 'content': \"What's your name\"}], provider='openai', deployment='gpt-4o-2024-08-06', timestamp=1729705458.354282, parameters={}, metrics={'input_tokens': 4, 'output_tokens': 22, 'total_tokens': 26, 'cost_usd': 0.00035, 'latency_s': 0.5982279777526855, 'time_to_first_token_s': 0.44232702255249023, 'inter_token_latency_s': 0.007402385984148298, 'tokens_per_second': 36.77527768367774})"
      ]
     },
     "execution_count": 10,
     "metadata": {},
     "output_type": "execute_result"
    }
   ],
   "source": [
    "await openai.achat(\"What's your name\", model=\"gpt-4o\")"
   ]
  },
  {
   "cell_type": "markdown",
   "metadata": {},
   "source": [
    "### Chat (stream)"
   ]
  },
  {
   "cell_type": "code",
   "execution_count": 11,
   "metadata": {},
   "outputs": [
    {
     "name": "stdout",
     "output_type": "stream",
     "text": [
      "\n",
      "\n",
      "Space, the vast expanse beyond Earth's atmosphere, is a realm of infinite possibilities and mysteries waiting\n",
      "\n",
      " to be unraveled. It encompasses everything from the glowing stars and distant galaxies to the dark void of\n",
      "\n",
      " interstellar space. Its boundless nature challenges our understanding and fuels our curiosity, driving scientists and explorers\n",
      "\n",
      ", both past and present, to seek answers to profound questions about the origins of the universe, the\n",
      "\n",
      " potential for extraterrestrial life, and the future of humanity. As technology advances, our reach into space\n",
      "\n",
      " extends further, offering glimpses through telescopes and exploratory missions, hinting at the wonders that lie\n",
      "\n",
      " beyond. Space is not only a physical frontier but also a symbol of humanity's innate desire to discover\n",
      "\n",
      ", explore, and push the boundaries of what is known.\n",
      "\n",
      "## Metrics:\n",
      "{'cost_usd': 0.0023650000000000003,\n",
      " 'input_tokens': 8,\n",
      " 'inter_token_latency_s': 0.01879954024365074,\n",
      " 'latency_s': 3.3779349327087402,\n",
      " 'output_tokens': 155,\n",
      " 'time_to_first_token_s': 0.5194039344787598,\n",
      " 'tokens_per_second': 45.293945279552936,\n",
      " 'total_tokens': 163}\n"
     ]
    }
   ],
   "source": [
    "response = openai.chat(\"Write a paragfraph about space\", model=\"gpt-4o\", is_stream=True)\n",
    "for i, chunk in enumerate(response):\n",
    "    if i%20==0:\n",
    "        print(\"\\n\")\n",
    "    if not chunk.metrics:\n",
    "        print(chunk.chat_output_stream, end=\"\", flush=True)\n",
    "    else:\n",
    "        print(\"\\n\\n## Metrics:\")\n",
    "        pprint(chunk.metrics)\n"
   ]
  },
  {
   "cell_type": "markdown",
   "metadata": {},
   "source": [
    "### Chat Async (stream)"
   ]
  },
  {
   "cell_type": "code",
   "execution_count": 12,
   "metadata": {},
   "outputs": [
    {
     "name": "stdout",
     "output_type": "stream",
     "text": [
      "\n",
      "\n",
      "Space, a vast and mysterious expanse that surrounds our planet, is a realm of infinite wonder\n",
      "\n",
      " and exploration. It stretches beyond the limits of our imagination, containing countless galaxies, stars, and celestial\n",
      "\n",
      " bodies, each with its own unique characteristics and stories. The silence of the cosmos contrasts sharply with the\n",
      "\n",
      " vibrant activities of life on Earth, yet it serves as a reminder of our place in the universe.\n",
      "\n",
      " Scientists and astronomers tirelessly study the cosmos, seeking to unravel its secrets and understand phenomena such as black\n",
      "\n",
      " holes, dark matter, and the origins of the universe itself. As technology advances, the prospect of\n",
      "\n",
      " exploring space becomes increasingly tangible, igniting our curiosity and inspiring innovations that may one day allow humanity to\n",
      "\n",
      " venture beyond our home planet to explore distant worlds and possibly encounter extraterrestrial life.\n",
      "\n",
      "## Metrics:\n",
      "{'cost_usd': 9.42e-05,\n",
      " 'input_tokens': 8,\n",
      " 'inter_token_latency_s': 0.015902448923159868,\n",
      " 'latency_s': 2.8534650802612305,\n",
      " 'output_tokens': 155,\n",
      " 'time_to_first_token_s': 0.37223005294799805,\n",
      " 'tokens_per_second': 55.02082401009333,\n",
      " 'total_tokens': 163}\n"
     ]
    }
   ],
   "source": [
    "i=0\n",
    "async for chunk in await openai.achat(\"Write a paragfraph about space\", model=\"gpt-4o-mini\", is_stream=True):\n",
    "    if i%20==0:\n",
    "        print(\"\\n\")\n",
    "    if not chunk.metrics:\n",
    "        print(chunk.chat_output_stream, end=\"\", flush=True)\n",
    "    else:\n",
    "        print(\"\\n\\n## Metrics:\")\n",
    "        pprint(chunk.metrics)\n",
    "    i+=1\n"
   ]
  },
  {
   "cell_type": "code",
   "execution_count": 13,
   "metadata": {},
   "outputs": [],
   "source": [
    "from llmstudio_tracker.tracker import Tracker\n",
    "\n",
    "tracker = Tracker(tracking_config=tracking)"
   ]
  },
  {
   "cell_type": "code",
   "execution_count": 15,
   "metadata": {},
   "outputs": [
    {
     "data": {
      "text/plain": [
       "{'chat_input': 'Write a paragfraph about space',\n",
       " 'chat_output': 'Space, a vast and mysterious expanse that surrounds our planet, is a realm of infinite wonder and exploration. It stretches beyond the limits of our imagination, containing countless galaxies, stars, and celestial bodies, each with its own unique characteristics and stories. The silence of the cosmos contrasts sharply with the vibrant activities of life on Earth, yet it serves as a reminder of our place in the universe. Scientists and astronomers tirelessly study the cosmos, seeking to unravel its secrets and understand phenomena such as black holes, dark matter, and the origins of the universe itself. As technology advances, the prospect of exploring space becomes increasingly tangible, igniting our curiosity and inspiring innovations that may one day allow humanity to venture beyond our home planet to explore distant worlds and possibly encounter extraterrestrial life.',\n",
       " 'session_id': 'openai-1',\n",
       " 'context': [{'role': 'user', 'content': 'Write a paragfraph about space'}],\n",
       " 'provider': 'openai',\n",
       " 'model': 'gpt-4o-mini',\n",
       " 'deployment': 'gpt-4o-mini-2024-07-18',\n",
       " 'parameters': {},\n",
       " 'metrics': {'input_tokens': 8,\n",
       "  'output_tokens': 155,\n",
       "  'total_tokens': 163,\n",
       "  'cost_usd': 9.42e-05,\n",
       "  'latency_s': 2.8534650802612305,\n",
       "  'time_to_first_token_s': 0.37223005294799805,\n",
       "  'inter_token_latency_s': 0.015902448923159868,\n",
       "  'tokens_per_second': 55.02082401009333},\n",
       " 'log_id': 16,\n",
       " 'created_at': '2024-10-23T17:44:24'}"
      ]
     },
     "execution_count": 15,
     "metadata": {},
     "output_type": "execute_result"
    }
   ],
   "source": [
    "logs = tracker.get_session_logs(session_id=\"openai-1\")\n",
    "logs.json()[-1]"
   ]
  },
  {
   "cell_type": "code",
   "execution_count": null,
   "metadata": {},
   "outputs": [],
   "source": []
  }
 ],
 "metadata": {
  "kernelspec": {
   "display_name": "Python 3",
   "language": "python",
   "name": "python3"
  },
  "language_info": {
   "codemirror_mode": {
    "name": "ipython",
    "version": 3
   },
   "file_extension": ".py",
   "mimetype": "text/x-python",
   "name": "python",
   "nbconvert_exporter": "python",
   "pygments_lexer": "ipython3",
   "version": "3.12.2"
  }
 },
 "nbformat": 4,
 "nbformat_minor": 2
}
