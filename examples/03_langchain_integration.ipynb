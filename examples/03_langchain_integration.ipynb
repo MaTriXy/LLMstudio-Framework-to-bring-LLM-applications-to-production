{
 "cells": [
  {
   "cell_type": "code",
   "execution_count": 9,
   "metadata": {},
   "outputs": [],
   "source": [
    "from langchain.callbacks.base import BaseCallbackHandler\n",
    "from langchain.schema import LLMResult\n",
    "\n",
    "class MyCustomHandler(BaseCallbackHandler):\n",
    "    def on_llm_new_token(self, token:str, **kwargs) -> None:\n",
    "        print(f\"Received streaming token {token}, kwargs:{kwargs}\")\n",
    "        \n",
    "    def on_llm_end(self, response: LLMResult, **kwargs) -> None:\n",
    "        print(f\"Received non-streaming response: {response}\")"
   ]
  },
  {
   "cell_type": "markdown",
   "metadata": {},
   "source": [
    "# Open AI"
   ]
  },
  {
   "cell_type": "code",
   "execution_count": 1,
   "metadata": {},
   "outputs": [],
   "source": [
    "from langchain.callbacks.base import BaseCallbackHandler\n",
    "from langchain.schema import LLMResult\n",
    "\n",
    "class MyCustomHandler(BaseCallbackHandler):\n",
    "    def on_llm_new_token(self, token:str, **kwargs) -> None:\n",
    "        print(f\"Received streaming token {token}, kwargs:{kwargs}\")\n",
    "        \n",
    "    def on_llm_end(self, response: LLMResult, **kwargs) -> None:\n",
    "        print(f\"Received non-streaming response: {response}\")"
   ]
  },
  {
   "cell_type": "code",
   "execution_count": 2,
   "metadata": {},
   "outputs": [],
   "source": [
    "from llmstudio.llm.langchain import ChatLLMstudio\n",
    "from llmstudio import LLM"
   ]
  },
  {
   "cell_type": "code",
   "execution_count": 3,
   "metadata": {},
   "outputs": [
    {
     "name": "stdout",
     "output_type": "stream",
     "text": [
      "Running LLMstudio Engine on http://localhost:50001 Running LLMstudio Tracking on http://localhost:50002 \n",
      "\n",
      "openai.py - request: api_key=None model='gpt-3.5-turbo' chat_input=[{'role': 'system', 'content': 'You are a helpful AI assistant.'}, {'role': 'user', 'content': 'When does my train depart? My ticket is 1234'}] parameters=OpenAIParameters(temperature=0.0, max_tokens=None, top_p=None, frequency_penalty=None, presence_penalty=None) is_stream=False has_end_token=False functions=[{'name': 'get_departure', 'description': 'get_departure(ticket_number: str) - Use this to fetch the departure time of a train', 'parameters': {'type': 'object', 'properties': {'ticket_number': {'type': 'string'}}, 'required': ['ticket_number']}}, {'name': 'cancel_ticket', 'description': 'cancel_ticket(ticket_number: str) - Use this to cancel a ticket', 'parameters': {'type': 'object', 'properties': {'ticket_number': {'type': 'string'}}, 'required': ['ticket_number']}}, {'name': 'buy_ticket', 'description': 'buy_ticket(destination: str) - Use this to buy a ticket', 'parameters': {'type': 'object', 'properties': {'destination': {'type': 'string'}}, 'required': ['destination']}}, {'name': 'make_complaint', 'description': 'make_complaint(complaint: str) - Use this to forward a complaint to the complaint department', 'parameters': {'type': 'object', 'properties': {'complaint': {'type': 'string'}}, 'required': ['complaint']}}] session_id=None retries=0 response_format=None\n",
      "openai.py - request: api_key=None model='gpt-3.5-turbo' chat_input=[{'role': 'system', 'content': 'You are a helpful AI assistant.'}, {'role': 'user', 'content': 'When does my train depart? My ticket is 1234'}, {'role': 'assistant', 'content': None, 'function_call': {'arguments': '{\"ticket_number\":\"1234\"}', 'name': 'get_departure'}}, {'role': 'function', 'content': '12:00 AM', 'name': 'get_departure'}] parameters=OpenAIParameters(temperature=0.0, max_tokens=None, top_p=None, frequency_penalty=None, presence_penalty=None) is_stream=False has_end_token=False functions=[{'name': 'get_departure', 'description': 'get_departure(ticket_number: str) - Use this to fetch the departure time of a train', 'parameters': {'type': 'object', 'properties': {'ticket_number': {'type': 'string'}}, 'required': ['ticket_number']}}, {'name': 'cancel_ticket', 'description': 'cancel_ticket(ticket_number: str) - Use this to cancel a ticket', 'parameters': {'type': 'object', 'properties': {'ticket_number': {'type': 'string'}}, 'required': ['ticket_number']}}, {'name': 'buy_ticket', 'description': 'buy_ticket(destination: str) - Use this to buy a ticket', 'parameters': {'type': 'object', 'properties': {'destination': {'type': 'string'}}, 'required': ['destination']}}, {'name': 'make_complaint', 'description': 'make_complaint(complaint: str) - Use this to forward a complaint to the complaint department', 'parameters': {'type': 'object', 'properties': {'complaint': {'type': 'string'}}, 'required': ['complaint']}}] session_id=None retries=0 response_format=None\n",
      "openai.py - request: api_key=None model='gpt-3.5-turbo' chat_input=[{'role': 'user', 'content': 'Hello'}] parameters=OpenAIParameters(temperature=0.0, max_tokens=None, top_p=None, frequency_penalty=None, presence_penalty=None) is_stream=False has_end_token=False functions=None session_id=None retries=0 response_format=None\n"
     ]
    }
   ],
   "source": [
    "# lc_llm = ChatLLMstudio(model_id='openai/gpt-3.5-turbo', temperature=0)\n",
    "lc_llm = ChatLLMstudio(model_id='openai/gpt-3.5-turbo', temperature=0)"
   ]
  },
  {
   "cell_type": "code",
   "execution_count": 6,
   "metadata": {},
   "outputs": [
    {
     "data": {
      "text/plain": [
       "AIMessage(content='Hello! How can I assist you today?', response_metadata={'token_usage': None, 'model_name': 'gpt-3.5-turbo', 'system_fingerprint': None, 'finish_reason': 'stop', 'logprobs': None}, id='run-b8a79a01-1f7f-4aca-9fe1-57753cfb85b2-0')"
      ]
     },
     "execution_count": 6,
     "metadata": {},
     "output_type": "execute_result"
    }
   ],
   "source": [
    "lc_llm.invoke('Hello')"
   ]
  },
  {
   "cell_type": "code",
   "execution_count": 4,
   "metadata": {},
   "outputs": [],
   "source": [
    "from langchain.tools import tool\n",
    "from langchain.agents import AgentType, initialize_agent\n",
    "\n",
    "@tool\n",
    "def get_departure(ticket_number: str):\n",
    "    \"\"\"Use this to fetch the departure time of a train\"\"\"\n",
    "    return \"12:00 AM\"\n",
    "\n",
    "@tool\n",
    "def cancel_ticket(ticket_number: str):\n",
    "    \"\"\"Use this to cancel a ticket\"\"\"\n",
    "    return \"Ticket cancelled\"\n",
    "\n",
    "@tool\n",
    "def buy_ticket(destination: str):\n",
    "    \"\"\"Use this to buy a ticket\"\"\"\n",
    "    return \"Bought ticket number 123456\"\n",
    "\n",
    "@tool\n",
    "def make_complaint(complaint: str):\n",
    "    \"\"\"Use this to forward a complaint to the complaint department\"\"\"\n",
    "    return \"Complaint forwarded. We appreciate your feedback.\"\n",
    "\n",
    "\n",
    "def assistant(question: str)->str:\n",
    "    \"\"\"YOUR CODE HERE\"\"\"\n",
    "    tools = [get_departure, cancel_ticket, buy_ticket, make_complaint]\n",
    "    print(tools)\n",
    "\n",
    "    #rebuild agent with new tools\n",
    "    agent_executor = initialize_agent(\n",
    "        tools, lc_llm, agent=AgentType.OPENAI_FUNCTIONS, handle_parsing_errors=\"Check your output and make sure it conforms!\", verbose = True, debug = True\n",
    "    )\n",
    "\n",
    "    response = agent_executor.invoke(\n",
    "        {\n",
    "            \"input\": question\n",
    "        }\n",
    "    )\n",
    "\n",
    "    return response"
   ]
  },
  {
   "cell_type": "code",
   "execution_count": 5,
   "metadata": {},
   "outputs": [
    {
     "name": "stdout",
     "output_type": "stream",
     "text": [
      "[StructuredTool(name='get_departure', description='get_departure(ticket_number: str) - Use this to fetch the departure time of a train', args_schema=<class 'pydantic.v1.main.get_departureSchema'>, func=<function get_departure at 0x13fe33b00>), StructuredTool(name='cancel_ticket', description='cancel_ticket(ticket_number: str) - Use this to cancel a ticket', args_schema=<class 'pydantic.v1.main.cancel_ticketSchema'>, func=<function cancel_ticket at 0x13fe32f20>), StructuredTool(name='buy_ticket', description='buy_ticket(destination: str) - Use this to buy a ticket', args_schema=<class 'pydantic.v1.main.buy_ticketSchema'>, func=<function buy_ticket at 0x149678360>), StructuredTool(name='make_complaint', description='make_complaint(complaint: str) - Use this to forward a complaint to the complaint department', args_schema=<class 'pydantic.v1.main.make_complaintSchema'>, func=<function make_complaint at 0x149678c20>)]\n",
      "\n",
      "\n",
      "\u001b[1m> Entering new AgentExecutor chain...\u001b[0m\n"
     ]
    },
    {
     "name": "stderr",
     "output_type": "stream",
     "text": [
      "/opt/anaconda3/envs/llmstudiodev/lib/python3.11/site-packages/langchain_core/_api/deprecation.py:119: LangChainDeprecationWarning: The function `initialize_agent` was deprecated in LangChain 0.1.0 and will be removed in 0.3.0. Use Use new agent constructor methods like create_react_agent, create_json_agent, create_structured_chat_agent, etc. instead.\n",
      "  warn_deprecated(\n"
     ]
    },
    {
     "name": "stdout",
     "output_type": "stream",
     "text": [
      "\u001b[32;1m\u001b[1;3m\n",
      "Invoking: `get_departure` with `{'ticket_number': '1234'}`\n",
      "\n",
      "\n",
      "\u001b[0m\u001b[36;1m\u001b[1;3m12:00 AM\u001b[0m\u001b[32;1m\u001b[1;3mYour train departs at 12:00 AM.\u001b[0m\n",
      "\n",
      "\u001b[1m> Finished chain.\u001b[0m\n"
     ]
    },
    {
     "data": {
      "text/plain": [
       "{'input': 'When does my train depart? My ticket is 1234',\n",
       " 'output': 'Your train departs at 12:00 AM.'}"
      ]
     },
     "execution_count": 5,
     "metadata": {},
     "output_type": "execute_result"
    }
   ],
   "source": [
    "assistant('When does my train depart? My ticket is 1234')\n"
   ]
  },
  {
   "cell_type": "code",
   "execution_count": null,
   "metadata": {},
   "outputs": [],
   "source": [
    "assistant('Hello')"
   ]
  },
  {
   "cell_type": "markdown",
   "metadata": {},
   "source": [
    "# Vertex AI"
   ]
  },
  {
   "cell_type": "code",
   "execution_count": 1,
   "metadata": {},
   "outputs": [],
   "source": [
    "from llmstudio.llm.langchain import ChatLLMstudio\n",
    "from llmstudio import LLM"
   ]
  },
  {
   "cell_type": "code",
   "execution_count": 2,
   "metadata": {},
   "outputs": [
    {
     "name": "stdout",
     "output_type": "stream",
     "text": [
      "Running LLMstudio Engine on http://localhost:51816 Running LLMstudio Tracking on http://localhost:51817 \n",
      "\n"
     ]
    }
   ],
   "source": [
    "# lc_llm = ChatLLMstudio(model_id='openai/gpt-3.5-turbo', temperature=0)\n",
    "lc_llm = ChatLLMstudio(model_id='vertexai/gemini-1.5-flash', temperature=0)"
   ]
  },
  {
   "cell_type": "code",
   "execution_count": 3,
   "metadata": {},
   "outputs": [
    {
     "data": {
      "text/plain": [
       "AIMessage(content='Please provide me with the tool responses you received. I need that information to understand the context and answer your question.  \\n', response_metadata={'token_usage': None, 'model_name': 'gemini-1.5-flash', 'system_fingerprint': None, 'finish_reason': 'stop', 'logprobs': None}, id='run-e33b97f8-7fca-47f7-ba60-0f629961d3ea-0')"
      ]
     },
     "execution_count": 3,
     "metadata": {},
     "output_type": "execute_result"
    }
   ],
   "source": [
    "lc_llm.invoke('Hello')"
   ]
  },
  {
   "cell_type": "code",
   "execution_count": 3,
   "metadata": {},
   "outputs": [],
   "source": [
    "from langchain.tools import tool\n",
    "from langchain.agents import AgentType, initialize_agent\n",
    "\n",
    "@tool\n",
    "def get_departure(ticket_number: str):\n",
    "    \"\"\"Use this to fetch the departure time of a train\"\"\"\n",
    "    return \"12:00 AM\"\n",
    "\n",
    "@tool\n",
    "def cancel_ticket(ticket_number: str):\n",
    "    \"\"\"Use this to cancel a ticket\"\"\"\n",
    "    return \"Ticket cancelled\"\n",
    "\n",
    "@tool\n",
    "def buy_ticket(destination: str):\n",
    "    \"\"\"Use this to buy a ticket\"\"\"\n",
    "    return \"Bought ticket number 123456\"\n",
    "\n",
    "@tool\n",
    "def make_complaint(complaint: str):\n",
    "    \"\"\"Use this to forward a complaint to the complaint department\"\"\"\n",
    "    return \"Complaint forwarded. We appreciate your feedback.\"\n"
   ]
  },
  {
   "cell_type": "code",
   "execution_count": 4,
   "metadata": {},
   "outputs": [],
   "source": [
    "def assistant(question: str)->str:\n",
    "    \"\"\"YOUR CODE HERE\"\"\"\n",
    "    tools = [get_departure, cancel_ticket, buy_ticket, make_complaint]\n",
    "    print(tools)\n",
    "\n",
    "    #rebuild agent with new tools\n",
    "    agent_executor = initialize_agent(\n",
    "        tools, lc_llm, agent=AgentType.OPENAI_FUNCTIONS, handle_parsing_errors=\"Check your output and make sure it conforms!\", verbose = True, debug = True\n",
    "    )\n",
    "\n",
    "    response = agent_executor.invoke(\n",
    "        {\n",
    "            \"input\": question\n",
    "        }\n",
    "    )\n",
    "\n",
    "    return response"
   ]
  },
  {
   "cell_type": "code",
   "execution_count": 5,
   "metadata": {},
   "outputs": [
    {
     "name": "stdout",
     "output_type": "stream",
     "text": [
      "[StructuredTool(name='get_departure', description='get_departure(ticket_number: str) - Use this to fetch the departure time of a train', args_schema=<class 'pydantic.v1.main.get_departureSchema'>, func=<function get_departure at 0x136cc7060>), StructuredTool(name='cancel_ticket', description='cancel_ticket(ticket_number: str) - Use this to cancel a ticket', args_schema=<class 'pydantic.v1.main.cancel_ticketSchema'>, func=<function cancel_ticket at 0x136d3cb80>), StructuredTool(name='buy_ticket', description='buy_ticket(destination: str) - Use this to buy a ticket', args_schema=<class 'pydantic.v1.main.buy_ticketSchema'>, func=<function buy_ticket at 0x141d97740>), StructuredTool(name='make_complaint', description='make_complaint(complaint: str) - Use this to forward a complaint to the complaint department', args_schema=<class 'pydantic.v1.main.make_complaintSchema'>, func=<function make_complaint at 0x141d97f60>)]\n",
      "\n",
      "\n",
      "\u001b[1m> Entering new AgentExecutor chain...\u001b[0m\n"
     ]
    },
    {
     "name": "stderr",
     "output_type": "stream",
     "text": [
      "/opt/anaconda3/envs/llmstudiodev/lib/python3.11/site-packages/langchain_core/_api/deprecation.py:119: LangChainDeprecationWarning: The function `initialize_agent` was deprecated in LangChain 0.1.0 and will be removed in 0.3.0. Use Use new agent constructor methods like create_react_agent, create_json_agent, create_structured_chat_agent, etc. instead.\n",
      "  warn_deprecated(\n"
     ]
    },
    {
     "name": "stdout",
     "output_type": "stream",
     "text": [
      "\u001b[32;1m\u001b[1;3m\n",
      "Invoking: `buy_ticket` with `{'destination': 'madrid'}`\n",
      "\n",
      "\n",
      "\u001b[0m\u001b[38;5;200m\u001b[1;3mBought ticket number 123456\u001b[0m\u001b[32;1m\u001b[1;3m\n",
      "Invoking: `get_departure` with `{'ticket_number': '123456'}`\n",
      "\n",
      "\n",
      "\u001b[0m\u001b[36;1m\u001b[1;3m12:00 AM\u001b[0m\u001b[32;1m\u001b[1;3mI have bought a ticket for Madrid with ticket number 123456. The train departs at 12:00 AM. \n",
      "\u001b[0m\n",
      "\n",
      "\u001b[1m> Finished chain.\u001b[0m\n"
     ]
    },
    {
     "data": {
      "text/plain": [
       "{'input': 'Can you buy me a ticket for madrid, and tell me when the train depparts?',\n",
       " 'output': 'I have bought a ticket for Madrid with ticket number 123456. The train departs at 12:00 AM. \\n'}"
      ]
     },
     "execution_count": 5,
     "metadata": {},
     "output_type": "execute_result"
    }
   ],
   "source": [
    "assistant('Can you buy me a ticket for madrid, and tell me when the train depparts?')"
   ]
  },
  {
   "cell_type": "code",
   "execution_count": 6,
   "metadata": {},
   "outputs": [],
   "source": [
    "from langchain.tools import tool\n",
    "from langchain.agents import AgentType, initialize_agent\n",
    "\n",
    "@tool\n",
    "def power_disco_ball(power: bool) -> bool:\n",
    "    \"\"\"Powers the spinning disco ball.\"\"\"\n",
    "    print(f\"Disco ball is {'spinning!' if power else 'stopped.'}\")\n",
    "    return True\n",
    "\n",
    "@tool\n",
    "def start_music(energetic: bool, loud: bool, bpm: int) -> str:\n",
    "    \"\"\"Play some music matching the specified parameters.\n",
    "\n",
    "    Args:\n",
    "      energetic: Whether the music is energetic or not.\n",
    "      loud: Whether the music is loud or not.\n",
    "      bpm: The beats per minute of the music.\n",
    "\n",
    "    Returns: The name of the song being played.\n",
    "    \"\"\"\n",
    "    print(f\"Starting music! {energetic=} {loud=}, {bpm=}\")\n",
    "    return \"Never gonna give you up.\"\n",
    "\n",
    "@tool\n",
    "def dim_lights(brightness: float) -> bool:\n",
    "    \"\"\"Dim the lights.\n",
    "\n",
    "    Args:\n",
    "      brightness: The brightness of the lights, 0.0 is off, 1.0 is full.\n",
    "    \"\"\"\n",
    "    print(f\"Lights are now set to {brightness:.0%}\")\n",
    "    return True\n"
   ]
  },
  {
   "cell_type": "code",
   "execution_count": 7,
   "metadata": {},
   "outputs": [],
   "source": [
    "def assistant(question: str)->str:\n",
    "    \"\"\"YOUR CODE HERE\"\"\"\n",
    "    tools = [power_disco_ball, start_music, dim_lights]\n",
    "    print(tools)\n",
    "\n",
    "    #rebuild agent with new tools\n",
    "    agent_executor = initialize_agent(\n",
    "        tools, lc_llm, agent=AgentType.OPENAI_FUNCTIONS, handle_parsing_errors=\"Check your output and make sure it conforms!\", verbose = True, debug = True\n",
    "    )\n",
    "\n",
    "    response = agent_executor.invoke(\n",
    "        {\n",
    "            \"input\": question\n",
    "        }\n",
    "    )\n",
    "\n",
    "    return response"
   ]
  },
  {
   "cell_type": "code",
   "execution_count": 8,
   "metadata": {},
   "outputs": [
    {
     "name": "stdout",
     "output_type": "stream",
     "text": [
      "[StructuredTool(name='power_disco_ball', description='power_disco_ball(power: bool) -> bool - Powers the spinning disco ball.', args_schema=<class 'pydantic.v1.main.power_disco_ballSchema'>, func=<function power_disco_ball at 0x11d619760>), StructuredTool(name='start_music', description='start_music(energetic: bool, loud: bool, bpm: int) -> str - Play some music matching the specified parameters.\\n\\n    Args:\\n      energetic: Whether the music is energetic or not.\\n      loud: Whether the music is loud or not.\\n      bpm: The beats per minute of the music.\\n\\n    Returns: The name of the song being played.', args_schema=<class 'pydantic.v1.main.start_musicSchema'>, func=<function start_music at 0x11d618fe0>), StructuredTool(name='dim_lights', description='dim_lights(brightness: float) -> bool - Dim the lights.\\n\\n    Args:\\n      brightness: The brightness of the lights, 0.0 is off, 1.0 is full.', args_schema=<class 'pydantic.v1.main.dim_lightsSchema'>, func=<function dim_lights at 0x11d619c60>)]\n",
      "\n",
      "\n",
      "\u001b[1m> Entering new AgentExecutor chain...\u001b[0m\n",
      "\u001b[32;1m\u001b[1;3m\n",
      "Invoking: `power_disco_ball` with `{'power': 1}`\n",
      "\n",
      "\n",
      "\u001b[0mDisco ball is spinning!\n",
      "\u001b[36;1m\u001b[1;3mTrue\u001b[0m\u001b[32;1m\u001b[1;3m\n",
      "Invoking: `start_music` with `{'loud': 1, 'energetic': 1, 'bpm': 120}`\n",
      "\n",
      "\n",
      "\u001b[0mStarting music! energetic=True loud=True, bpm=120\n",
      "\u001b[33;1m\u001b[1;3mNever gonna give you up.\u001b[0m\u001b[32;1m\u001b[1;3m\n",
      "Invoking: `dim_lights` with `{'brightness': 0.5}`\n",
      "\n",
      "\n",
      "\u001b[0mLights are now set to 50%\n",
      "\u001b[38;5;200m\u001b[1;3mTrue\u001b[0m\u001b[32;1m\u001b[1;3mThe disco ball is powered, the music is playing, and the lights are dimmed. This sounds like a party! \n",
      "\u001b[0m\n",
      "\n",
      "\u001b[1m> Finished chain.\u001b[0m\n"
     ]
    },
    {
     "data": {
      "text/plain": [
       "{'input': 'Turn this into a party!',\n",
       " 'output': 'The disco ball is powered, the music is playing, and the lights are dimmed. This sounds like a party! \\n'}"
      ]
     },
     "execution_count": 8,
     "metadata": {},
     "output_type": "execute_result"
    }
   ],
   "source": [
    "assistant('Turn this into a party!')"
   ]
  },
  {
   "cell_type": "markdown",
   "metadata": {},
   "source": [
    "---"
   ]
  },
  {
   "cell_type": "markdown",
   "metadata": {},
   "source": [
    "# Tests"
   ]
  },
  {
   "cell_type": "markdown",
   "metadata": {},
   "source": [
    "### VertexAI request Format"
   ]
  },
  {
   "cell_type": "code",
   "execution_count": null,
   "metadata": {},
   "outputs": [],
   "source": [
    "import pathlib\n",
    "import textwrap\n",
    "import time\n",
    "\n",
    "import google.generativeai as genai\n",
    "\n",
    "from IPython import display\n",
    "from IPython.display import Markdown\n",
    "\n",
    "def to_markdown(text):\n",
    "  text = text.replace('•', '  *')\n",
    "  return Markdown(textwrap.indent(text, '> ', predicate=lambda _: True))"
   ]
  },
  {
   "cell_type": "markdown",
   "metadata": {},
   "source": [
    "#### Disco example"
   ]
  },
  {
   "cell_type": "code",
   "execution_count": null,
   "metadata": {},
   "outputs": [],
   "source": [
    "def power_disco_ball(power: bool) -> bool:\n",
    "    \"\"\"Powers the spinning disco ball.\"\"\"\n",
    "    print(f\"Disco ball is {'spinning!' if power else 'stopped.'}\")\n",
    "    return True\n",
    "\n",
    "\n",
    "def start_music(energetic: bool, loud: bool, bpm: int) -> str:\n",
    "    \"\"\"Play some music matching the specified parameters.\n",
    "\n",
    "    Args:\n",
    "      energetic: Whether the music is energetic or not.\n",
    "      loud: Whether the music is loud or not.\n",
    "      bpm: The beats per minute of the music.\n",
    "\n",
    "    Returns: The name of the song being played.\n",
    "    \"\"\"\n",
    "    print(f\"Starting music! {energetic=} {loud=}, {bpm=}\")\n",
    "    return \"Never gonna give you up.\"\n",
    "\n",
    "\n",
    "def dim_lights(brightness: float) -> bool:\n",
    "    \"\"\"Dim the lights.\n",
    "\n",
    "    Args:\n",
    "      brightness: The brightness of the lights, 0.0 is off, 1.0 is full.\n",
    "    \"\"\"\n",
    "    print(f\"Lights are now set to {brightness:.0%}\")\n",
    "    return True\n",
    "\n",
    "tools = [power_disco_ball, start_music, dim_lights]"
   ]
  },
  {
   "cell_type": "code",
   "execution_count": null,
   "metadata": {},
   "outputs": [],
   "source": [
    "# Call the API.\n",
    "model = genai.GenerativeModel('gemini-1.5-flash', tools=tools)\n",
    "response = model.generate_content(\"Turn this into a party!\")\n",
    "\n",
    "print(response)"
   ]
  },
  {
   "cell_type": "markdown",
   "metadata": {},
   "source": [
    "#### Train example"
   ]
  },
  {
   "cell_type": "code",
   "execution_count": null,
   "metadata": {},
   "outputs": [],
   "source": [
    "def get_departure(ticket_number: str):\n",
    "    \"\"\"Use this to fetch the departure time of a train\"\"\"\n",
    "    return \"12:00 AM\"\n",
    "\n",
    "def cancel_ticket(ticket_number: str):\n",
    "    \"\"\"Use this to cancel a ticket\"\"\"\n",
    "    return \"Ticket cancelled\"\n",
    "\n",
    "def buy_ticket(destination: str):\n",
    "    \"\"\"Use this to buy a ticket\"\"\"\n",
    "    return \"Bought ticket number 123456\"\n",
    "\n",
    "def make_complaint(complaint: str):\n",
    "    \"\"\"Use this to forward a complaint to the complaint department\"\"\"\n",
    "    return \"Complaint forwarded. We appreciate your feedback.\"\n",
    "\n",
    "tools = [get_departure, cancel_ticket, buy_ticket, make_complaint]"
   ]
  },
  {
   "cell_type": "code",
   "execution_count": null,
   "metadata": {},
   "outputs": [],
   "source": [
    "# Call the API.\n",
    "model = genai.GenerativeModel('gemini-1.5-flash', tools=tools)\n",
    "response = model.generate_content(\"Can you buy me a ticket to madrid and tell me at what time the train depparts?\")\n",
    "\n",
    "print(response)"
   ]
  },
  {
   "cell_type": "markdown",
   "metadata": {},
   "source": [
    "### Solution attempt"
   ]
  },
  {
   "cell_type": "code",
   "execution_count": null,
   "metadata": {},
   "outputs": [],
   "source": [
    "import pathlib\n",
    "import textwrap\n",
    "import time\n",
    "\n",
    "import google.generativeai as genai\n",
    "\n",
    "from IPython import display\n",
    "from IPython.display import Markdown\n",
    "\n",
    "def to_markdown(text):\n",
    "  text = text.replace('•', '  *')\n",
    "  return Markdown(textwrap.indent(text, '> ', predicate=lambda _: True))"
   ]
  },
  {
   "cell_type": "code",
   "execution_count": null,
   "metadata": {},
   "outputs": [],
   "source": [
    "def get_departure(ticket_number: str):\n",
    "    \"\"\"Use this to fetch the departure time of a train\"\"\"\n",
    "    return \"12:00 AM\"\n",
    "\n",
    "def cancel_ticket(ticket_number: str):\n",
    "    \"\"\"Use this to cancel a ticket\"\"\"\n",
    "    return \"Ticket cancelled\"\n",
    "\n",
    "def buy_ticket(destination: str):\n",
    "    \"\"\"Use this to buy a ticket\"\"\"\n",
    "    return \"Bought ticket number 123456\"\n",
    "\n",
    "def make_complaint(complaint: str):\n",
    "    \"\"\"Use this to forward a complaint to the complaint department\"\"\"\n",
    "    return \"Complaint forwarded. We appreciate your feedback.\"\n",
    "\n",
    "tools = [get_departure, cancel_ticket, buy_ticket, make_complaint]"
   ]
  },
  {
   "cell_type": "code",
   "execution_count": null,
   "metadata": {},
   "outputs": [],
   "source": [
    "model = genai.GenerativeModel(model_name=\"gemini-1.5-pro-latest\", tools=tools)\n",
    "\n",
    "# Call the API.\n",
    "chat = model.start_chat()\n",
    "response = chat.send_message(\"Can you buy me a ticket for madrid and tell me at what time the train departs?\")\n",
    "\n",
    "# Print out each of the function calls requested from this single call.\n",
    "for part in response.parts:\n",
    "    if fn := part.function_call:\n",
    "        args = \", \".join(f\"{key}={val}\" for key, val in fn.args.items())\n",
    "        print(f\"{fn.name}({args})\")\n",
    "     "
   ]
  }
 ],
 "metadata": {
  "kernelspec": {
   "display_name": "llmstudio",
   "language": "python",
   "name": "python3"
  },
  "language_info": {
   "codemirror_mode": {
    "name": "ipython",
    "version": 3
   },
   "file_extension": ".py",
   "mimetype": "text/x-python",
   "name": "python",
   "nbconvert_exporter": "python",
   "pygments_lexer": "ipython3",
   "version": "3.11.9"
  }
 },
 "nbformat": 4,
 "nbformat_minor": 2
}
