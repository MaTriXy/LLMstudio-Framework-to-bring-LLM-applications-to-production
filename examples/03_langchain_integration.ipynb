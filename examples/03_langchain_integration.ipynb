{
 "cells": [
  {
   "cell_type": "markdown",
   "metadata": {},
   "source": [
    "# Langchain integration"
   ]
  },
  {
   "cell_type": "markdown",
   "metadata": {},
   "source": [
    "### Langchain setup"
   ]
  },
  {
   "cell_type": "code",
   "execution_count": 1,
   "metadata": {},
   "outputs": [],
   "source": [
    "from langchain.tools import tool\n",
    "from langchain.agents import AgentType, initialize_agent"
   ]
  },
  {
   "cell_type": "code",
   "execution_count": 2,
   "metadata": {},
   "outputs": [],
   "source": [
    "import os\n",
    "from llmstudio.langchain import ChatLLMstudio\n",
    "from llmstudio.providers import LLM\n",
    "\n",
    "llm = LLM(provider=\"openai\")\n",
    "chat_llm = ChatLLMstudio(llm=llm, model=\"gpt-4o-mini\", parameters={\"temperature\": 0})\n"
   ]
  },
  {
   "cell_type": "markdown",
   "metadata": {},
   "source": [
    "### Example 1: Train ticket"
   ]
  },
  {
   "cell_type": "code",
   "execution_count": 3,
   "metadata": {},
   "outputs": [],
   "source": [
    "# Example 1: Train Ticket\n",
    "\n",
    "@tool\n",
    "def get_departure(ticket_number: str):\n",
    "    \"\"\"Use this to fetch the departure time of a train\"\"\"\n",
    "    return \"12:00 AM\"\n",
    "\n",
    "@tool\n",
    "def buy_ticket(destination: str):\n",
    "    \"\"\"Use this to buy a ticket\"\"\"\n",
    "    return \"Bought ticket number 123456\"\n",
    "\n",
    "def assistant(question: str) -> str:\n",
    "    tools = [get_departure, buy_ticket]\n",
    "    print(tools)\n",
    "\n",
    "    # Rebuild agent with new tools\n",
    "    agent_executor = initialize_agent(\n",
    "        tools, chat_llm, agent=AgentType.OPENAI_FUNCTIONS, verbose=True, debug=True\n",
    "    )\n",
    "\n",
    "    response = agent_executor.invoke({\"input\": question})\n",
    "\n",
    "    return response\n",
    "\n"
   ]
  },
  {
   "cell_type": "code",
   "execution_count": 4,
   "metadata": {},
   "outputs": [
    {
     "name": "stdout",
     "output_type": "stream",
     "text": [
      "[StructuredTool(name='get_departure', description='Use this to fetch the departure time of a train', args_schema=<class 'langchain_core.utils.pydantic.get_departure'>, func=<function get_departure at 0x11ff68900>), StructuredTool(name='buy_ticket', description='Use this to buy a ticket', args_schema=<class 'langchain_core.utils.pydantic.buy_ticket'>, func=<function buy_ticket at 0x11ff68860>)]\n",
      "\n",
      "\n",
      "\u001b[1m> Entering new AgentExecutor chain...\u001b[0m\n"
     ]
    },
    {
     "name": "stderr",
     "output_type": "stream",
     "text": [
      "/var/folders/f9/5mgvf90j1wn7w693rp67zms80000gn/T/ipykernel_14929/262021557.py:18: LangChainDeprecationWarning: The function `initialize_agent` was deprecated in LangChain 0.1.0 and will be removed in 1.0. Use :meth:`~Use new agent constructor methods like create_react_agent, create_json_agent, create_structured_chat_agent, etc.` instead.\n",
      "  agent_executor = initialize_agent(\n"
     ]
    },
    {
     "name": "stdout",
     "output_type": "stream",
     "text": [
      "\u001b[32;1m\u001b[1;3m\n",
      "Invoking: `get_departure` with `{'ticket_number': '1234'}`\n",
      "\n",
      "\n",
      "\u001b[0m\u001b[36;1m\u001b[1;3m12:00 AM\u001b[0m\u001b[32;1m\u001b[1;3mYour train departs at 12:00 AM.\u001b[0m\n",
      "\n",
      "\u001b[1m> Finished chain.\u001b[0m\n"
     ]
    },
    {
     "data": {
      "text/plain": [
       "{'input': 'When does my train depart? My ticket is 1234',\n",
       " 'output': 'Your train departs at 12:00 AM.'}"
      ]
     },
     "execution_count": 4,
     "metadata": {},
     "output_type": "execute_result"
    }
   ],
   "source": [
    "# Test the assistant\n",
    "assistant('When does my train depart? My ticket is 1234')"
   ]
  },
  {
   "cell_type": "code",
   "execution_count": 5,
   "metadata": {},
   "outputs": [
    {
     "name": "stdout",
     "output_type": "stream",
     "text": [
      "[StructuredTool(name='get_departure', description='Use this to fetch the departure time of a train', args_schema=<class 'langchain_core.utils.pydantic.get_departure'>, func=<function get_departure at 0x11ff68900>), StructuredTool(name='buy_ticket', description='Use this to buy a ticket', args_schema=<class 'langchain_core.utils.pydantic.buy_ticket'>, func=<function buy_ticket at 0x11ff68860>)]\n",
      "\n",
      "\n",
      "\u001b[1m> Entering new AgentExecutor chain...\u001b[0m\n",
      "\u001b[32;1m\u001b[1;3m\n",
      "Invoking: `buy_ticket` with `{'destination': 'Madrid'}`\n",
      "\n",
      "\n",
      "\u001b[0m\u001b[33;1m\u001b[1;3mBought ticket number 123456\u001b[0m\u001b[32;1m\u001b[1;3m\n",
      "Invoking: `get_departure` with `{'ticket_number': '123456'}`\n",
      "\n",
      "\n",
      "\u001b[0m\u001b[36;1m\u001b[1;3m12:00 AM\u001b[0m\u001b[32;1m\u001b[1;3mI have bought a ticket to Madrid for you. The departure time is 12:00 AM.\u001b[0m\n",
      "\n",
      "\u001b[1m> Finished chain.\u001b[0m\n"
     ]
    },
    {
     "data": {
      "text/plain": [
       "{'input': 'Buy me a ticket to Madrid and tell the departure time',\n",
       " 'output': 'I have bought a ticket to Madrid for you. The departure time is 12:00 AM.'}"
      ]
     },
     "execution_count": 5,
     "metadata": {},
     "output_type": "execute_result"
    }
   ],
   "source": [
    "assistant('Buy me a ticket to Madrid and tell the departure time')"
   ]
  },
  {
   "cell_type": "markdown",
   "metadata": {},
   "source": [
    "### Example 2: Start a party"
   ]
  },
  {
   "cell_type": "code",
   "execution_count": 6,
   "metadata": {},
   "outputs": [],
   "source": [
    "# Example 2: Start a Party\n",
    "\n",
    "@tool\n",
    "def power_disco_ball(power: bool) -> bool:\n",
    "    \"\"\"Powers the spinning disco ball.\"\"\"\n",
    "    print(f\"Disco ball is {'spinning!' if power else 'stopped.'}\")\n",
    "    return True\n",
    "\n",
    "@tool\n",
    "def start_music(energetic: bool, loud: bool, bpm: int) -> str:\n",
    "    \"\"\"Play some music matching the specified parameters.\"\"\"\n",
    "    print(f\"Starting music! {energetic=} {loud=}, {bpm=}\")\n",
    "    return \"Never gonna give you up.\"\n",
    "\n",
    "@tool\n",
    "def dim_lights(brightness: float) -> bool:\n",
    "    \"\"\"Dim the lights.\"\"\"\n",
    "    print(f\"Lights are now set to {brightness:.0%}\")\n",
    "    return True\n",
    "\n",
    "def assistant(question: str) -> str:\n",
    "    tools = [power_disco_ball, start_music, dim_lights]\n",
    "    print(tools)\n",
    "\n",
    "    # Rebuild agent with new tools\n",
    "    agent_executor = initialize_agent(\n",
    "        tools, chat_llm, agent=AgentType.OPENAI_FUNCTIONS, verbose=True, debug=True\n",
    "    )\n",
    "\n",
    "    response = agent_executor.invoke({\"input\": question})\n",
    "\n",
    "    return response\n"
   ]
  },
  {
   "cell_type": "code",
   "execution_count": 7,
   "metadata": {},
   "outputs": [
    {
     "name": "stdout",
     "output_type": "stream",
     "text": [
      "[StructuredTool(name='power_disco_ball', description='Powers the spinning disco ball.', args_schema=<class 'langchain_core.utils.pydantic.power_disco_ball'>, func=<function power_disco_ball at 0x126bc7240>), StructuredTool(name='start_music', description='Play some music matching the specified parameters.', args_schema=<class 'langchain_core.utils.pydantic.start_music'>, func=<function start_music at 0x126bc7060>), StructuredTool(name='dim_lights', description='Dim the lights.', args_schema=<class 'langchain_core.utils.pydantic.dim_lights'>, func=<function dim_lights at 0x126bc6fc0>)]\n",
      "\n",
      "\n",
      "\u001b[1m> Entering new AgentExecutor chain...\u001b[0m\n",
      "\u001b[32;1m\u001b[1;3m\n",
      "Invoking: `power_disco_ball` with `{'power': True}`\n",
      "\n",
      "\n",
      "\u001b[0mDisco ball is spinning!\n",
      "\u001b[36;1m\u001b[1;3mTrue\u001b[0m\u001b[32;1m\u001b[1;3m\n",
      "Invoking: `start_music` with `{'energetic': True, 'loud': True, 'bpm': 120}`\n",
      "\n",
      "\n",
      "\u001b[0mStarting music! energetic=True loud=True, bpm=120\n",
      "\u001b[33;1m\u001b[1;3mNever gonna give you up.\u001b[0m\u001b[32;1m\u001b[1;3m\n",
      "Invoking: `dim_lights` with `{'brightness': 30}`\n",
      "\n",
      "\n",
      "\u001b[0mLights are now set to 3000%\n",
      "\u001b[38;5;200m\u001b[1;3mTrue\u001b[0m\u001b[32;1m\u001b[1;3mThe party is on! The disco ball is spinning, the music \"Never Gonna Give You Up\" is playing loudly and energetically, and the lights are dimmed for the perfect atmosphere. Let's get this party started! 🎉💃🕺\u001b[0m\n",
      "\n",
      "\u001b[1m> Finished chain.\u001b[0m\n"
     ]
    },
    {
     "data": {
      "text/plain": [
       "{'input': 'Turn this into a party!',\n",
       " 'output': 'The party is on! The disco ball is spinning, the music \"Never Gonna Give You Up\" is playing loudly and energetically, and the lights are dimmed for the perfect atmosphere. Let\\'s get this party started! 🎉💃🕺'}"
      ]
     },
     "execution_count": 7,
     "metadata": {},
     "output_type": "execute_result"
    }
   ],
   "source": [
    "assistant('Turn this into a party!')"
   ]
  },
  {
   "cell_type": "markdown",
   "metadata": {},
   "source": [
    "### Example 3: Start a party\n",
    "\n",
    "* We'll use parallel Tool calls and `bind_tools` as functions will be depecated in v1\n",
    "* We'll show it work with AzureProvider for reference"
   ]
  },
  {
   "cell_type": "code",
   "execution_count": 8,
   "metadata": {},
   "outputs": [],
   "source": [
    "from langchain.agents import AgentExecutor, create_openai_tools_agent\n",
    "from langchain_core.prompts import ChatPromptTemplate\n",
    "\n",
    "# Azure Setup\n",
    "from llmstudio.providers import LLM\n",
    "\n",
    "llm = LLM(provider=\"azure\", \n",
    "          api_key=os.environ[\"AZURE_API_KEY\"], \n",
    "          api_version=os.environ[\"AZURE_API_VERSION\"],\n",
    "          api_endpoint=os.environ[\"AZURE_API_ENDPOINT\"])\n",
    "chat_llm = ChatLLMstudio(llm=llm, model=\"gpt-4o-mini\", parameters={\"temperature\": 0})\n"
   ]
  },
  {
   "cell_type": "code",
   "execution_count": 9,
   "metadata": {},
   "outputs": [],
   "source": [
    "\n",
    "@tool\n",
    "def power_disco_ball(power: bool) -> bool:\n",
    "    \"\"\"Powers the spinning disco ball.\"\"\"\n",
    "    print(f\"Disco ball is {'spinning!' if power else 'stopped.'}\")\n",
    "    return True\n",
    "\n",
    "@tool\n",
    "def start_music(energetic: bool, loud: bool, bpm: int) -> str:\n",
    "    \"\"\"Play some music matching the specified parameters.\"\"\"\n",
    "    print(f\"Starting music! {energetic=} {loud=}, {bpm=}\")\n",
    "    return \"Never gonna give you up.\"\n",
    "\n",
    "@tool\n",
    "def dim_lights(brightness: float) -> bool:\n",
    "    \"\"\"Dim the lights.\"\"\"\n",
    "    print(f\"Lights are now set to {brightness:.0%}\")\n",
    "    return True\n"
   ]
  },
  {
   "cell_type": "code",
   "execution_count": 10,
   "metadata": {},
   "outputs": [],
   "source": [
    "\n",
    "def assistant_new(question: str) -> str:\n",
    "    tools = [power_disco_ball, start_music, dim_lights]\n",
    "    print(tools)\n",
    "\n",
    "    # Rebuild agent with new tools\n",
    "    prompt = ChatPromptTemplate.from_messages(\n",
    "        [\n",
    "            (\"system\", \"You are a helpful assistant\"),\n",
    "            (\"human\", \"{input}\"),\n",
    "            (\"placeholder\", \"{agent_scratchpad}\"),\n",
    "        ]\n",
    "    )\n",
    "    agent = create_openai_tools_agent(chat_llm, tools, prompt)\n",
    "    agent_executor = AgentExecutor(agent=agent, tools=tools)\n",
    "\n",
    "    response = agent_executor.invoke({\"input\": question})\n",
    "\n",
    "    return response\n",
    "\n",
    "# Test the new assistant"
   ]
  },
  {
   "cell_type": "code",
   "execution_count": 11,
   "metadata": {},
   "outputs": [
    {
     "name": "stdout",
     "output_type": "stream",
     "text": [
      "[StructuredTool(name='power_disco_ball', description='Powers the spinning disco ball.', args_schema=<class 'langchain_core.utils.pydantic.power_disco_ball'>, func=<function power_disco_ball at 0x126bc5bc0>), StructuredTool(name='start_music', description='Play some music matching the specified parameters.', args_schema=<class 'langchain_core.utils.pydantic.start_music'>, func=<function start_music at 0x126bc7240>), StructuredTool(name='dim_lights', description='Dim the lights.', args_schema=<class 'langchain_core.utils.pydantic.dim_lights'>, func=<function dim_lights at 0x126bc7060>)]\n",
      "Disco ball is spinning!\n",
      "Starting music! energetic=True loud=True, bpm=128\n",
      "Lights are now set to 3000%\n"
     ]
    },
    {
     "data": {
      "text/plain": [
       "{'input': 'Turn this into a party!',\n",
       " 'output': 'The party is on! 🎉\\n\\n- The disco ball is spinning.\\n- Energetic music is playing: \"Never Gonna Give You Up.\"\\n- The lights are dimmed to set the mood.\\n\\nLet the fun begin! 🕺💃'}"
      ]
     },
     "execution_count": 11,
     "metadata": {},
     "output_type": "execute_result"
    }
   ],
   "source": [
    "\n",
    "assistant_new(\"Turn this into a party!\")\n"
   ]
  },
  {
   "cell_type": "markdown",
   "metadata": {},
   "source": [
    "# VertexAI - Gemini models"
   ]
  },
  {
   "cell_type": "code",
   "execution_count": 12,
   "metadata": {},
   "outputs": [],
   "source": [
    "import os\n",
    "from llmstudio.langchain import ChatLLMstudio\n",
    "from llmstudio.providers import LLM\n",
    "\n",
    "llm = LLM(provider=\"vertexai\", \n",
    "          api_key=os.environ[\"GOOGLE_API_KEY\"])\n",
    "chat_llm = ChatLLMstudio(llm=llm, model = \"gemini-1.5-pro-latest\", parameters={\"temperature\":0})"
   ]
  },
  {
   "cell_type": "code",
   "execution_count": 13,
   "metadata": {},
   "outputs": [
    {
     "data": {
      "text/plain": [
       "AIMessage(content='Olá! 👋  Como posso te ajudar hoje? 😊 \\n', additional_kwargs={}, response_metadata={'token_usage': None, 'model_name': 'gemini-1.5-pro-latest', 'system_fingerprint': None, 'finish_reason': 'stop', 'logprobs': None}, id='run-bdc0c8dd-e23e-4436-bee5-ead44e9297ed-0')"
      ]
     },
     "execution_count": 13,
     "metadata": {},
     "output_type": "execute_result"
    }
   ],
   "source": [
    "chat_llm.invoke(\"Olá\")"
   ]
  },
  {
   "cell_type": "code",
   "execution_count": 14,
   "metadata": {},
   "outputs": [],
   "source": [
    "from langchain.tools import tool\n",
    "\n",
    "@tool\n",
    "def power_disco_ball(power: bool) -> bool:\n",
    "    \"\"\"Powers the spinning disco ball.\"\"\"\n",
    "    print(f\"Disco ball is {'spinning!' if power else 'stopped.'}\")\n",
    "    return True\n",
    "\n",
    "@tool\n",
    "def start_music(energetic: bool, loud: bool, bpm: int) -> str:\n",
    "    \"\"\"Play some music matching the specified parameters.\"\"\"\n",
    "    print(f\"Starting music! {energetic=} {loud=}, {bpm=}\")\n",
    "    return \"Never gonna give you up.\"\n",
    "\n",
    "@tool\n",
    "def dim_lights(brightness: float) -> bool:\n",
    "    \"\"\"Dim the lights.\"\"\"\n",
    "    print(f\"Lights are now set to {brightness:.0%}\")\n",
    "    return True\n"
   ]
  },
  {
   "cell_type": "code",
   "execution_count": 15,
   "metadata": {},
   "outputs": [],
   "source": [
    "from langchain.agents import AgentExecutor, create_tool_calling_agent\n",
    "from langchain_core.prompts import ChatPromptTemplate\n",
    "\n",
    "\n",
    "def assistant_vertex(question: str) -> str:\n",
    "    tools = [power_disco_ball, start_music, dim_lights]\n",
    "    print(tools)\n",
    "\n",
    "    # Rebuild agent with new tools\n",
    "    prompt = ChatPromptTemplate.from_messages(\n",
    "        [\n",
    "            (\"system\", \"You are a helpful assistant\"),\n",
    "            (\"human\", \"{input}\"),\n",
    "            (\"placeholder\", \"{agent_scratchpad}\"),\n",
    "        ]\n",
    "    )\n",
    "    agent = create_tool_calling_agent(chat_llm, tools, prompt)\n",
    "    agent_executor = AgentExecutor(agent=agent, tools=tools)\n",
    "\n",
    "    response = agent_executor.invoke({\"input\": question})\n",
    "\n",
    "    return response"
   ]
  },
  {
   "cell_type": "code",
   "execution_count": 16,
   "metadata": {},
   "outputs": [
    {
     "name": "stdout",
     "output_type": "stream",
     "text": [
      "[StructuredTool(name='power_disco_ball', description='Powers the spinning disco ball.', args_schema=<class 'langchain_core.utils.pydantic.power_disco_ball'>, func=<function power_disco_ball at 0x126b72980>), StructuredTool(name='start_music', description='Play some music matching the specified parameters.', args_schema=<class 'langchain_core.utils.pydantic.start_music'>, func=<function start_music at 0x1274da520>), StructuredTool(name='dim_lights', description='Dim the lights.', args_schema=<class 'langchain_core.utils.pydantic.dim_lights'>, func=<function dim_lights at 0x1274da3e0>)]\n",
      "Disco ball is spinning!\n",
      "Starting music! energetic=True loud=True, bpm=120\n",
      "Lights are now set to 50%\n"
     ]
    },
    {
     "data": {
      "text/plain": [
       "{'input': 'Turn this into a party!', 'output': \"\\n\\nLet's party! 🎉 🕺 💃 🎶 \\n\"}"
      ]
     },
     "execution_count": 16,
     "metadata": {},
     "output_type": "execute_result"
    }
   ],
   "source": [
    "assistant_vertex(\"Turn this into a party!\")"
   ]
  },
  {
   "cell_type": "code",
   "execution_count": null,
   "metadata": {},
   "outputs": [],
   "source": []
  },
  {
   "cell_type": "code",
   "execution_count": null,
   "metadata": {},
   "outputs": [],
   "source": []
  }
 ],
 "metadata": {
  "kernelspec": {
   "display_name": "llmstudio",
   "language": "python",
   "name": "python3"
  },
  "language_info": {
   "codemirror_mode": {
    "name": "ipython",
    "version": 3
   },
   "file_extension": ".py",
   "mimetype": "text/x-python",
   "name": "python",
   "nbconvert_exporter": "python",
   "pygments_lexer": "ipython3",
   "version": "3.12.2"
  }
 },
 "nbformat": 4,
 "nbformat_minor": 2
}
