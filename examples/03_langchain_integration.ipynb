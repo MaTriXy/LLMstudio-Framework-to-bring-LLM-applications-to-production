{
 "cells": [
  {
   "cell_type": "markdown",
   "metadata": {},
   "source": [
    "# Langchain integration"
   ]
  },
  {
   "cell_type": "markdown",
   "metadata": {},
   "source": [
    "### LLMstudio setup"
   ]
  },
  {
   "cell_type": "code",
   "execution_count": 1,
   "metadata": {},
   "outputs": [],
   "source": [
    "from llmstudio.llm.langchain import ChatLLMstudio\n",
    "from llmstudio import LLM"
   ]
  },
  {
   "cell_type": "code",
   "execution_count": 2,
   "metadata": {},
   "outputs": [
    {
     "ename": "TypeError",
     "evalue": "Can't instantiate abstract class LLMProxyProvider without an implementation for abstract method '_provider_config_name'",
     "output_type": "error",
     "traceback": [
      "\u001b[0;31m---------------------------------------------------------------------------\u001b[0m",
      "\u001b[0;31mTypeError\u001b[0m                                 Traceback (most recent call last)",
      "Cell \u001b[0;32mIn[2], line 2\u001b[0m\n\u001b[1;32m      1\u001b[0m \u001b[38;5;66;03m# llm = ChatLLMstudio(model_id='openai/gpt-3.5-turbo', temperature=0)\u001b[39;00m\n\u001b[0;32m----> 2\u001b[0m llm \u001b[38;5;241m=\u001b[39m \u001b[43mChatLLMstudio\u001b[49m\u001b[43m(\u001b[49m\u001b[43mmodel_id\u001b[49m\u001b[38;5;241;43m=\u001b[39;49m\u001b[38;5;124;43m'\u001b[39;49m\u001b[38;5;124;43mvertexai/gemini-1.5-flash\u001b[39;49m\u001b[38;5;124;43m'\u001b[39;49m\u001b[43m,\u001b[49m\u001b[43m \u001b[49m\u001b[43mtemperature\u001b[49m\u001b[38;5;241;43m=\u001b[39;49m\u001b[38;5;241;43m0\u001b[39;49m\u001b[43m)\u001b[49m\n",
      "File \u001b[0;32m~/fun/LLMstudio/llmstudio/llm/langchain.py:33\u001b[0m, in \u001b[0;36mChatLLMstudio.__init__\u001b[0;34m(self, model_id, **kwargs)\u001b[0m\n\u001b[1;32m     31\u001b[0m \u001b[38;5;28;01mdef\u001b[39;00m \u001b[38;5;21m__init__\u001b[39m(\u001b[38;5;28mself\u001b[39m, model_id: \u001b[38;5;28mstr\u001b[39m, \u001b[38;5;241m*\u001b[39m\u001b[38;5;241m*\u001b[39mkwargs):\n\u001b[1;32m     32\u001b[0m     \u001b[38;5;28msuper\u001b[39m()\u001b[38;5;241m.\u001b[39m\u001b[38;5;21m__init__\u001b[39m(model_id\u001b[38;5;241m=\u001b[39mmodel_id, \u001b[38;5;241m*\u001b[39m\u001b[38;5;241m*\u001b[39mkwargs)\n\u001b[0;32m---> 33\u001b[0m     \u001b[38;5;28mself\u001b[39m\u001b[38;5;241m.\u001b[39mllm \u001b[38;5;241m=\u001b[39m \u001b[43mLLM\u001b[49m\u001b[43m(\u001b[49m\u001b[43mmodel_id\u001b[49m\u001b[38;5;241;43m=\u001b[39;49m\u001b[38;5;28;43mself\u001b[39;49m\u001b[38;5;241;43m.\u001b[39;49m\u001b[43mmodel_id\u001b[49m\u001b[43m,\u001b[49m\u001b[43m \u001b[49m\u001b[38;5;241;43m*\u001b[39;49m\u001b[38;5;241;43m*\u001b[39;49m\u001b[43mkwargs\u001b[49m\u001b[43m)\u001b[49m\n",
      "\u001b[0;31mTypeError\u001b[0m: Can't instantiate abstract class LLMProxyProvider without an implementation for abstract method '_provider_config_name'"
     ]
    }
   ],
   "source": [
    "# llm = ChatLLMstudio(model_id='openai/gpt-3.5-turbo', temperature=0)\n",
    "llm = ChatLLMstudio(model_id='vertexai/gemini-1.5-flash', temperature=0)"
   ]
  },
  {
   "cell_type": "markdown",
   "metadata": {},
   "source": [
    "### Langchain setup"
   ]
  },
  {
   "cell_type": "code",
   "execution_count": 3,
   "metadata": {},
   "outputs": [],
   "source": [
    "from langchain.tools import tool\n",
    "from langchain.agents import AgentType, initialize_agent"
   ]
  },
  {
   "cell_type": "code",
   "execution_count": 4,
   "metadata": {},
   "outputs": [
    {
     "data": {
      "text/plain": [
       "AIMessage(content='Hello! 👋  How can I help you today? 😊 \\n', response_metadata={'token_usage': None, 'model_name': 'gemini-1.5-flash', 'system_fingerprint': None, 'finish_reason': 'stop', 'logprobs': None}, id='run-2e60f8e1-bba0-4cab-9e21-8ecdbe8d49a2-0')"
      ]
     },
     "execution_count": 4,
     "metadata": {},
     "output_type": "execute_result"
    }
   ],
   "source": [
    "llm.invoke('Hello')"
   ]
  },
  {
   "cell_type": "markdown",
   "metadata": {},
   "source": [
    "### Example 1: Train ticket"
   ]
  },
  {
   "cell_type": "code",
   "execution_count": 39,
   "metadata": {},
   "outputs": [],
   "source": [
    "@tool\n",
    "def get_departure(ticket_number: str):\n",
    "    \"\"\"Use this to fetch the departure time of a train\"\"\"\n",
    "    return \"12:00 AM\"\n",
    "\n",
    "@tool\n",
    "def buy_ticket(destination: str):\n",
    "    \"\"\"Use this to buy a ticket\"\"\"\n",
    "    return \"Bought ticket number 123456\"\n",
    "\n",
    "\n",
    "def assistant(question: str)->str:\n",
    "    tools = [get_departure, buy_ticket]\n",
    "    print(tools)\n",
    "\n",
    "    #rebuild agent with new tools\n",
    "    agent_executor = initialize_agent(\n",
    "        tools, llm, agent=AgentType.OPENAI_FUNCTIONS, verbose = True, debug = True\n",
    "    )\n",
    "\n",
    "    response = agent_executor.invoke(\n",
    "        {\n",
    "            \"input\": question\n",
    "        }\n",
    "    )\n",
    "\n",
    "    return response"
   ]
  },
  {
   "cell_type": "code",
   "execution_count": 40,
   "metadata": {},
   "outputs": [
    {
     "name": "stdout",
     "output_type": "stream",
     "text": [
      "[StructuredTool(name='get_departure', description='Use this to fetch the departure time of a train', args_schema=<class 'pydantic.v1.main.get_departureSchema'>, func=<function get_departure at 0x107458b80>), StructuredTool(name='cancel_ticket', description='Use this to cancel a ticket', args_schema=<class 'pydantic.v1.main.cancel_ticketSchema'>, func=<function cancel_ticket at 0x135d5f4c0>), StructuredTool(name='buy_ticket', description='Use this to buy a ticket', args_schema=<class 'pydantic.v1.main.buy_ticketSchema'>, func=<function buy_ticket at 0x133045bc0>), StructuredTool(name='make_complaint', description='Use this to forward a complaint to the complaint department', args_schema=<class 'pydantic.v1.main.make_complaintSchema'>, func=<function make_complaint at 0x104345620>)]\n",
      "\n",
      "\n",
      "\u001b[1m> Entering new AgentExecutor chain...\u001b[0m\n",
      "\u001b[32;1m\u001b[1;3m\n",
      "Invoking: `get_departure` with `{'ticket_number': '1234'}`\n",
      "\n",
      "\n",
      "\u001b[0m\u001b[36;1m\u001b[1;3m12:00 AM\u001b[0m\u001b[32;1m\u001b[1;3mYour train departs at 12:00 AM. \n",
      "\u001b[0m\n",
      "\n",
      "\u001b[1m> Finished chain.\u001b[0m\n"
     ]
    },
    {
     "data": {
      "text/plain": [
       "{'input': 'When does my train depart? My ticket is 1234',\n",
       " 'output': 'Your train departs at 12:00 AM. \\n'}"
      ]
     },
     "execution_count": 40,
     "metadata": {},
     "output_type": "execute_result"
    }
   ],
   "source": [
    "assistant('When does my train depart? My ticket is 1234')\n"
   ]
  },
  {
   "cell_type": "code",
   "execution_count": 41,
   "metadata": {},
   "outputs": [
    {
     "name": "stdout",
     "output_type": "stream",
     "text": [
      "[StructuredTool(name='get_departure', description='Use this to fetch the departure time of a train', args_schema=<class 'pydantic.v1.main.get_departureSchema'>, func=<function get_departure at 0x107458b80>), StructuredTool(name='cancel_ticket', description='Use this to cancel a ticket', args_schema=<class 'pydantic.v1.main.cancel_ticketSchema'>, func=<function cancel_ticket at 0x135d5f4c0>), StructuredTool(name='buy_ticket', description='Use this to buy a ticket', args_schema=<class 'pydantic.v1.main.buy_ticketSchema'>, func=<function buy_ticket at 0x133045bc0>), StructuredTool(name='make_complaint', description='Use this to forward a complaint to the complaint department', args_schema=<class 'pydantic.v1.main.make_complaintSchema'>, func=<function make_complaint at 0x104345620>)]\n",
      "\n",
      "\n",
      "\u001b[1m> Entering new AgentExecutor chain...\u001b[0m\n",
      "\u001b[32;1m\u001b[1;3m\n",
      "Invoking: `buy_ticket` with `{'destination': 'Madrid'}`\n",
      "\n",
      "\n",
      "\u001b[0m\u001b[38;5;200m\u001b[1;3mBought ticket number 123456\u001b[0m\u001b[32;1m\u001b[1;3m\n",
      "Invoking: `get_departure` with `{'ticket_number': '123456'}`\n",
      "\n",
      "\n",
      "\u001b[0m\u001b[36;1m\u001b[1;3m12:00 AM\u001b[0m\u001b[32;1m\u001b[1;3mYou have a ticket to Madrid with ticket number 123456. The departure time is 12:00 AM. \n",
      "\u001b[0m\n",
      "\n",
      "\u001b[1m> Finished chain.\u001b[0m\n"
     ]
    },
    {
     "data": {
      "text/plain": [
       "{'input': 'Buy me a ticket to Madrid and tell the departure time',\n",
       " 'output': 'You have a ticket to Madrid with ticket number 123456. The departure time is 12:00 AM. \\n'}"
      ]
     },
     "execution_count": 41,
     "metadata": {},
     "output_type": "execute_result"
    }
   ],
   "source": [
    "assistant('Buy me a ticket to Madrid and tell the departure time')"
   ]
  },
  {
   "cell_type": "markdown",
   "metadata": {},
   "source": [
    "### Example 2: Start a party"
   ]
  },
  {
   "cell_type": "code",
   "execution_count": 43,
   "metadata": {},
   "outputs": [],
   "source": [
    "@tool\n",
    "def power_disco_ball(power: bool) -> bool:\n",
    "    \"\"\"Powers the spinning disco ball.\"\"\"\n",
    "    print(f\"Disco ball is {'spinning!' if power else 'stopped.'}\")\n",
    "    return True\n",
    "\n",
    "@tool\n",
    "def start_music(energetic: bool, loud: bool, bpm: int) -> str:\n",
    "    \"\"\"Play some music matching the specified parameters.\n",
    "    \"\"\"\n",
    "    print(f\"Starting music! {energetic=} {loud=}, {bpm=}\")\n",
    "    return \"Never gonna give you up.\"\n",
    "\n",
    "@tool\n",
    "def dim_lights(brightness: float) -> bool:\n",
    "    \"\"\"Dim the lights.\n",
    "    \"\"\"\n",
    "    print(f\"Lights are now set to {brightness:.0%}\")\n",
    "    return True\n"
   ]
  },
  {
   "cell_type": "code",
   "execution_count": 44,
   "metadata": {},
   "outputs": [],
   "source": [
    "def assistant(question: str)->str:\n",
    "    tools = [power_disco_ball, start_music, dim_lights]\n",
    "    print(tools)\n",
    "\n",
    "    #rebuild agent with new tools\n",
    "    agent_executor = initialize_agent(\n",
    "        tools, llm, agent=AgentType.OPENAI_FUNCTIONS, verbose = True, debug = True\n",
    "    )\n",
    "\n",
    "    response = agent_executor.invoke(\n",
    "        {\n",
    "            \"input\": question\n",
    "        }\n",
    "    )\n",
    "\n",
    "    return response"
   ]
  },
  {
   "cell_type": "code",
   "execution_count": 45,
   "metadata": {},
   "outputs": [
    {
     "name": "stdout",
     "output_type": "stream",
     "text": [
      "[StructuredTool(name='power_disco_ball', description='Powers the spinning disco ball.', args_schema=<class 'pydantic.v1.main.power_disco_ballSchema'>, func=<function power_disco_ball at 0x1330468e0>), StructuredTool(name='start_music', description='Play some music matching the specified parameters.', args_schema=<class 'pydantic.v1.main.start_musicSchema'>, func=<function start_music at 0x133045a80>), StructuredTool(name='dim_lights', description='Dim the lights.', args_schema=<class 'pydantic.v1.main.dim_lightsSchema'>, func=<function dim_lights at 0x105a16980>)]\n",
      "\n",
      "\n",
      "\u001b[1m> Entering new AgentExecutor chain...\u001b[0m\n",
      "\u001b[32;1m\u001b[1;3m\n",
      "Invoking: `power_disco_ball` with `{'power': 1}`\n",
      "\n",
      "\n",
      "\u001b[0mDisco ball is spinning!\n",
      "\u001b[36;1m\u001b[1;3mTrue\u001b[0m\u001b[32;1m\u001b[1;3m\n",
      "Invoking: `start_music` with `{'loud': 1, 'energetic': 1, 'bpm': 120}`\n",
      "\n",
      "\n",
      "\u001b[0mStarting music! energetic=True loud=True, bpm=120\n",
      "\u001b[33;1m\u001b[1;3mNever gonna give you up.\u001b[0m\u001b[32;1m\u001b[1;3m\n",
      "Invoking: `power_disco_ball` with `{'power': 1}`\n",
      "\n",
      "\n",
      "\u001b[0mDisco ball is spinning!\n",
      "\u001b[36;1m\u001b[1;3mTrue\u001b[0m\u001b[32;1m\u001b[1;3m\n",
      "Invoking: `dim_lights` with `{'brightness': 0.5}`\n",
      "\n",
      "\n",
      "\u001b[0mLights are now set to 50%\n",
      "\u001b[38;5;200m\u001b[1;3mTrue\u001b[0m\u001b[32;1m\u001b[1;3m\n",
      "Invoking: `start_music` with `{'loud': 1, 'energetic': 1, 'bpm': 120}`\n",
      "\n",
      "\n",
      "\u001b[0mStarting music! energetic=True loud=True, bpm=120\n",
      "\u001b[33;1m\u001b[1;3mNever gonna give you up.\u001b[0m\u001b[32;1m\u001b[1;3m\n",
      "Invoking: `start_music` with `{'loud': 1, 'energetic': 1, 'bpm': 120}`\n",
      "\n",
      "\n",
      "\u001b[0mStarting music! energetic=True loud=True, bpm=120\n",
      "\u001b[33;1m\u001b[1;3mNever gonna give you up.\u001b[0m\u001b[32;1m\u001b[1;3m\n",
      "Invoking: `dim_lights` with `{'brightness': 0.5}`\n",
      "\n",
      "\n",
      "\u001b[0mLights are now set to 50%\n",
      "\u001b[38;5;200m\u001b[1;3mTrue\u001b[0m\u001b[32;1m\u001b[1;3m\n",
      "Invoking: `start_music` with `{'loud': 1, 'energetic': 1, 'bpm': 120}`\n",
      "\n",
      "\n",
      "\u001b[0mStarting music! energetic=True loud=True, bpm=120\n",
      "\u001b[33;1m\u001b[1;3mNever gonna give you up.\u001b[0m\u001b[32;1m\u001b[1;3m\n",
      "Invoking: `start_music` with `{'loud': 1, 'energetic': 1, 'bpm': 120}`\n",
      "\n",
      "\n",
      "\u001b[0mStarting music! energetic=True loud=True, bpm=120\n",
      "\u001b[33;1m\u001b[1;3mNever gonna give you up.\u001b[0m\u001b[32;1m\u001b[1;3m\n",
      "Invoking: `power_disco_ball` with `{'power': 1}`\n",
      "\n",
      "\n",
      "\u001b[0mDisco ball is spinning!\n",
      "\u001b[36;1m\u001b[1;3mTrue\u001b[0m\u001b[32;1m\u001b[1;3m\n",
      "Invoking: `start_music` with `{'loud': 1, 'energetic': 1, 'bpm': 120}`\n",
      "\n",
      "\n",
      "\u001b[0mStarting music! energetic=True loud=True, bpm=120\n",
      "\u001b[33;1m\u001b[1;3mNever gonna give you up.\u001b[0m\u001b[32;1m\u001b[1;3m\n",
      "Invoking: `start_music` with `{'loud': 1, 'energetic': 1, 'bpm': 120}`\n",
      "\n",
      "\n",
      "\u001b[0mStarting music! energetic=True loud=True, bpm=120\n",
      "\u001b[33;1m\u001b[1;3mNever gonna give you up.\u001b[0m\u001b[32;1m\u001b[1;3m\n",
      "Invoking: `power_disco_ball` with `{'power': 1}`\n",
      "\n",
      "\n",
      "\u001b[0mDisco ball is spinning!\n",
      "\u001b[36;1m\u001b[1;3mTrue\u001b[0m\u001b[32;1m\u001b[1;3m\n",
      "Invoking: `start_music` with `{'loud': 1, 'energetic': 1, 'bpm': 120}`\n",
      "\n",
      "\n",
      "\u001b[0mStarting music! energetic=True loud=True, bpm=120\n",
      "\u001b[33;1m\u001b[1;3mNever gonna give you up.\u001b[0m\u001b[32;1m\u001b[1;3m\n",
      "Invoking: `start_music` with `{'loud': 1, 'energetic': 1, 'bpm': 120}`\n",
      "\n",
      "\n",
      "\u001b[0mStarting music! energetic=True loud=True, bpm=120\n",
      "\u001b[33;1m\u001b[1;3mNever gonna give you up.\u001b[0m\u001b[32;1m\u001b[1;3m\u001b[0m\n",
      "\n",
      "\u001b[1m> Finished chain.\u001b[0m\n"
     ]
    },
    {
     "data": {
      "text/plain": [
       "{'input': 'Turn this into a party!',\n",
       " 'output': 'Agent stopped due to iteration limit or time limit.'}"
      ]
     },
     "execution_count": 45,
     "metadata": {},
     "output_type": "execute_result"
    }
   ],
   "source": [
    "assistant('Turn this into a party!')"
   ]
  }
 ],
 "metadata": {
  "kernelspec": {
   "display_name": "llmstudio",
   "language": "python",
   "name": "python3"
  },
  "language_info": {
   "codemirror_mode": {
    "name": "ipython",
    "version": 3
   },
   "file_extension": ".py",
   "mimetype": "text/x-python",
   "name": "python",
   "nbconvert_exporter": "python",
   "pygments_lexer": "ipython3",
   "version": "3.12.2"
  }
 },
 "nbformat": 4,
 "nbformat_minor": 2
}
