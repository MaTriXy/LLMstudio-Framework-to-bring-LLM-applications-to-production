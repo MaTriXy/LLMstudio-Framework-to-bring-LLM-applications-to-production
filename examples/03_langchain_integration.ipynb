{
 "cells": [
  {
   "cell_type": "code",
   "execution_count": 1,
   "metadata": {},
   "outputs": [],
   "source": [
    "from langchain.callbacks.base import BaseCallbackHandler\n",
    "from langchain.schema import LLMResult\n",
    "\n",
    "class MyCustomHandler(BaseCallbackHandler):\n",
    "    def on_llm_new_token(self, token:str, **kwargs) -> None:\n",
    "        print(f\"Received streaming token {token}, kwargs:{kwargs}\")\n",
    "        \n",
    "    def on_llm_end(self, response: LLMResult, **kwargs) -> None:\n",
    "        print(f\"Received non-streaming response: {response}\")"
   ]
  },
  {
   "cell_type": "markdown",
   "metadata": {},
   "source": [
    "# Open AI"
   ]
  },
  {
   "cell_type": "code",
   "execution_count": 2,
   "metadata": {},
   "outputs": [],
   "source": [
    "from langchain.callbacks.base import BaseCallbackHandler\n",
    "from langchain.schema import LLMResult\n",
    "\n",
    "class MyCustomHandler(BaseCallbackHandler):\n",
    "    def on_llm_new_token(self, token:str, **kwargs) -> None:\n",
    "        print(f\"Received streaming token {token}, kwargs:{kwargs}\")\n",
    "        \n",
    "    def on_llm_end(self, response: LLMResult, **kwargs) -> None:\n",
    "        print(f\"Received non-streaming response: {response}\")"
   ]
  },
  {
   "cell_type": "code",
   "execution_count": 3,
   "metadata": {},
   "outputs": [],
   "source": [
    "from llmstudio.llm.langchain import ChatLLMstudio\n",
    "from llmstudio import LLM"
   ]
  },
  {
   "cell_type": "code",
   "execution_count": 4,
   "metadata": {},
   "outputs": [
    {
     "name": "stdout",
     "output_type": "stream",
     "text": [
      "Running LLMstudio Tracking on http://localhost:50002 Running LLMstudio Engine on http://localhost:50001 \n",
      "\n",
      "openai.py - request: api_key=None model='gpt-3.5-turbo' chat_input=[{'role': 'system', 'content': 'You are a helpful AI assistant.'}, {'role': 'user', 'content': 'Can you buy me a ticket to Madrid? Tell me at what time my train depparts pelase.'}] parameters=OpenAIParameters(temperature=0.0, max_tokens=None, top_p=None, frequency_penalty=None, presence_penalty=None) is_stream=False has_end_token=False functions=[{'name': 'get_departure', 'description': 'get_departure(ticket_number: str) - Use this to fetch the departure time of a train', 'parameters': {'type': 'object', 'properties': {'ticket_number': {'type': 'string'}}, 'required': ['ticket_number']}}, {'name': 'cancel_ticket', 'description': 'cancel_ticket(ticket_number: str) - Use this to cancel a ticket', 'parameters': {'type': 'object', 'properties': {'ticket_number': {'type': 'string'}}, 'required': ['ticket_number']}}, {'name': 'buy_ticket', 'description': 'buy_ticket(destination: str) - Use this to buy a ticket', 'parameters': {'type': 'object', 'properties': {'destination': {'type': 'string'}}, 'required': ['destination']}}, {'name': 'make_complaint', 'description': 'make_complaint(complaint: str) - Use this to forward a complaint to the complaint department', 'parameters': {'type': 'object', 'properties': {'complaint': {'type': 'string'}}, 'required': ['complaint']}}] session_id=None retries=0 response_format=None\n",
      "openai.py - request: api_key=None model='gpt-3.5-turbo' chat_input=[{'role': 'system', 'content': 'You are a helpful AI assistant.'}, {'role': 'user', 'content': 'Can you buy me a ticket to Madrid? Tell me at what time my train depparts pelase.'}, {'role': 'assistant', 'content': None, 'function_call': {'arguments': '{\"destination\":\"Madrid\"}', 'name': 'buy_ticket'}}, {'role': 'function', 'content': 'Bought ticket number 123456', 'name': 'buy_ticket'}] parameters=OpenAIParameters(temperature=0.0, max_tokens=None, top_p=None, frequency_penalty=None, presence_penalty=None) is_stream=False has_end_token=False functions=[{'name': 'get_departure', 'description': 'get_departure(ticket_number: str) - Use this to fetch the departure time of a train', 'parameters': {'type': 'object', 'properties': {'ticket_number': {'type': 'string'}}, 'required': ['ticket_number']}}, {'name': 'cancel_ticket', 'description': 'cancel_ticket(ticket_number: str) - Use this to cancel a ticket', 'parameters': {'type': 'object', 'properties': {'ticket_number': {'type': 'string'}}, 'required': ['ticket_number']}}, {'name': 'buy_ticket', 'description': 'buy_ticket(destination: str) - Use this to buy a ticket', 'parameters': {'type': 'object', 'properties': {'destination': {'type': 'string'}}, 'required': ['destination']}}, {'name': 'make_complaint', 'description': 'make_complaint(complaint: str) - Use this to forward a complaint to the complaint department', 'parameters': {'type': 'object', 'properties': {'complaint': {'type': 'string'}}, 'required': ['complaint']}}] session_id=None retries=0 response_format=None\n",
      "openai.py - request: api_key=None model='gpt-3.5-turbo' chat_input=[{'role': 'system', 'content': 'You are a helpful AI assistant.'}, {'role': 'user', 'content': 'Can you buy me a ticket to Madrid? Tell me at what time my train depparts pelase.'}, {'role': 'assistant', 'content': None, 'function_call': {'arguments': '{\"destination\":\"Madrid\"}', 'name': 'buy_ticket'}}, {'role': 'function', 'content': 'Bought ticket number 123456', 'name': 'buy_ticket'}, {'role': 'assistant', 'content': None, 'function_call': {'arguments': '{\"ticket_number\":\"123456\"}', 'name': 'get_departure'}}, {'role': 'function', 'content': '12:00 AM', 'name': 'get_departure'}] parameters=OpenAIParameters(temperature=0.0, max_tokens=None, top_p=None, frequency_penalty=None, presence_penalty=None) is_stream=False has_end_token=False functions=[{'name': 'get_departure', 'description': 'get_departure(ticket_number: str) - Use this to fetch the departure time of a train', 'parameters': {'type': 'object', 'properties': {'ticket_number': {'type': 'string'}}, 'required': ['ticket_number']}}, {'name': 'cancel_ticket', 'description': 'cancel_ticket(ticket_number: str) - Use this to cancel a ticket', 'parameters': {'type': 'object', 'properties': {'ticket_number': {'type': 'string'}}, 'required': ['ticket_number']}}, {'name': 'buy_ticket', 'description': 'buy_ticket(destination: str) - Use this to buy a ticket', 'parameters': {'type': 'object', 'properties': {'destination': {'type': 'string'}}, 'required': ['destination']}}, {'name': 'make_complaint', 'description': 'make_complaint(complaint: str) - Use this to forward a complaint to the complaint department', 'parameters': {'type': 'object', 'properties': {'complaint': {'type': 'string'}}, 'required': ['complaint']}}] session_id=None retries=0 response_format=None\n"
     ]
    }
   ],
   "source": [
    "# lc_llm = ChatLLMstudio(model_id='openai/gpt-3.5-turbo', temperature=0)\n",
    "lc_llm = ChatLLMstudio(model_id='openai/gpt-3.5-turbo', temperature=0)"
   ]
  },
  {
   "cell_type": "code",
   "execution_count": 5,
   "metadata": {},
   "outputs": [],
   "source": [
    "from langchain.tools import tool\n",
    "from langchain.agents import AgentType, initialize_agent\n",
    "\n",
    "@tool\n",
    "def get_departure(ticket_number: str):\n",
    "    \"\"\"Use this to fetch the departure time of a train\"\"\"\n",
    "    return \"12:00 AM\"\n",
    "\n",
    "@tool\n",
    "def cancel_ticket(ticket_number: str):\n",
    "    \"\"\"Use this to cancel a ticket\"\"\"\n",
    "    return \"Ticket cancelled\"\n",
    "\n",
    "@tool\n",
    "def buy_ticket(destination: str):\n",
    "    \"\"\"Use this to buy a ticket\"\"\"\n",
    "    return \"Bought ticket number 123456\"\n",
    "\n",
    "@tool\n",
    "def make_complaint(complaint: str):\n",
    "    \"\"\"Use this to forward a complaint to the complaint department\"\"\"\n",
    "    return \"Complaint forwarded. We appreciate your feedback.\"\n",
    "\n",
    "\n",
    "def assistant(question: str)->str:\n",
    "    \"\"\"YOUR CODE HERE\"\"\"\n",
    "    tools = [get_departure, cancel_ticket, buy_ticket, make_complaint]\n",
    "    print(tools)\n",
    "\n",
    "    #rebuild agent with new tools\n",
    "    agent_executor = initialize_agent(\n",
    "        tools, lc_llm, agent=AgentType.OPENAI_FUNCTIONS, handle_parsing_errors=\"Check your output and make sure it conforms!\", verbose = True, debug = True\n",
    "    )\n",
    "\n",
    "    response = agent_executor.invoke(\n",
    "        {\n",
    "            \"input\": question\n",
    "        }\n",
    "    )\n",
    "\n",
    "    return response"
   ]
  },
  {
   "cell_type": "code",
   "execution_count": 6,
   "metadata": {},
   "outputs": [
    {
     "name": "stdout",
     "output_type": "stream",
     "text": [
      "[StructuredTool(name='get_departure', description='get_departure(ticket_number: str) - Use this to fetch the departure time of a train', args_schema=<class 'pydantic.v1.main.get_departureSchema'>, func=<function get_departure at 0x10cbb5440>), StructuredTool(name='cancel_ticket', description='cancel_ticket(ticket_number: str) - Use this to cancel a ticket', args_schema=<class 'pydantic.v1.main.cancel_ticketSchema'>, func=<function cancel_ticket at 0x10cbb6840>), StructuredTool(name='buy_ticket', description='buy_ticket(destination: str) - Use this to buy a ticket', args_schema=<class 'pydantic.v1.main.buy_ticketSchema'>, func=<function buy_ticket at 0x10f837880>), StructuredTool(name='make_complaint', description='make_complaint(complaint: str) - Use this to forward a complaint to the complaint department', args_schema=<class 'pydantic.v1.main.make_complaintSchema'>, func=<function make_complaint at 0x10f837ba0>)]\n",
      "\n",
      "\n",
      "\u001b[1m> Entering new AgentExecutor chain...\u001b[0m\n"
     ]
    },
    {
     "name": "stderr",
     "output_type": "stream",
     "text": [
      "/opt/anaconda3/envs/llmstudiodev/lib/python3.11/site-packages/langchain_core/_api/deprecation.py:119: LangChainDeprecationWarning: The function `initialize_agent` was deprecated in LangChain 0.1.0 and will be removed in 0.3.0. Use Use new agent constructor methods like create_react_agent, create_json_agent, create_structured_chat_agent, etc. instead.\n",
      "  warn_deprecated(\n"
     ]
    },
    {
     "name": "stdout",
     "output_type": "stream",
     "text": [
      "\u001b[32;1m\u001b[1;3m\n",
      "Invoking: `buy_ticket` with `{'destination': 'Madrid'}`\n",
      "\n",
      "\n",
      "\u001b[0m\u001b[38;5;200m\u001b[1;3mBought ticket number 123456\u001b[0m\u001b[32;1m\u001b[1;3m\n",
      "Invoking: `get_departure` with `{'ticket_number': '123456'}`\n",
      "\n",
      "\n",
      "\u001b[0m\u001b[36;1m\u001b[1;3m12:00 AM\u001b[0m\u001b[32;1m\u001b[1;3mI have bought a ticket for you to Madrid. Your train departs at 12:00 AM.\u001b[0m\n",
      "\n",
      "\u001b[1m> Finished chain.\u001b[0m\n"
     ]
    },
    {
     "data": {
      "text/plain": [
       "{'input': 'Can you buy me a ticket to Madrid? Tell me at what time my train depparts pelase.',\n",
       " 'output': 'I have bought a ticket for you to Madrid. Your train departs at 12:00 AM.'}"
      ]
     },
     "execution_count": 6,
     "metadata": {},
     "output_type": "execute_result"
    }
   ],
   "source": [
    "assistant('Can you buy me a ticket to Madrid? Tell me at what time my train depparts pelase.')\n"
   ]
  },
  {
   "cell_type": "markdown",
   "metadata": {},
   "source": [
    "# Vertex AI"
   ]
  },
  {
   "cell_type": "code",
   "execution_count": 1,
   "metadata": {},
   "outputs": [],
   "source": [
    "from llmstudio.llm.langchain import ChatLLMstudio\n",
    "from llmstudio import LLM"
   ]
  },
  {
   "cell_type": "code",
   "execution_count": 2,
   "metadata": {},
   "outputs": [
    {
     "name": "stdout",
     "output_type": "stream",
     "text": [
      "Running LLMstudio Engine on http://localhost:50001 Running LLMstudio Tracking on http://localhost:50002 \n",
      "\n",
      "vertex.py - request: api_key=None model='gemini-1.5-flash' chat_input=[{'role': 'system', 'content': 'You are a helpful AI assistant.'}, {'role': 'user', 'content': 'Can you buy me a ticket please for paris? When does my train deppart?'}] parameters=VertexAIParameters(top_p=None, top_k=None, temperature=0.0, max_output_tokens=None, frequency_penalty=None, presence_penalty=None) is_stream=False has_end_token=False functions=[{'name': 'get_departure', 'description': 'get_departure(ticket_number: str) - Use this to fetch the departure time of a train', 'parameters': {'type': 'object', 'properties': {'ticket_number': {'type': 'string'}}, 'required': ['ticket_number']}}, {'name': 'cancel_ticket', 'description': 'cancel_ticket(ticket_number: str) - Use this to cancel a ticket', 'parameters': {'type': 'object', 'properties': {'ticket_number': {'type': 'string'}}, 'required': ['ticket_number']}}, {'name': 'buy_ticket', 'description': 'buy_ticket(destination: str) - Use this to buy a ticket', 'parameters': {'type': 'object', 'properties': {'destination': {'type': 'string'}}, 'required': ['destination']}}, {'name': 'make_complaint', 'description': 'make_complaint(complaint: str) - Use this to forward a complaint to the complaint department', 'parameters': {'type': 'object', 'properties': {'complaint': {'type': 'string'}}, 'required': ['complaint']}}] session_id=None retries=0\n",
      "vertex.py - message: \n",
      "        Please answer the following question: Can you buy me a ticket please for paris? When does my train deppart?\n",
      "\n",
      "        Base your answer to the responses you got from this tools: \n",
      "\n",
      "        \n",
      "\n",
      "        Please make the answer accurate and based on the tool responses.\n",
      "        \n",
      "vertex.py - request: api_key=None model='gemini-1.5-flash' chat_input=[{'role': 'system', 'content': 'You are a helpful AI assistant.'}, {'role': 'user', 'content': 'Can you buy me a ticket please for paris? When does my train deppart?'}, {'role': 'assistant', 'content': None, 'function_call': {'arguments': '{\"destination\":\"Paris\"}', 'name': 'buy_ticket'}}, {'role': 'function', 'content': 'Bought ticket number 123456', 'name': 'buy_ticket'}] parameters=VertexAIParameters(top_p=None, top_k=None, temperature=0.0, max_output_tokens=None, frequency_penalty=None, presence_penalty=None) is_stream=False has_end_token=False functions=[{'name': 'get_departure', 'description': 'get_departure(ticket_number: str) - Use this to fetch the departure time of a train', 'parameters': {'type': 'object', 'properties': {'ticket_number': {'type': 'string'}}, 'required': ['ticket_number']}}, {'name': 'cancel_ticket', 'description': 'cancel_ticket(ticket_number: str) - Use this to cancel a ticket', 'parameters': {'type': 'object', 'properties': {'ticket_number': {'type': 'string'}}, 'required': ['ticket_number']}}, {'name': 'buy_ticket', 'description': 'buy_ticket(destination: str) - Use this to buy a ticket', 'parameters': {'type': 'object', 'properties': {'destination': {'type': 'string'}}, 'required': ['destination']}}, {'name': 'make_complaint', 'description': 'make_complaint(complaint: str) - Use this to forward a complaint to the complaint department', 'parameters': {'type': 'object', 'properties': {'complaint': {'type': 'string'}}, 'required': ['complaint']}}] session_id=None retries=0\n",
      "vertex.py - message: \n",
      "        Please answer the following question: Can you buy me a ticket please for paris? When does my train deppart?\n",
      "\n",
      "        Base your answer to the responses you got from this tools: \n",
      "\n",
      "        Tool1: buy_ticket, Description1:Description not provided, Response1:Bought ticket number 123456\n",
      "\n",
      "        Please make the answer accurate and based on the tool responses.\n",
      "        \n",
      "vertex.py - request: api_key=None model='gemini-1.5-flash' chat_input=[{'role': 'system', 'content': 'You are a helpful AI assistant.'}, {'role': 'user', 'content': 'Can you buy me a ticket please for paris? When does my train deppart?'}, {'role': 'assistant', 'content': None, 'function_call': {'arguments': '{\"destination\":\"Paris\"}', 'name': 'buy_ticket'}}, {'role': 'function', 'content': 'Bought ticket number 123456', 'name': 'buy_ticket'}, {'role': 'assistant', 'content': None, 'function_call': {'arguments': '{\"destination\":\"paris\"}', 'name': 'buy_ticket'}}, {'role': 'function', 'content': 'Bought ticket number 123456', 'name': 'buy_ticket'}] parameters=VertexAIParameters(top_p=None, top_k=None, temperature=0.0, max_output_tokens=None, frequency_penalty=None, presence_penalty=None) is_stream=False has_end_token=False functions=[{'name': 'get_departure', 'description': 'get_departure(ticket_number: str) - Use this to fetch the departure time of a train', 'parameters': {'type': 'object', 'properties': {'ticket_number': {'type': 'string'}}, 'required': ['ticket_number']}}, {'name': 'cancel_ticket', 'description': 'cancel_ticket(ticket_number: str) - Use this to cancel a ticket', 'parameters': {'type': 'object', 'properties': {'ticket_number': {'type': 'string'}}, 'required': ['ticket_number']}}, {'name': 'buy_ticket', 'description': 'buy_ticket(destination: str) - Use this to buy a ticket', 'parameters': {'type': 'object', 'properties': {'destination': {'type': 'string'}}, 'required': ['destination']}}, {'name': 'make_complaint', 'description': 'make_complaint(complaint: str) - Use this to forward a complaint to the complaint department', 'parameters': {'type': 'object', 'properties': {'complaint': {'type': 'string'}}, 'required': ['complaint']}}] session_id=None retries=0\n",
      "vertex.py - message: \n",
      "        Please answer the following question: Can you buy me a ticket please for paris? When does my train deppart?\n",
      "\n",
      "        Base your answer to the responses you got from this tools: \n",
      "\n",
      "        Tool1: buy_ticket, Description1:Description not provided, Response1:Bought ticket number 123456\n",
      "Tool2: buy_ticket, Description2:Description not provided, Response2:Bought ticket number 123456\n",
      "\n",
      "        Please make the answer accurate and based on the tool responses.\n",
      "        \n",
      "vertex.py - request: api_key=None model='gemini-1.5-flash' chat_input=[{'role': 'system', 'content': 'You are a helpful AI assistant.'}, {'role': 'user', 'content': 'Can you buy me a ticket please for paris? When does my train deppart?'}, {'role': 'assistant', 'content': None, 'function_call': {'arguments': '{\"destination\":\"Paris\"}', 'name': 'buy_ticket'}}, {'role': 'function', 'content': 'Bought ticket number 123456', 'name': 'buy_ticket'}, {'role': 'assistant', 'content': None, 'function_call': {'arguments': '{\"destination\":\"paris\"}', 'name': 'buy_ticket'}}, {'role': 'function', 'content': 'Bought ticket number 123456', 'name': 'buy_ticket'}, {'role': 'assistant', 'content': None, 'function_call': {'arguments': '{\"destination\":\"paris\"}', 'name': 'buy_ticket'}}, {'role': 'function', 'content': 'Bought ticket number 123456', 'name': 'buy_ticket'}] parameters=VertexAIParameters(top_p=None, top_k=None, temperature=0.0, max_output_tokens=None, frequency_penalty=None, presence_penalty=None) is_stream=False has_end_token=False functions=[{'name': 'get_departure', 'description': 'get_departure(ticket_number: str) - Use this to fetch the departure time of a train', 'parameters': {'type': 'object', 'properties': {'ticket_number': {'type': 'string'}}, 'required': ['ticket_number']}}, {'name': 'cancel_ticket', 'description': 'cancel_ticket(ticket_number: str) - Use this to cancel a ticket', 'parameters': {'type': 'object', 'properties': {'ticket_number': {'type': 'string'}}, 'required': ['ticket_number']}}, {'name': 'buy_ticket', 'description': 'buy_ticket(destination: str) - Use this to buy a ticket', 'parameters': {'type': 'object', 'properties': {'destination': {'type': 'string'}}, 'required': ['destination']}}, {'name': 'make_complaint', 'description': 'make_complaint(complaint: str) - Use this to forward a complaint to the complaint department', 'parameters': {'type': 'object', 'properties': {'complaint': {'type': 'string'}}, 'required': ['complaint']}}] session_id=None retries=0\n",
      "vertex.py - message: \n",
      "        Please answer the following question: Can you buy me a ticket please for paris? When does my train deppart?\n",
      "\n",
      "        Base your answer to the responses you got from this tools: \n",
      "\n",
      "        Tool1: buy_ticket, Description1:Description not provided, Response1:Bought ticket number 123456\n",
      "Tool2: buy_ticket, Description2:Description not provided, Response2:Bought ticket number 123456\n",
      "Tool3: buy_ticket, Description3:Description not provided, Response3:Bought ticket number 123456\n",
      "\n",
      "        Please make the answer accurate and based on the tool responses.\n",
      "        \n",
      "vertex.py - request: api_key=None model='gemini-1.5-flash' chat_input=[{'role': 'system', 'content': 'You are a helpful AI assistant.'}, {'role': 'user', 'content': 'Can you buy me a ticket please for paris? When does my train deppart?'}, {'role': 'assistant', 'content': None, 'function_call': {'arguments': '{\"destination\":\"Paris\"}', 'name': 'buy_ticket'}}, {'role': 'function', 'content': 'Bought ticket number 123456', 'name': 'buy_ticket'}, {'role': 'assistant', 'content': None, 'function_call': {'arguments': '{\"destination\":\"paris\"}', 'name': 'buy_ticket'}}, {'role': 'function', 'content': 'Bought ticket number 123456', 'name': 'buy_ticket'}, {'role': 'assistant', 'content': None, 'function_call': {'arguments': '{\"destination\":\"paris\"}', 'name': 'buy_ticket'}}, {'role': 'function', 'content': 'Bought ticket number 123456', 'name': 'buy_ticket'}, {'role': 'assistant', 'content': None, 'function_call': {'arguments': '{\"destination\":\"paris\"}', 'name': 'buy_ticket'}}, {'role': 'function', 'content': 'Bought ticket number 123456', 'name': 'buy_ticket'}] parameters=VertexAIParameters(top_p=None, top_k=None, temperature=0.0, max_output_tokens=None, frequency_penalty=None, presence_penalty=None) is_stream=False has_end_token=False functions=[{'name': 'get_departure', 'description': 'get_departure(ticket_number: str) - Use this to fetch the departure time of a train', 'parameters': {'type': 'object', 'properties': {'ticket_number': {'type': 'string'}}, 'required': ['ticket_number']}}, {'name': 'cancel_ticket', 'description': 'cancel_ticket(ticket_number: str) - Use this to cancel a ticket', 'parameters': {'type': 'object', 'properties': {'ticket_number': {'type': 'string'}}, 'required': ['ticket_number']}}, {'name': 'buy_ticket', 'description': 'buy_ticket(destination: str) - Use this to buy a ticket', 'parameters': {'type': 'object', 'properties': {'destination': {'type': 'string'}}, 'required': ['destination']}}, {'name': 'make_complaint', 'description': 'make_complaint(complaint: str) - Use this to forward a complaint to the complaint department', 'parameters': {'type': 'object', 'properties': {'complaint': {'type': 'string'}}, 'required': ['complaint']}}] session_id=None retries=0\n",
      "vertex.py - message: \n",
      "        Please answer the following question: Can you buy me a ticket please for paris? When does my train deppart?\n",
      "\n",
      "        Base your answer to the responses you got from this tools: \n",
      "\n",
      "        Tool1: buy_ticket, Description1:Description not provided, Response1:Bought ticket number 123456\n",
      "Tool2: buy_ticket, Description2:Description not provided, Response2:Bought ticket number 123456\n",
      "Tool3: buy_ticket, Description3:Description not provided, Response3:Bought ticket number 123456\n",
      "Tool4: buy_ticket, Description4:Description not provided, Response4:Bought ticket number 123456\n",
      "\n",
      "        Please make the answer accurate and based on the tool responses.\n",
      "        \n",
      "vertex.py - request: api_key=None model='gemini-1.5-flash' chat_input=[{'role': 'system', 'content': 'You are a helpful AI assistant.'}, {'role': 'user', 'content': 'Can you buy me a ticket please for paris? When does my train deppart?'}, {'role': 'assistant', 'content': None, 'function_call': {'arguments': '{\"destination\":\"Paris\"}', 'name': 'buy_ticket'}}, {'role': 'function', 'content': 'Bought ticket number 123456', 'name': 'buy_ticket'}, {'role': 'assistant', 'content': None, 'function_call': {'arguments': '{\"destination\":\"paris\"}', 'name': 'buy_ticket'}}, {'role': 'function', 'content': 'Bought ticket number 123456', 'name': 'buy_ticket'}, {'role': 'assistant', 'content': None, 'function_call': {'arguments': '{\"destination\":\"paris\"}', 'name': 'buy_ticket'}}, {'role': 'function', 'content': 'Bought ticket number 123456', 'name': 'buy_ticket'}, {'role': 'assistant', 'content': None, 'function_call': {'arguments': '{\"destination\":\"paris\"}', 'name': 'buy_ticket'}}, {'role': 'function', 'content': 'Bought ticket number 123456', 'name': 'buy_ticket'}, {'role': 'assistant', 'content': None, 'function_call': {'arguments': '{\"destination\":\"paris\"}', 'name': 'buy_ticket'}}, {'role': 'function', 'content': 'Bought ticket number 123456', 'name': 'buy_ticket'}] parameters=VertexAIParameters(top_p=None, top_k=None, temperature=0.0, max_output_tokens=None, frequency_penalty=None, presence_penalty=None) is_stream=False has_end_token=False functions=[{'name': 'get_departure', 'description': 'get_departure(ticket_number: str) - Use this to fetch the departure time of a train', 'parameters': {'type': 'object', 'properties': {'ticket_number': {'type': 'string'}}, 'required': ['ticket_number']}}, {'name': 'cancel_ticket', 'description': 'cancel_ticket(ticket_number: str) - Use this to cancel a ticket', 'parameters': {'type': 'object', 'properties': {'ticket_number': {'type': 'string'}}, 'required': ['ticket_number']}}, {'name': 'buy_ticket', 'description': 'buy_ticket(destination: str) - Use this to buy a ticket', 'parameters': {'type': 'object', 'properties': {'destination': {'type': 'string'}}, 'required': ['destination']}}, {'name': 'make_complaint', 'description': 'make_complaint(complaint: str) - Use this to forward a complaint to the complaint department', 'parameters': {'type': 'object', 'properties': {'complaint': {'type': 'string'}}, 'required': ['complaint']}}] session_id=None retries=0\n",
      "vertex.py - message: \n",
      "        Please answer the following question: Can you buy me a ticket please for paris? When does my train deppart?\n",
      "\n",
      "        Base your answer to the responses you got from this tools: \n",
      "\n",
      "        Tool1: buy_ticket, Description1:Description not provided, Response1:Bought ticket number 123456\n",
      "Tool2: buy_ticket, Description2:Description not provided, Response2:Bought ticket number 123456\n",
      "Tool3: buy_ticket, Description3:Description not provided, Response3:Bought ticket number 123456\n",
      "Tool4: buy_ticket, Description4:Description not provided, Response4:Bought ticket number 123456\n",
      "Tool5: buy_ticket, Description5:Description not provided, Response5:Bought ticket number 123456\n",
      "\n",
      "        Please make the answer accurate and based on the tool responses.\n",
      "        \n",
      "vertex.py - request: api_key=None model='gemini-1.5-flash' chat_input=[{'role': 'system', 'content': 'You are a helpful AI assistant.'}, {'role': 'user', 'content': 'Can you buy me a ticket please for paris? When does my train deppart?'}, {'role': 'assistant', 'content': None, 'function_call': {'arguments': '{\"destination\":\"Paris\"}', 'name': 'buy_ticket'}}, {'role': 'function', 'content': 'Bought ticket number 123456', 'name': 'buy_ticket'}, {'role': 'assistant', 'content': None, 'function_call': {'arguments': '{\"destination\":\"paris\"}', 'name': 'buy_ticket'}}, {'role': 'function', 'content': 'Bought ticket number 123456', 'name': 'buy_ticket'}, {'role': 'assistant', 'content': None, 'function_call': {'arguments': '{\"destination\":\"paris\"}', 'name': 'buy_ticket'}}, {'role': 'function', 'content': 'Bought ticket number 123456', 'name': 'buy_ticket'}, {'role': 'assistant', 'content': None, 'function_call': {'arguments': '{\"destination\":\"paris\"}', 'name': 'buy_ticket'}}, {'role': 'function', 'content': 'Bought ticket number 123456', 'name': 'buy_ticket'}, {'role': 'assistant', 'content': None, 'function_call': {'arguments': '{\"destination\":\"paris\"}', 'name': 'buy_ticket'}}, {'role': 'function', 'content': 'Bought ticket number 123456', 'name': 'buy_ticket'}, {'role': 'assistant', 'content': None, 'function_call': {'arguments': '{\"destination\":\"paris\"}', 'name': 'buy_ticket'}}, {'role': 'function', 'content': 'Bought ticket number 123456', 'name': 'buy_ticket'}] parameters=VertexAIParameters(top_p=None, top_k=None, temperature=0.0, max_output_tokens=None, frequency_penalty=None, presence_penalty=None) is_stream=False has_end_token=False functions=[{'name': 'get_departure', 'description': 'get_departure(ticket_number: str) - Use this to fetch the departure time of a train', 'parameters': {'type': 'object', 'properties': {'ticket_number': {'type': 'string'}}, 'required': ['ticket_number']}}, {'name': 'cancel_ticket', 'description': 'cancel_ticket(ticket_number: str) - Use this to cancel a ticket', 'parameters': {'type': 'object', 'properties': {'ticket_number': {'type': 'string'}}, 'required': ['ticket_number']}}, {'name': 'buy_ticket', 'description': 'buy_ticket(destination: str) - Use this to buy a ticket', 'parameters': {'type': 'object', 'properties': {'destination': {'type': 'string'}}, 'required': ['destination']}}, {'name': 'make_complaint', 'description': 'make_complaint(complaint: str) - Use this to forward a complaint to the complaint department', 'parameters': {'type': 'object', 'properties': {'complaint': {'type': 'string'}}, 'required': ['complaint']}}] session_id=None retries=0\n",
      "vertex.py - message: \n",
      "        Please answer the following question: Can you buy me a ticket please for paris? When does my train deppart?\n",
      "\n",
      "        Base your answer to the responses you got from this tools: \n",
      "\n",
      "        Tool1: buy_ticket, Description1:Description not provided, Response1:Bought ticket number 123456\n",
      "Tool2: buy_ticket, Description2:Description not provided, Response2:Bought ticket number 123456\n",
      "Tool3: buy_ticket, Description3:Description not provided, Response3:Bought ticket number 123456\n",
      "Tool4: buy_ticket, Description4:Description not provided, Response4:Bought ticket number 123456\n",
      "Tool5: buy_ticket, Description5:Description not provided, Response5:Bought ticket number 123456\n",
      "Tool6: buy_ticket, Description6:Description not provided, Response6:Bought ticket number 123456\n",
      "\n",
      "        Please make the answer accurate and based on the tool responses.\n",
      "        \n",
      "vertex.py - request: api_key=None model='gemini-1.5-flash' chat_input=[{'role': 'system', 'content': 'You are a helpful AI assistant.'}, {'role': 'user', 'content': 'Can you buy me a ticket please for paris? When does my train deppart?'}, {'role': 'assistant', 'content': None, 'function_call': {'arguments': '{\"destination\":\"Paris\"}', 'name': 'buy_ticket'}}, {'role': 'function', 'content': 'Bought ticket number 123456', 'name': 'buy_ticket'}, {'role': 'assistant', 'content': None, 'function_call': {'arguments': '{\"destination\":\"paris\"}', 'name': 'buy_ticket'}}, {'role': 'function', 'content': 'Bought ticket number 123456', 'name': 'buy_ticket'}, {'role': 'assistant', 'content': None, 'function_call': {'arguments': '{\"destination\":\"paris\"}', 'name': 'buy_ticket'}}, {'role': 'function', 'content': 'Bought ticket number 123456', 'name': 'buy_ticket'}, {'role': 'assistant', 'content': None, 'function_call': {'arguments': '{\"destination\":\"paris\"}', 'name': 'buy_ticket'}}, {'role': 'function', 'content': 'Bought ticket number 123456', 'name': 'buy_ticket'}, {'role': 'assistant', 'content': None, 'function_call': {'arguments': '{\"destination\":\"paris\"}', 'name': 'buy_ticket'}}, {'role': 'function', 'content': 'Bought ticket number 123456', 'name': 'buy_ticket'}, {'role': 'assistant', 'content': None, 'function_call': {'arguments': '{\"destination\":\"paris\"}', 'name': 'buy_ticket'}}, {'role': 'function', 'content': 'Bought ticket number 123456', 'name': 'buy_ticket'}, {'role': 'assistant', 'content': 'Could not parse tool input: {\\'arguments\\': \\'{\"destination\":\"paris\"}{\"ticket_number\":\"123456\"}\\', \\'name\\': \\'buy_ticket\\'} because the `arguments` is not valid JSON.'}] parameters=VertexAIParameters(top_p=None, top_k=None, temperature=0.0, max_output_tokens=None, frequency_penalty=None, presence_penalty=None) is_stream=False has_end_token=False functions=[{'name': 'get_departure', 'description': 'get_departure(ticket_number: str) - Use this to fetch the departure time of a train', 'parameters': {'type': 'object', 'properties': {'ticket_number': {'type': 'string'}}, 'required': ['ticket_number']}}, {'name': 'cancel_ticket', 'description': 'cancel_ticket(ticket_number: str) - Use this to cancel a ticket', 'parameters': {'type': 'object', 'properties': {'ticket_number': {'type': 'string'}}, 'required': ['ticket_number']}}, {'name': 'buy_ticket', 'description': 'buy_ticket(destination: str) - Use this to buy a ticket', 'parameters': {'type': 'object', 'properties': {'destination': {'type': 'string'}}, 'required': ['destination']}}, {'name': 'make_complaint', 'description': 'make_complaint(complaint: str) - Use this to forward a complaint to the complaint department', 'parameters': {'type': 'object', 'properties': {'complaint': {'type': 'string'}}, 'required': ['complaint']}}] session_id=None retries=0\n",
      "vertex.py - message: \n",
      "        Please answer the following question: Can you buy me a ticket please for paris? When does my train deppart?\n",
      "\n",
      "        Base your answer to the responses you got from this tools: \n",
      "\n",
      "        Tool1: buy_ticket, Description1:Description not provided, Response1:Bought ticket number 123456\n",
      "Tool2: buy_ticket, Description2:Description not provided, Response2:Bought ticket number 123456\n",
      "Tool3: buy_ticket, Description3:Description not provided, Response3:Bought ticket number 123456\n",
      "Tool4: buy_ticket, Description4:Description not provided, Response4:Bought ticket number 123456\n",
      "Tool5: buy_ticket, Description5:Description not provided, Response5:Bought ticket number 123456\n",
      "Tool6: buy_ticket, Description6:Description not provided, Response6:Bought ticket number 123456\n",
      "\n",
      "        Please make the answer accurate and based on the tool responses.\n",
      "        \n",
      "vertex.py - request: api_key=None model='gemini-1.5-flash' chat_input=[{'role': 'system', 'content': 'You are a helpful AI assistant.'}, {'role': 'user', 'content': 'Can you buy me a ticket please for paris? When does my train deppart?'}, {'role': 'assistant', 'content': None, 'function_call': {'arguments': '{\"destination\":\"Paris\"}', 'name': 'buy_ticket'}}, {'role': 'function', 'content': 'Bought ticket number 123456', 'name': 'buy_ticket'}, {'role': 'assistant', 'content': None, 'function_call': {'arguments': '{\"destination\":\"paris\"}', 'name': 'buy_ticket'}}, {'role': 'function', 'content': 'Bought ticket number 123456', 'name': 'buy_ticket'}, {'role': 'assistant', 'content': None, 'function_call': {'arguments': '{\"destination\":\"paris\"}', 'name': 'buy_ticket'}}, {'role': 'function', 'content': 'Bought ticket number 123456', 'name': 'buy_ticket'}, {'role': 'assistant', 'content': None, 'function_call': {'arguments': '{\"destination\":\"paris\"}', 'name': 'buy_ticket'}}, {'role': 'function', 'content': 'Bought ticket number 123456', 'name': 'buy_ticket'}, {'role': 'assistant', 'content': None, 'function_call': {'arguments': '{\"destination\":\"paris\"}', 'name': 'buy_ticket'}}, {'role': 'function', 'content': 'Bought ticket number 123456', 'name': 'buy_ticket'}, {'role': 'assistant', 'content': None, 'function_call': {'arguments': '{\"destination\":\"paris\"}', 'name': 'buy_ticket'}}, {'role': 'function', 'content': 'Bought ticket number 123456', 'name': 'buy_ticket'}, {'role': 'assistant', 'content': 'Could not parse tool input: {\\'arguments\\': \\'{\"destination\":\"paris\"}{\"ticket_number\":\"123456\"}\\', \\'name\\': \\'buy_ticket\\'} because the `arguments` is not valid JSON.'}, {'role': 'assistant', 'content': None, 'function_call': {'arguments': '{\"destination\":\"paris\"}', 'name': 'buy_ticket'}}, {'role': 'function', 'content': 'Bought ticket number 123456', 'name': 'buy_ticket'}] parameters=VertexAIParameters(top_p=None, top_k=None, temperature=0.0, max_output_tokens=None, frequency_penalty=None, presence_penalty=None) is_stream=False has_end_token=False functions=[{'name': 'get_departure', 'description': 'get_departure(ticket_number: str) - Use this to fetch the departure time of a train', 'parameters': {'type': 'object', 'properties': {'ticket_number': {'type': 'string'}}, 'required': ['ticket_number']}}, {'name': 'cancel_ticket', 'description': 'cancel_ticket(ticket_number: str) - Use this to cancel a ticket', 'parameters': {'type': 'object', 'properties': {'ticket_number': {'type': 'string'}}, 'required': ['ticket_number']}}, {'name': 'buy_ticket', 'description': 'buy_ticket(destination: str) - Use this to buy a ticket', 'parameters': {'type': 'object', 'properties': {'destination': {'type': 'string'}}, 'required': ['destination']}}, {'name': 'make_complaint', 'description': 'make_complaint(complaint: str) - Use this to forward a complaint to the complaint department', 'parameters': {'type': 'object', 'properties': {'complaint': {'type': 'string'}}, 'required': ['complaint']}}] session_id=None retries=0\n",
      "vertex.py - message: \n",
      "        Please answer the following question: Can you buy me a ticket please for paris? When does my train deppart?\n",
      "\n",
      "        Base your answer to the responses you got from this tools: \n",
      "\n",
      "        Tool1: buy_ticket, Description1:Description not provided, Response1:Bought ticket number 123456\n",
      "Tool2: buy_ticket, Description2:Description not provided, Response2:Bought ticket number 123456\n",
      "Tool3: buy_ticket, Description3:Description not provided, Response3:Bought ticket number 123456\n",
      "Tool4: buy_ticket, Description4:Description not provided, Response4:Bought ticket number 123456\n",
      "Tool5: buy_ticket, Description5:Description not provided, Response5:Bought ticket number 123456\n",
      "Tool6: buy_ticket, Description6:Description not provided, Response6:Bought ticket number 123456\n",
      "Tool7: buy_ticket, Description7:Description not provided, Response7:Bought ticket number 123456\n",
      "\n",
      "        Please make the answer accurate and based on the tool responses.\n",
      "        \n",
      "vertex.py - request: api_key=None model='gemini-1.5-flash' chat_input=[{'role': 'system', 'content': 'You are a helpful AI assistant.'}, {'role': 'user', 'content': 'Can you buy me a ticket please for paris? When does my train deppart?'}, {'role': 'assistant', 'content': None, 'function_call': {'arguments': '{\"destination\":\"Paris\"}', 'name': 'buy_ticket'}}, {'role': 'function', 'content': 'Bought ticket number 123456', 'name': 'buy_ticket'}, {'role': 'assistant', 'content': None, 'function_call': {'arguments': '{\"destination\":\"paris\"}', 'name': 'buy_ticket'}}, {'role': 'function', 'content': 'Bought ticket number 123456', 'name': 'buy_ticket'}, {'role': 'assistant', 'content': None, 'function_call': {'arguments': '{\"destination\":\"paris\"}', 'name': 'buy_ticket'}}, {'role': 'function', 'content': 'Bought ticket number 123456', 'name': 'buy_ticket'}, {'role': 'assistant', 'content': None, 'function_call': {'arguments': '{\"destination\":\"paris\"}', 'name': 'buy_ticket'}}, {'role': 'function', 'content': 'Bought ticket number 123456', 'name': 'buy_ticket'}, {'role': 'assistant', 'content': None, 'function_call': {'arguments': '{\"destination\":\"paris\"}', 'name': 'buy_ticket'}}, {'role': 'function', 'content': 'Bought ticket number 123456', 'name': 'buy_ticket'}, {'role': 'assistant', 'content': None, 'function_call': {'arguments': '{\"destination\":\"paris\"}', 'name': 'buy_ticket'}}, {'role': 'function', 'content': 'Bought ticket number 123456', 'name': 'buy_ticket'}, {'role': 'assistant', 'content': 'Could not parse tool input: {\\'arguments\\': \\'{\"destination\":\"paris\"}{\"ticket_number\":\"123456\"}\\', \\'name\\': \\'buy_ticket\\'} because the `arguments` is not valid JSON.'}, {'role': 'assistant', 'content': None, 'function_call': {'arguments': '{\"destination\":\"paris\"}', 'name': 'buy_ticket'}}, {'role': 'function', 'content': 'Bought ticket number 123456', 'name': 'buy_ticket'}, {'role': 'assistant', 'content': None, 'function_call': {'arguments': '{\"destination\":\"paris\"}', 'name': 'buy_ticket'}}, {'role': 'function', 'content': 'Bought ticket number 123456', 'name': 'buy_ticket'}] parameters=VertexAIParameters(top_p=None, top_k=None, temperature=0.0, max_output_tokens=None, frequency_penalty=None, presence_penalty=None) is_stream=False has_end_token=False functions=[{'name': 'get_departure', 'description': 'get_departure(ticket_number: str) - Use this to fetch the departure time of a train', 'parameters': {'type': 'object', 'properties': {'ticket_number': {'type': 'string'}}, 'required': ['ticket_number']}}, {'name': 'cancel_ticket', 'description': 'cancel_ticket(ticket_number: str) - Use this to cancel a ticket', 'parameters': {'type': 'object', 'properties': {'ticket_number': {'type': 'string'}}, 'required': ['ticket_number']}}, {'name': 'buy_ticket', 'description': 'buy_ticket(destination: str) - Use this to buy a ticket', 'parameters': {'type': 'object', 'properties': {'destination': {'type': 'string'}}, 'required': ['destination']}}, {'name': 'make_complaint', 'description': 'make_complaint(complaint: str) - Use this to forward a complaint to the complaint department', 'parameters': {'type': 'object', 'properties': {'complaint': {'type': 'string'}}, 'required': ['complaint']}}] session_id=None retries=0\n",
      "vertex.py - message: \n",
      "        Please answer the following question: Can you buy me a ticket please for paris? When does my train deppart?\n",
      "\n",
      "        Base your answer to the responses you got from this tools: \n",
      "\n",
      "        Tool1: buy_ticket, Description1:Description not provided, Response1:Bought ticket number 123456\n",
      "Tool2: buy_ticket, Description2:Description not provided, Response2:Bought ticket number 123456\n",
      "Tool3: buy_ticket, Description3:Description not provided, Response3:Bought ticket number 123456\n",
      "Tool4: buy_ticket, Description4:Description not provided, Response4:Bought ticket number 123456\n",
      "Tool5: buy_ticket, Description5:Description not provided, Response5:Bought ticket number 123456\n",
      "Tool6: buy_ticket, Description6:Description not provided, Response6:Bought ticket number 123456\n",
      "Tool7: buy_ticket, Description7:Description not provided, Response7:Bought ticket number 123456\n",
      "Tool8: buy_ticket, Description8:Description not provided, Response8:Bought ticket number 123456\n",
      "\n",
      "        Please make the answer accurate and based on the tool responses.\n",
      "        \n",
      "vertex.py - request: api_key=None model='gemini-1.5-flash' chat_input=[{'role': 'system', 'content': 'You are a helpful AI assistant.'}, {'role': 'user', 'content': 'Can you buy me a ticket please for paris? When does my train deppart?'}, {'role': 'assistant', 'content': None, 'function_call': {'arguments': '{\"destination\":\"Paris\"}', 'name': 'buy_ticket'}}, {'role': 'function', 'content': 'Bought ticket number 123456', 'name': 'buy_ticket'}, {'role': 'assistant', 'content': None, 'function_call': {'arguments': '{\"destination\":\"paris\"}', 'name': 'buy_ticket'}}, {'role': 'function', 'content': 'Bought ticket number 123456', 'name': 'buy_ticket'}, {'role': 'assistant', 'content': None, 'function_call': {'arguments': '{\"destination\":\"paris\"}', 'name': 'buy_ticket'}}, {'role': 'function', 'content': 'Bought ticket number 123456', 'name': 'buy_ticket'}, {'role': 'assistant', 'content': None, 'function_call': {'arguments': '{\"destination\":\"paris\"}', 'name': 'buy_ticket'}}, {'role': 'function', 'content': 'Bought ticket number 123456', 'name': 'buy_ticket'}, {'role': 'assistant', 'content': None, 'function_call': {'arguments': '{\"destination\":\"paris\"}', 'name': 'buy_ticket'}}, {'role': 'function', 'content': 'Bought ticket number 123456', 'name': 'buy_ticket'}, {'role': 'assistant', 'content': None, 'function_call': {'arguments': '{\"destination\":\"paris\"}', 'name': 'buy_ticket'}}, {'role': 'function', 'content': 'Bought ticket number 123456', 'name': 'buy_ticket'}, {'role': 'assistant', 'content': 'Could not parse tool input: {\\'arguments\\': \\'{\"destination\":\"paris\"}{\"ticket_number\":\"123456\"}\\', \\'name\\': \\'buy_ticket\\'} because the `arguments` is not valid JSON.'}, {'role': 'assistant', 'content': None, 'function_call': {'arguments': '{\"destination\":\"paris\"}', 'name': 'buy_ticket'}}, {'role': 'function', 'content': 'Bought ticket number 123456', 'name': 'buy_ticket'}, {'role': 'assistant', 'content': None, 'function_call': {'arguments': '{\"destination\":\"paris\"}', 'name': 'buy_ticket'}}, {'role': 'function', 'content': 'Bought ticket number 123456', 'name': 'buy_ticket'}, {'role': 'assistant', 'content': None, 'function_call': {'arguments': '{\"destination\":\"paris\"}', 'name': 'buy_ticket'}}, {'role': 'function', 'content': 'Bought ticket number 123456', 'name': 'buy_ticket'}] parameters=VertexAIParameters(top_p=None, top_k=None, temperature=0.0, max_output_tokens=None, frequency_penalty=None, presence_penalty=None) is_stream=False has_end_token=False functions=[{'name': 'get_departure', 'description': 'get_departure(ticket_number: str) - Use this to fetch the departure time of a train', 'parameters': {'type': 'object', 'properties': {'ticket_number': {'type': 'string'}}, 'required': ['ticket_number']}}, {'name': 'cancel_ticket', 'description': 'cancel_ticket(ticket_number: str) - Use this to cancel a ticket', 'parameters': {'type': 'object', 'properties': {'ticket_number': {'type': 'string'}}, 'required': ['ticket_number']}}, {'name': 'buy_ticket', 'description': 'buy_ticket(destination: str) - Use this to buy a ticket', 'parameters': {'type': 'object', 'properties': {'destination': {'type': 'string'}}, 'required': ['destination']}}, {'name': 'make_complaint', 'description': 'make_complaint(complaint: str) - Use this to forward a complaint to the complaint department', 'parameters': {'type': 'object', 'properties': {'complaint': {'type': 'string'}}, 'required': ['complaint']}}] session_id=None retries=0\n",
      "vertex.py - message: \n",
      "        Please answer the following question: Can you buy me a ticket please for paris? When does my train deppart?\n",
      "\n",
      "        Base your answer to the responses you got from this tools: \n",
      "\n",
      "        Tool1: buy_ticket, Description1:Description not provided, Response1:Bought ticket number 123456\n",
      "Tool2: buy_ticket, Description2:Description not provided, Response2:Bought ticket number 123456\n",
      "Tool3: buy_ticket, Description3:Description not provided, Response3:Bought ticket number 123456\n",
      "Tool4: buy_ticket, Description4:Description not provided, Response4:Bought ticket number 123456\n",
      "Tool5: buy_ticket, Description5:Description not provided, Response5:Bought ticket number 123456\n",
      "Tool6: buy_ticket, Description6:Description not provided, Response6:Bought ticket number 123456\n",
      "Tool7: buy_ticket, Description7:Description not provided, Response7:Bought ticket number 123456\n",
      "Tool8: buy_ticket, Description8:Description not provided, Response8:Bought ticket number 123456\n",
      "Tool9: buy_ticket, Description9:Description not provided, Response9:Bought ticket number 123456\n",
      "\n",
      "        Please make the answer accurate and based on the tool responses.\n",
      "        \n",
      "vertex.py - request: api_key=None model='gemini-1.5-flash' chat_input=[{'role': 'system', 'content': 'You are a helpful AI assistant.'}, {'role': 'user', 'content': 'Can you buy me a ticket please for paris? When does my train deppart?'}, {'role': 'assistant', 'content': None, 'function_call': {'arguments': '{\"destination\":\"Paris\"}', 'name': 'buy_ticket'}}, {'role': 'function', 'content': 'Bought ticket number 123456', 'name': 'buy_ticket'}, {'role': 'assistant', 'content': None, 'function_call': {'arguments': '{\"destination\":\"paris\"}', 'name': 'buy_ticket'}}, {'role': 'function', 'content': 'Bought ticket number 123456', 'name': 'buy_ticket'}, {'role': 'assistant', 'content': None, 'function_call': {'arguments': '{\"destination\":\"paris\"}', 'name': 'buy_ticket'}}, {'role': 'function', 'content': 'Bought ticket number 123456', 'name': 'buy_ticket'}, {'role': 'assistant', 'content': None, 'function_call': {'arguments': '{\"destination\":\"paris\"}', 'name': 'buy_ticket'}}, {'role': 'function', 'content': 'Bought ticket number 123456', 'name': 'buy_ticket'}, {'role': 'assistant', 'content': None, 'function_call': {'arguments': '{\"destination\":\"paris\"}', 'name': 'buy_ticket'}}, {'role': 'function', 'content': 'Bought ticket number 123456', 'name': 'buy_ticket'}, {'role': 'assistant', 'content': None, 'function_call': {'arguments': '{\"destination\":\"paris\"}', 'name': 'buy_ticket'}}, {'role': 'function', 'content': 'Bought ticket number 123456', 'name': 'buy_ticket'}, {'role': 'assistant', 'content': 'Could not parse tool input: {\\'arguments\\': \\'{\"destination\":\"paris\"}{\"ticket_number\":\"123456\"}\\', \\'name\\': \\'buy_ticket\\'} because the `arguments` is not valid JSON.'}, {'role': 'assistant', 'content': None, 'function_call': {'arguments': '{\"destination\":\"paris\"}', 'name': 'buy_ticket'}}, {'role': 'function', 'content': 'Bought ticket number 123456', 'name': 'buy_ticket'}, {'role': 'assistant', 'content': None, 'function_call': {'arguments': '{\"destination\":\"paris\"}', 'name': 'buy_ticket'}}, {'role': 'function', 'content': 'Bought ticket number 123456', 'name': 'buy_ticket'}, {'role': 'assistant', 'content': None, 'function_call': {'arguments': '{\"destination\":\"paris\"}', 'name': 'buy_ticket'}}, {'role': 'function', 'content': 'Bought ticket number 123456', 'name': 'buy_ticket'}, {'role': 'assistant', 'content': None, 'function_call': {'arguments': '{\"destination\":\"paris\"}', 'name': 'buy_ticket'}}, {'role': 'function', 'content': 'Bought ticket number 123456', 'name': 'buy_ticket'}] parameters=VertexAIParameters(top_p=None, top_k=None, temperature=0.0, max_output_tokens=None, frequency_penalty=None, presence_penalty=None) is_stream=False has_end_token=False functions=[{'name': 'get_departure', 'description': 'get_departure(ticket_number: str) - Use this to fetch the departure time of a train', 'parameters': {'type': 'object', 'properties': {'ticket_number': {'type': 'string'}}, 'required': ['ticket_number']}}, {'name': 'cancel_ticket', 'description': 'cancel_ticket(ticket_number: str) - Use this to cancel a ticket', 'parameters': {'type': 'object', 'properties': {'ticket_number': {'type': 'string'}}, 'required': ['ticket_number']}}, {'name': 'buy_ticket', 'description': 'buy_ticket(destination: str) - Use this to buy a ticket', 'parameters': {'type': 'object', 'properties': {'destination': {'type': 'string'}}, 'required': ['destination']}}, {'name': 'make_complaint', 'description': 'make_complaint(complaint: str) - Use this to forward a complaint to the complaint department', 'parameters': {'type': 'object', 'properties': {'complaint': {'type': 'string'}}, 'required': ['complaint']}}] session_id=None retries=0\n",
      "vertex.py - message: \n",
      "        Please answer the following question: Can you buy me a ticket please for paris? When does my train deppart?\n",
      "\n",
      "        Base your answer to the responses you got from this tools: \n",
      "\n",
      "        Tool1: buy_ticket, Description1:Description not provided, Response1:Bought ticket number 123456\n",
      "Tool2: buy_ticket, Description2:Description not provided, Response2:Bought ticket number 123456\n",
      "Tool3: buy_ticket, Description3:Description not provided, Response3:Bought ticket number 123456\n",
      "Tool4: buy_ticket, Description4:Description not provided, Response4:Bought ticket number 123456\n",
      "Tool5: buy_ticket, Description5:Description not provided, Response5:Bought ticket number 123456\n",
      "Tool6: buy_ticket, Description6:Description not provided, Response6:Bought ticket number 123456\n",
      "Tool7: buy_ticket, Description7:Description not provided, Response7:Bought ticket number 123456\n",
      "Tool8: buy_ticket, Description8:Description not provided, Response8:Bought ticket number 123456\n",
      "Tool9: buy_ticket, Description9:Description not provided, Response9:Bought ticket number 123456\n",
      "Tool10: buy_ticket, Description10:Description not provided, Response10:Bought ticket number 123456\n",
      "\n",
      "        Please make the answer accurate and based on the tool responses.\n",
      "        \n",
      "vertex.py - request: api_key=None model='gemini-1.5-flash' chat_input=[{'role': 'system', 'content': 'You are a helpful AI assistant.'}, {'role': 'user', 'content': 'Can you buy me a ticket please for paris? When does my train deppart?'}, {'role': 'assistant', 'content': None, 'function_call': {'arguments': '{\"destination\":\"Paris\"}', 'name': 'buy_ticket'}}, {'role': 'function', 'content': 'Bought ticket number 123456', 'name': 'buy_ticket'}, {'role': 'assistant', 'content': None, 'function_call': {'arguments': '{\"destination\":\"paris\"}', 'name': 'buy_ticket'}}, {'role': 'function', 'content': 'Bought ticket number 123456', 'name': 'buy_ticket'}, {'role': 'assistant', 'content': None, 'function_call': {'arguments': '{\"destination\":\"paris\"}', 'name': 'buy_ticket'}}, {'role': 'function', 'content': 'Bought ticket number 123456', 'name': 'buy_ticket'}, {'role': 'assistant', 'content': None, 'function_call': {'arguments': '{\"destination\":\"paris\"}', 'name': 'buy_ticket'}}, {'role': 'function', 'content': 'Bought ticket number 123456', 'name': 'buy_ticket'}, {'role': 'assistant', 'content': None, 'function_call': {'arguments': '{\"destination\":\"paris\"}', 'name': 'buy_ticket'}}, {'role': 'function', 'content': 'Bought ticket number 123456', 'name': 'buy_ticket'}, {'role': 'assistant', 'content': None, 'function_call': {'arguments': '{\"destination\":\"paris\"}', 'name': 'buy_ticket'}}, {'role': 'function', 'content': 'Bought ticket number 123456', 'name': 'buy_ticket'}, {'role': 'assistant', 'content': 'Could not parse tool input: {\\'arguments\\': \\'{\"destination\":\"paris\"}{\"ticket_number\":\"123456\"}\\', \\'name\\': \\'buy_ticket\\'} because the `arguments` is not valid JSON.'}, {'role': 'assistant', 'content': None, 'function_call': {'arguments': '{\"destination\":\"paris\"}', 'name': 'buy_ticket'}}, {'role': 'function', 'content': 'Bought ticket number 123456', 'name': 'buy_ticket'}, {'role': 'assistant', 'content': None, 'function_call': {'arguments': '{\"destination\":\"paris\"}', 'name': 'buy_ticket'}}, {'role': 'function', 'content': 'Bought ticket number 123456', 'name': 'buy_ticket'}, {'role': 'assistant', 'content': None, 'function_call': {'arguments': '{\"destination\":\"paris\"}', 'name': 'buy_ticket'}}, {'role': 'function', 'content': 'Bought ticket number 123456', 'name': 'buy_ticket'}, {'role': 'assistant', 'content': None, 'function_call': {'arguments': '{\"destination\":\"paris\"}', 'name': 'buy_ticket'}}, {'role': 'function', 'content': 'Bought ticket number 123456', 'name': 'buy_ticket'}, {'role': 'assistant', 'content': None, 'function_call': {'arguments': '{\"destination\":\"paris\"}', 'name': 'buy_ticket'}}, {'role': 'function', 'content': 'Bought ticket number 123456', 'name': 'buy_ticket'}] parameters=VertexAIParameters(top_p=None, top_k=None, temperature=0.0, max_output_tokens=None, frequency_penalty=None, presence_penalty=None) is_stream=False has_end_token=False functions=[{'name': 'get_departure', 'description': 'get_departure(ticket_number: str) - Use this to fetch the departure time of a train', 'parameters': {'type': 'object', 'properties': {'ticket_number': {'type': 'string'}}, 'required': ['ticket_number']}}, {'name': 'cancel_ticket', 'description': 'cancel_ticket(ticket_number: str) - Use this to cancel a ticket', 'parameters': {'type': 'object', 'properties': {'ticket_number': {'type': 'string'}}, 'required': ['ticket_number']}}, {'name': 'buy_ticket', 'description': 'buy_ticket(destination: str) - Use this to buy a ticket', 'parameters': {'type': 'object', 'properties': {'destination': {'type': 'string'}}, 'required': ['destination']}}, {'name': 'make_complaint', 'description': 'make_complaint(complaint: str) - Use this to forward a complaint to the complaint department', 'parameters': {'type': 'object', 'properties': {'complaint': {'type': 'string'}}, 'required': ['complaint']}}] session_id=None retries=0\n",
      "vertex.py - message: \n",
      "        Please answer the following question: Can you buy me a ticket please for paris? When does my train deppart?\n",
      "\n",
      "        Base your answer to the responses you got from this tools: \n",
      "\n",
      "        Tool1: buy_ticket, Description1:Description not provided, Response1:Bought ticket number 123456\n",
      "Tool2: buy_ticket, Description2:Description not provided, Response2:Bought ticket number 123456\n",
      "Tool3: buy_ticket, Description3:Description not provided, Response3:Bought ticket number 123456\n",
      "Tool4: buy_ticket, Description4:Description not provided, Response4:Bought ticket number 123456\n",
      "Tool5: buy_ticket, Description5:Description not provided, Response5:Bought ticket number 123456\n",
      "Tool6: buy_ticket, Description6:Description not provided, Response6:Bought ticket number 123456\n",
      "Tool7: buy_ticket, Description7:Description not provided, Response7:Bought ticket number 123456\n",
      "Tool8: buy_ticket, Description8:Description not provided, Response8:Bought ticket number 123456\n",
      "Tool9: buy_ticket, Description9:Description not provided, Response9:Bought ticket number 123456\n",
      "Tool10: buy_ticket, Description10:Description not provided, Response10:Bought ticket number 123456\n",
      "Tool11: buy_ticket, Description11:Description not provided, Response11:Bought ticket number 123456\n",
      "\n",
      "        Please make the answer accurate and based on the tool responses.\n",
      "        \n",
      "vertex.py - request: api_key=None model='gemini-1.5-flash' chat_input=[{'role': 'system', 'content': 'You are a helpful AI assistant.'}, {'role': 'user', 'content': 'Can you buy me a ticket please for paris? When does my train deppart?'}, {'role': 'assistant', 'content': None, 'function_call': {'arguments': '{\"destination\":\"Paris\"}', 'name': 'buy_ticket'}}, {'role': 'function', 'content': 'Bought ticket number 123456', 'name': 'buy_ticket'}, {'role': 'assistant', 'content': None, 'function_call': {'arguments': '{\"destination\":\"paris\"}', 'name': 'buy_ticket'}}, {'role': 'function', 'content': 'Bought ticket number 123456', 'name': 'buy_ticket'}, {'role': 'assistant', 'content': None, 'function_call': {'arguments': '{\"destination\":\"paris\"}', 'name': 'buy_ticket'}}, {'role': 'function', 'content': 'Bought ticket number 123456', 'name': 'buy_ticket'}, {'role': 'assistant', 'content': None, 'function_call': {'arguments': '{\"destination\":\"paris\"}', 'name': 'buy_ticket'}}, {'role': 'function', 'content': 'Bought ticket number 123456', 'name': 'buy_ticket'}, {'role': 'assistant', 'content': None, 'function_call': {'arguments': '{\"destination\":\"paris\"}', 'name': 'buy_ticket'}}, {'role': 'function', 'content': 'Bought ticket number 123456', 'name': 'buy_ticket'}, {'role': 'assistant', 'content': None, 'function_call': {'arguments': '{\"destination\":\"paris\"}', 'name': 'buy_ticket'}}, {'role': 'function', 'content': 'Bought ticket number 123456', 'name': 'buy_ticket'}, {'role': 'assistant', 'content': 'Could not parse tool input: {\\'arguments\\': \\'{\"destination\":\"paris\"}{\"ticket_number\":\"123456\"}\\', \\'name\\': \\'buy_ticket\\'} because the `arguments` is not valid JSON.'}, {'role': 'assistant', 'content': None, 'function_call': {'arguments': '{\"destination\":\"paris\"}', 'name': 'buy_ticket'}}, {'role': 'function', 'content': 'Bought ticket number 123456', 'name': 'buy_ticket'}, {'role': 'assistant', 'content': None, 'function_call': {'arguments': '{\"destination\":\"paris\"}', 'name': 'buy_ticket'}}, {'role': 'function', 'content': 'Bought ticket number 123456', 'name': 'buy_ticket'}, {'role': 'assistant', 'content': None, 'function_call': {'arguments': '{\"destination\":\"paris\"}', 'name': 'buy_ticket'}}, {'role': 'function', 'content': 'Bought ticket number 123456', 'name': 'buy_ticket'}, {'role': 'assistant', 'content': None, 'function_call': {'arguments': '{\"destination\":\"paris\"}', 'name': 'buy_ticket'}}, {'role': 'function', 'content': 'Bought ticket number 123456', 'name': 'buy_ticket'}, {'role': 'assistant', 'content': None, 'function_call': {'arguments': '{\"destination\":\"paris\"}', 'name': 'buy_ticket'}}, {'role': 'function', 'content': 'Bought ticket number 123456', 'name': 'buy_ticket'}, {'role': 'assistant', 'content': None, 'function_call': {'arguments': '{\"destination\":\"paris\"}', 'name': 'buy_ticket'}}, {'role': 'function', 'content': 'Bought ticket number 123456', 'name': 'buy_ticket'}] parameters=VertexAIParameters(top_p=None, top_k=None, temperature=0.0, max_output_tokens=None, frequency_penalty=None, presence_penalty=None) is_stream=False has_end_token=False functions=[{'name': 'get_departure', 'description': 'get_departure(ticket_number: str) - Use this to fetch the departure time of a train', 'parameters': {'type': 'object', 'properties': {'ticket_number': {'type': 'string'}}, 'required': ['ticket_number']}}, {'name': 'cancel_ticket', 'description': 'cancel_ticket(ticket_number: str) - Use this to cancel a ticket', 'parameters': {'type': 'object', 'properties': {'ticket_number': {'type': 'string'}}, 'required': ['ticket_number']}}, {'name': 'buy_ticket', 'description': 'buy_ticket(destination: str) - Use this to buy a ticket', 'parameters': {'type': 'object', 'properties': {'destination': {'type': 'string'}}, 'required': ['destination']}}, {'name': 'make_complaint', 'description': 'make_complaint(complaint: str) - Use this to forward a complaint to the complaint department', 'parameters': {'type': 'object', 'properties': {'complaint': {'type': 'string'}}, 'required': ['complaint']}}] session_id=None retries=0\n",
      "vertex.py - message: \n",
      "        Please answer the following question: Can you buy me a ticket please for paris? When does my train deppart?\n",
      "\n",
      "        Base your answer to the responses you got from this tools: \n",
      "\n",
      "        Tool1: buy_ticket, Description1:Description not provided, Response1:Bought ticket number 123456\n",
      "Tool2: buy_ticket, Description2:Description not provided, Response2:Bought ticket number 123456\n",
      "Tool3: buy_ticket, Description3:Description not provided, Response3:Bought ticket number 123456\n",
      "Tool4: buy_ticket, Description4:Description not provided, Response4:Bought ticket number 123456\n",
      "Tool5: buy_ticket, Description5:Description not provided, Response5:Bought ticket number 123456\n",
      "Tool6: buy_ticket, Description6:Description not provided, Response6:Bought ticket number 123456\n",
      "Tool7: buy_ticket, Description7:Description not provided, Response7:Bought ticket number 123456\n",
      "Tool8: buy_ticket, Description8:Description not provided, Response8:Bought ticket number 123456\n",
      "Tool9: buy_ticket, Description9:Description not provided, Response9:Bought ticket number 123456\n",
      "Tool10: buy_ticket, Description10:Description not provided, Response10:Bought ticket number 123456\n",
      "Tool11: buy_ticket, Description11:Description not provided, Response11:Bought ticket number 123456\n",
      "Tool12: buy_ticket, Description12:Description not provided, Response12:Bought ticket number 123456\n",
      "\n",
      "        Please make the answer accurate and based on the tool responses.\n",
      "        \n",
      "vertex.py - request: api_key=None model='gemini-1.5-flash' chat_input=[{'role': 'system', 'content': 'You are a helpful AI assistant.'}, {'role': 'user', 'content': 'Can you buy me a ticket please for paris? When does my train deppart?'}, {'role': 'assistant', 'content': None, 'function_call': {'arguments': '{\"destination\":\"Paris\"}', 'name': 'buy_ticket'}}, {'role': 'function', 'content': 'Bought ticket number 123456', 'name': 'buy_ticket'}, {'role': 'assistant', 'content': None, 'function_call': {'arguments': '{\"destination\":\"paris\"}', 'name': 'buy_ticket'}}, {'role': 'function', 'content': 'Bought ticket number 123456', 'name': 'buy_ticket'}, {'role': 'assistant', 'content': None, 'function_call': {'arguments': '{\"destination\":\"paris\"}', 'name': 'buy_ticket'}}, {'role': 'function', 'content': 'Bought ticket number 123456', 'name': 'buy_ticket'}, {'role': 'assistant', 'content': None, 'function_call': {'arguments': '{\"destination\":\"paris\"}', 'name': 'buy_ticket'}}, {'role': 'function', 'content': 'Bought ticket number 123456', 'name': 'buy_ticket'}, {'role': 'assistant', 'content': None, 'function_call': {'arguments': '{\"destination\":\"paris\"}', 'name': 'buy_ticket'}}, {'role': 'function', 'content': 'Bought ticket number 123456', 'name': 'buy_ticket'}, {'role': 'assistant', 'content': None, 'function_call': {'arguments': '{\"destination\":\"paris\"}', 'name': 'buy_ticket'}}, {'role': 'function', 'content': 'Bought ticket number 123456', 'name': 'buy_ticket'}, {'role': 'assistant', 'content': 'Could not parse tool input: {\\'arguments\\': \\'{\"destination\":\"paris\"}{\"ticket_number\":\"123456\"}\\', \\'name\\': \\'buy_ticket\\'} because the `arguments` is not valid JSON.'}, {'role': 'assistant', 'content': None, 'function_call': {'arguments': '{\"destination\":\"paris\"}', 'name': 'buy_ticket'}}, {'role': 'function', 'content': 'Bought ticket number 123456', 'name': 'buy_ticket'}, {'role': 'assistant', 'content': None, 'function_call': {'arguments': '{\"destination\":\"paris\"}', 'name': 'buy_ticket'}}, {'role': 'function', 'content': 'Bought ticket number 123456', 'name': 'buy_ticket'}, {'role': 'assistant', 'content': None, 'function_call': {'arguments': '{\"destination\":\"paris\"}', 'name': 'buy_ticket'}}, {'role': 'function', 'content': 'Bought ticket number 123456', 'name': 'buy_ticket'}, {'role': 'assistant', 'content': None, 'function_call': {'arguments': '{\"destination\":\"paris\"}', 'name': 'buy_ticket'}}, {'role': 'function', 'content': 'Bought ticket number 123456', 'name': 'buy_ticket'}, {'role': 'assistant', 'content': None, 'function_call': {'arguments': '{\"destination\":\"paris\"}', 'name': 'buy_ticket'}}, {'role': 'function', 'content': 'Bought ticket number 123456', 'name': 'buy_ticket'}, {'role': 'assistant', 'content': None, 'function_call': {'arguments': '{\"destination\":\"paris\"}', 'name': 'buy_ticket'}}, {'role': 'function', 'content': 'Bought ticket number 123456', 'name': 'buy_ticket'}, {'role': 'assistant', 'content': None, 'function_call': {'arguments': '{\"destination\":\"paris\"}', 'name': 'buy_ticket'}}, {'role': 'function', 'content': 'Bought ticket number 123456', 'name': 'buy_ticket'}] parameters=VertexAIParameters(top_p=None, top_k=None, temperature=0.0, max_output_tokens=None, frequency_penalty=None, presence_penalty=None) is_stream=False has_end_token=False functions=[{'name': 'get_departure', 'description': 'get_departure(ticket_number: str) - Use this to fetch the departure time of a train', 'parameters': {'type': 'object', 'properties': {'ticket_number': {'type': 'string'}}, 'required': ['ticket_number']}}, {'name': 'cancel_ticket', 'description': 'cancel_ticket(ticket_number: str) - Use this to cancel a ticket', 'parameters': {'type': 'object', 'properties': {'ticket_number': {'type': 'string'}}, 'required': ['ticket_number']}}, {'name': 'buy_ticket', 'description': 'buy_ticket(destination: str) - Use this to buy a ticket', 'parameters': {'type': 'object', 'properties': {'destination': {'type': 'string'}}, 'required': ['destination']}}, {'name': 'make_complaint', 'description': 'make_complaint(complaint: str) - Use this to forward a complaint to the complaint department', 'parameters': {'type': 'object', 'properties': {'complaint': {'type': 'string'}}, 'required': ['complaint']}}] session_id=None retries=0\n",
      "vertex.py - message: \n",
      "        Please answer the following question: Can you buy me a ticket please for paris? When does my train deppart?\n",
      "\n",
      "        Base your answer to the responses you got from this tools: \n",
      "\n",
      "        Tool1: buy_ticket, Description1:Description not provided, Response1:Bought ticket number 123456\n",
      "Tool2: buy_ticket, Description2:Description not provided, Response2:Bought ticket number 123456\n",
      "Tool3: buy_ticket, Description3:Description not provided, Response3:Bought ticket number 123456\n",
      "Tool4: buy_ticket, Description4:Description not provided, Response4:Bought ticket number 123456\n",
      "Tool5: buy_ticket, Description5:Description not provided, Response5:Bought ticket number 123456\n",
      "Tool6: buy_ticket, Description6:Description not provided, Response6:Bought ticket number 123456\n",
      "Tool7: buy_ticket, Description7:Description not provided, Response7:Bought ticket number 123456\n",
      "Tool8: buy_ticket, Description8:Description not provided, Response8:Bought ticket number 123456\n",
      "Tool9: buy_ticket, Description9:Description not provided, Response9:Bought ticket number 123456\n",
      "Tool10: buy_ticket, Description10:Description not provided, Response10:Bought ticket number 123456\n",
      "Tool11: buy_ticket, Description11:Description not provided, Response11:Bought ticket number 123456\n",
      "Tool12: buy_ticket, Description12:Description not provided, Response12:Bought ticket number 123456\n",
      "Tool13: buy_ticket, Description13:Description not provided, Response13:Bought ticket number 123456\n",
      "\n",
      "        Please make the answer accurate and based on the tool responses.\n",
      "        \n"
     ]
    }
   ],
   "source": [
    "# lc_llm = ChatLLMstudio(model_id='openai/gpt-3.5-turbo', temperature=0)\n",
    "lc_llm = ChatLLMstudio(model_id='vertexai/gemini-1.5-flash', temperature=0)"
   ]
  },
  {
   "cell_type": "code",
   "execution_count": 3,
   "metadata": {},
   "outputs": [],
   "source": [
    "from langchain.tools import tool\n",
    "from langchain.agents import AgentType, initialize_agent\n",
    "\n",
    "@tool\n",
    "def get_departure(ticket_number: str):\n",
    "    \"\"\"Use this to fetch the departure time of a train\"\"\"\n",
    "    return \"12:00 AM\"\n",
    "\n",
    "@tool\n",
    "def cancel_ticket(ticket_number: str):\n",
    "    \"\"\"Use this to cancel a ticket\"\"\"\n",
    "    return \"Ticket cancelled\"\n",
    "\n",
    "@tool\n",
    "def buy_ticket(destination: str):\n",
    "    \"\"\"Use this to buy a ticket\"\"\"\n",
    "    return \"Bought ticket number 123456\"\n",
    "\n",
    "@tool\n",
    "def make_complaint(complaint: str):\n",
    "    \"\"\"Use this to forward a complaint to the complaint department\"\"\"\n",
    "    return \"Complaint forwarded. We appreciate your feedback.\"\n",
    "\n",
    "\n",
    "def assistant(question: str)->str:\n",
    "    \"\"\"YOUR CODE HERE\"\"\"\n",
    "    tools = [get_departure, cancel_ticket, buy_ticket, make_complaint]\n",
    "    print(tools)\n",
    "\n",
    "    #rebuild agent with new tools\n",
    "    agent_executor = initialize_agent(\n",
    "        tools, lc_llm, agent=AgentType.OPENAI_FUNCTIONS, handle_parsing_errors=\"Check your output and make sure it conforms!\", verbose = True, debug = True\n",
    "    )\n",
    "\n",
    "    response = agent_executor.invoke(\n",
    "        {\n",
    "            \"input\": question\n",
    "        }\n",
    "    )\n",
    "\n",
    "    return response"
   ]
  },
  {
   "cell_type": "code",
   "execution_count": null,
   "metadata": {},
   "outputs": [],
   "source": [
    "@tool\n",
    "def power_disco_ball(power: bool) -> bool:\n",
    "    \"\"\"Powers the spinning disco ball.\"\"\"\n",
    "    print(f\"Disco ball is {'spinning!' if power else 'stopped.'}\")\n",
    "    return True\n",
    "\n",
    "@tool\n",
    "def start_music(energetic: bool, loud: bool, bpm: int) -> str:\n",
    "    \"\"\"Play some music matching the specified parameters.\n",
    "\n",
    "    Args:\n",
    "      energetic: Whether the music is energetic or not.\n",
    "      loud: Whether the music is loud or not.\n",
    "      bpm: The beats per minute of the music.\n",
    "\n",
    "    Returns: The name of the song being played.\n",
    "    \"\"\"\n",
    "    print(f\"Starting music! {energetic=} {loud=}, {bpm=}\")\n",
    "    return \"Never gonna give you up.\"\n",
    "\n",
    "@tool\n",
    "def dim_lights(brightness: float) -> bool:\n",
    "    \"\"\"Dim the lights.\n",
    "\n",
    "    Args:\n",
    "      brightness: The brightness of the lights, 0.0 is off, 1.0 is full.\n",
    "    \"\"\"\n",
    "    print(f\"Lights are now set to {brightness:.0%}\")\n",
    "    return True"
   ]
  },
  {
   "cell_type": "code",
   "execution_count": 4,
   "metadata": {},
   "outputs": [
    {
     "name": "stdout",
     "output_type": "stream",
     "text": [
      "[StructuredTool(name='get_departure', description='get_departure(ticket_number: str) - Use this to fetch the departure time of a train', args_schema=<class 'pydantic.v1.main.get_departureSchema'>, func=<function get_departure at 0x11b14bec0>), StructuredTool(name='cancel_ticket', description='cancel_ticket(ticket_number: str) - Use this to cancel a ticket', args_schema=<class 'pydantic.v1.main.cancel_ticketSchema'>, func=<function cancel_ticket at 0x11b14bf60>), StructuredTool(name='buy_ticket', description='buy_ticket(destination: str) - Use this to buy a ticket', args_schema=<class 'pydantic.v1.main.buy_ticketSchema'>, func=<function buy_ticket at 0x11c73b740>), StructuredTool(name='make_complaint', description='make_complaint(complaint: str) - Use this to forward a complaint to the complaint department', args_schema=<class 'pydantic.v1.main.make_complaintSchema'>, func=<function make_complaint at 0x11c73bf60>)]\n",
      "\n",
      "\n",
      "\u001b[1m> Entering new AgentExecutor chain...\u001b[0m\n"
     ]
    },
    {
     "name": "stderr",
     "output_type": "stream",
     "text": [
      "/opt/anaconda3/envs/llmstudiodev/lib/python3.11/site-packages/langchain_core/_api/deprecation.py:119: LangChainDeprecationWarning: The function `initialize_agent` was deprecated in LangChain 0.1.0 and will be removed in 0.3.0. Use Use new agent constructor methods like create_react_agent, create_json_agent, create_structured_chat_agent, etc. instead.\n",
      "  warn_deprecated(\n"
     ]
    },
    {
     "name": "stdout",
     "output_type": "stream",
     "text": [
      "\u001b[32;1m\u001b[1;3m\n",
      "Invoking: `buy_ticket` with `{'destination': 'Paris'}`\n",
      "\n",
      "\n",
      "\u001b[0m\u001b[38;5;200m\u001b[1;3mBought ticket number 123456\u001b[0m\u001b[32;1m\u001b[1;3m\n",
      "Invoking: `buy_ticket` with `{'destination': 'paris'}`\n",
      "\n",
      "\n",
      "\u001b[0m\u001b[38;5;200m\u001b[1;3mBought ticket number 123456\u001b[0m\u001b[32;1m\u001b[1;3m\n",
      "Invoking: `buy_ticket` with `{'destination': 'paris'}`\n",
      "\n",
      "\n",
      "\u001b[0m\u001b[38;5;200m\u001b[1;3mBought ticket number 123456\u001b[0m\u001b[32;1m\u001b[1;3m\n",
      "Invoking: `buy_ticket` with `{'destination': 'paris'}`\n",
      "\n",
      "\n",
      "\u001b[0m\u001b[38;5;200m\u001b[1;3mBought ticket number 123456\u001b[0m\u001b[32;1m\u001b[1;3m\n",
      "Invoking: `buy_ticket` with `{'destination': 'paris'}`\n",
      "\n",
      "\n",
      "\u001b[0m\u001b[38;5;200m\u001b[1;3mBought ticket number 123456\u001b[0m\u001b[32;1m\u001b[1;3m\n",
      "Invoking: `buy_ticket` with `{'destination': 'paris'}`\n",
      "\n",
      "\n",
      "\u001b[0m\u001b[38;5;200m\u001b[1;3mBought ticket number 123456\u001b[0m\u001b[32;1m\u001b[1;3mCould not parse tool input: {'arguments': '{\"destination\":\"paris\"}{\"ticket_number\":\"123456\"}', 'name': 'buy_ticket'} because the `arguments` is not valid JSON.\u001b[0mCheck your output and make sure it conforms!\u001b[32;1m\u001b[1;3m\n",
      "Invoking: `buy_ticket` with `{'destination': 'paris'}`\n",
      "\n",
      "\n",
      "\u001b[0m\u001b[38;5;200m\u001b[1;3mBought ticket number 123456\u001b[0m\u001b[32;1m\u001b[1;3m\n",
      "Invoking: `buy_ticket` with `{'destination': 'paris'}`\n",
      "\n",
      "\n",
      "\u001b[0m\u001b[38;5;200m\u001b[1;3mBought ticket number 123456\u001b[0m\u001b[32;1m\u001b[1;3m\n",
      "Invoking: `buy_ticket` with `{'destination': 'paris'}`\n",
      "\n",
      "\n",
      "\u001b[0m\u001b[38;5;200m\u001b[1;3mBought ticket number 123456\u001b[0m\u001b[32;1m\u001b[1;3m\n",
      "Invoking: `buy_ticket` with `{'destination': 'paris'}`\n",
      "\n",
      "\n",
      "\u001b[0m\u001b[38;5;200m\u001b[1;3mBought ticket number 123456\u001b[0m\u001b[32;1m\u001b[1;3m\n",
      "Invoking: `buy_ticket` with `{'destination': 'paris'}`\n",
      "\n",
      "\n",
      "\u001b[0m\u001b[38;5;200m\u001b[1;3mBought ticket number 123456\u001b[0m\u001b[32;1m\u001b[1;3m\n",
      "Invoking: `buy_ticket` with `{'destination': 'paris'}`\n",
      "\n",
      "\n",
      "\u001b[0m\u001b[38;5;200m\u001b[1;3mBought ticket number 123456\u001b[0m\u001b[32;1m\u001b[1;3m\n",
      "Invoking: `buy_ticket` with `{'destination': 'paris'}`\n",
      "\n",
      "\n",
      "\u001b[0m\u001b[38;5;200m\u001b[1;3mBought ticket number 123456\u001b[0m\u001b[32;1m\u001b[1;3m\n",
      "\n",
      "I have bought you a ticket to Paris with ticket number 123456. Your train departs at . \n",
      "\u001b[0m\n",
      "\n",
      "\u001b[1m> Finished chain.\u001b[0m\n"
     ]
    },
    {
     "data": {
      "text/plain": [
       "{'input': 'Can you buy me a ticket please for paris? When does my train deppart?',\n",
       " 'output': '\\n\\nI have bought you a ticket to Paris with ticket number 123456. Your train departs at . \\n'}"
      ]
     },
     "execution_count": 4,
     "metadata": {},
     "output_type": "execute_result"
    }
   ],
   "source": [
    "assistant('Can you buy me a ticket please for paris? When does my train deppart?')\n"
   ]
  },
  {
   "cell_type": "markdown",
   "metadata": {},
   "source": [
    "# VertexAI request Format"
   ]
  },
  {
   "cell_type": "code",
   "execution_count": 7,
   "metadata": {},
   "outputs": [],
   "source": [
    "import pathlib\n",
    "import textwrap\n",
    "import time\n",
    "\n",
    "import google.generativeai as genai\n",
    "\n",
    "from IPython import display\n",
    "from IPython.display import Markdown\n",
    "\n",
    "def to_markdown(text):\n",
    "  text = text.replace('•', '  *')\n",
    "  return Markdown(textwrap.indent(text, '> ', predicate=lambda _: True))"
   ]
  },
  {
   "cell_type": "code",
   "execution_count": 16,
   "metadata": {},
   "outputs": [],
   "source": [
    "def get_departure(ticket_number: str):\n",
    "    \"\"\"Use this to fetch the departure time of a train\"\"\"\n",
    "    return \"12:00 AM\"\n",
    "\n",
    "def cancel_ticket(ticket_number: str):\n",
    "    \"\"\"Use this to cancel a ticket\"\"\"\n",
    "    return \"Ticket cancelled\"\n",
    "\n",
    "def buy_ticket(destination: str):\n",
    "    \"\"\"Use this to buy a ticket\"\"\"\n",
    "    return \"Bought ticket number 123456\"\n",
    "\n",
    "def make_complaint(complaint: str):\n",
    "    \"\"\"Use this to forward a complaint to the complaint department\"\"\"\n",
    "    return \"Complaint forwarded. We appreciate your feedback.\"\n",
    "\n",
    "tools = [get_departure, cancel_ticket, buy_ticket, make_complaint]"
   ]
  },
  {
   "cell_type": "code",
   "execution_count": 17,
   "metadata": {},
   "outputs": [
    {
     "name": "stdout",
     "output_type": "stream",
     "text": [
      "buy_ticket(destination=Madrid)\n"
     ]
    }
   ],
   "source": [
    "model = genai.GenerativeModel(model_name=\"gemini-1.5-pro-latest\", tools=tools)\n",
    "\n",
    "# Call the API.\n",
    "chat = model.start_chat()\n",
    "response = chat.send_message(\"Buy me a ticket for Madrid and get the departure time please.\")\n",
    "\n",
    "# Print out each of the function calls requested from this single call.\n",
    "for part in response.parts:\n",
    "    if fn := part.function_call:\n",
    "        args = \", \".join(f\"{key}={val}\" for key, val in fn.args.items())\n",
    "        print(f\"{fn.name}({args})\")"
   ]
  },
  {
   "cell_type": "code",
   "execution_count": 3,
   "metadata": {},
   "outputs": [
    {
     "name": "stdout",
     "output_type": "stream",
     "text": [
      "Running LLMstudio Tracking on http://localhost:50002 Running LLMstudio Engine on http://localhost:50001 \n",
      "\n"
     ]
    }
   ],
   "source": [
    "llm = LLM('vertexai/gemini-1.5-flash')"
   ]
  },
  {
   "cell_type": "code",
   "execution_count": 4,
   "metadata": {},
   "outputs": [
    {
     "data": {
      "text/plain": [
       "ChatCompletion(id='240db559-675a-4fbb-b3c2-c05c3a2c604f', choices=[Choice(finish_reason='function_call', index=0, logprobs=None, message=ChatCompletionMessage(content=None, role='assistant', function_call=FunctionCall(arguments='{\"a\":9,\"b\":10}', name='multiply'), tool_calls=None))], created=1721652669, model='gemini-1.5-flash', object='chat.completion', system_fingerprint=None, usage=None, session_id=None, chat_input='What is 9 times 10', chat_output='{\"a\":9,\"b\":10}', context=[{'role': 'user', 'content': 'What is 9 times 10'}], provider='vertexai', deployment='gemini-1.5-flash', timestamp=1721652669.720392, parameters={'top_p': None, 'top_k': None, 'temperature': None, 'max_output_tokens': None, 'frequency_penalty': None, 'presence_penalty': None}, metrics={'input_tokens': 7, 'output_tokens': 9, 'total_tokens': 16, 'cost_usd': 1.19e-05, 'latency_s': 1.4823131561279297, 'time_to_first_token_s': 1.4757399559020996, 'inter_token_latency_s': 2.4557113647460938e-05, 'tokens_per_second': 2.023863842534153})"
      ]
     },
     "execution_count": 4,
     "metadata": {},
     "output_type": "execute_result"
    }
   ],
   "source": [
    "llm.chat('What is 9 times 10', functions = oai_functions)"
   ]
  },
  {
   "cell_type": "markdown",
   "metadata": {},
   "source": [
    "providers.py - request api_key=None model='gemini-1.5-flash' chat_input='What is 9 times 10' parameters=VertexAIParameters(top_p=None, top_k=None, temperature=None, max_output_tokens=None, frequency_penalty=None, presence_penalty=None) is_stream=False has_end_token=False functions=[[{'name': 'multiply', 'description': 'Returns the product of two numbers.', 'parameters': {'type': 'object', 'properties': {'a': {'type': 'number', 'description': 'The first number.'}, 'b': {'type': 'number', 'description': 'The second number.'}}, 'required': ['a', 'b']}}, {'name': 'turn_lights', 'description': 'Turns the lights on or off.', 'parameters': {'type': 'object', 'properties': {'state': {'type': 'boolean', 'description': 'The desired state of the lights.'}}, 'required': ['state']}}, {'name': 'send_mail', 'description': 'Sends an email to a specified address.', 'parameters': {'type': 'object', 'properties': {'to': {'type': 'string', 'description': \"The recipient's email address.\"}, 'subject': {'type': 'string', 'description': 'The subject of the email.'}, 'body': {'type': 'string', 'description': 'The body of the email.'}}, 'required': ['to', 'subject', 'body']}}]] session_id=None retries=0"
   ]
  },
  {
   "cell_type": "markdown",
   "metadata": {},
   "source": [
    "providers.py - request api_key=None model='gemini-1.5-flash' chat_input=[{'role': 'system', 'content': 'You are a helpful AI assistant.'}, {'role': 'user', 'content': 'When does my train depart? My ticket number is 1234'}] parameters=VertexAIParameters(top_p=None, top_k=None, temperature=0.0, max_output_tokens=None, frequency_penalty=None, presence_penalty=None) is_stream=False has_end_token=False functions=[{'name': 'get_departure', 'description': 'get_departure(ticket_number: str) - Use this to fetch the departure time of a train', 'parameters': {'type': 'object', 'properties': {'ticket_number': {'type': 'string'}}, 'required': ['ticket_number']}}, {'name': 'cancel_ticket', 'description': 'cancel_ticket(ticket_number: str) - Use this to cancel a ticket', 'parameters': {'type': 'object', 'properties': {'ticket_number': {'type': 'string'}}, 'required': ['ticket_number']}}, {'name': 'buy_ticket', 'description': 'buy_ticket(destination: str) - Use this to buy a ticket', 'parameters': {'type': 'object', 'properties': {'destination': {'type': 'string'}}, 'required': ['destination']}}, {'name': 'make_complaint', 'description': 'make_complaint(complaint: str) - Use this to forward a complaint to the complaint department', 'parameters': {'type': 'object', 'properties': {'complaint': {'type': 'string'}}, 'required': ['complaint']}}] session_id=None retries=0"
   ]
  },
  {
   "cell_type": "code",
   "execution_count": 1,
   "metadata": {},
   "outputs": [],
   "source": [
    "from llmstudio import LLM"
   ]
  },
  {
   "cell_type": "code",
   "execution_count": 2,
   "metadata": {},
   "outputs": [
    {
     "name": "stdout",
     "output_type": "stream",
     "text": [
      "Running LLMstudio Engine on http://localhost:50001 Running LLMstudio Tracking on http://localhost:50002 \n",
      "\n",
      "providers.py - request api_key=None model='gemini-1.5-flash' chat_input=[{'role': 'system', 'content': 'You are a helpful AI assistant.'}, {'role': 'user', 'content': 'When does my train depart? My ticket number is 1234'}, {'role': 'assistant', 'content': None, 'function_call': {'arguments': '{\"ticket_number\":\"1234\"}', 'name': 'get_departure'}}, {'role': 'function', 'content': '12:00 AM', 'name': 'get_departure'}] parameters=VertexAIParameters(top_p=None, top_k=None, temperature=None, max_output_tokens=None, frequency_penalty=None, presence_penalty=None) is_stream=False has_end_token=False functions=None session_id=None retries=0\n",
      "vertex.py - request: api_key=None model='gemini-1.5-flash' chat_input=[{'role': 'system', 'content': 'You are a helpful AI assistant.'}, {'role': 'user', 'content': 'When does my train depart? My ticket number is 1234'}, {'role': 'assistant', 'content': None, 'function_call': {'arguments': '{\"ticket_number\":\"1234\"}', 'name': 'get_departure'}}, {'role': 'function', 'content': '12:00 AM', 'name': 'get_departure'}] parameters=VertexAIParameters(top_p=None, top_k=None, temperature=None, max_output_tokens=None, frequency_penalty=None, presence_penalty=None) is_stream=False has_end_token=False functions=None session_id=None retries=0\n",
      "An error occurred: 500: sequence item 2: expected str instance, NoneType found\n"
     ]
    }
   ],
   "source": [
    "# llm = LLM('openai/gpt-3.5-turbo')\n",
    "llm = LLM('vertexai/gemini-1.5-flash')"
   ]
  },
  {
   "cell_type": "code",
   "execution_count": 3,
   "metadata": {},
   "outputs": [
    {
     "ename": "HTTPError",
     "evalue": "429 Client Error: Too Many Requests for url: http://localhost:50001/api/engine/chat/vertexai",
     "output_type": "error",
     "traceback": [
      "\u001b[0;31m---------------------------------------------------------------------------\u001b[0m",
      "\u001b[0;31mHTTPError\u001b[0m                                 Traceback (most recent call last)",
      "Cell \u001b[0;32mIn[3], line 2\u001b[0m\n\u001b[1;32m      1\u001b[0m messege \u001b[38;5;241m=\u001b[39m [{\u001b[38;5;124m'\u001b[39m\u001b[38;5;124mrole\u001b[39m\u001b[38;5;124m'\u001b[39m: \u001b[38;5;124m'\u001b[39m\u001b[38;5;124msystem\u001b[39m\u001b[38;5;124m'\u001b[39m, \u001b[38;5;124m'\u001b[39m\u001b[38;5;124mcontent\u001b[39m\u001b[38;5;124m'\u001b[39m: \u001b[38;5;124m'\u001b[39m\u001b[38;5;124mYou are a helpful AI assistant.\u001b[39m\u001b[38;5;124m'\u001b[39m}, {\u001b[38;5;124m'\u001b[39m\u001b[38;5;124mrole\u001b[39m\u001b[38;5;124m'\u001b[39m: \u001b[38;5;124m'\u001b[39m\u001b[38;5;124muser\u001b[39m\u001b[38;5;124m'\u001b[39m, \u001b[38;5;124m'\u001b[39m\u001b[38;5;124mcontent\u001b[39m\u001b[38;5;124m'\u001b[39m: \u001b[38;5;124m'\u001b[39m\u001b[38;5;124mWhen does my train depart? My ticket number is 1234\u001b[39m\u001b[38;5;124m'\u001b[39m}, {\u001b[38;5;124m'\u001b[39m\u001b[38;5;124mrole\u001b[39m\u001b[38;5;124m'\u001b[39m: \u001b[38;5;124m'\u001b[39m\u001b[38;5;124massistant\u001b[39m\u001b[38;5;124m'\u001b[39m, \u001b[38;5;124m'\u001b[39m\u001b[38;5;124mcontent\u001b[39m\u001b[38;5;124m'\u001b[39m: \u001b[38;5;28;01mNone\u001b[39;00m, \u001b[38;5;124m'\u001b[39m\u001b[38;5;124mfunction_call\u001b[39m\u001b[38;5;124m'\u001b[39m: {\u001b[38;5;124m'\u001b[39m\u001b[38;5;124marguments\u001b[39m\u001b[38;5;124m'\u001b[39m: \u001b[38;5;124m'\u001b[39m\u001b[38;5;124m{\u001b[39m\u001b[38;5;124m\"\u001b[39m\u001b[38;5;124mticket_number\u001b[39m\u001b[38;5;124m\"\u001b[39m\u001b[38;5;124m:\u001b[39m\u001b[38;5;124m\"\u001b[39m\u001b[38;5;124m1234\u001b[39m\u001b[38;5;124m\"\u001b[39m\u001b[38;5;124m}\u001b[39m\u001b[38;5;124m'\u001b[39m, \u001b[38;5;124m'\u001b[39m\u001b[38;5;124mname\u001b[39m\u001b[38;5;124m'\u001b[39m: \u001b[38;5;124m'\u001b[39m\u001b[38;5;124mget_departure\u001b[39m\u001b[38;5;124m'\u001b[39m}}, {\u001b[38;5;124m'\u001b[39m\u001b[38;5;124mrole\u001b[39m\u001b[38;5;124m'\u001b[39m: \u001b[38;5;124m'\u001b[39m\u001b[38;5;124mfunction\u001b[39m\u001b[38;5;124m'\u001b[39m, \u001b[38;5;124m'\u001b[39m\u001b[38;5;124mcontent\u001b[39m\u001b[38;5;124m'\u001b[39m: \u001b[38;5;124m'\u001b[39m\u001b[38;5;124m12:00 AM\u001b[39m\u001b[38;5;124m'\u001b[39m, \u001b[38;5;124m'\u001b[39m\u001b[38;5;124mname\u001b[39m\u001b[38;5;124m'\u001b[39m: \u001b[38;5;124m'\u001b[39m\u001b[38;5;124mget_departure\u001b[39m\u001b[38;5;124m'\u001b[39m}]\n\u001b[0;32m----> 2\u001b[0m r \u001b[38;5;241m=\u001b[39m \u001b[43mllm\u001b[49m\u001b[38;5;241;43m.\u001b[39;49m\u001b[43mchat\u001b[49m\u001b[43m(\u001b[49m\u001b[43mmessege\u001b[49m\u001b[43m)\u001b[49m\n\u001b[1;32m      3\u001b[0m r\u001b[38;5;241m.\u001b[39mchat_output\n",
      "File \u001b[0;32m~/Documents/GitHub/LLMstudio/llmstudio/llm/__init__.py:62\u001b[0m, in \u001b[0;36mLLM.chat\u001b[0;34m(self, input, is_stream, retries, **kwargs)\u001b[0m\n\u001b[1;32m     32\u001b[0m \u001b[38;5;28;01mdef\u001b[39;00m \u001b[38;5;21mchat\u001b[39m(\u001b[38;5;28mself\u001b[39m, \u001b[38;5;28minput\u001b[39m: \u001b[38;5;28mstr\u001b[39m, is_stream: \u001b[38;5;28mbool\u001b[39m \u001b[38;5;241m=\u001b[39m \u001b[38;5;28;01mFalse\u001b[39;00m, retries: \u001b[38;5;28mint\u001b[39m \u001b[38;5;241m=\u001b[39m \u001b[38;5;241m0\u001b[39m, \u001b[38;5;241m*\u001b[39m\u001b[38;5;241m*\u001b[39mkwargs):\n\u001b[1;32m     33\u001b[0m     response \u001b[38;5;241m=\u001b[39m requests\u001b[38;5;241m.\u001b[39mpost(\n\u001b[1;32m     34\u001b[0m         \u001b[38;5;124mf\u001b[39m\u001b[38;5;124m\"\u001b[39m\u001b[38;5;124mhttp://\u001b[39m\u001b[38;5;132;01m{\u001b[39;00mENGINE_HOST\u001b[38;5;132;01m}\u001b[39;00m\u001b[38;5;124m:\u001b[39m\u001b[38;5;132;01m{\u001b[39;00mENGINE_PORT\u001b[38;5;132;01m}\u001b[39;00m\u001b[38;5;124m/api/engine/chat/\u001b[39m\u001b[38;5;132;01m{\u001b[39;00m\u001b[38;5;28mself\u001b[39m\u001b[38;5;241m.\u001b[39mprovider\u001b[38;5;132;01m}\u001b[39;00m\u001b[38;5;124m\"\u001b[39m,\n\u001b[1;32m     35\u001b[0m         json\u001b[38;5;241m=\u001b[39m{\n\u001b[0;32m   (...)\u001b[0m\n\u001b[1;32m     59\u001b[0m         headers\u001b[38;5;241m=\u001b[39m{\u001b[38;5;124m\"\u001b[39m\u001b[38;5;124mContent-Type\u001b[39m\u001b[38;5;124m\"\u001b[39m: \u001b[38;5;124m\"\u001b[39m\u001b[38;5;124mapplication/json\u001b[39m\u001b[38;5;124m\"\u001b[39m},\n\u001b[1;32m     60\u001b[0m     )\n\u001b[0;32m---> 62\u001b[0m     \u001b[43mresponse\u001b[49m\u001b[38;5;241;43m.\u001b[39;49m\u001b[43mraise_for_status\u001b[49m\u001b[43m(\u001b[49m\u001b[43m)\u001b[49m\n\u001b[1;32m     64\u001b[0m     \u001b[38;5;28;01mif\u001b[39;00m is_stream:\n\u001b[1;32m     65\u001b[0m         \u001b[38;5;28;01mreturn\u001b[39;00m \u001b[38;5;28mself\u001b[39m\u001b[38;5;241m.\u001b[39mgenerate_chat(response)\n",
      "File \u001b[0;32m/opt/anaconda3/envs/llmstudiodev/lib/python3.11/site-packages/requests/models.py:1024\u001b[0m, in \u001b[0;36mResponse.raise_for_status\u001b[0;34m(self)\u001b[0m\n\u001b[1;32m   1019\u001b[0m     http_error_msg \u001b[38;5;241m=\u001b[39m (\n\u001b[1;32m   1020\u001b[0m         \u001b[38;5;124mf\u001b[39m\u001b[38;5;124m\"\u001b[39m\u001b[38;5;132;01m{\u001b[39;00m\u001b[38;5;28mself\u001b[39m\u001b[38;5;241m.\u001b[39mstatus_code\u001b[38;5;132;01m}\u001b[39;00m\u001b[38;5;124m Server Error: \u001b[39m\u001b[38;5;132;01m{\u001b[39;00mreason\u001b[38;5;132;01m}\u001b[39;00m\u001b[38;5;124m for url: \u001b[39m\u001b[38;5;132;01m{\u001b[39;00m\u001b[38;5;28mself\u001b[39m\u001b[38;5;241m.\u001b[39murl\u001b[38;5;132;01m}\u001b[39;00m\u001b[38;5;124m\"\u001b[39m\n\u001b[1;32m   1021\u001b[0m     )\n\u001b[1;32m   1023\u001b[0m \u001b[38;5;28;01mif\u001b[39;00m http_error_msg:\n\u001b[0;32m-> 1024\u001b[0m     \u001b[38;5;28;01mraise\u001b[39;00m HTTPError(http_error_msg, response\u001b[38;5;241m=\u001b[39m\u001b[38;5;28mself\u001b[39m)\n",
      "\u001b[0;31mHTTPError\u001b[0m: 429 Client Error: Too Many Requests for url: http://localhost:50001/api/engine/chat/vertexai"
     ]
    }
   ],
   "source": [
    "\n",
    "messege = [{'role': 'system', 'content': 'You are a helpful AI assistant.'}, {'role': 'user', 'content': 'When does my train depart? My ticket number is 1234'}, {'role': 'assistant', 'content': None, 'function_call': {'arguments': '{\"ticket_number\":\"1234\"}', 'name': 'get_departure'}}, {'role': 'function', 'content': '12:00 AM', 'name': 'get_departure'}]\n",
    "r = llm.chat(messege)\n",
    "r.chat_output"
   ]
  },
  {
   "cell_type": "code",
   "execution_count": null,
   "metadata": {},
   "outputs": [],
   "source": []
  }
 ],
 "metadata": {
  "kernelspec": {
   "display_name": "llmstudio",
   "language": "python",
   "name": "python3"
  },
  "language_info": {
   "codemirror_mode": {
    "name": "ipython",
    "version": 3
   },
   "file_extension": ".py",
   "mimetype": "text/x-python",
   "name": "python",
   "nbconvert_exporter": "python",
   "pygments_lexer": "ipython3",
   "version": "3.11.9"
  }
 },
 "nbformat": 4,
 "nbformat_minor": 2
}
