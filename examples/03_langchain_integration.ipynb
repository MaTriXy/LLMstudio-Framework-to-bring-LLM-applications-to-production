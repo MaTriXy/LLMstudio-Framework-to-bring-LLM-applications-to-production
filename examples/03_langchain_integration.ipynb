{
 "cells": [
  {
   "cell_type": "code",
   "execution_count": 1,
   "metadata": {},
   "outputs": [],
   "source": [
    "from langchain.callbacks.base import BaseCallbackHandler\n",
    "from langchain.schema import LLMResult\n",
    "\n",
    "class MyCustomHandler(BaseCallbackHandler):\n",
    "    def on_llm_new_token(self, token:str, **kwargs) -> None:\n",
    "        print(f\"Received streaming token {token}, kwargs:{kwargs}\")\n",
    "        \n",
    "    def on_llm_end(self, response: LLMResult, **kwargs) -> None:\n",
    "        print(f\"Received non-streaming response: {response}\")"
   ]
  },
  {
   "cell_type": "markdown",
   "metadata": {},
   "source": [
    "# Open AI"
   ]
  },
  {
   "cell_type": "code",
   "execution_count": 1,
   "metadata": {},
   "outputs": [],
   "source": [
    "from langchain.callbacks.base import BaseCallbackHandler\n",
    "from langchain.schema import LLMResult\n",
    "\n",
    "class MyCustomHandler(BaseCallbackHandler):\n",
    "    def on_llm_new_token(self, token:str, **kwargs) -> None:\n",
    "        print(f\"Received streaming token {token}, kwargs:{kwargs}\")\n",
    "        \n",
    "    def on_llm_end(self, response: LLMResult, **kwargs) -> None:\n",
    "        print(f\"Received non-streaming response: {response}\")"
   ]
  },
  {
   "cell_type": "code",
   "execution_count": 2,
   "metadata": {},
   "outputs": [],
   "source": [
    "from llmstudio.llm.langchain import ChatLLMstudio\n",
    "from llmstudio import LLM"
   ]
  },
  {
   "cell_type": "code",
   "execution_count": 3,
   "metadata": {},
   "outputs": [
    {
     "name": "stdout",
     "output_type": "stream",
     "text": [
      "Running LLMstudio Tracking on http://localhost:50002 Running LLMstudio Engine on http://localhost:50001 \n",
      "\n",
      "openai.py - request: api_key=None model='gpt-3.5-turbo' chat_input=[{'role': 'system', 'content': 'You are a helpful AI assistant.'}, {'role': 'user', 'content': 'When does my train depart? My ticket is 1234'}] parameters=OpenAIParameters(temperature=0.0, max_tokens=None, top_p=None, frequency_penalty=None, presence_penalty=None) is_stream=False has_end_token=False functions=[{'name': 'get_departure', 'description': 'get_departure(ticket_number: str) - Use this to fetch the departure time of a train', 'parameters': {'type': 'object', 'properties': {'ticket_number': {'type': 'string'}}, 'required': ['ticket_number']}}, {'name': 'cancel_ticket', 'description': 'cancel_ticket(ticket_number: str) - Use this to cancel a ticket', 'parameters': {'type': 'object', 'properties': {'ticket_number': {'type': 'string'}}, 'required': ['ticket_number']}}, {'name': 'buy_ticket', 'description': 'buy_ticket(destination: str) - Use this to buy a ticket', 'parameters': {'type': 'object', 'properties': {'destination': {'type': 'string'}}, 'required': ['destination']}}, {'name': 'make_complaint', 'description': 'make_complaint(complaint: str) - Use this to forward a complaint to the complaint department', 'parameters': {'type': 'object', 'properties': {'complaint': {'type': 'string'}}, 'required': ['complaint']}}] session_id=None retries=0 response_format=None\n",
      "openai.py - request: api_key=None model='gpt-3.5-turbo' chat_input=[{'role': 'system', 'content': 'You are a helpful AI assistant.'}, {'role': 'user', 'content': 'When does my train depart? My ticket is 1234'}, {'role': 'assistant', 'content': None, 'function_call': {'arguments': '{\"ticket_number\":\"1234\"}', 'name': 'get_departure'}}, {'role': 'function', 'content': '12:00 AM', 'name': 'get_departure'}] parameters=OpenAIParameters(temperature=0.0, max_tokens=None, top_p=None, frequency_penalty=None, presence_penalty=None) is_stream=False has_end_token=False functions=[{'name': 'get_departure', 'description': 'get_departure(ticket_number: str) - Use this to fetch the departure time of a train', 'parameters': {'type': 'object', 'properties': {'ticket_number': {'type': 'string'}}, 'required': ['ticket_number']}}, {'name': 'cancel_ticket', 'description': 'cancel_ticket(ticket_number: str) - Use this to cancel a ticket', 'parameters': {'type': 'object', 'properties': {'ticket_number': {'type': 'string'}}, 'required': ['ticket_number']}}, {'name': 'buy_ticket', 'description': 'buy_ticket(destination: str) - Use this to buy a ticket', 'parameters': {'type': 'object', 'properties': {'destination': {'type': 'string'}}, 'required': ['destination']}}, {'name': 'make_complaint', 'description': 'make_complaint(complaint: str) - Use this to forward a complaint to the complaint department', 'parameters': {'type': 'object', 'properties': {'complaint': {'type': 'string'}}, 'required': ['complaint']}}] session_id=None retries=0 response_format=None\n"
     ]
    }
   ],
   "source": [
    "# lc_llm = ChatLLMstudio(model_id='openai/gpt-3.5-turbo', temperature=0)\n",
    "lc_llm = ChatLLMstudio(model_id='openai/gpt-3.5-turbo', temperature=0)"
   ]
  },
  {
   "cell_type": "code",
   "execution_count": 4,
   "metadata": {},
   "outputs": [],
   "source": [
    "from langchain.tools import tool\n",
    "from langchain.agents import AgentType, initialize_agent\n",
    "\n",
    "@tool\n",
    "def get_departure(ticket_number: str):\n",
    "    \"\"\"Use this to fetch the departure time of a train\"\"\"\n",
    "    return \"12:00 AM\"\n",
    "\n",
    "@tool\n",
    "def cancel_ticket(ticket_number: str):\n",
    "    \"\"\"Use this to cancel a ticket\"\"\"\n",
    "    return \"Ticket cancelled\"\n",
    "\n",
    "@tool\n",
    "def buy_ticket(destination: str):\n",
    "    \"\"\"Use this to buy a ticket\"\"\"\n",
    "    return \"Bought ticket number 123456\"\n",
    "\n",
    "@tool\n",
    "def make_complaint(complaint: str):\n",
    "    \"\"\"Use this to forward a complaint to the complaint department\"\"\"\n",
    "    return \"Complaint forwarded. We appreciate your feedback.\"\n",
    "\n",
    "\n",
    "def assistant(question: str)->str:\n",
    "    \"\"\"YOUR CODE HERE\"\"\"\n",
    "    tools = [get_departure, cancel_ticket, buy_ticket, make_complaint]\n",
    "    print(tools)\n",
    "\n",
    "    #rebuild agent with new tools\n",
    "    agent_executor = initialize_agent(\n",
    "        tools, lc_llm, agent=AgentType.OPENAI_FUNCTIONS, handle_parsing_errors=\"Check your output and make sure it conforms!\", verbose = True, debug = True\n",
    "    )\n",
    "\n",
    "    response = agent_executor.invoke(\n",
    "        {\n",
    "            \"input\": question\n",
    "        }\n",
    "    )\n",
    "\n",
    "    return response"
   ]
  },
  {
   "cell_type": "code",
   "execution_count": 5,
   "metadata": {},
   "outputs": [
    {
     "name": "stdout",
     "output_type": "stream",
     "text": [
      "[StructuredTool(name='get_departure', description='get_departure(ticket_number: str) - Use this to fetch the departure time of a train', args_schema=<class 'pydantic.v1.main.get_departureSchema'>, func=<function get_departure at 0x12540b7e0>), StructuredTool(name='cancel_ticket', description='cancel_ticket(ticket_number: str) - Use this to cancel a ticket', args_schema=<class 'pydantic.v1.main.cancel_ticketSchema'>, func=<function cancel_ticket at 0x12540b880>), StructuredTool(name='buy_ticket', description='buy_ticket(destination: str) - Use this to buy a ticket', args_schema=<class 'pydantic.v1.main.buy_ticketSchema'>, func=<function buy_ticket at 0x12728c400>), StructuredTool(name='make_complaint', description='make_complaint(complaint: str) - Use this to forward a complaint to the complaint department', args_schema=<class 'pydantic.v1.main.make_complaintSchema'>, func=<function make_complaint at 0x12728ccc0>)]\n",
      "\n",
      "\n",
      "\u001b[1m> Entering new AgentExecutor chain...\u001b[0m\n"
     ]
    },
    {
     "name": "stderr",
     "output_type": "stream",
     "text": [
      "/opt/anaconda3/envs/llmstudiodev/lib/python3.11/site-packages/langchain_core/_api/deprecation.py:119: LangChainDeprecationWarning: The function `initialize_agent` was deprecated in LangChain 0.1.0 and will be removed in 0.3.0. Use Use new agent constructor methods like create_react_agent, create_json_agent, create_structured_chat_agent, etc. instead.\n",
      "  warn_deprecated(\n"
     ]
    },
    {
     "name": "stdout",
     "output_type": "stream",
     "text": [
      "\u001b[32;1m\u001b[1;3m\n",
      "Invoking: `get_departure` with `{'ticket_number': '1234'}`\n",
      "\n",
      "\n",
      "\u001b[0m\u001b[36;1m\u001b[1;3m12:00 AM\u001b[0m\u001b[32;1m\u001b[1;3mYour train departs at 12:00 AM.\u001b[0m\n",
      "\n",
      "\u001b[1m> Finished chain.\u001b[0m\n"
     ]
    },
    {
     "data": {
      "text/plain": [
       "{'input': 'When does my train depart? My ticket is 1234',\n",
       " 'output': 'Your train departs at 12:00 AM.'}"
      ]
     },
     "execution_count": 5,
     "metadata": {},
     "output_type": "execute_result"
    }
   ],
   "source": [
    "assistant('When does my train depart? My ticket is 1234')\n"
   ]
  },
  {
   "cell_type": "code",
   "execution_count": null,
   "metadata": {},
   "outputs": [],
   "source": [
    "assistant('Hello')"
   ]
  },
  {
   "cell_type": "markdown",
   "metadata": {},
   "source": [
    "# Vertex AI"
   ]
  },
  {
   "cell_type": "code",
   "execution_count": 1,
   "metadata": {},
   "outputs": [],
   "source": [
    "from llmstudio.llm.langchain import ChatLLMstudio\n",
    "from llmstudio import LLM"
   ]
  },
  {
   "cell_type": "code",
   "execution_count": 2,
   "metadata": {},
   "outputs": [
    {
     "name": "stdout",
     "output_type": "stream",
     "text": [
      "Running LLMstudio Engine on http://localhost:50001 Running LLMstudio Tracking on http://localhost:50002 \n",
      "\n",
      "vertex.py - request: api_key=None model='gemini-1.5-flash' chat_input=[{'role': 'system', 'content': 'You are a helpful AI assistant.'}, {'role': 'user', 'content': 'Turn this into a party!'}] parameters=VertexAIParameters(top_p=None, top_k=None, temperature=0.0, max_output_tokens=None, frequency_penalty=None, presence_penalty=None) is_stream=False has_end_token=False functions=[{'name': 'power_disco_ball', 'description': 'power_disco_ball(power: bool) -> bool - Powers the spinning disco ball.', 'parameters': {'type': 'object', 'properties': {'power': {'type': 'boolean'}}, 'required': ['power']}}, {'name': 'start_music', 'description': 'start_music(energetic: bool, loud: bool, bpm: int) -> str - Play some music matching the specified parameters.\\n\\n    Args:\\n      energetic: Whether the music is energetic or not.\\n      loud: Whether the music is loud or not.\\n      bpm: The beats per minute of the music.\\n\\n    Returns: The name of the song being played.', 'parameters': {'type': 'object', 'properties': {'energetic': {'type': 'boolean'}, 'loud': {'type': 'boolean'}, 'bpm': {'type': 'integer'}}, 'required': ['energetic', 'loud', 'bpm']}}, {'name': 'dim_lights', 'description': 'dim_lights(brightness: float) -> bool - Dim the lights.\\n\\n    Args:\\n      brightness: The brightness of the lights, 0.0 is off, 1.0 is full.', 'parameters': {'type': 'object', 'properties': {'brightness': {'type': 'number'}}, 'required': ['brightness']}}] session_id=None retries=0\n",
      "vertex.py - message: \n",
      "        Please answer the following question: Turn this into a party!\n",
      "\n",
      "        This is the tool responses I got so far: \n",
      "\n",
      "        \n",
      "\n",
      "        Call any other tool if you think is necessary. Otherwise please answer the question based on the tool responses you got.\n",
      "        \n",
      "vertex.py - request: api_key=None model='gemini-1.5-flash' chat_input=[{'role': 'system', 'content': 'You are a helpful AI assistant.'}, {'role': 'user', 'content': 'Turn this into a party!'}, {'role': 'assistant', 'content': None, 'function_call': {'arguments': '{\"power\":1}', 'name': 'power_disco_ball'}}, {'role': 'function', 'content': 'true', 'name': 'power_disco_ball'}] parameters=VertexAIParameters(top_p=None, top_k=None, temperature=0.0, max_output_tokens=None, frequency_penalty=None, presence_penalty=None) is_stream=False has_end_token=False functions=[{'name': 'power_disco_ball', 'description': 'power_disco_ball(power: bool) -> bool - Powers the spinning disco ball.', 'parameters': {'type': 'object', 'properties': {'power': {'type': 'boolean'}}, 'required': ['power']}}, {'name': 'start_music', 'description': 'start_music(energetic: bool, loud: bool, bpm: int) -> str - Play some music matching the specified parameters.\\n\\n    Args:\\n      energetic: Whether the music is energetic or not.\\n      loud: Whether the music is loud or not.\\n      bpm: The beats per minute of the music.\\n\\n    Returns: The name of the song being played.', 'parameters': {'type': 'object', 'properties': {'energetic': {'type': 'boolean'}, 'loud': {'type': 'boolean'}, 'bpm': {'type': 'integer'}}, 'required': ['energetic', 'loud', 'bpm']}}, {'name': 'dim_lights', 'description': 'dim_lights(brightness: float) -> bool - Dim the lights.\\n\\n    Args:\\n      brightness: The brightness of the lights, 0.0 is off, 1.0 is full.', 'parameters': {'type': 'object', 'properties': {'brightness': {'type': 'number'}}, 'required': ['brightness']}}] session_id=None retries=0\n",
      "vertex.py - message: \n",
      "        Please answer the following question: Turn this into a party!\n",
      "\n",
      "        This is the tool responses I got so far: \n",
      "\n",
      "        Tool1: power_disco_ball, Description1:Description not provided, Response1:true\n",
      "\n",
      "        Call any other tool if you think is necessary. Otherwise please answer the question based on the tool responses you got.\n",
      "        \n",
      "vertex.py - request: api_key=None model='gemini-1.5-flash' chat_input=[{'role': 'system', 'content': 'You are a helpful AI assistant.'}, {'role': 'user', 'content': 'Turn this into a party!'}, {'role': 'assistant', 'content': None, 'function_call': {'arguments': '{\"power\":1}', 'name': 'power_disco_ball'}}, {'role': 'function', 'content': 'true', 'name': 'power_disco_ball'}, {'role': 'assistant', 'content': None, 'function_call': {'arguments': '{\"loud\":1,\"energetic\":1,\"bpm\":120}', 'name': 'start_music'}}, {'role': 'function', 'content': 'Never gonna give you up.', 'name': 'start_music'}] parameters=VertexAIParameters(top_p=None, top_k=None, temperature=0.0, max_output_tokens=None, frequency_penalty=None, presence_penalty=None) is_stream=False has_end_token=False functions=[{'name': 'power_disco_ball', 'description': 'power_disco_ball(power: bool) -> bool - Powers the spinning disco ball.', 'parameters': {'type': 'object', 'properties': {'power': {'type': 'boolean'}}, 'required': ['power']}}, {'name': 'start_music', 'description': 'start_music(energetic: bool, loud: bool, bpm: int) -> str - Play some music matching the specified parameters.\\n\\n    Args:\\n      energetic: Whether the music is energetic or not.\\n      loud: Whether the music is loud or not.\\n      bpm: The beats per minute of the music.\\n\\n    Returns: The name of the song being played.', 'parameters': {'type': 'object', 'properties': {'energetic': {'type': 'boolean'}, 'loud': {'type': 'boolean'}, 'bpm': {'type': 'integer'}}, 'required': ['energetic', 'loud', 'bpm']}}, {'name': 'dim_lights', 'description': 'dim_lights(brightness: float) -> bool - Dim the lights.\\n\\n    Args:\\n      brightness: The brightness of the lights, 0.0 is off, 1.0 is full.', 'parameters': {'type': 'object', 'properties': {'brightness': {'type': 'number'}}, 'required': ['brightness']}}] session_id=None retries=0\n",
      "vertex.py - message: \n",
      "        Please answer the following question: Turn this into a party!\n",
      "\n",
      "        This is the tool responses I got so far: \n",
      "\n",
      "        Tool1: power_disco_ball, Description1:Description not provided, Response1:true\n",
      "Tool2: start_music, Description2:Description not provided, Response2:Never gonna give you up.\n",
      "\n",
      "        Call any other tool if you think is necessary. Otherwise please answer the question based on the tool responses you got.\n",
      "        \n",
      "vertex.py - request: api_key=None model='gemini-1.5-flash' chat_input=[{'role': 'system', 'content': 'You are a helpful AI assistant.'}, {'role': 'user', 'content': 'Turn this into a party!'}, {'role': 'assistant', 'content': None, 'function_call': {'arguments': '{\"power\":1}', 'name': 'power_disco_ball'}}, {'role': 'function', 'content': 'true', 'name': 'power_disco_ball'}, {'role': 'assistant', 'content': None, 'function_call': {'arguments': '{\"loud\":1,\"energetic\":1,\"bpm\":120}', 'name': 'start_music'}}, {'role': 'function', 'content': 'Never gonna give you up.', 'name': 'start_music'}, {'role': 'assistant', 'content': None, 'function_call': {'arguments': '{\"brightness\":0.5}', 'name': 'dim_lights'}}, {'role': 'function', 'content': 'true', 'name': 'dim_lights'}] parameters=VertexAIParameters(top_p=None, top_k=None, temperature=0.0, max_output_tokens=None, frequency_penalty=None, presence_penalty=None) is_stream=False has_end_token=False functions=[{'name': 'power_disco_ball', 'description': 'power_disco_ball(power: bool) -> bool - Powers the spinning disco ball.', 'parameters': {'type': 'object', 'properties': {'power': {'type': 'boolean'}}, 'required': ['power']}}, {'name': 'start_music', 'description': 'start_music(energetic: bool, loud: bool, bpm: int) -> str - Play some music matching the specified parameters.\\n\\n    Args:\\n      energetic: Whether the music is energetic or not.\\n      loud: Whether the music is loud or not.\\n      bpm: The beats per minute of the music.\\n\\n    Returns: The name of the song being played.', 'parameters': {'type': 'object', 'properties': {'energetic': {'type': 'boolean'}, 'loud': {'type': 'boolean'}, 'bpm': {'type': 'integer'}}, 'required': ['energetic', 'loud', 'bpm']}}, {'name': 'dim_lights', 'description': 'dim_lights(brightness: float) -> bool - Dim the lights.\\n\\n    Args:\\n      brightness: The brightness of the lights, 0.0 is off, 1.0 is full.', 'parameters': {'type': 'object', 'properties': {'brightness': {'type': 'number'}}, 'required': ['brightness']}}] session_id=None retries=0\n",
      "vertex.py - message: \n",
      "        Please answer the following question: Turn this into a party!\n",
      "\n",
      "        This is the tool responses I got so far: \n",
      "\n",
      "        Tool1: power_disco_ball, Description1:Description not provided, Response1:true\n",
      "Tool2: start_music, Description2:Description not provided, Response2:Never gonna give you up.\n",
      "Tool3: dim_lights, Description3:Description not provided, Response3:true\n",
      "\n",
      "        Call any other tool if you think is necessary. Otherwise please answer the question based on the tool responses you got.\n",
      "        \n"
     ]
    }
   ],
   "source": [
    "# lc_llm = ChatLLMstudio(model_id='openai/gpt-3.5-turbo', temperature=0)\n",
    "lc_llm = ChatLLMstudio(model_id='vertexai/gemini-1.5-flash', temperature=0)"
   ]
  },
  {
   "cell_type": "code",
   "execution_count": 3,
   "metadata": {},
   "outputs": [
    {
     "name": "stdout",
     "output_type": "stream",
     "text": [
      "Running LLMstudio Engine on http://localhost:50001 Running LLMstudio Tracking on http://localhost:50002 \n",
      "\n",
      "vertex.py - request: api_key=None model='gemini-1.5-flash' chat_input=[{'role': 'system', 'content': 'You are a helpful AI assistant.'}, {'role': 'user', 'content': 'When does my train depart? My ticket is 1234'}] parameters=VertexAIParameters(top_p=None, top_k=None, temperature=0.0, max_output_tokens=None, frequency_penalty=None, presence_penalty=None) is_stream=False has_end_token=False functions=[{'name': 'get_departure', 'description': 'get_departure(ticket_number: str) - Use this to fetch the departure time of a train', 'parameters': {'type': 'object', 'properties': {'ticket_number': {'type': 'string'}}, 'required': ['ticket_number']}}, {'name': 'cancel_ticket', 'description': 'cancel_ticket(ticket_number: str) - Use this to cancel a ticket', 'parameters': {'type': 'object', 'properties': {'ticket_number': {'type': 'string'}}, 'required': ['ticket_number']}}, {'name': 'buy_ticket', 'description': 'buy_ticket(destination: str) - Use this to buy a ticket', 'parameters': {'type': 'object', 'properties': {'destination': {'type': 'string'}}, 'required': ['destination']}}, {'name': 'make_complaint', 'description': 'make_complaint(complaint: str) - Use this to forward a complaint to the complaint department', 'parameters': {'type': 'object', 'properties': {'complaint': {'type': 'string'}}, 'required': ['complaint']}}] session_id=None retries=0\n",
      "vertex.py - message: \n",
      "        Please answer the following question: When does my train depart? My ticket is 1234\n",
      "\n",
      "        This is the tool responses I got so far: \n",
      "\n",
      "        \n",
      "\n",
      "        Call any other tool if you think is necessary. Otherwise please answer the question based on the tool responses you got.\n",
      "        \n",
      "vertex.py - request: api_key=None model='gemini-1.5-flash' chat_input=[{'role': 'system', 'content': 'You are a helpful AI assistant.'}, {'role': 'user', 'content': 'When does my train depart? My ticket is 1234'}, {'role': 'assistant', 'content': None, 'function_call': {'arguments': '{\"ticket_number\":\"1234\"}', 'name': 'get_departure'}}, {'role': 'function', 'content': '12:00 AM', 'name': 'get_departure'}] parameters=VertexAIParameters(top_p=None, top_k=None, temperature=0.0, max_output_tokens=None, frequency_penalty=None, presence_penalty=None) is_stream=False has_end_token=False functions=[{'name': 'get_departure', 'description': 'get_departure(ticket_number: str) - Use this to fetch the departure time of a train', 'parameters': {'type': 'object', 'properties': {'ticket_number': {'type': 'string'}}, 'required': ['ticket_number']}}, {'name': 'cancel_ticket', 'description': 'cancel_ticket(ticket_number: str) - Use this to cancel a ticket', 'parameters': {'type': 'object', 'properties': {'ticket_number': {'type': 'string'}}, 'required': ['ticket_number']}}, {'name': 'buy_ticket', 'description': 'buy_ticket(destination: str) - Use this to buy a ticket', 'parameters': {'type': 'object', 'properties': {'destination': {'type': 'string'}}, 'required': ['destination']}}, {'name': 'make_complaint', 'description': 'make_complaint(complaint: str) - Use this to forward a complaint to the complaint department', 'parameters': {'type': 'object', 'properties': {'complaint': {'type': 'string'}}, 'required': ['complaint']}}] session_id=None retries=0\n",
      "vertex.py - message: \n",
      "        Please answer the following question: When does my train depart? My ticket is 1234\n",
      "\n",
      "        This is the tool responses I got so far: \n",
      "\n",
      "        Tool1: get_departure, Description1:Description not provided, Response1:12:00 AM\n",
      "\n",
      "        Call any other tool if you think is necessary. Otherwise please answer the question based on the tool responses you got.\n",
      "        \n"
     ]
    }
   ],
   "source": [
    "from langchain.tools import tool\n",
    "from langchain.agents import AgentType, initialize_agent\n",
    "\n",
    "@tool\n",
    "def get_departure(ticket_number: str):\n",
    "    \"\"\"Use this to fetch the departure time of a train\"\"\"\n",
    "    return \"12:00 AM\"\n",
    "\n",
    "@tool\n",
    "def cancel_ticket(ticket_number: str):\n",
    "    \"\"\"Use this to cancel a ticket\"\"\"\n",
    "    return \"Ticket cancelled\"\n",
    "\n",
    "@tool\n",
    "def buy_ticket(destination: str):\n",
    "    \"\"\"Use this to buy a ticket\"\"\"\n",
    "    return \"Bought ticket number 123456\"\n",
    "\n",
    "@tool\n",
    "def make_complaint(complaint: str):\n",
    "    \"\"\"Use this to forward a complaint to the complaint department\"\"\"\n",
    "    return \"Complaint forwarded. We appreciate your feedback.\"\n"
   ]
  },
  {
   "cell_type": "code",
   "execution_count": 4,
   "metadata": {},
   "outputs": [],
   "source": [
    "def assistant(question: str)->str:\n",
    "    \"\"\"YOUR CODE HERE\"\"\"\n",
    "    tools = [get_departure, cancel_ticket, buy_ticket, make_complaint]\n",
    "    print(tools)\n",
    "\n",
    "    #rebuild agent with new tools\n",
    "    agent_executor = initialize_agent(\n",
    "        tools, lc_llm, agent=AgentType.OPENAI_FUNCTIONS, handle_parsing_errors=\"Check your output and make sure it conforms!\", verbose = True, debug = True\n",
    "    )\n",
    "\n",
    "    response = agent_executor.invoke(\n",
    "        {\n",
    "            \"input\": question\n",
    "        }\n",
    "    )\n",
    "\n",
    "    return response"
   ]
  },
  {
   "cell_type": "code",
   "execution_count": 5,
   "metadata": {},
   "outputs": [
    {
     "name": "stdout",
     "output_type": "stream",
     "text": [
      "[StructuredTool(name='get_departure', description='get_departure(ticket_number: str) - Use this to fetch the departure time of a train', args_schema=<class 'pydantic.v1.main.get_departureSchema'>, func=<function get_departure at 0x1587b8d60>), StructuredTool(name='cancel_ticket', description='cancel_ticket(ticket_number: str) - Use this to cancel a ticket', args_schema=<class 'pydantic.v1.main.cancel_ticketSchema'>, func=<function cancel_ticket at 0x158767ce0>), StructuredTool(name='buy_ticket', description='buy_ticket(destination: str) - Use this to buy a ticket', args_schema=<class 'pydantic.v1.main.buy_ticketSchema'>, func=<function buy_ticket at 0x15979f560>), StructuredTool(name='make_complaint', description='make_complaint(complaint: str) - Use this to forward a complaint to the complaint department', args_schema=<class 'pydantic.v1.main.make_complaintSchema'>, func=<function make_complaint at 0x15979fe20>)]\n",
      "\n",
      "\n",
      "\u001b[1m> Entering new AgentExecutor chain...\u001b[0m\n"
     ]
    },
    {
     "name": "stderr",
     "output_type": "stream",
     "text": [
      "/opt/anaconda3/envs/llmstudiodev/lib/python3.11/site-packages/langchain_core/_api/deprecation.py:119: LangChainDeprecationWarning: The function `initialize_agent` was deprecated in LangChain 0.1.0 and will be removed in 0.3.0. Use Use new agent constructor methods like create_react_agent, create_json_agent, create_structured_chat_agent, etc. instead.\n",
      "  warn_deprecated(\n"
     ]
    },
    {
     "name": "stdout",
     "output_type": "stream",
     "text": [
      "\u001b[32;1m\u001b[1;3m\n",
      "Invoking: `get_departure` with `{'ticket_number': '1234'}`\n",
      "\n",
      "\n",
      "\u001b[0m\u001b[36;1m\u001b[1;3m12:00 AM\u001b[0m\u001b[32;1m\u001b[1;3mMy train departs at 12:00 AM. \n",
      "\u001b[0m\n",
      "\n",
      "\u001b[1m> Finished chain.\u001b[0m\n"
     ]
    },
    {
     "data": {
      "text/plain": [
       "{'input': 'When does my train depart? My ticket is 1234',\n",
       " 'output': 'My train departs at 12:00 AM. \\n'}"
      ]
     },
     "execution_count": 5,
     "metadata": {},
     "output_type": "execute_result"
    }
   ],
   "source": [
    "assistant('When does my train depart? My ticket is 1234')"
   ]
  },
  {
   "cell_type": "code",
   "execution_count": 3,
   "metadata": {},
   "outputs": [],
   "source": [
    "from langchain.tools import tool\n",
    "from langchain.agents import AgentType, initialize_agent\n",
    "\n",
    "@tool\n",
    "def power_disco_ball(power: bool) -> bool:\n",
    "    \"\"\"Powers the spinning disco ball.\"\"\"\n",
    "    print(f\"Disco ball is {'spinning!' if power else 'stopped.'}\")\n",
    "    return True\n",
    "\n",
    "@tool\n",
    "def start_music(energetic: bool, loud: bool, bpm: int) -> str:\n",
    "    \"\"\"Play some music matching the specified parameters.\n",
    "\n",
    "    Args:\n",
    "      energetic: Whether the music is energetic or not.\n",
    "      loud: Whether the music is loud or not.\n",
    "      bpm: The beats per minute of the music.\n",
    "\n",
    "    Returns: The name of the song being played.\n",
    "    \"\"\"\n",
    "    print(f\"Starting music! {energetic=} {loud=}, {bpm=}\")\n",
    "    return \"Never gonna give you up.\"\n",
    "\n",
    "@tool\n",
    "def dim_lights(brightness: float) -> bool:\n",
    "    \"\"\"Dim the lights.\n",
    "\n",
    "    Args:\n",
    "      brightness: The brightness of the lights, 0.0 is off, 1.0 is full.\n",
    "    \"\"\"\n",
    "    print(f\"Lights are now set to {brightness:.0%}\")\n",
    "    return True\n"
   ]
  },
  {
   "cell_type": "code",
   "execution_count": 4,
   "metadata": {},
   "outputs": [],
   "source": [
    "def assistant(question: str)->str:\n",
    "    \"\"\"YOUR CODE HERE\"\"\"\n",
    "    tools = [power_disco_ball, start_music, dim_lights]\n",
    "    print(tools)\n",
    "\n",
    "    #rebuild agent with new tools\n",
    "    agent_executor = initialize_agent(\n",
    "        tools, lc_llm, agent=AgentType.OPENAI_FUNCTIONS, handle_parsing_errors=\"Check your output and make sure it conforms!\", verbose = True, debug = True\n",
    "    )\n",
    "\n",
    "    response = agent_executor.invoke(\n",
    "        {\n",
    "            \"input\": question\n",
    "        }\n",
    "    )\n",
    "\n",
    "    return response"
   ]
  },
  {
   "cell_type": "code",
   "execution_count": 5,
   "metadata": {},
   "outputs": [
    {
     "name": "stdout",
     "output_type": "stream",
     "text": [
      "[StructuredTool(name='power_disco_ball', description='power_disco_ball(power: bool) -> bool - Powers the spinning disco ball.', args_schema=<class 'pydantic.v1.main.power_disco_ballSchema'>, func=<function power_disco_ball at 0x12174e3e0>), StructuredTool(name='start_music', description='start_music(energetic: bool, loud: bool, bpm: int) -> str - Play some music matching the specified parameters.\\n\\n    Args:\\n      energetic: Whether the music is energetic or not.\\n      loud: Whether the music is loud or not.\\n      bpm: The beats per minute of the music.\\n\\n    Returns: The name of the song being played.', args_schema=<class 'pydantic.v1.main.start_musicSchema'>, func=<function start_music at 0x12174fec0>), StructuredTool(name='dim_lights', description='dim_lights(brightness: float) -> bool - Dim the lights.\\n\\n    Args:\\n      brightness: The brightness of the lights, 0.0 is off, 1.0 is full.', args_schema=<class 'pydantic.v1.main.dim_lightsSchema'>, func=<function dim_lights at 0x123e1b6a0>)]\n",
      "\n",
      "\n",
      "\u001b[1m> Entering new AgentExecutor chain...\u001b[0m\n"
     ]
    },
    {
     "name": "stderr",
     "output_type": "stream",
     "text": [
      "/opt/anaconda3/envs/llmstudiodev/lib/python3.11/site-packages/langchain_core/_api/deprecation.py:119: LangChainDeprecationWarning: The function `initialize_agent` was deprecated in LangChain 0.1.0 and will be removed in 0.3.0. Use Use new agent constructor methods like create_react_agent, create_json_agent, create_structured_chat_agent, etc. instead.\n",
      "  warn_deprecated(\n"
     ]
    },
    {
     "name": "stdout",
     "output_type": "stream",
     "text": [
      "\u001b[32;1m\u001b[1;3m\n",
      "Invoking: `power_disco_ball` with `{'power': 1}`\n",
      "\n",
      "\n",
      "\u001b[0mDisco ball is spinning!\n",
      "\u001b[36;1m\u001b[1;3mTrue\u001b[0m\u001b[32;1m\u001b[1;3m\n",
      "Invoking: `start_music` with `{'loud': 1, 'energetic': 1, 'bpm': 120}`\n",
      "\n",
      "\n",
      "\u001b[0mStarting music! energetic=True loud=True, bpm=120\n",
      "\u001b[33;1m\u001b[1;3mNever gonna give you up.\u001b[0m\u001b[32;1m\u001b[1;3m\n",
      "Invoking: `dim_lights` with `{'brightness': 0.5}`\n",
      "\n",
      "\n",
      "\u001b[0mLights are now set to 50%\n",
      "\u001b[38;5;200m\u001b[1;3mTrue\u001b[0m\u001b[32;1m\u001b[1;3mThis sounds like a great party! The disco ball is on, the music is playing \"Never gonna give you up\" and the lights are dimmed. \n",
      "\u001b[0m\n",
      "\n",
      "\u001b[1m> Finished chain.\u001b[0m\n"
     ]
    },
    {
     "data": {
      "text/plain": [
       "{'input': 'Turn this into a party!',\n",
       " 'output': 'This sounds like a great party! The disco ball is on, the music is playing \"Never gonna give you up\" and the lights are dimmed. \\n'}"
      ]
     },
     "execution_count": 5,
     "metadata": {},
     "output_type": "execute_result"
    }
   ],
   "source": [
    "assistant('Turn this into a party!')"
   ]
  },
  {
   "cell_type": "markdown",
   "metadata": {},
   "source": [
    "---"
   ]
  },
  {
   "cell_type": "markdown",
   "metadata": {},
   "source": [
    "# Tests"
   ]
  },
  {
   "cell_type": "markdown",
   "metadata": {},
   "source": [
    "### VertexAI request Format"
   ]
  },
  {
   "cell_type": "code",
   "execution_count": null,
   "metadata": {},
   "outputs": [],
   "source": [
    "import pathlib\n",
    "import textwrap\n",
    "import time\n",
    "\n",
    "import google.generativeai as genai\n",
    "\n",
    "from IPython import display\n",
    "from IPython.display import Markdown\n",
    "\n",
    "def to_markdown(text):\n",
    "  text = text.replace('•', '  *')\n",
    "  return Markdown(textwrap.indent(text, '> ', predicate=lambda _: True))"
   ]
  },
  {
   "cell_type": "markdown",
   "metadata": {},
   "source": [
    "#### Disco example"
   ]
  },
  {
   "cell_type": "code",
   "execution_count": null,
   "metadata": {},
   "outputs": [],
   "source": [
    "def power_disco_ball(power: bool) -> bool:\n",
    "    \"\"\"Powers the spinning disco ball.\"\"\"\n",
    "    print(f\"Disco ball is {'spinning!' if power else 'stopped.'}\")\n",
    "    return True\n",
    "\n",
    "\n",
    "def start_music(energetic: bool, loud: bool, bpm: int) -> str:\n",
    "    \"\"\"Play some music matching the specified parameters.\n",
    "\n",
    "    Args:\n",
    "      energetic: Whether the music is energetic or not.\n",
    "      loud: Whether the music is loud or not.\n",
    "      bpm: The beats per minute of the music.\n",
    "\n",
    "    Returns: The name of the song being played.\n",
    "    \"\"\"\n",
    "    print(f\"Starting music! {energetic=} {loud=}, {bpm=}\")\n",
    "    return \"Never gonna give you up.\"\n",
    "\n",
    "\n",
    "def dim_lights(brightness: float) -> bool:\n",
    "    \"\"\"Dim the lights.\n",
    "\n",
    "    Args:\n",
    "      brightness: The brightness of the lights, 0.0 is off, 1.0 is full.\n",
    "    \"\"\"\n",
    "    print(f\"Lights are now set to {brightness:.0%}\")\n",
    "    return True\n",
    "\n",
    "tools = [power_disco_ball, start_music, dim_lights]"
   ]
  },
  {
   "cell_type": "code",
   "execution_count": null,
   "metadata": {},
   "outputs": [],
   "source": [
    "# Call the API.\n",
    "model = genai.GenerativeModel('gemini-1.5-flash', tools=tools)\n",
    "response = model.generate_content(\"Turn this into a party!\")\n",
    "\n",
    "print(response)"
   ]
  },
  {
   "cell_type": "markdown",
   "metadata": {},
   "source": [
    "#### Train example"
   ]
  },
  {
   "cell_type": "code",
   "execution_count": null,
   "metadata": {},
   "outputs": [],
   "source": [
    "def get_departure(ticket_number: str):\n",
    "    \"\"\"Use this to fetch the departure time of a train\"\"\"\n",
    "    return \"12:00 AM\"\n",
    "\n",
    "def cancel_ticket(ticket_number: str):\n",
    "    \"\"\"Use this to cancel a ticket\"\"\"\n",
    "    return \"Ticket cancelled\"\n",
    "\n",
    "def buy_ticket(destination: str):\n",
    "    \"\"\"Use this to buy a ticket\"\"\"\n",
    "    return \"Bought ticket number 123456\"\n",
    "\n",
    "def make_complaint(complaint: str):\n",
    "    \"\"\"Use this to forward a complaint to the complaint department\"\"\"\n",
    "    return \"Complaint forwarded. We appreciate your feedback.\"\n",
    "\n",
    "tools = [get_departure, cancel_ticket, buy_ticket, make_complaint]"
   ]
  },
  {
   "cell_type": "code",
   "execution_count": null,
   "metadata": {},
   "outputs": [],
   "source": [
    "# Call the API.\n",
    "model = genai.GenerativeModel('gemini-1.5-flash', tools=tools)\n",
    "response = model.generate_content(\"Can you buy me a ticket to madrid and tell me at what time the train depparts?\")\n",
    "\n",
    "print(response)"
   ]
  },
  {
   "cell_type": "markdown",
   "metadata": {},
   "source": [
    "### Solution attempt"
   ]
  },
  {
   "cell_type": "code",
   "execution_count": null,
   "metadata": {},
   "outputs": [],
   "source": [
    "import pathlib\n",
    "import textwrap\n",
    "import time\n",
    "\n",
    "import google.generativeai as genai\n",
    "\n",
    "from IPython import display\n",
    "from IPython.display import Markdown\n",
    "\n",
    "def to_markdown(text):\n",
    "  text = text.replace('•', '  *')\n",
    "  return Markdown(textwrap.indent(text, '> ', predicate=lambda _: True))"
   ]
  },
  {
   "cell_type": "code",
   "execution_count": null,
   "metadata": {},
   "outputs": [],
   "source": [
    "def get_departure(ticket_number: str):\n",
    "    \"\"\"Use this to fetch the departure time of a train\"\"\"\n",
    "    return \"12:00 AM\"\n",
    "\n",
    "def cancel_ticket(ticket_number: str):\n",
    "    \"\"\"Use this to cancel a ticket\"\"\"\n",
    "    return \"Ticket cancelled\"\n",
    "\n",
    "def buy_ticket(destination: str):\n",
    "    \"\"\"Use this to buy a ticket\"\"\"\n",
    "    return \"Bought ticket number 123456\"\n",
    "\n",
    "def make_complaint(complaint: str):\n",
    "    \"\"\"Use this to forward a complaint to the complaint department\"\"\"\n",
    "    return \"Complaint forwarded. We appreciate your feedback.\"\n",
    "\n",
    "tools = [get_departure, cancel_ticket, buy_ticket, make_complaint]"
   ]
  },
  {
   "cell_type": "code",
   "execution_count": null,
   "metadata": {},
   "outputs": [],
   "source": [
    "model = genai.GenerativeModel(model_name=\"gemini-1.5-pro-latest\", tools=tools)\n",
    "\n",
    "# Call the API.\n",
    "chat = model.start_chat()\n",
    "response = chat.send_message(\"Can you buy me a ticket for madrid and tell me at what time the train departs?\")\n",
    "\n",
    "# Print out each of the function calls requested from this single call.\n",
    "for part in response.parts:\n",
    "    if fn := part.function_call:\n",
    "        args = \", \".join(f\"{key}={val}\" for key, val in fn.args.items())\n",
    "        print(f\"{fn.name}({args})\")\n",
    "     "
   ]
  }
 ],
 "metadata": {
  "kernelspec": {
   "display_name": "llmstudio",
   "language": "python",
   "name": "python3"
  },
  "language_info": {
   "codemirror_mode": {
    "name": "ipython",
    "version": 3
   },
   "file_extension": ".py",
   "mimetype": "text/x-python",
   "name": "python",
   "nbconvert_exporter": "python",
   "pygments_lexer": "ipython3",
   "version": "3.11.9"
  }
 },
 "nbformat": 4,
 "nbformat_minor": 2
}
