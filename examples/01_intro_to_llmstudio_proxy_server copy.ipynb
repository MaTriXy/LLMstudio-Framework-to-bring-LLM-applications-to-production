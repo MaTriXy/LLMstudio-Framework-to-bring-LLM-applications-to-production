{
 "cells": [
  {
   "cell_type": "markdown",
   "metadata": {},
   "source": [
    "# Intro to LLMstudio\n",
    "In this tutorial you'll be running the proxy and the tracker so you can automatically log the usage metrics and costs in the default database (`llmstudio_mgmt.db`).\n",
    "\n",
    "You'll learn:\n",
    "1. How to connect to any provider available (VertexAI, OpenAI, etc.)\n",
    "2. Make sync and async calls both with and without streaming\n",
    "3. See the save logs\n",
    "\n",
    "First things first:\n",
    "* run `pip install llmstudio[proxy, tracker]`\n",
    "* update your .env file with `GOOGLE_API_KEY` or `OPENAI_API_KEY`\n"
   ]
  },
  {
   "cell_type": "markdown",
   "metadata": {},
   "source": [
    "## Start proxy and tracking servers\n",
    "This step is to set the proxy and tracking servers.\n",
    "You can opt out to start such servers (see `llmstudio-core` for the lightest version)"
   ]
  },
  {
   "cell_type": "code",
   "execution_count": 1,
   "metadata": {},
   "outputs": [
    {
     "name": "stdout",
     "output_type": "stream",
     "text": [
      "/Users/diogo/fun/LLMstudio/libs/proxy/pyproject.toml\n",
      "Running LLMstudio Proxy on http://0.0.0.0:8001 \n",
      "/Users/diogo/fun/LLMstudio/libs/tracker/pyproject.toml\n",
      "Running LLMstudio Tracking on http://0.0.0.0:8002 \n"
     ]
    }
   ],
   "source": [
    "from pprint import pprint\n",
    "from llmstudio.server import start_servers\n",
    "from llmstudio_tracker.tracker import TrackingConfig\n",
    "from llmstudio_proxy.provider import ProxyConfig\n",
    "\n",
    "# start servers\n",
    "start_servers(proxy=True, tracker=True)\n",
    "\n",
    "proxy = ProxyConfig(host=\"0.0.0.0\", port=\"8001\")\n",
    "tracking = TrackingConfig(host=\"0.0.0.0\", port=\"8002\")\n",
    "\n"
   ]
  },
  {
   "cell_type": "code",
   "execution_count": 18,
   "metadata": {},
   "outputs": [
    {
     "name": "stdout",
     "output_type": "stream",
     "text": [
      "Connected to LLMStudio Proxy @ 0.0.0.0:8001\n",
      "Connected to LLMStudio Proxy @ 0.0.0.0:8001\n"
     ]
    }
   ],
   "source": [
    "from llmstudio.providers import LLM\n",
    "\n",
    "# You can set OPENAI_API_KEY and GOOGLE_API_KEY on .env file or pass as api_key on LLM\n",
    "\n",
    "vertexai = LLM(\"vertexai\",\n",
    "               proxy_config=proxy,\n",
    "               tracking_config=tracking,\n",
    "               session_id=\"vertexai-1\")\n",
    "\n",
    "openai = LLM(\"openai\",\n",
    "             proxy_config=proxy,\n",
    "             tracking_config=tracking,\n",
    "             session_id=\"openai-1\")\n"
   ]
  },
  {
   "cell_type": "markdown",
   "metadata": {},
   "source": [
    "# VertexAI\n",
    "### Chat (non-stream)"
   ]
  },
  {
   "cell_type": "code",
   "execution_count": 3,
   "metadata": {},
   "outputs": [
    {
     "name": "stdout",
     "output_type": "stream",
     "text": [
      "I am a large language model, so I don't have a name like a person. You can call me your helpful assistant, or just assistant! 😊  How can I help you today? \n",
      "\n",
      "{'cost_usd': 0.0004319,\n",
      " 'input_tokens': 4,\n",
      " 'inter_token_latency_s': 0.11219484465462821,\n",
      " 'latency_s': 2.0175440311431885,\n",
      " 'output_tokens': 41,\n",
      " 'time_to_first_token_s': 1.1958141326904297,\n",
      " 'tokens_per_second': 3.965217054255321,\n",
      " 'total_tokens': 45}\n"
     ]
    }
   ],
   "source": [
    "response = vertexai.chat(\"What's your name\", model=\"gemini-1.5-pro-latest\")\n",
    "print(response.chat_output)\n",
    "pprint(response.metrics)"
   ]
  },
  {
   "cell_type": "markdown",
   "metadata": {},
   "source": [
    "### Chat Async (non-stream)"
   ]
  },
  {
   "cell_type": "code",
   "execution_count": 4,
   "metadata": {},
   "outputs": [
    {
     "data": {
      "text/plain": [
       "ChatCompletion(id='f778fb45-8b44-4b90-9b94-b5e0029a265e', choices=[Choice(finish_reason='stop', index=0, logprobs=None, message=ChatCompletionMessage(content=\"I don't have a name. I'm a large language model, and I'm here to assist you. 😊 \\n\\nDo you need help with anything today? \\n\", refusal=None, role='assistant', audio=None, function_call=None, tool_calls=None))], created=1729701406, model='gemini-1.5-pro-latest', object='chat.completion', service_tier=None, system_fingerprint=None, usage=None, chat_input=\"What's your name\", chat_output=\"I don't have a name. I'm a large language model, and I'm here to assist you. 😊 \\n\\nDo you need help with anything today? \\n\", chat_output_stream='', context=[{'role': 'user', 'content': \"What's your name\"}], provider='vertexai', deployment='gemini-1.5-pro-latest', timestamp=1729701406.881098, parameters={}, metrics={'input_tokens': 4, 'output_tokens': 34, 'total_tokens': 38, 'cost_usd': 0.0003584, 'latency_s': 1.9173047542572021, 'time_to_first_token_s': 1.1197669506072998, 'inter_token_latency_s': 0.10988201413835798, 'tokens_per_second': 4.172523946564427})"
      ]
     },
     "execution_count": 4,
     "metadata": {},
     "output_type": "execute_result"
    }
   ],
   "source": [
    "await vertexai.achat(\"What's your name\", model=\"gemini-1.5-pro-latest\")"
   ]
  },
  {
   "cell_type": "markdown",
   "metadata": {},
   "source": [
    "### Chat (stream)"
   ]
  },
  {
   "cell_type": "code",
   "execution_count": 5,
   "metadata": {},
   "outputs": [
    {
     "name": "stdout",
     "output_type": "stream",
     "text": [
      "\n",
      "\n",
      "Space, a boundless expanse of cosmic wonder, stretches out infinitely in all directions. Filled\n",
      "\n",
      " with swirling galaxies, shimmering nebulae, and enigmatic black holes, it is a realm of breathtaking beauty and mind-boggling mysteries. From the fiery birth of stars to the silent dance of planets around distant suns, space is a vast canvas\n",
      "\n",
      " upon which the universe paints its awe-inspiring story. Its sheer immensity humbles us, reminding us of our place in the grand scheme of things, while simultaneously igniting our curiosity to explore its uncharted territories and unravel its deepest secrets. \n",
      "\n",
      "\n",
      "\n",
      "\n",
      "## Metrics:\n",
      "{'cost_usd': 0.0012838,\n",
      " 'input_tokens': 8,\n",
      " 'inter_token_latency_s': 0.1986620859666304,\n",
      " 'latency_s': 3.5033671855926514,\n",
      " 'output_tokens': 122,\n",
      " 'time_to_first_token_s': 1.2898240089416504,\n",
      " 'tokens_per_second': 3.425276131302807,\n",
      " 'total_tokens': 130}\n"
     ]
    }
   ],
   "source": [
    "response = vertexai.chat(\"Write a paragfraph about space\", model=\"gemini-1.5-pro-latest\", is_stream=True)\n",
    "for i, chunk in enumerate(response):\n",
    "    if i%2==0:\n",
    "        print(\"\\n\")\n",
    "    if not chunk.metrics:\n",
    "        print(chunk.chat_output_stream, end=\"\", flush=True)\n",
    "    else:\n",
    "        print(\"\\n\\n## Metrics:\")\n",
    "        pprint(chunk.metrics)\n"
   ]
  },
  {
   "cell_type": "markdown",
   "metadata": {},
   "source": [
    "### Chat Async (stream)"
   ]
  },
  {
   "cell_type": "code",
   "execution_count": 6,
   "metadata": {},
   "outputs": [
    {
     "name": "stdout",
     "output_type": "stream",
     "text": [
      "Space, an infinite expanse of darkness sprinkled with the brilliant light of celestial objects, continues\n",
      "\n",
      " to captivate humanity's imagination.  Vast distances separate swirling galaxies, each a swirling city of stars, planets, and cosmic dust.  Within these galaxies, nebulae paint the cosmos with vibrant colors, marking the birthplaces and graveyards of stars.  Black holes, enigmatic objects of immense gravity, lurk unseen, warping space and time.  Every glimpse into the depths of space unveils new wonders and mysteries, reminding us of the universe's incredible scale and our own small, yet significant, place within it. \n",
      "\n",
      "\n",
      "## Metrics:\n",
      "{'cost_usd': 0.0013573,\n",
      " 'input_tokens': 8,\n",
      " 'inter_token_latency_s': 0.20904343778436835,\n",
      " 'latency_s': 3.5030388832092285,\n",
      " 'output_tokens': 129,\n",
      " 'time_to_first_token_s': 1.1743888854980469,\n",
      " 'tokens_per_second': 3.4255971458148577,\n",
      " 'total_tokens': 137}\n"
     ]
    }
   ],
   "source": [
    "i=0\n",
    "async for chunk in await vertexai.achat(\"Write a paragfraph about space\", model=\"gemini-1.5-pro-latest\", is_stream=True):\n",
    "    if i%20==2:\n",
    "        print(\"\\n\")\n",
    "    if not chunk.metrics:\n",
    "        print(chunk.chat_output_stream, end=\"\", flush=True)\n",
    "    else:\n",
    "        print(\"\\n\\n## Metrics:\")\n",
    "        pprint(chunk.metrics)\n",
    "    i+=1\n"
   ]
  },
  {
   "cell_type": "markdown",
   "metadata": {},
   "source": [
    "### Get session metrics and usage"
   ]
  },
  {
   "cell_type": "code",
   "execution_count": 7,
   "metadata": {},
   "outputs": [],
   "source": [
    "from llmstudio_tracker.tracker import Tracker\n",
    "\n",
    "tracker = Tracker(tracking_config=tracking)"
   ]
  },
  {
   "cell_type": "code",
   "execution_count": 16,
   "metadata": {},
   "outputs": [
    {
     "data": {
      "text/plain": [
       "{'chat_input': 'Write a paragfraph about space',\n",
       " 'chat_output': \"Space, an infinite expanse of darkness sprinkled with the brilliant light of celestial objects, continues to captivate humanity's imagination.  Vast distances separate swirling galaxies, each a swirling city of stars, planets, and cosmic dust.  Within these galaxies, nebulae paint the cosmos with vibrant colors, marking the birthplaces and graveyards of stars.  Black holes, enigmatic objects of immense gravity, lurk unseen, warping space and time.  Every glimpse into the depths of space unveils new wonders and mysteries, reminding us of the universe's incredible scale and our own small, yet significant, place within it. \\n\",\n",
       " 'session_id': 'vertexai-1',\n",
       " 'context': [{'role': 'user', 'content': 'Write a paragfraph about space'}],\n",
       " 'provider': 'vertexai',\n",
       " 'model': 'gemini-1.5-pro-latest',\n",
       " 'deployment': 'gemini-1.5-pro-latest',\n",
       " 'parameters': {},\n",
       " 'metrics': {'input_tokens': 8,\n",
       "  'output_tokens': 129,\n",
       "  'total_tokens': 137,\n",
       "  'cost_usd': 0.0013573,\n",
       "  'latency_s': 3.5030388832092285,\n",
       "  'time_to_first_token_s': 1.1743888854980469,\n",
       "  'inter_token_latency_s': 0.20904343778436835,\n",
       "  'tokens_per_second': 3.4255971458148577},\n",
       " 'log_id': 12,\n",
       " 'created_at': '2024-10-23T16:36:53'}"
      ]
     },
     "execution_count": 16,
     "metadata": {},
     "output_type": "execute_result"
    }
   ],
   "source": [
    "logs = tracker.get_session_logs(session_id=\"vertexai-1\")\n",
    "logs.json()[-1]\n"
   ]
  },
  {
   "cell_type": "markdown",
   "metadata": {},
   "source": [
    "# OpenAI\n",
    "### Chat (non-stream)"
   ]
  },
  {
   "cell_type": "code",
   "execution_count": 9,
   "metadata": {},
   "outputs": [
    {
     "name": "stdout",
     "output_type": "stream",
     "text": [
      "I’m called ChatGPT. How can I assist you today?\n",
      "{'cost_usd': 0.00023,\n",
      " 'input_tokens': 4,\n",
      " 'inter_token_latency_s': 0.013863001550946916,\n",
      " 'latency_s': 0.5917928218841553,\n",
      " 'output_tokens': 14,\n",
      " 'time_to_first_token_s': 0.39728283882141113,\n",
      " 'tokens_per_second': 25.346708248746353,\n",
      " 'total_tokens': 18}\n"
     ]
    }
   ],
   "source": [
    "response = openai.chat(\"What's your name\", model=\"gpt-4o\")\n",
    "print(response.chat_output)\n",
    "pprint(response.metrics)"
   ]
  },
  {
   "cell_type": "markdown",
   "metadata": {},
   "source": [
    "### Chat Async (non-stream)"
   ]
  },
  {
   "cell_type": "code",
   "execution_count": 10,
   "metadata": {},
   "outputs": [
    {
     "data": {
      "text/plain": [
       "ChatCompletion(id='9d45030f-441c-4818-9c6b-30cd576b74f1', choices=[Choice(finish_reason='stop', index=0, logprobs=None, message=ChatCompletionMessage(content=\"I don't have a personal name, but you can call me Assistant. How can I help you today?\", refusal=None, role='assistant', audio=None, function_call=None, tool_calls=None))], created=1729701414, model='gpt-4o', object='chat.completion', service_tier=None, system_fingerprint=None, usage=None, chat_input=\"What's your name\", chat_output=\"I don't have a personal name, but you can call me Assistant. How can I help you today?\", chat_output_stream='', context=[{'role': 'user', 'content': \"What's your name\"}], provider='openai', deployment='gpt-4o-2024-08-06', timestamp=1729701415.330328, parameters={}, metrics={'input_tokens': 4, 'output_tokens': 22, 'total_tokens': 26, 'cost_usd': 0.00035, 'latency_s': 0.6936230659484863, 'time_to_first_token_s': 0.5820357799530029, 'inter_token_latency_s': 0.005048545924100009, 'tokens_per_second': 33.15922022943244})"
      ]
     },
     "execution_count": 10,
     "metadata": {},
     "output_type": "execute_result"
    }
   ],
   "source": [
    "await openai.achat(\"What's your name\", model=\"gpt-4o\")"
   ]
  },
  {
   "cell_type": "markdown",
   "metadata": {},
   "source": [
    "### Chat (stream)"
   ]
  },
  {
   "cell_type": "code",
   "execution_count": 11,
   "metadata": {},
   "outputs": [
    {
     "name": "stdout",
     "output_type": "stream",
     "text": [
      "\n",
      "\n",
      "Space, the vast expanse beyond Earth's atmosphere, is a realm of endless fascination and mystery.\n",
      "\n",
      " It is an ever-expanding universe filled with galaxies, stars, planets, and other celestial objects,\n",
      "\n",
      " offering a glimpse into the origins and workings of the cosmos. From the brilliant luminosity of distant stars\n",
      "\n",
      " to the enigmatic allure of black holes, space captivates the human imagination and drives us to explore its\n",
      "\n",
      " depths. Advances in technology have allowed us to send spacecraft beyond our solar system, revealing the complexity and\n",
      "\n",
      " diversity of otherworldly environments. Space also presents challenges, such as extreme temperatures, radiation, and\n",
      "\n",
      " microgravity, which require innovative solutions for exploration. As humanity continues to study and venture into space,\n",
      "\n",
      " we not only seek to understand more about the universe but also about our own existence and the delicate balance\n",
      "\n",
      " of life on Earth.\n",
      "\n",
      "## Metrics:\n",
      "{'cost_usd': 0.002545,\n",
      " 'input_tokens': 8,\n",
      " 'inter_token_latency_s': 0.01721555825435754,\n",
      " 'latency_s': 3.238922119140625,\n",
      " 'output_tokens': 167,\n",
      " 'time_to_first_token_s': 0.39784884452819824,\n",
      " 'tokens_per_second': 51.25161825256989,\n",
      " 'total_tokens': 175}\n"
     ]
    }
   ],
   "source": [
    "response = openai.chat(\"Write a paragfraph about space\", model=\"gpt-4o\", is_stream=True)\n",
    "for i, chunk in enumerate(response):\n",
    "    if i%20==0:\n",
    "        print(\"\\n\")\n",
    "    if not chunk.metrics:\n",
    "        print(chunk.chat_output_stream, end=\"\", flush=True)\n",
    "    else:\n",
    "        print(\"\\n\\n## Metrics:\")\n",
    "        pprint(chunk.metrics)\n"
   ]
  },
  {
   "cell_type": "markdown",
   "metadata": {},
   "source": [
    "### Chat Async (stream)"
   ]
  },
  {
   "cell_type": "code",
   "execution_count": 12,
   "metadata": {},
   "outputs": [
    {
     "name": "stdout",
     "output_type": "stream",
     "text": [
      "\n",
      "\n",
      "Space, the vast and seemingly infinite expanse that surrounds our planet, beckons with its mysteries\n",
      "\n",
      " and wonders. It is a realm where time and distance stretch beyond human comprehension, filled with spinning galaxies\n",
      "\n",
      ", brilliant stars, and planets waiting to be explored. From the breathtaking beauty of nebulae,\n",
      "\n",
      " where stars are born, to the eerie silence of the void, space captivates the imagination and challenges\n",
      "\n",
      " our understanding of the universe. Each discovery, whether it be a distant exoplanet or the swirling\n",
      "\n",
      " patterns of cosmic microwave radiation, deepens our appreciation for the complexity and fragility of existence. As\n",
      "\n",
      " technology propels us further into this celestial frontier, the quest to understand our place among the stars continues\n",
      "\n",
      " to inspire generations, forging connections across cultures and kindling a sense of wonder that is uniquely human.\n",
      "\n",
      "\n",
      "\n",
      "## Metrics:\n",
      "{'cost_usd': 9.72e-05,\n",
      " 'input_tokens': 8,\n",
      " 'inter_token_latency_s': 0.012189917266368866,\n",
      " 'latency_s': 2.531834840774536,\n",
      " 'output_tokens': 160,\n",
      " 'time_to_first_token_s': 0.5808053016662598,\n",
      " 'tokens_per_second': 63.5902458593022,\n",
      " 'total_tokens': 168}\n"
     ]
    }
   ],
   "source": [
    "i=0\n",
    "async for chunk in await openai.achat(\"Write a paragfraph about space\", model=\"gpt-4o-mini\", is_stream=True):\n",
    "    if i%20==0:\n",
    "        print(\"\\n\")\n",
    "    if not chunk.metrics:\n",
    "        print(chunk.chat_output_stream, end=\"\", flush=True)\n",
    "    else:\n",
    "        print(\"\\n\\n## Metrics:\")\n",
    "        pprint(chunk.metrics)\n",
    "    i+=1\n"
   ]
  },
  {
   "cell_type": "code",
   "execution_count": 13,
   "metadata": {},
   "outputs": [],
   "source": [
    "from llmstudio_tracker.tracker import Tracker\n",
    "\n",
    "tracker = Tracker(tracking_config=tracking)"
   ]
  },
  {
   "cell_type": "code",
   "execution_count": 15,
   "metadata": {},
   "outputs": [
    {
     "data": {
      "text/plain": [
       "{'chat_input': 'Write a paragfraph about space',\n",
       " 'chat_output': 'Space, the vast and seemingly infinite expanse that surrounds our planet, beckons with its mysteries and wonders. It is a realm where time and distance stretch beyond human comprehension, filled with spinning galaxies, brilliant stars, and planets waiting to be explored. From the breathtaking beauty of nebulae, where stars are born, to the eerie silence of the void, space captivates the imagination and challenges our understanding of the universe. Each discovery, whether it be a distant exoplanet or the swirling patterns of cosmic microwave radiation, deepens our appreciation for the complexity and fragility of existence. As technology propels us further into this celestial frontier, the quest to understand our place among the stars continues to inspire generations, forging connections across cultures and kindling a sense of wonder that is uniquely human.',\n",
       " 'session_id': 'openai-1',\n",
       " 'context': [{'role': 'user', 'content': 'Write a paragfraph about space'}],\n",
       " 'provider': 'openai',\n",
       " 'model': 'gpt-4o-mini',\n",
       " 'deployment': 'gpt-4o-mini-2024-07-18',\n",
       " 'parameters': {},\n",
       " 'metrics': {'input_tokens': 8,\n",
       "  'output_tokens': 160,\n",
       "  'total_tokens': 168,\n",
       "  'cost_usd': 9.72e-05,\n",
       "  'latency_s': 2.531834840774536,\n",
       "  'time_to_first_token_s': 0.5808053016662598,\n",
       "  'inter_token_latency_s': 0.012189917266368866,\n",
       "  'tokens_per_second': 63.5902458593022},\n",
       " 'log_id': 16,\n",
       " 'created_at': '2024-10-23T16:37:01'}"
      ]
     },
     "execution_count": 15,
     "metadata": {},
     "output_type": "execute_result"
    }
   ],
   "source": [
    "logs = tracker.get_session_logs(session_id=\"openai-1\")\n",
    "logs.json()[-1]"
   ]
  },
  {
   "cell_type": "code",
   "execution_count": null,
   "metadata": {},
   "outputs": [],
   "source": []
  }
 ],
 "metadata": {
  "kernelspec": {
   "display_name": "Python 3",
   "language": "python",
   "name": "python3"
  },
  "language_info": {
   "codemirror_mode": {
    "name": "ipython",
    "version": 3
   },
   "file_extension": ".py",
   "mimetype": "text/x-python",
   "name": "python",
   "nbconvert_exporter": "python",
   "pygments_lexer": "ipython3",
   "version": "3.12.2"
  }
 },
 "nbformat": 4,
 "nbformat_minor": 2
}
