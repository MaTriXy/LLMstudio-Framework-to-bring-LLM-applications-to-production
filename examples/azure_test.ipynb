{
 "cells": [
  {
   "cell_type": "code",
   "execution_count": 1,
   "metadata": {},
   "outputs": [],
   "source": [
    "from llmstudio import LLM"
   ]
  },
  {
   "cell_type": "code",
   "execution_count": 2,
   "metadata": {},
   "outputs": [
    {
     "name": "stderr",
     "output_type": "stream",
     "text": [
      "ERROR:    [Errno 48] error while attempting to bind on address ('::1', 51640, 0, 0): address already in use\n",
      "ERROR:    [Errno 48] error while attempting to bind on address ('127.0.0.1', 51639): address already in use\n"
     ]
    },
    {
     "name": "stdout",
     "output_type": "stream",
     "text": [
      "Running LLMstudio Engine on http://localhost:51639 Running LLMstudio Engine on http://localhost:51639 \n",
      "Running LLMstudio Tracking on http://localhost:51640 \n",
      "Running LLMstudio Tracking on http://localhost:51640 \n",
      "\n"
     ]
    }
   ],
   "source": [
    "llm = LLM('azure/gpt-4o')\n",
    "\n",
    "azure  = LLM(\"azure/gpt-35-turbo\", \n",
    "            api_key='8e9a0b0b05aa4761b25f4bff', \n",
    "            api_endpoint='https://bsdevazureaihu8113039739.openai.azure.com/openai/deployments/gpt-35-turbo/chat/completions?api-version=2023-03-15-preview',\n",
    "            api_version='2024-02-01')"
   ]
  },
  {
   "cell_type": "code",
   "execution_count": null,
   "metadata": {},
   "outputs": [],
   "source": []
  }
 ],
 "metadata": {
  "kernelspec": {
   "display_name": "llmstudiodev",
   "language": "python",
   "name": "python3"
  },
  "language_info": {
   "codemirror_mode": {
    "name": "ipython",
    "version": 3
   },
   "file_extension": ".py",
   "mimetype": "text/x-python",
   "name": "python",
   "nbconvert_exporter": "python",
   "pygments_lexer": "ipython3",
   "version": "3.11.9"
  }
 },
 "nbformat": 4,
 "nbformat_minor": 2
}
