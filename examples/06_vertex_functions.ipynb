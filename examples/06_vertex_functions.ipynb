{
 "cells": [
  {
   "cell_type": "markdown",
   "metadata": {},
   "source": [
    "# Vertex AI + Function Calling"
   ]
  },
  {
   "cell_type": "code",
   "execution_count": 1,
   "metadata": {},
   "outputs": [],
   "source": [
    "from llmstudio import LLM"
   ]
  },
  {
   "cell_type": "markdown",
   "metadata": {},
   "source": [
    "# 0. Setup Functions\n",
    "Set up your functions in the OpenAI format."
   ]
  },
  {
   "cell_type": "code",
   "execution_count": 2,
   "metadata": {},
   "outputs": [],
   "source": [
    "functions = [\n",
    "    {\n",
    "        \"name\": \"multiply\",\n",
    "        \"description\": \"Returns the product of two numbers.\",\n",
    "        \"parameters\": {\n",
    "            \"type\": \"object\",\n",
    "            \"properties\": {\n",
    "                \"a\": {\n",
    "                    \"type\": \"number\",\n",
    "                    \"description\": \"The first number.\"\n",
    "                },\n",
    "                \"b\": {\n",
    "                    \"type\": \"number\",\n",
    "                    \"description\": \"The second number.\"\n",
    "                }\n",
    "            },\n",
    "            \"required\": [\"a\", \"b\"]\n",
    "        }\n",
    "    },\n",
    "]"
   ]
  },
  {
   "cell_type": "markdown",
   "metadata": {},
   "source": [
    "# 1. Chat example"
   ]
  },
  {
   "cell_type": "code",
   "execution_count": 3,
   "metadata": {},
   "outputs": [
    {
     "name": "stdout",
     "output_type": "stream",
     "text": [
      "Running LLMstudio Engine on http://localhost:51714 Running LLMstudio Tracking on http://localhost:51715 \n",
      "\n"
     ]
    }
   ],
   "source": [
    "llm = LLM('vertexai/gemini-1.5-flash')"
   ]
  },
  {
   "cell_type": "markdown",
   "metadata": {},
   "source": [
    "### 1.1 Simple message"
   ]
  },
  {
   "cell_type": "code",
   "execution_count": 4,
   "metadata": {},
   "outputs": [
    {
     "data": {
      "text/plain": [
       "ChatCompletion(id='c725da11-9f4e-439e-b458-edc5189024bb', choices=[Choice(finish_reason='function_call', index=0, logprobs=None, message=ChatCompletionMessage(content=None, role='assistant', function_call=FunctionCall(arguments='{\"a\":9,\"b\":10}', name='multiply'), tool_calls=None))], created=1722940814, model='gemini-1.5-flash', object='chat.completion', system_fingerprint=None, usage=None, session_id=None, chat_input='What is 9 times 10?', chat_output='{\"a\":9,\"b\":10}', context=[{'role': 'user', 'content': 'What is 9 times 10?'}], provider='vertexai', deployment='gemini-1.5-flash', timestamp=1722940814.160324, parameters={'top_p': None, 'top_k': None, 'temperature': None, 'max_output_tokens': None, 'frequency_penalty': None, 'presence_penalty': None}, metrics={'input_tokens': 8, 'output_tokens': 9, 'total_tokens': 17, 'cost_usd': 1.225e-05, 'latency_s': 1.4152357578277588, 'time_to_first_token_s': 1.4118309020996094, 'inter_token_latency_s': 2.849102020263672e-05, 'tokens_per_second': 2.1197881578435323})"
      ]
     },
     "execution_count": 4,
     "metadata": {},
     "output_type": "execute_result"
    }
   ],
   "source": [
    "llm.chat('What is 9 times 10?', functions = functions)"
   ]
  },
  {
   "cell_type": "markdown",
   "metadata": {},
   "source": [
    "### 1.2 OpenAI message format"
   ]
  },
  {
   "cell_type": "code",
   "execution_count": 5,
   "metadata": {},
   "outputs": [
    {
     "data": {
      "text/plain": [
       "ChatCompletion(id='995b4241-1899-4c63-bb1e-66bb8da244dc', choices=[Choice(finish_reason='stop', index=0, logprobs=None, message=ChatCompletionMessage(content=\"Okay, I understand. I'm here to help you! What can I do for you today? \\n\", role='assistant', function_call=None, tool_calls=None))], created=1722940817, model='gemini-1.5-flash', object='chat.completion', system_fingerprint=None, usage=None, session_id=None, chat_input='What is 9 times 10?', chat_output=\"Okay, I understand. I'm here to help you! What can I do for you today? \\n\", context=[{'role': 'system', 'content': 'You are a helpful Assistant'}, {'role': 'user', 'content': 'What is 9 times 10?'}], provider='vertexai', deployment='gemini-1.5-flash', timestamp=1722940817.814519, parameters={'top_p': None, 'top_k': None, 'temperature': None, 'max_output_tokens': None, 'frequency_penalty': None, 'presence_penalty': None}, metrics={'input_tokens': 13, 'output_tokens': 21, 'total_tokens': 34, 'cost_usd': 2.6599999999999996e-05, 'latency_s': 1.3859119415283203, 'time_to_first_token_s': 1.3079159259796143, 'inter_token_latency_s': 0.015586185455322265, 'tokens_per_second': 4.329279386526878})"
      ]
     },
     "execution_count": 5,
     "metadata": {},
     "output_type": "execute_result"
    }
   ],
   "source": [
    "llm.chat(\n",
    "    input=[\n",
    "        {\"role\": \"system\", \"content\": \"You are a helpful Assistant\"},\n",
    "        {\"role\": \"user\", \"content\": \"What is 9 times 10?\"}\n",
    "    ],\n",
    "    functions=functions\n",
    ")"
   ]
  }
 ],
 "metadata": {
  "kernelspec": {
   "display_name": "llmstudiodev",
   "language": "python",
   "name": "python3"
  },
  "language_info": {
   "codemirror_mode": {
    "name": "ipython",
    "version": 3
   },
   "file_extension": ".py",
   "mimetype": "text/x-python",
   "name": "python",
   "nbconvert_exporter": "python",
   "pygments_lexer": "ipython3",
   "version": "3.11.9"
  }
 },
 "nbformat": 4,
 "nbformat_minor": 2
}
