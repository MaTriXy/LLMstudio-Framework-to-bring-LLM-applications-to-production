{
 "cells": [
  {
   "cell_type": "markdown",
   "metadata": {},
   "source": [
    "### Imports"
   ]
  },
  {
   "cell_type": "code",
   "execution_count": 2,
   "metadata": {},
   "outputs": [],
   "source": [
    "from llmstudio import LLM\n",
    "from pydantic import BaseModel"
   ]
  },
  {
   "cell_type": "markdown",
   "metadata": {},
   "source": [
    "### Setup Models"
   ]
  },
  {
   "cell_type": "code",
   "execution_count": 2,
   "metadata": {},
   "outputs": [
    {
     "name": "stdout",
     "output_type": "stream",
     "text": [
      "Running LLMstudio Tracking on http://localhost:50002 Running LLMstudio Engine on http://localhost:50001 \n",
      "\n"
     ]
    }
   ],
   "source": [
    "gpt3 = LLM(\"openai/gpt-3.5-turbo\")"
   ]
  },
  {
   "cell_type": "code",
   "execution_count": 3,
   "metadata": {},
   "outputs": [],
   "source": [
    "flash = LLM(\"vertexai/gemini-1.5-flash\")"
   ]
  },
  {
   "cell_type": "markdown",
   "metadata": {},
   "source": [
    "### Usage Example"
   ]
  },
  {
   "cell_type": "code",
   "execution_count": 8,
   "metadata": {},
   "outputs": [
    {
     "name": "stdout",
     "output_type": "stream",
     "text": [
      "{\n",
      "  \"name\": \"Diogo\",\n",
      "  \"age\": 24\n",
      "}\n"
     ]
    }
   ],
   "source": [
    "gpt_response = gpt3.chat('Reply with this in the JSON format: Diogo is 24 years old')\n",
    "print(gpt_response.chat_output)"
   ]
  },
  {
   "cell_type": "code",
   "execution_count": 9,
   "metadata": {},
   "outputs": [
    {
     "name": "stdout",
     "output_type": "stream",
     "text": [
      "```json\n",
      "{\n",
      "  \"age\": 24,\n",
      "  \"name\": \"Diogo\"\n",
      "}\n",
      "```\n"
     ]
    }
   ],
   "source": [
    "flash_response = flash.chat('Reply with this in the JSON format: Diogo is 24 years old')\n",
    "print(flash_response.chat_output)"
   ]
  },
  {
   "cell_type": "code",
   "execution_count": 11,
   "metadata": {},
   "outputs": [
    {
     "name": "stdout",
     "output_type": "stream",
     "text": [
      "Parsed GPT-3 Response: name='Diogo' age=24\n",
      "Parsed Flash Response: name='Diogo' age=24\n"
     ]
    }
   ],
   "source": [
    "parser = Parser()\n",
    "\n",
    "class User(BaseModel):\n",
    "    name: str\n",
    "    age: int\n",
    "\n",
    "response_model = User\n",
    "\n",
    "gpt_reponse_parsed = parser.parse_response(gpt_response.chat_output, User)\n",
    "flash_response_parsed = parser.parse_response(flash_response.chat_output, User)\n",
    "\n",
    "print(\"Parsed GPT-3 Response:\", gpt_reponse_parsed)\n",
    "print(\"Parsed Flash Response:\", flash_response_parsed)\n"
   ]
  },
  {
   "cell_type": "markdown",
   "metadata": {},
   "source": [
    "---"
   ]
  },
  {
   "cell_type": "code",
   "execution_count": 9,
   "metadata": {},
   "outputs": [
    {
     "data": {
      "text/plain": [
       "'{\\n'"
      ]
     },
     "execution_count": 9,
     "metadata": {},
     "output_type": "execute_result"
    }
   ],
   "source": [
    "# Example of an OpenAI ChatCompletion request with stream=True\n",
    "# https://platform.openai.com/docs/api-reference/streaming#chat/create-stream\n",
    "\n",
    "import time  # for measuring time duration of API calls\n",
    "from openai import OpenAI\n",
    "import os\n",
    "client = OpenAI(api_key='sk-proj-xwhfDy5MnvgWOcwmsZgfT3BlbkFJTIYrdGu8aIsP48dQWEUV')\n",
    "\n",
    "# a ChatCompletion request\n",
    "response = client.chat.completions.create(\n",
    "    model='gpt-3.5-turbo',\n",
    "    messages=[\n",
    "        {'role': 'user', 'content': \"What's 1+1? Is it possible to answer this in the json format?\"}\n",
    "    ],\n",
    "    temperature=0,\n",
    "    stream=False,  # this time, we set stream=True\n",
    "    response_format= { \"type\": \"json_object\" },\n",
    "    max_tokens = 1\n",
    ")\n",
    "\n",
    "response.choices[0].message.content\n",
    "\n",
    "# for chunk in response:\n",
    "#     print(chunk)\n",
    "#     print(chunk.choices[0].delta.content)\n",
    "#     print(\"****************\")"
   ]
  },
  {
   "cell_type": "code",
   "execution_count": 29,
   "metadata": {},
   "outputs": [],
   "source": [
    "r = gpt3.chat(\"What's 1+1? Is it possible to answer this in the json format?\", response_format= { \"type\": \"json_object\" })"
   ]
  },
  {
   "cell_type": "code",
   "execution_count": 30,
   "metadata": {},
   "outputs": [
    {
     "data": {
      "text/plain": [
       "'Yes, it is possible to represent the answer to 1+1 in JSON format. Here is an example:\\n\\n{\\n  \"1+1\": 2\\n}'"
      ]
     },
     "execution_count": 30,
     "metadata": {},
     "output_type": "execute_result"
    }
   ],
   "source": [
    "r.chat_output"
   ]
  },
  {
   "cell_type": "code",
   "execution_count": 5,
   "metadata": {},
   "outputs": [
    {
     "name": "stdout",
     "output_type": "stream",
     "text": [
      "Running LLMstudio Engine on http://localhost:50001 Running LLMstudio Tracking on http://localhost:50002 \n",
      "\n"
     ]
    }
   ],
   "source": [
    "azure =  LLM('azure/gpt-35-turbo')"
   ]
  },
  {
   "cell_type": "code",
   "execution_count": 6,
   "metadata": {},
   "outputs": [],
   "source": [
    "r = azure.chat('Hello', max_tokens = 1)"
   ]
  },
  {
   "cell_type": "code",
   "execution_count": 7,
   "metadata": {},
   "outputs": [
    {
     "data": {
      "text/plain": [
       "'Hi! How can I assist you today?'"
      ]
     },
     "execution_count": 7,
     "metadata": {},
     "output_type": "execute_result"
    }
   ],
   "source": [
    "r.chat_output"
   ]
  },
  {
   "cell_type": "code",
   "execution_count": null,
   "metadata": {},
   "outputs": [],
   "source": []
  }
 ],
 "metadata": {
  "kernelspec": {
   "display_name": "llmstudiodev",
   "language": "python",
   "name": "python3"
  },
  "language_info": {
   "codemirror_mode": {
    "name": "ipython",
    "version": 3
   },
   "file_extension": ".py",
   "mimetype": "text/x-python",
   "name": "python",
   "nbconvert_exporter": "python",
   "pygments_lexer": "ipython3",
   "version": "3.11.9"
  }
 },
 "nbformat": 4,
 "nbformat_minor": 2
}
