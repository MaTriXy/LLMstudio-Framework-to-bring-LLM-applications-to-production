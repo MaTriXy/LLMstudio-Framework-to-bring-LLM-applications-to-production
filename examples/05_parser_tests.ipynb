{
 "cells": [
  {
   "cell_type": "code",
   "execution_count": 21,
   "metadata": {},
   "outputs": [],
   "source": [
    "from llmstudio import LLM"
   ]
  },
  {
   "cell_type": "code",
   "execution_count": 22,
   "metadata": {},
   "outputs": [],
   "source": [
    "gpt3 = LLM(\"openai/gpt-3.5-turbo\")"
   ]
  },
  {
   "cell_type": "code",
   "execution_count": 23,
   "metadata": {},
   "outputs": [],
   "source": [
    "res = gpt3.chat('Reply with this in the JSON format: Diogo is 24 years old')"
   ]
  },
  {
   "cell_type": "code",
   "execution_count": 24,
   "metadata": {},
   "outputs": [
    {
     "data": {
      "text/plain": [
       "'{\\n  \"name\": \"Diogo\",\\n  \"age\": 24\\n}'"
      ]
     },
     "execution_count": 24,
     "metadata": {},
     "output_type": "execute_result"
    }
   ],
   "source": [
    "res.chat_output"
   ]
  },
  {
   "cell_type": "code",
   "execution_count": 49,
   "metadata": {},
   "outputs": [
    {
     "name": "stdout",
     "output_type": "stream",
     "text": [
      "{\"123123123\"}\n",
      "Expecting ':' delimiter: line 1 column 13 (char 12)\n"
     ]
    }
   ],
   "source": [
    "from pydantic import BaseModel, ValidationError\n",
    "import json\n",
    "\n",
    "example1 = 'dewi13123112odn asdoijaoifg  asfaffaff  ff, {\"123123123\"}, jsjsdioo  a a a  asfd a f'\n",
    "example2 = '{\"name\":\"Diogo\", \"age\":\"aaa\"}'\n",
    "\n",
    "class User(BaseModel):\n",
    "    name: str\n",
    "    age: int\n",
    "\n",
    "def parse_response(json_str: str, model: BaseModel):\n",
    "    try:\n",
    "        # Trim the string to start at the first curly bracket and end at the last curly bracket\n",
    "        start_index = json_str.find('{')\n",
    "        end_index = json_str.rfind('}')\n",
    "        trimmed_str = json_str[start_index:end_index+1]\n",
    "        if start_index == -1 or end_index == -1:\n",
    "            raise ValueError(\"Failed to find JSON in the response.\")\n",
    "        parsed_response = model.model_validate(json.loads(trimmed_str))\n",
    "        return parsed_response\n",
    "    except JSONDecodeError as e:\n",
    "        print(f\"Failed to decode JSON string: {e}. JSON string: {trimmed_str}\")\n",
    "        return e\n",
    "    # except ValueError as e:\n",
    "    #     return e\n",
    "    except Exception as e:\n",
    "        return e\n",
    "\n",
    "# Example usage\n",
    "# json_str = res.chat_output\n",
    "json_str = example1\n",
    "user = parse_response(json_str, User)\n",
    "print(user)"
   ]
  },
  {
   "cell_type": "code",
   "execution_count": 47,
   "metadata": {},
   "outputs": [
    {
     "data": {
      "text/plain": [
       "\"1 validation error for User\\nage\\n  Input should be a valid integer, unable to parse string as an integer [type=int_parsing, input_value='aaa', input_type=str]\\n    For further information visit https://errors.pydantic.dev/2.7/v/int_parsing\""
      ]
     },
     "execution_count": 47,
     "metadata": {},
     "output_type": "execute_result"
    }
   ],
   "source": [
    "str(user)"
   ]
  },
  {
   "cell_type": "code",
   "execution_count": 33,
   "metadata": {},
   "outputs": [
    {
     "ename": "TypeError",
     "evalue": "JSONDecodeError.__init__() missing 2 required positional arguments: 'doc' and 'pos'",
     "output_type": "error",
     "traceback": [
      "\u001b[0;31m---------------------------------------------------------------------------\u001b[0m",
      "\u001b[0;31mTypeError\u001b[0m                                 Traceback (most recent call last)",
      "Cell \u001b[0;32mIn[33], line 1\u001b[0m\n\u001b[0;32m----> 1\u001b[0m \u001b[43mjson\u001b[49m\u001b[38;5;241;43m.\u001b[39;49m\u001b[43mJSONDecodeError\u001b[49m\u001b[43m(\u001b[49m\u001b[38;5;124;43m'\u001b[39;49m\u001b[38;5;124;43mOla\u001b[39;49m\u001b[38;5;124;43m'\u001b[39;49m\u001b[43m)\u001b[49m\n",
      "\u001b[0;31mTypeError\u001b[0m: JSONDecodeError.__init__() missing 2 required positional arguments: 'doc' and 'pos'"
     ]
    }
   ],
   "source": []
  },
  {
   "cell_type": "code",
   "execution_count": null,
   "metadata": {},
   "outputs": [],
   "source": []
  }
 ],
 "metadata": {
  "kernelspec": {
   "display_name": "llmstudiodev",
   "language": "python",
   "name": "python3"
  },
  "language_info": {
   "codemirror_mode": {
    "name": "ipython",
    "version": 3
   },
   "file_extension": ".py",
   "mimetype": "text/x-python",
   "name": "python",
   "nbconvert_exporter": "python",
   "pygments_lexer": "ipython3",
   "version": "3.11.9"
  }
 },
 "nbformat": 4,
 "nbformat_minor": 2
}
