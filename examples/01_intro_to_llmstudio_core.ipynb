{
 "cells": [
  {
   "cell_type": "markdown",
   "metadata": {},
   "source": [
    "# Intro to LLMstudio\n"
   ]
  },
  {
   "cell_type": "markdown",
   "metadata": {},
   "source": [
    "### Import clients\n"
   ]
  },
  {
   "cell_type": "code",
   "execution_count": 1,
   "metadata": {},
   "outputs": [],
   "source": [
    "from pprint import pprint\n",
    "import os\n"
   ]
  },
  {
   "cell_type": "markdown",
   "metadata": {},
   "source": [
    "# OpenAI"
   ]
  },
  {
   "cell_type": "code",
   "execution_count": 2,
   "metadata": {},
   "outputs": [],
   "source": [
    "# You can set OPENAI_API_KEY environment variable, add it to .env, or pass directly as api_key\n",
    "from llmstudio_core.providers import LLMCore as LLM\n",
    "openai = LLM(\"openai\", api_key=os.environ[\"OPENAI_API_KEY\"])\n"
   ]
  },
  {
   "cell_type": "markdown",
   "metadata": {},
   "source": [
    "### Chat (non-stream)"
   ]
  },
  {
   "cell_type": "code",
   "execution_count": 3,
   "metadata": {},
   "outputs": [
    {
     "name": "stdout",
     "output_type": "stream",
     "text": [
      "ChatCompletion(id='ffdc857c-c948-441a-a7cf-c227a665f450', choices=[Choice(finish_reason='stop', index=0, logprobs=None, message=ChatCompletionMessage(content='I’m an AI developed by OpenAI, and I don’t have a personal name. You can call me Assistant if you’d like!', refusal=None, role='assistant', audio=None, function_call=None, tool_calls=None))], created=1729765776, model='gpt-4o', object='chat.completion', service_tier=None, system_fingerprint=None, usage=None, chat_input=\"What's your name\", chat_output='I’m an AI developed by OpenAI, and I don’t have a personal name. You can call me Assistant if you’d like!', chat_output_stream='', context=[{'role': 'user', 'content': \"What's your name\"}], provider='openai', deployment='gpt-4o-2024-08-06', timestamp=1729765777.077895, parameters={}, metrics={'input_tokens': 4, 'output_tokens': 28, 'total_tokens': 32, 'cost_usd': 0.00044, 'latency_s': 0.830726146697998, 'time_to_first_token_s': 0.47889208793640137, 'inter_token_latency_s': 0.01167348335529196, 'tokens_per_second': 36.112983946930214})\n",
      "I’m an AI developed by OpenAI, and I don’t have a personal name. You can call me Assistant if you’d like!\n",
      "{'cost_usd': 0.00044,\n",
      " 'input_tokens': 4,\n",
      " 'inter_token_latency_s': 0.01167348335529196,\n",
      " 'latency_s': 0.830726146697998,\n",
      " 'output_tokens': 28,\n",
      " 'time_to_first_token_s': 0.47889208793640137,\n",
      " 'tokens_per_second': 36.112983946930214,\n",
      " 'total_tokens': 32}\n"
     ]
    }
   ],
   "source": [
    "response = openai.chat(\"What's your name\", model=\"gpt-4o\")\n",
    "print(response)\n",
    "print(response.chat_output)\n",
    "pprint(response.metrics)"
   ]
  },
  {
   "cell_type": "markdown",
   "metadata": {},
   "source": [
    "#### Async version"
   ]
  },
  {
   "cell_type": "code",
   "execution_count": 4,
   "metadata": {},
   "outputs": [
    {
     "name": "stdout",
     "output_type": "stream",
     "text": [
      "ChatCompletion(id='7fb74fb7-8400-4433-b762-0ae5e1ff1254', choices=[Choice(finish_reason='stop', index=0, logprobs=None, message=ChatCompletionMessage(content=\"I don't have a specific name, but you can call me Assistant. How can I help you today?\", refusal=None, role='assistant', audio=None, function_call=None, tool_calls=None))], created=1729765778, model='gpt-4o', object='chat.completion', service_tier=None, system_fingerprint=None, usage=None, chat_input=\"What's your name\", chat_output=\"I don't have a specific name, but you can call me Assistant. How can I help you today?\", chat_output_stream='', context=[{'role': 'user', 'content': \"What's your name\"}], provider='openai', deployment='gpt-4o-2024-08-06', timestamp=1729765779.0472791, parameters={}, metrics={'input_tokens': 4, 'output_tokens': 22, 'total_tokens': 26, 'cost_usd': 0.00035, 'latency_s': 0.6523411273956299, 'time_to_first_token_s': 0.3903770446777344, 'inter_token_latency_s': 0.011887236074967817, 'tokens_per_second': 35.25762677546319})\n",
      "I don't have a specific name, but you can call me Assistant. How can I help you today?\n",
      "{'cost_usd': 0.00035,\n",
      " 'input_tokens': 4,\n",
      " 'inter_token_latency_s': 0.011887236074967817,\n",
      " 'latency_s': 0.6523411273956299,\n",
      " 'output_tokens': 22,\n",
      " 'time_to_first_token_s': 0.3903770446777344,\n",
      " 'tokens_per_second': 35.25762677546319,\n",
      " 'total_tokens': 26}\n"
     ]
    }
   ],
   "source": [
    "response = await openai.achat(\"What's your name\", model=\"gpt-4o\")\n",
    "print(response)\n",
    "print(response.chat_output)\n",
    "pprint(response.metrics)"
   ]
  },
  {
   "cell_type": "markdown",
   "metadata": {},
   "source": [
    "### Chat (stream)"
   ]
  },
  {
   "cell_type": "code",
   "execution_count": 5,
   "metadata": {},
   "outputs": [
    {
     "name": "stdout",
     "output_type": "stream",
     "text": [
      "\n",
      "\n",
      "Space, the vast and enigmatic expanse that stretches beyond Earth's atmosphere, has long been a source\n",
      "\n",
      " of wonder and curiosity for humankind. It is an arena of infinite possibilities, where galaxies swirl with\n",
      "\n",
      " billions of stars and cosmic phenomena like black holes and nebulae challenge our understanding of physics. The\n",
      "\n",
      " exploration of space has advanced significantly since the mid-20th century, with humanity witnessing monumental achievements such\n",
      "\n",
      " as the moon landing and the deployment of telescopes that capture the universe's mysteries in unprecedented detail.\n",
      "\n",
      " Despite its silent and inhospitable nature, space inspires quests for knowledge and drives technological innovation, as\n",
      "\n",
      " scientists and explorers endeavor to comprehend our place within this boundless frontier. As we set our sights on\n",
      "\n",
      " Mars and beyond, the allure of space continues to fuel ambitions for discovery and the eternal hope of uncover\n",
      "\n",
      "ing the secrets of our cosmic neighborhood.\n",
      "\n",
      "## Metrics:\n",
      "{'cost_usd': 0.002575,\n",
      " 'input_tokens': 5,\n",
      " 'inter_token_latency_s': 0.016976468619846162,\n",
      " 'latency_s': 3.2044668197631836,\n",
      " 'output_tokens': 170,\n",
      " 'time_to_first_token_s': 0.35192394256591797,\n",
      " 'tokens_per_second': 52.73888278627564,\n",
      " 'total_tokens': 175}\n"
     ]
    }
   ],
   "source": [
    "response = openai.chat(\"Write a paragraph about space\", model=\"gpt-4o\", is_stream=True)\n",
    "for i, chunk in enumerate(response):\n",
    "    if i%20==0:\n",
    "        print(\"\\n\")\n",
    "    if chunk.chat_output_stream:\n",
    "        print(chunk.chat_output_stream, end=\"\", flush=True)\n",
    "    elif chunk.metrics:\n",
    "        print(\"\\n\\n## Metrics:\")\n",
    "        pprint(chunk.metrics)\n",
    "    i+=1"
   ]
  },
  {
   "cell_type": "markdown",
   "metadata": {},
   "source": [
    "#### Async version"
   ]
  },
  {
   "cell_type": "code",
   "execution_count": 6,
   "metadata": {},
   "outputs": [
    {
     "name": "stdout",
     "output_type": "stream",
     "text": [
      "\n",
      "\n",
      "Hi there! How can I assist you today?\n",
      "\n",
      "## Metrics:\n",
      "{'cost_usd': 6.45e-06,\n",
      " 'input_tokens': 3,\n",
      " 'inter_token_latency_s': 0.014686085961081764,\n",
      " 'latency_s': 0.6192328929901123,\n",
      " 'output_tokens': 10,\n",
      " 'time_to_first_token_s': 0.4572429656982422,\n",
      " 'tokens_per_second': 19.37881552456809,\n",
      " 'total_tokens': 13}\n"
     ]
    }
   ],
   "source": [
    "i=0\n",
    "async for chunk in await openai.achat(\"Say hi back\", model=\"gpt-4o-mini\", is_stream=True):\n",
    "    if i%20==0:\n",
    "        print(\"\\n\")\n",
    "    if chunk.chat_output_stream:\n",
    "        print(chunk.chat_output_stream, end=\"\", flush=True)\n",
    "    elif chunk.metrics:\n",
    "        print(\"\\n\\n## Metrics:\")\n",
    "        pprint(chunk.metrics)\n",
    "    i+=1"
   ]
  },
  {
   "cell_type": "markdown",
   "metadata": {},
   "source": [
    "# AzureOpenAI"
   ]
  },
  {
   "cell_type": "code",
   "execution_count": 7,
   "metadata": {},
   "outputs": [],
   "source": [
    "llm = LLM(provider=\"azure\", \n",
    "          api_key=os.environ[\"AZURE_API_KEY\"], \n",
    "          api_version=os.environ[\"AZURE_API_VERSION\"],\n",
    "          api_endpoint=os.environ[\"AZURE_API_ENDPOINT\"])"
   ]
  },
  {
   "cell_type": "code",
   "execution_count": 8,
   "metadata": {},
   "outputs": [
    {
     "name": "stdout",
     "output_type": "stream",
     "text": [
      "ChatCompletion(id='ed6bc83c-7ca0-4785-ba9a-b5fe6664a371', choices=[Choice(finish_reason='stop', index=0, logprobs=None, message=ChatCompletionMessage(content=\"I don't have a personal name, but you can call me Assistant. How can I help you today?\", refusal=None, role='assistant', audio=None, function_call=None, tool_calls=None))], created=1729765787, model='gpt-4o', object='chat.completion', service_tier=None, system_fingerprint=None, usage=None, chat_input=\"What's your name\", chat_output=\"I don't have a personal name, but you can call me Assistant. How can I help you today?\", chat_output_stream='', context=[{'role': 'user', 'content': \"What's your name\"}], provider='azure', deployment='gpt-4o-2024-05-13', timestamp=1729765788.395186, parameters={}, metrics={'input_tokens': 4, 'output_tokens': 22, 'total_tokens': 26, 'cost_usd': 0.00035, 'latency_s': 1.1005051136016846, 'time_to_first_token_s': 0.7524542808532715, 'inter_token_latency_s': 0.010235721414739435, 'tokens_per_second': 20.899493983018957})\n",
      "I don't have a personal name, but you can call me Assistant. How can I help you today?\n",
      "{'cost_usd': 0.00035,\n",
      " 'input_tokens': 4,\n",
      " 'inter_token_latency_s': 0.010235721414739435,\n",
      " 'latency_s': 1.1005051136016846,\n",
      " 'output_tokens': 22,\n",
      " 'time_to_first_token_s': 0.7524542808532715,\n",
      " 'tokens_per_second': 20.899493983018957,\n",
      " 'total_tokens': 26}\n"
     ]
    }
   ],
   "source": [
    "response = llm.chat(\"What's your name\", model=\"gpt-4o\")\n",
    "print(response)\n",
    "print(response.chat_output)\n",
    "pprint(response.metrics)"
   ]
  },
  {
   "cell_type": "code",
   "execution_count": 9,
   "metadata": {},
   "outputs": [
    {
     "name": "stdout",
     "output_type": "stream",
     "text": [
      "ChatCompletion(id='49b15b9e-b414-4bc9-a44f-5e17a1aef79f', choices=[Choice(finish_reason='stop', index=0, logprobs=None, message=ChatCompletionMessage(content=\"I don't have a name, but you can call me Assistant. How can I help you today?\", refusal=None, role='assistant', audio=None, function_call=None, tool_calls=None))], created=1729765790, model='gpt-4o', object='chat.completion', service_tier=None, system_fingerprint=None, usage=None, chat_input=\"What's your name\", chat_output=\"I don't have a name, but you can call me Assistant. How can I help you today?\", chat_output_stream='', context=[{'role': 'user', 'content': \"What's your name\"}], provider='azure', deployment='gpt-4o-2024-05-13', timestamp=1729765791.1584709, parameters={}, metrics={'input_tokens': 4, 'output_tokens': 21, 'total_tokens': 25, 'cost_usd': 0.000335, 'latency_s': 0.6411879062652588, 'time_to_first_token_s': 0.2564990520477295, 'inter_token_latency_s': 0.012583096822102865, 'tokens_per_second': 34.311314647439126})\n",
      "I don't have a name, but you can call me Assistant. How can I help you today?\n",
      "{'cost_usd': 0.000335,\n",
      " 'input_tokens': 4,\n",
      " 'inter_token_latency_s': 0.012583096822102865,\n",
      " 'latency_s': 0.6411879062652588,\n",
      " 'output_tokens': 21,\n",
      " 'time_to_first_token_s': 0.2564990520477295,\n",
      " 'tokens_per_second': 34.311314647439126,\n",
      " 'total_tokens': 25}\n"
     ]
    }
   ],
   "source": [
    "response = await llm.achat(\"What's your name\", model=\"gpt-4o\")\n",
    "print(response)\n",
    "print(response.chat_output)\n",
    "pprint(response.metrics)"
   ]
  },
  {
   "cell_type": "code",
   "execution_count": null,
   "metadata": {},
   "outputs": [],
   "source": []
  }
 ],
 "metadata": {
  "kernelspec": {
   "display_name": "Python 3",
   "language": "python",
   "name": "python3"
  },
  "language_info": {
   "codemirror_mode": {
    "name": "ipython",
    "version": 3
   },
   "file_extension": ".py",
   "mimetype": "text/x-python",
   "name": "python",
   "nbconvert_exporter": "python",
   "pygments_lexer": "ipython3",
   "version": "3.12.2"
  }
 },
 "nbformat": 4,
 "nbformat_minor": 2
}
