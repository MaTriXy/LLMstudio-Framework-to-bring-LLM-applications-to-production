{
 "cells": [
  {
   "cell_type": "markdown",
   "metadata": {},
   "source": [
    "# Intro to LLMstudio\n"
   ]
  },
  {
   "cell_type": "markdown",
   "metadata": {},
   "source": [
    "### Import clients\n"
   ]
  },
  {
   "cell_type": "code",
   "execution_count": 3,
   "metadata": {},
   "outputs": [],
   "source": [
    "from pprint import pprint\n",
    "import os\n"
   ]
  },
  {
   "cell_type": "markdown",
   "metadata": {},
   "source": [
    "# OpenAI"
   ]
  },
  {
   "cell_type": "code",
   "execution_count": 4,
   "metadata": {},
   "outputs": [],
   "source": [
    "# You can set OPENAI_API_KEY environment variable, add it to .env, or pass directly as api_key\n",
    "from llmstudio_core.providers import LLMCore as LLM\n",
    "openai = LLM(\"openai\", api_key=os.environ[\"OPENAI_API_KEY\"])\n"
   ]
  },
  {
   "cell_type": "markdown",
   "metadata": {},
   "source": [
    "### Chat (non-stream)"
   ]
  },
  {
   "cell_type": "code",
   "execution_count": 5,
   "metadata": {},
   "outputs": [
    {
     "name": "stdout",
     "output_type": "stream",
     "text": [
      "ChatCompletion(id='4a7c1c0d-38d8-4513-b12c-724c2858ab42', choices=[Choice(finish_reason='stop', index=0, logprobs=None, message=ChatCompletionMessage(content='I’m an AI language model created by OpenAI, and I don’t have a personal name. You can call me whatever you like! How can I assist you today?', refusal=None, role='assistant', audio=None, function_call=None, tool_calls=None))], created=1729705384, model='gpt-4o', object='chat.completion', service_tier=None, system_fingerprint=None, usage=None, chat_input=\"What's your name\", chat_output='I’m an AI language model created by OpenAI, and I don’t have a personal name. You can call me whatever you like! How can I assist you today?', chat_output_stream='', context=[{'role': 'user', 'content': \"What's your name\"}], provider='openai', deployment='gpt-4o-2024-08-06', timestamp=1729705384.7517939, parameters={}, metrics={'input_tokens': 4, 'output_tokens': 35, 'total_tokens': 39, 'cost_usd': 0.000545, 'latency_s': 0.9881701469421387, 'time_to_first_token_s': 0.6184442043304443, 'inter_token_latency_s': 0.009907748964097764, 'tokens_per_second': 37.44294453186562})\n",
      "I’m an AI language model created by OpenAI, and I don’t have a personal name. You can call me whatever you like! How can I assist you today?\n",
      "{'cost_usd': 0.000545,\n",
      " 'input_tokens': 4,\n",
      " 'inter_token_latency_s': 0.009907748964097764,\n",
      " 'latency_s': 0.9881701469421387,\n",
      " 'output_tokens': 35,\n",
      " 'time_to_first_token_s': 0.6184442043304443,\n",
      " 'tokens_per_second': 37.44294453186562,\n",
      " 'total_tokens': 39}\n"
     ]
    }
   ],
   "source": [
    "response = openai.chat(\"What's your name\", model=\"gpt-4o\")\n",
    "print(response)\n",
    "print(response.chat_output)\n",
    "pprint(response.metrics)"
   ]
  },
  {
   "cell_type": "markdown",
   "metadata": {},
   "source": [
    "#### Async version"
   ]
  },
  {
   "cell_type": "code",
   "execution_count": 6,
   "metadata": {},
   "outputs": [
    {
     "name": "stdout",
     "output_type": "stream",
     "text": [
      "ChatCompletion(id='ef1f28e5-520f-4350-bd63-f9c9dfed8d5d', choices=[Choice(finish_reason='stop', index=0, logprobs=None, message=ChatCompletionMessage(content='I’m called Assistant. How can I help you today?', refusal=None, role='assistant', audio=None, function_call=None, tool_calls=None))], created=1729705386, model='gpt-4o', object='chat.completion', service_tier=None, system_fingerprint=None, usage=None, chat_input=\"What's your name\", chat_output='I’m called Assistant. How can I help you today?', chat_output_stream='', context=[{'role': 'user', 'content': \"What's your name\"}], provider='openai', deployment='gpt-4o-2024-08-06', timestamp=1729705386.6237628, parameters={}, metrics={'input_tokens': 4, 'output_tokens': 12, 'total_tokens': 16, 'cost_usd': 0.0002, 'latency_s': 0.5172779560089111, 'time_to_first_token_s': 0.5127108097076416, 'inter_token_latency_s': 0.0002956940577580379, 'tokens_per_second': 27.064752784011585})\n",
      "I’m called Assistant. How can I help you today?\n",
      "{'cost_usd': 0.0002,\n",
      " 'input_tokens': 4,\n",
      " 'inter_token_latency_s': 0.0002956940577580379,\n",
      " 'latency_s': 0.5172779560089111,\n",
      " 'output_tokens': 12,\n",
      " 'time_to_first_token_s': 0.5127108097076416,\n",
      " 'tokens_per_second': 27.064752784011585,\n",
      " 'total_tokens': 16}\n"
     ]
    }
   ],
   "source": [
    "response = await openai.achat(\"What's your name\", model=\"gpt-4o\")\n",
    "print(response)\n",
    "print(response.chat_output)\n",
    "pprint(response.metrics)"
   ]
  },
  {
   "cell_type": "markdown",
   "metadata": {},
   "source": [
    "### Chat (stream)"
   ]
  },
  {
   "cell_type": "code",
   "execution_count": 7,
   "metadata": {},
   "outputs": [
    {
     "name": "stdout",
     "output_type": "stream",
     "text": [
      "\n",
      "\n",
      "Space, an infinite expanse filled with wonders and mysteries, has captivated the human imagination for mill\n",
      "\n",
      "ennia. Extending beyond Earth's atmosphere, it presents a vast frontier where stars, planets, and galaxies\n",
      "\n",
      " are merely the beginning. In the vacuum of space, time and distance merge into extraordinary scales, challenging\n",
      "\n",
      " our concepts of reality and pushing the boundaries of exploration and science. The cosmos is home to both violent\n",
      "\n",
      " cataclysms like supernovae and peaceful phenomena such as the gentle orbits of celestial bodies\n",
      "\n",
      ". Space offers clues to the origins of the universe and teases possibilities of life beyond our blue planet\n",
      "\n",
      ". As technology advances, humanity's quest to unravel these secrets intensifies, propelling us further into\n",
      "\n",
      " the depths of this final frontier, each discovery igniting new questions and a profound sense of wonder.\n",
      "\n",
      "\n",
      "\n",
      "## Metrics:\n",
      "{'cost_usd': 0.002395,\n",
      " 'input_tokens': 5,\n",
      " 'inter_token_latency_s': 0.017774957418441772,\n",
      " 'latency_s': 3.28483510017395,\n",
      " 'output_tokens': 158,\n",
      " 'time_to_first_token_s': 0.4400050640106201,\n",
      " 'tokens_per_second': 49.01311484143425,\n",
      " 'total_tokens': 163}\n"
     ]
    }
   ],
   "source": [
    "response = openai.chat(\"Write a paragraph about space\", model=\"gpt-4o\", is_stream=True)\n",
    "for i, chunk in enumerate(response):\n",
    "    if i%20==0:\n",
    "        print(\"\\n\")\n",
    "    if chunk.chat_output_stream:\n",
    "        print(chunk.chat_output_stream, end=\"\", flush=True)\n",
    "    elif chunk.metrics:\n",
    "        print(\"\\n\\n## Metrics:\")\n",
    "        pprint(chunk.metrics)\n",
    "    i+=1"
   ]
  },
  {
   "cell_type": "markdown",
   "metadata": {},
   "source": [
    "#### Async version"
   ]
  },
  {
   "cell_type": "code",
   "execution_count": 8,
   "metadata": {},
   "outputs": [
    {
     "name": "stdout",
     "output_type": "stream",
     "text": [
      "\n",
      "\n",
      "Hi! How can I assist you today?\n",
      "\n",
      "## Metrics:\n",
      "{'cost_usd': 5.85e-06,\n",
      " 'input_tokens': 3,\n",
      " 'inter_token_latency_s': 0.012886285781860352,\n",
      " 'latency_s': 0.6646771430969238,\n",
      " 'output_tokens': 9,\n",
      " 'time_to_first_token_s': 0.5351412296295166,\n",
      " 'tokens_per_second': 16.549388096524286,\n",
      " 'total_tokens': 12}\n"
     ]
    }
   ],
   "source": [
    "i=0\n",
    "async for chunk in await openai.achat(\"Say hi back\", model=\"gpt-4o-mini\", is_stream=True):\n",
    "    if i%20==0:\n",
    "        print(\"\\n\")\n",
    "    if chunk.chat_output_stream:\n",
    "        print(chunk.chat_output_stream, end=\"\", flush=True)\n",
    "    elif chunk.metrics:\n",
    "        print(\"\\n\\n## Metrics:\")\n",
    "        pprint(chunk.metrics)\n",
    "    i+=1"
   ]
  },
  {
   "cell_type": "markdown",
   "metadata": {},
   "source": [
    "# AzureOpenAI"
   ]
  },
  {
   "cell_type": "code",
   "execution_count": 9,
   "metadata": {},
   "outputs": [],
   "source": [
    "llm = LLM(provider=\"azure\", \n",
    "          api_key=os.environ[\"AZURE_API_KEY\"], \n",
    "          api_version=os.environ[\"AZURE_API_VERSION\"],\n",
    "          api_endpoint=os.environ[\"AZURE_API_ENDPOINT\"])"
   ]
  },
  {
   "cell_type": "code",
   "execution_count": 10,
   "metadata": {},
   "outputs": [
    {
     "name": "stdout",
     "output_type": "stream",
     "text": [
      "ChatCompletion(id='53f2f4d6-be42-4825-afef-a7402fb66324', choices=[Choice(finish_reason='stop', index=0, logprobs=None, message=ChatCompletionMessage(content=\"I don't have a name, but you can call me Assistant. How can I help you today?\", refusal=None, role='assistant', audio=None, function_call=None, tool_calls=None))], created=1729705402, model='gpt-4o', object='chat.completion', service_tier=None, system_fingerprint=None, usage=None, chat_input=\"What's your name\", chat_output=\"I don't have a name, but you can call me Assistant. How can I help you today?\", chat_output_stream='', context=[{'role': 'user', 'content': \"What's your name\"}], provider='azure', deployment='gpt-4o-2024-05-13', timestamp=1729705403.456314, parameters={}, metrics={'input_tokens': 4, 'output_tokens': 21, 'total_tokens': 25, 'cost_usd': 0.000335, 'latency_s': 1.255383014678955, 'time_to_first_token_s': 0.797569990158081, 'inter_token_latency_s': 0.01564652579171317, 'tokens_per_second': 17.52453214896026})\n",
      "I don't have a name, but you can call me Assistant. How can I help you today?\n",
      "{'cost_usd': 0.000335,\n",
      " 'input_tokens': 4,\n",
      " 'inter_token_latency_s': 0.01564652579171317,\n",
      " 'latency_s': 1.255383014678955,\n",
      " 'output_tokens': 21,\n",
      " 'time_to_first_token_s': 0.797569990158081,\n",
      " 'tokens_per_second': 17.52453214896026,\n",
      " 'total_tokens': 25}\n"
     ]
    }
   ],
   "source": [
    "response = llm.chat(\"What's your name\", model=\"gpt-4o\")\n",
    "print(response)\n",
    "print(response.chat_output)\n",
    "pprint(response.metrics)"
   ]
  },
  {
   "cell_type": "code",
   "execution_count": 11,
   "metadata": {},
   "outputs": [
    {
     "name": "stdout",
     "output_type": "stream",
     "text": [
      "ChatCompletion(id='3515bc73-4f95-46ff-89a1-02c0adb63059', choices=[Choice(finish_reason='stop', index=0, logprobs=None, message=ChatCompletionMessage(content=\"I don't have a personal name, but you can call me Assistant. How can I help you today?\", refusal=None, role='assistant', audio=None, function_call=None, tool_calls=None))], created=1729705404, model='gpt-4o', object='chat.completion', service_tier=None, system_fingerprint=None, usage=None, chat_input=\"What's your name\", chat_output=\"I don't have a personal name, but you can call me Assistant. How can I help you today?\", chat_output_stream='', context=[{'role': 'user', 'content': \"What's your name\"}], provider='azure', deployment='gpt-4o-2024-05-13', timestamp=1729705404.521524, parameters={}, metrics={'input_tokens': 4, 'output_tokens': 22, 'total_tokens': 26, 'cost_usd': 0.00035, 'latency_s': 0.673306941986084, 'time_to_first_token_s': 0.2706120014190674, 'inter_token_latency_s': 0.01246267015283758, 'tokens_per_second': 34.159754735568086})\n",
      "I don't have a personal name, but you can call me Assistant. How can I help you today?\n",
      "{'cost_usd': 0.00035,\n",
      " 'input_tokens': 4,\n",
      " 'inter_token_latency_s': 0.01246267015283758,\n",
      " 'latency_s': 0.673306941986084,\n",
      " 'output_tokens': 22,\n",
      " 'time_to_first_token_s': 0.2706120014190674,\n",
      " 'tokens_per_second': 34.159754735568086,\n",
      " 'total_tokens': 26}\n"
     ]
    }
   ],
   "source": [
    "response = await llm.achat(\"What's your name\", model=\"gpt-4o\")\n",
    "print(response)\n",
    "print(response.chat_output)\n",
    "pprint(response.metrics)"
   ]
  },
  {
   "cell_type": "code",
   "execution_count": null,
   "metadata": {},
   "outputs": [],
   "source": []
  }
 ],
 "metadata": {
  "kernelspec": {
   "display_name": "Python 3",
   "language": "python",
   "name": "python3"
  },
  "language_info": {
   "codemirror_mode": {
    "name": "ipython",
    "version": 3
   },
   "file_extension": ".py",
   "mimetype": "text/x-python",
   "name": "python",
   "nbconvert_exporter": "python",
   "pygments_lexer": "ipython3",
   "version": "3.12.2"
  }
 },
 "nbformat": 4,
 "nbformat_minor": 2
}
