{
 "cells": [
  {
   "cell_type": "markdown",
   "metadata": {},
   "source": [
    "# Intro to LLMstudio\n"
   ]
  },
  {
   "cell_type": "markdown",
   "metadata": {},
   "source": [
    "### Import clients\n"
   ]
  },
  {
   "cell_type": "code",
   "execution_count": 1,
   "metadata": {},
   "outputs": [],
   "source": [
    "from llmstudio_core.providers import LLMCore as LLM\n",
    "from pprint import pprint"
   ]
  },
  {
   "cell_type": "code",
   "execution_count": 2,
   "metadata": {},
   "outputs": [],
   "source": [
    "# You can set OPENAI_API_KEY environment variable, or pass directly\n",
    "\n",
    "openai = LLM(\"openai\")\n"
   ]
  },
  {
   "cell_type": "markdown",
   "metadata": {},
   "source": [
    "### Chat (non-stream)"
   ]
  },
  {
   "cell_type": "code",
   "execution_count": 3,
   "metadata": {},
   "outputs": [
    {
     "data": {
      "text/plain": [
       "ChatCompletion(id='08817d77-79c8-4f7f-9b00-96b2a99bfdf5', choices=[Choice(finish_reason='stop', index=0, logprobs=None, message=ChatCompletionMessage(content=\"I don't have a personal name, but you can call me Assistant.\", refusal=None, role='assistant', audio=None, function_call=None, tool_calls=None))], created=1729515699, model='gpt-4o', object='chat.completion', service_tier=None, system_fingerprint=None, usage=None, chat_input=\"What's your name\", chat_output=\"I don't have a personal name, but you can call me Assistant.\", chat_output_stream='', context=[{'role': 'user', 'content': \"What's your name\"}], provider='openai', deployment='gpt-4o-2024-08-06', timestamp=1729515699.600482, parameters={}, metrics={'input_tokens': 4, 'output_tokens': 15, 'total_tokens': 19, 'cost_usd': 0.000245, 'latency_s': 0.808495044708252, 'time_to_first_token_s': 0.6044871807098389, 'inter_token_latency_s': 0.012799580891927084, 'tokens_per_second': 19.789855367355592})"
      ]
     },
     "execution_count": 3,
     "metadata": {},
     "output_type": "execute_result"
    }
   ],
   "source": [
    "openai.chat(\"What's your name\", model=\"gpt-4o\")"
   ]
  },
  {
   "cell_type": "markdown",
   "metadata": {},
   "source": [
    "#### Async version"
   ]
  },
  {
   "cell_type": "code",
   "execution_count": 4,
   "metadata": {},
   "outputs": [
    {
     "data": {
      "text/plain": [
       "ChatCompletion(id='888b764f-29d7-45eb-872c-5df4f36e6d9e', choices=[Choice(finish_reason='stop', index=0, logprobs=None, message=ChatCompletionMessage(content='I don’t have a personal name, but you can call me Assistant. How can I help you today?', refusal=None, role='assistant', audio=None, function_call=None, tool_calls=None))], created=1729515700, model='gpt-4o', object='chat.completion', service_tier=None, system_fingerprint=None, usage=None, chat_input=\"What's your name\", chat_output='I don’t have a personal name, but you can call me Assistant. How can I help you today?', chat_output_stream='', context=[{'role': 'user', 'content': \"What's your name\"}], provider='openai', deployment='gpt-4o-2024-08-06', timestamp=1729515700.461205, parameters={}, metrics={'input_tokens': 4, 'output_tokens': 22, 'total_tokens': 26, 'cost_usd': 0.00035, 'latency_s': 0.8503079414367676, 'time_to_first_token_s': 0.7043359279632568, 'inter_token_latency_s': 0.006336999976116678, 'tokens_per_second': 28.225068625664175})"
      ]
     },
     "execution_count": 4,
     "metadata": {},
     "output_type": "execute_result"
    }
   ],
   "source": [
    "await openai.achat(\"What's your name\", model=\"gpt-4o\")"
   ]
  },
  {
   "cell_type": "markdown",
   "metadata": {},
   "source": [
    "### Chat (stream)"
   ]
  },
  {
   "cell_type": "code",
   "execution_count": 5,
   "metadata": {},
   "outputs": [
    {
     "name": "stdout",
     "output_type": "stream",
     "text": [
      "\n",
      "\n",
      "Space, the vast and infinite expanse that extends beyond Earth's atmosphere, is a realm of bound\n",
      "\n",
      "less wonder and intrigue. It is a canvas of stars, planets, galaxies, and cosmic phenomena that\n",
      "\n",
      " have captured the human imagination for centuries. Within its seemingly endless void lies the potential for discovery and understanding\n",
      "\n",
      ", driving scientific exploration and technological advancements. From the swirling beauty of distant nebulae to the mysterious\n",
      "\n",
      " dance of black holes and the possibility of extraterrestrial life, space challenges our understanding of the universe and\n",
      "\n",
      " our place within it. As we venture deeper into this final frontier with missions to the Moon, Mars\n",
      "\n",
      ", and beyond, the mysteries of space continue to inspire a sense of curiosity and the pursuit of knowledge\n",
      "\n",
      ", reminding us of both our insignificance and our potential for greatness.\n",
      "\n",
      "## Metrics:\n",
      "{'cost_usd': 0.0023650000000000003,\n",
      " 'input_tokens': 8,\n",
      " 'inter_token_latency_s': 0.021103837273337624,\n",
      " 'latency_s': 3.7484450340270996,\n",
      " 'output_tokens': 155,\n",
      " 'time_to_first_token_s': 0.4980621337890625,\n",
      " 'tokens_per_second': 41.35047962367411,\n",
      " 'total_tokens': 163}\n"
     ]
    }
   ],
   "source": [
    "response = openai.chat(\"Write a paragfraph about space\", model=\"gpt-4o\", is_stream=True)\n",
    "for i, chunk in enumerate(response):\n",
    "    if i%20==0:\n",
    "        print(\"\\n\")\n",
    "    if chunk.chat_output_stream:\n",
    "        print(chunk.chat_output_stream, end=\"\", flush=True)\n",
    "    elif chunk.metrics:\n",
    "        print(\"\\n\\n## Metrics:\")\n",
    "        pprint(chunk.metrics)\n",
    "    i+=1"
   ]
  },
  {
   "cell_type": "markdown",
   "metadata": {},
   "source": [
    "#### Async version"
   ]
  },
  {
   "cell_type": "code",
   "execution_count": 6,
   "metadata": {},
   "outputs": [
    {
     "name": "stdout",
     "output_type": "stream",
     "text": [
      "\n",
      "\n",
      "Hi! How can I assist you today?\n",
      "\n",
      "## Metrics:\n",
      "{'cost_usd': 5.85e-06,\n",
      " 'input_tokens': 3,\n",
      " 'inter_token_latency_s': 0.011619210243225098,\n",
      " 'latency_s': 0.5627508163452148,\n",
      " 'output_tokens': 9,\n",
      " 'time_to_first_token_s': 0.4460337162017822,\n",
      " 'tokens_per_second': 19.546839703297987,\n",
      " 'total_tokens': 12}\n"
     ]
    }
   ],
   "source": [
    "i=0\n",
    "async for chunk in await openai.achat(\"Say hi back\", model=\"gpt-4o-mini\", is_stream=True):\n",
    "    if i%20==0:\n",
    "        print(\"\\n\")\n",
    "    if chunk.chat_output_stream:\n",
    "        print(chunk.chat_output_stream, end=\"\", flush=True)\n",
    "    elif chunk.metrics:\n",
    "        print(\"\\n\\n## Metrics:\")\n",
    "        pprint(chunk.metrics)\n",
    "    i+=1"
   ]
  },
  {
   "cell_type": "code",
   "execution_count": null,
   "metadata": {},
   "outputs": [],
   "source": []
  }
 ],
 "metadata": {
  "kernelspec": {
   "display_name": "Python 3",
   "language": "python",
   "name": "python3"
  },
  "language_info": {
   "codemirror_mode": {
    "name": "ipython",
    "version": 3
   },
   "file_extension": ".py",
   "mimetype": "text/x-python",
   "name": "python",
   "nbconvert_exporter": "python",
   "pygments_lexer": "ipython3",
   "version": "3.12.2"
  }
 },
 "nbformat": 4,
 "nbformat_minor": 2
}
