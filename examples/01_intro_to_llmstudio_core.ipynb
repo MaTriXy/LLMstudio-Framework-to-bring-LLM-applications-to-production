{
 "cells": [
  {
   "cell_type": "markdown",
   "metadata": {},
   "source": [
    "# Intro to LLMstudio\n"
   ]
  },
  {
   "cell_type": "markdown",
   "metadata": {},
   "source": [
    "### Import clients\n"
   ]
  },
  {
   "cell_type": "code",
   "execution_count": 1,
   "metadata": {},
   "outputs": [],
   "source": [
    "from llmstudio_core.providers import LLMCore as LLM\n",
    "from pprint import pprint"
   ]
  },
  {
   "cell_type": "code",
   "execution_count": 2,
   "metadata": {},
   "outputs": [],
   "source": [
    "# You can set OPENAI_API_KEY environment variable, or pass directly\n",
    "\n",
    "openai = LLM(\"openai\")\n"
   ]
  },
  {
   "cell_type": "markdown",
   "metadata": {},
   "source": [
    "### Chat (non-stream)"
   ]
  },
  {
   "cell_type": "code",
   "execution_count": 3,
   "metadata": {},
   "outputs": [
    {
     "data": {
      "text/plain": [
       "ChatCompletion(id='9d281834-dbea-4f04-ac1f-f8efe39043ad', choices=[Choice(finish_reason='stop', index=0, logprobs=None, message=ChatCompletionMessage(content='I’m an AI language model created by OpenAI, and I don’t have a personal name. You can call me Assistant or any name you prefer!', refusal=None, role='assistant', audio=None, function_call=None, tool_calls=None))], created=1729515007, model='gpt-4o', object='chat.completion', service_tier=None, system_fingerprint=None, usage=None, chat_input=\"What's your name\", chat_output='I’m an AI language model created by OpenAI, and I don’t have a personal name. You can call me Assistant or any name you prefer!', chat_output_stream='', context=[{'role': 'user', 'content': \"What's your name\"}], provider='openai', deployment='gpt-4o-2024-08-06', timestamp=1729515008.115923, parameters={}, metrics={'input_tokens': 4, 'output_tokens': 31, 'total_tokens': 35, 'cost_usd': 0.000485, 'latency_s': 1.109999179840088, 'time_to_first_token_s': 0.531663179397583, 'inter_token_latency_s': 0.017923526465892792, 'tokens_per_second': 29.729751696532016})"
      ]
     },
     "execution_count": 3,
     "metadata": {},
     "output_type": "execute_result"
    }
   ],
   "source": [
    "openai.chat(\"What's your name\", model=\"gpt-4o\")"
   ]
  },
  {
   "cell_type": "markdown",
   "metadata": {},
   "source": [
    "#### Async version"
   ]
  },
  {
   "cell_type": "code",
   "execution_count": 4,
   "metadata": {},
   "outputs": [
    {
     "data": {
      "text/plain": [
       "ChatCompletion(id='94d20742-fba0-4855-b783-1575cd17f865', choices=[Choice(finish_reason='stop', index=0, logprobs=None, message=ChatCompletionMessage(content=\"I'm an AI language model created by OpenAI, and I go by the name ChatGPT. How can I assist you today?\", refusal=None, role='assistant', audio=None, function_call=None, tool_calls=None))], created=1729515008, model='gpt-4o', object='chat.completion', service_tier=None, system_fingerprint=None, usage=None, chat_input=\"What's your name\", chat_output=\"I'm an AI language model created by OpenAI, and I go by the name ChatGPT. How can I assist you today?\", chat_output_stream='', context=[{'role': 'user', 'content': \"What's your name\"}], provider='openai', deployment='gpt-4o-2024-08-06', timestamp=1729515009.160557, parameters={}, metrics={'input_tokens': 4, 'output_tokens': 28, 'total_tokens': 32, 'cost_usd': 0.00044, 'latency_s': 1.0368051528930664, 'time_to_first_token_s': 0.7337400913238525, 'inter_token_latency_s': 0.011201849690190068, 'tokens_per_second': 27.006038619570646})"
      ]
     },
     "execution_count": 4,
     "metadata": {},
     "output_type": "execute_result"
    }
   ],
   "source": [
    "await openai.achat(\"What's your name\", model=\"gpt-4o\")"
   ]
  },
  {
   "cell_type": "markdown",
   "metadata": {},
   "source": [
    "### Chat (stream)"
   ]
  },
  {
   "cell_type": "code",
   "execution_count": 5,
   "metadata": {},
   "outputs": [
    {
     "name": "stdout",
     "output_type": "stream",
     "text": [
      "\n",
      "\n",
      "Space, the final frontier, is a vast expanse that extends beyond the confines of our earthly\n",
      "\n",
      " atmosphere, offering an infinite realm of exploration and mystery. It is characterized by a near-perfect vacuum,\n",
      "\n",
      " where the absence of air enables the clear observation of celestial wonders, from shimmering stars and radiant galaxies to\n",
      "\n",
      " enigmatic black holes and swirling nebulae. Space exploration has advanced significantly since the launch of the first\n",
      "\n",
      " satellite, with modern technologies allowing us deeper insights into the universe's origins, the nature of distant planets\n",
      "\n",
      ", and the potential for extraterrestrial life. As we venture further, humanity's quest to unravel the\n",
      "\n",
      " secrets of space continues to inspire innovation, dream of possibilities, and foster a deeper understanding of our place\n",
      "\n",
      " within the cosmos.\n",
      "\n",
      "## Metrics:\n",
      "{'cost_usd': 0.002245,\n",
      " 'input_tokens': 8,\n",
      " 'inter_token_latency_s': 0.011640368236435784,\n",
      " 'latency_s': 2.406136989593506,\n",
      " 'output_tokens': 147,\n",
      " 'time_to_first_token_s': 0.7285900115966797,\n",
      " 'tokens_per_second': 60.262570513284196,\n",
      " 'total_tokens': 155}\n"
     ]
    }
   ],
   "source": [
    "response = openai.chat(\"Write a paragfraph about space\", model=\"gpt-4o\", is_stream=True)\n",
    "for i, chunk in enumerate(response):\n",
    "    if i%20==0:\n",
    "        print(\"\\n\")\n",
    "    if chunk.chat_output_stream:\n",
    "        print(chunk.chat_output_stream, end=\"\", flush=True)\n",
    "    elif chunk.metrics:\n",
    "        print(\"\\n\\n## Metrics:\")\n",
    "        pprint(chunk.metrics)\n",
    "    i+=1"
   ]
  },
  {
   "cell_type": "markdown",
   "metadata": {},
   "source": [
    "#### Async version"
   ]
  },
  {
   "cell_type": "code",
   "execution_count": 6,
   "metadata": {},
   "outputs": [
    {
     "name": "stdout",
     "output_type": "stream",
     "text": [
      "\n",
      "\n",
      "Hi! How are you doing today?\n",
      "\n",
      "## Metrics:\n",
      "{'cost_usd': 5.25e-06,\n",
      " 'input_tokens': 3,\n",
      " 'inter_token_latency_s': 0.010068999396430122,\n",
      " 'latency_s': 0.5587558746337891,\n",
      " 'output_tokens': 8,\n",
      " 'time_to_first_token_s': 0.4674828052520752,\n",
      " 'tokens_per_second': 17.896903556591763,\n",
      " 'total_tokens': 11}\n"
     ]
    }
   ],
   "source": [
    "i=0\n",
    "async for chunk in await openai.achat(\"Say hi back\", model=\"gpt-4o-mini\", is_stream=True):\n",
    "    if i%20==0:\n",
    "        print(\"\\n\")\n",
    "    if chunk.chat_output_stream:\n",
    "        print(chunk.chat_output_stream, end=\"\", flush=True)\n",
    "    elif chunk.metrics:\n",
    "        print(\"\\n\\n## Metrics:\")\n",
    "        pprint(chunk.metrics)\n",
    "    i+=1"
   ]
  },
  {
   "cell_type": "code",
   "execution_count": null,
   "metadata": {},
   "outputs": [],
   "source": []
  }
 ],
 "metadata": {
  "kernelspec": {
   "display_name": "Python 3",
   "language": "python",
   "name": "python3"
  },
  "language_info": {
   "codemirror_mode": {
    "name": "ipython",
    "version": 3
   },
   "file_extension": ".py",
   "mimetype": "text/x-python",
   "name": "python",
   "nbconvert_exporter": "python",
   "pygments_lexer": "ipython3",
   "version": "3.12.2"
  }
 },
 "nbformat": 4,
 "nbformat_minor": 2
}
